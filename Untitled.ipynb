{
 "cells": [
  {
   "cell_type": "code",
   "execution_count": 2,
   "metadata": {},
   "outputs": [],
   "source": [
    "import inspect\n",
    "import os\n",
    "import pathlib\n",
    "import socket"
   ]
  },
  {
   "cell_type": "code",
   "execution_count": 33,
   "metadata": {},
   "outputs": [],
   "source": [
    "def my_cache(my_func):\n",
    "    arg_spec = inspect.getfullargspec(my_func).args\n",
    "    print(f\"arg_spec = {arg_spec}\")\n",
    "    def my_func_with_cache(*args, **kw):\n",
    "        kw.update({arg_spec[i]: arg for i, arg in enumerate(args)})\n",
    "        base_path = f\"{my_func.__name__}/\"\n",
    "        pathlib.Path(base_path).mkdir(parents=True, exist_ok=True)\n",
    "        cache_path = (\n",
    "            base_path\n",
    "            + \"_\".join(sorted([f\"{k}={str(v)}\" for (k, v) in kw.items()]))\n",
    "            + \".cached\"\n",
    "        )\n",
    "        return cache_path\n",
    "    return arg_spec, my_func_with_cache(*arg_spec)"
   ]
  },
  {
   "cell_type": "code",
   "execution_count": 37,
   "metadata": {},
   "outputs": [],
   "source": [
    "def f(x, y=1, z=2):\n",
    "    w = x+y+z\n",
    "    path = my_cache(f)\n",
    "    return path"
   ]
  },
  {
   "cell_type": "code",
   "execution_count": 38,
   "metadata": {},
   "outputs": [
    {
     "name": "stdout",
     "output_type": "stream",
     "text": [
      "arg_spec = ['x', 'y', 'z']\n",
      "arg = ['x', 'y', 'z']\n",
      "path = f/x=x_y=y_z=z.cached\n"
     ]
    }
   ],
   "source": [
    "arg, path = f(x=3,y=1,z=2)\n",
    "print(f\"arg = {arg}\")\n",
    "print(f\"path = {path}\")"
   ]
  },
  {
   "cell_type": "code",
   "execution_count": 49,
   "metadata": {},
   "outputs": [
    {
     "name": "stdout",
     "output_type": "stream",
     "text": [
      "{'foo': 1, 'bar': 2, 'baz': 3, 'list_arg': ['foo', 'bar', 'baz']}\n"
     ]
    },
    {
     "name": "stderr",
     "output_type": "stream",
     "text": [
      "<ipython-input-49-dc5e8bc4d651>:2: DeprecationWarning: inspect.getargspec() is deprecated since Python 3.0, use inspect.signature() or inspect.getfullargspec()\n",
      "  list_arg = inspect.getargspec(foobar).args\n"
     ]
    },
    {
     "data": {
      "text/plain": [
       "'bar=2_baz=3_foo=1'"
      ]
     },
     "execution_count": 49,
     "metadata": {},
     "output_type": "execute_result"
    }
   ],
   "source": [
    "def foobar(foo, bar, baz):\n",
    "    list_arg = inspect.getargspec(foobar).args\n",
    "    l = locals()\n",
    "    print(l)\n",
    "    ret = \"_\".join(sorted([f\"{key}={l[key]}\" for key in l.keys() if key != 'list_arg']))\n",
    "    return ret\n",
    "foobar(1, 2, 3)"
   ]
  },
  {
   "cell_type": "code",
   "execution_count": 50,
   "metadata": {},
   "outputs": [
    {
     "data": {
      "text/plain": [
       "1"
      ]
     },
     "execution_count": 50,
     "metadata": {},
     "output_type": "execute_result"
    }
   ],
   "source": [
    "x = 2\n",
    "x -= 1\n",
    "x"
   ]
  },
  {
   "cell_type": "code",
   "execution_count": null,
   "metadata": {},
   "outputs": [],
   "source": []
  },
  {
   "cell_type": "code",
   "execution_count": null,
   "metadata": {},
   "outputs": [],
   "source": []
  },
  {
   "cell_type": "code",
   "execution_count": null,
   "metadata": {},
   "outputs": [],
   "source": []
  }
 ],
 "metadata": {
  "kernelspec": {
   "display_name": "Python 3",
   "language": "python",
   "name": "python3"
  },
  "language_info": {
   "codemirror_mode": {
    "name": "ipython",
    "version": 3
   },
   "file_extension": ".py",
   "mimetype": "text/x-python",
   "name": "python",
   "nbconvert_exporter": "python",
   "pygments_lexer": "ipython3",
   "version": "3.8.3"
  }
 },
 "nbformat": 4,
 "nbformat_minor": 4
}

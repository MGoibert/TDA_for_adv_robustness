{
 "cells": [
  {
   "cell_type": "code",
   "execution_count": null,
   "metadata": {},
   "outputs": [],
   "source": [
    "import pickle\n",
    "import numpy as np\n",
    "import pandas as pd\n",
    "import networkx as nx\n",
    "import matplotlib.pyplot as plt\n",
    "import tensorflow as tf\n",
    "from tqdm import tqdm\n",
    "import pandas as pd\n",
    "import typing\n",
    "import scipy\n",
    "from collections import OrderedDict\n",
    "from sklearn.manifold import TSNE"
   ]
  },
  {
   "cell_type": "code",
   "execution_count": null,
   "metadata": {},
   "outputs": [],
   "source": [
    "%matplotlib inline"
   ]
  },
  {
   "cell_type": "code",
   "execution_count": null,
   "metadata": {},
   "outputs": [],
   "source": [
    "from bokeh.io import output_notebook\n",
    "from bokeh.plotting import figure, show\n",
    "from bokeh.models import ColumnDataSource"
   ]
  },
  {
   "cell_type": "code",
   "execution_count": null,
   "metadata": {},
   "outputs": [],
   "source": [
    "output_notebook()"
   ]
  },
  {
   "cell_type": "code",
   "execution_count": null,
   "metadata": {},
   "outputs": [],
   "source": [
    "import sys\n",
    "sys.path.append(\".\")"
   ]
  },
  {
   "cell_type": "code",
   "execution_count": null,
   "metadata": {},
   "outputs": [],
   "source": [
    "from tda.graph_dataset import get_dataset\n",
    "from tda.embeddings.weisfeiler_lehman import get_wl_embedding\n",
    "from tda.embeddings import EmbeddingType, get_embedding"
   ]
  },
  {
   "cell_type": "code",
   "execution_count": null,
   "metadata": {},
   "outputs": [],
   "source": [
    "datasets = {0: get_dataset(\n",
    "            num_epochs=20,\n",
    "            epsilon=0.04,\n",
    "            noise=0.0,\n",
    "            adv=False)\n",
    "           }"
   ]
  },
  {
   "cell_type": "code",
   "execution_count": null,
   "metadata": {},
   "outputs": [],
   "source": [
    "for epsilon in np.linspace(0.01, 0.075, num=5):\n",
    "    print(f\"Trying epsilon={epsilon}\")\n",
    "    datasets[epsilon] = get_dataset(\n",
    "            num_epochs=20,\n",
    "            epsilon=epsilon,\n",
    "            noise=0.0,\n",
    "            adv=True\n",
    ")"
   ]
  },
  {
   "cell_type": "code",
   "execution_count": null,
   "metadata": {},
   "outputs": [],
   "source": [
    "def get_vector_from_diagram(dgm):\n",
    "    \"\"\"\n",
    "    Simple tentative to get vector from persistent diagram\n",
    "    (Top 20 lifespans)\n",
    "    \"\"\"\n",
    "    return list(reversed(sorted([dp.death-dp.birth for dp in dgm][1:])))[:20]"
   ]
  },
  {
   "cell_type": "code",
   "execution_count": null,
   "metadata": {
    "scrolled": true
   },
   "outputs": [],
   "source": [
    "embeddings = list()\n",
    "\n",
    "for epsilon in datasets:\n",
    "    print(f\"Trying epsilon={epsilon}\")\n",
    "    ds = datasets[epsilon]\n",
    "    for idx in tqdm(range(len(ds[:100]))):\n",
    "        embedding = get_embedding(\n",
    "            embedding_type=EmbeddingType.WeisfeilerLehman,\n",
    "            graph=ds[idx][0],\n",
    "            params={'threshold': 25000, 'height': 3, 'hash_size': 50}\n",
    "        )\n",
    "        #embedding = get_embedding(\n",
    "        #    embedding_type=EmbeddingType.AnonymousWalk,\n",
    "        #    graph=ds[idx][0],\n",
    "        #    params={'steps': 5, 'threshold': 25000}\n",
    "        #)\n",
    "        #dgm = get_embedding(\n",
    "        #    embedding_type=EmbeddingType.PersistentDiagram,\n",
    "        #    graph=ds[idx][0],\n",
    "        #    params={'threshold': 25000}\n",
    "        #)\n",
    "        #embedding = get_vector_from_diagram(dgm)\n",
    "        \n",
    "        embeddings.append((embedding, ds[idx][1], ds[idx][2], ds[idx][3], epsilon))\n"
   ]
  },
  {
   "cell_type": "code",
   "execution_count": null,
   "metadata": {},
   "outputs": [],
   "source": [
    "tsne = TSNE(n_components=2, verbose=1, perplexity=20, n_iter=100000)\n",
    "viz_data = tsne.fit_transform([np.ndarray.flatten(np.array((e[0]))) for e in embeddings])"
   ]
  },
  {
   "cell_type": "code",
   "execution_count": null,
   "metadata": {},
   "outputs": [],
   "source": [
    "from palettable.colorbrewer.qualitative import Paired_12\n",
    "from palettable.cartocolors.diverging import Temps_6\n",
    "\n",
    "def epsilon_color(epsilon):\n",
    "    keys = sorted(list(datasets.keys()))\n",
    "    idx = keys.index(epsilon)\n",
    "    return Temps_6.hex_colors[idx]\n",
    "\n",
    "\n",
    "\n",
    "df = pd.DataFrame({\n",
    "    \"x1\": viz_data[:,0],\n",
    "    \"x2\": viz_data[:, 1],\n",
    "    \"y\": [e[1] for e in embeddings],\n",
    "    \"y_pred\": [e[2] for e in embeddings],\n",
    "    \"y_adv\": [e[3] for e in embeddings],\n",
    "    \"epsilon\": [e[4] for e in embeddings]\n",
    "})\n",
    "\n",
    "df[\"color\"] = df[\"y\"].apply(lambda val: Paired_12.hex_colors[val])\n",
    "df[\"color_adv\"] = df[\"y_adv\"].apply(lambda val: Paired_12.hex_colors[val])\n",
    "df[\"color_eps\"] = df[\"epsilon\"].apply(epsilon_color)\n",
    "\n",
    "def epsilon_legend(epsilon):\n",
    "    eps_str = str(int(epsilon * 1000) / 1000)\n",
    "    accuracies = [\"92.0%\", \"88.8%\", \"80.3%\", \"67.0%\", \"47.8%\", \"32.2%\"]\n",
    "    keys = sorted(list(datasets.keys()))\n",
    "    idx = keys.index(epsilon)\n",
    "    acc = accuracies[idx]\n",
    "    return f\"{eps_str} (acc {acc})\"\n",
    "\n",
    "df[\"legend\"] = df[\"epsilon\"].apply(epsilon_legend)\n",
    "\n",
    "df.head()"
   ]
  },
  {
   "cell_type": "code",
   "execution_count": null,
   "metadata": {},
   "outputs": [],
   "source": [
    "f = figure(title=\"AnonymousWalk 5 steps for various epsilon\")\n",
    "\n",
    "f.scatter(source=ColumnDataSource(df),\n",
    "          x=\"x1\", y=\"x2\", color=\"color_eps\", legend=\"legend\", marker=\"circle\")\n",
    "\n",
    "\n",
    "show(f)"
   ]
  }
 ],
 "metadata": {
  "kernelspec": {
   "display_name": "Python 3",
   "language": "python",
   "name": "python3"
  },
  "language_info": {
   "codemirror_mode": {
    "name": "ipython",
    "version": 3
   },
   "file_extension": ".py",
   "mimetype": "text/x-python",
   "name": "python",
   "nbconvert_exporter": "python",
   "pygments_lexer": "ipython3",
   "version": "3.6.8"
  }
 },
 "nbformat": 4,
 "nbformat_minor": 2
}

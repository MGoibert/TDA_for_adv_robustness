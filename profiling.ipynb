{
 "cells": [
  {
   "cell_type": "code",
   "execution_count": 2,
   "metadata": {},
   "outputs": [
    {
     "data": {
      "text/html": [
       "<style>.container { width:100% !important; }</style>"
      ],
      "text/plain": [
       "<IPython.core.display.HTML object>"
      ]
     },
     "metadata": {},
     "output_type": "display_data"
    }
   ],
   "source": [
    "from IPython.core.display import display, HTML\n",
    "display(HTML(\"<style>.container { width:100% !important; }</style>\"))"
   ]
  },
  {
   "cell_type": "code",
   "execution_count": 3,
   "metadata": {},
   "outputs": [],
   "source": [
    "import pstats"
   ]
  },
  {
   "cell_type": "code",
   "execution_count": 4,
   "metadata": {
    "scrolled": false
   },
   "outputs": [
    {
     "name": "stdout",
     "output_type": "stream",
     "text": [
      "Wed Mar 25 12:02:00 2020    profile.txt\n",
      "\n",
      "         13364904 function calls (13324232 primitive calls) in 119.595 seconds\n",
      "\n",
      "   Ordered by: cumulative time\n",
      "   List reduced from 10698 to 100 due to restriction <100>\n",
      "\n",
      "   ncalls  tottime  percall  cumtime  percall filename:lineno(function)\n",
      "   2590/1    0.108    0.000  119.601  119.601 {built-in method builtins.exec}\n",
      "        1    0.002    0.002  119.601  119.601 /Users/t.ricatte/dev/tda_for_adv_robustness/tda/../tda/experiments/ocsvm_detector/ocsvm_detector_binary.py:4(<module>)\n",
      "        1    0.004    0.004  117.479  117.479 /Users/t.ricatte/dev/tda_for_adv_robustness/tda/../tda/experiments/ocsvm_detector/ocsvm_detector_binary.py:343(run_experiment)\n",
      "        1    0.002    0.002  115.901  115.901 /Users/t.ricatte/dev/tda_for_adv_robustness/tda/../tda/experiments/ocsvm_detector/ocsvm_detector_binary.py:129(get_all_embeddings)\n",
      "        4    0.000    0.000  103.974   25.993 /Users/t.ricatte/dev/tda_for_adv_robustness/tda/../tda/experiments/ocsvm_detector/ocsvm_detector_binary.py:238(process)\n",
      "        4    0.000    0.000  103.973   25.993 /Users/t.ricatte/dev/tda_env/lib/python3.6/site-packages/joblib/parallel.py:866(__call__)\n",
      "        8    0.000    0.000  103.973   12.997 /Users/t.ricatte/dev/tda_env/lib/python3.6/site-packages/joblib/parallel.py:735(dispatch_one_batch)\n",
      "        4    0.000    0.000  103.973   25.993 /Users/t.ricatte/dev/tda_env/lib/python3.6/site-packages/joblib/parallel.py:698(_dispatch)\n",
      "        4    0.000    0.000  103.973   25.993 /Users/t.ricatte/dev/tda_env/lib/python3.6/site-packages/joblib/_parallel_backends.py:180(apply_async)\n",
      "        4    0.000    0.000  103.973   25.993 /Users/t.ricatte/dev/tda_env/lib/python3.6/site-packages/joblib/_parallel_backends.py:546(__init__)\n",
      "        4    0.000    0.000  103.972   25.993 /Users/t.ricatte/dev/tda_env/lib/python3.6/site-packages/joblib/parallel.py:220(__call__)\n",
      "        4    0.000    0.000  103.972   25.993 /Users/t.ricatte/dev/tda_env/lib/python3.6/site-packages/joblib/parallel.py:224(<listcomp>)\n",
      "        4    0.007    0.002  103.972   25.993 /Users/t.ricatte/dev/tda_for_adv_robustness/tda/../tda/experiments/ocsvm_detector/ocsvm_detector_binary.py:207(embedding_getter)\n",
      "       30    0.510    0.017  103.965    3.466 /Users/t.ricatte/dev/tda_for_adv_robustness/tda/embeddings/__init__.py:53(get_embedding)\n",
      "       30    0.010    0.000   69.612    2.320 /Users/t.ricatte/dev/tda_for_adv_robustness/tda/graph.py:56(from_architecture_and_data_point)\n",
      "       30    0.749    0.025   68.517    2.284 /Users/t.ricatte/dev/tda_for_adv_robustness/tda/models/architectures/architecture.py:177(get_graph_values)\n",
      "       90    0.002    0.000   67.745    0.753 /Users/t.ricatte/dev/tda_for_adv_robustness/tda/models/layers/layer.py:18(get_matrix)\n",
      "       90   65.388    0.727   65.388    0.727 /Users/t.ricatte/dev/tda_for_adv_robustness/tda/models/layers/layer.py:23(<listcomp>)\n",
      "       30    4.034    0.134   18.780    0.626 /Users/t.ricatte/dev/tda_for_adv_robustness/tda/embeddings/persistent_diagrams.py:63(compute_dgm_from_graph)\n",
      "       30    2.605    0.087   15.063    0.502 /Users/t.ricatte/dev/tda_for_adv_robustness/tda/graph.py:82(thresholdize_underopt)\n",
      "        1    0.000    0.000   11.749   11.749 /Users/t.ricatte/dev/tda_for_adv_robustness/tda/models/datasets.py:45(get_or_create)\n",
      "        1    0.058    0.058   11.749   11.749 /Users/t.ricatte/dev/tda_for_adv_robustness/tda/models/datasets.py:59(__init__)\n",
      "    80003    0.990    0.000   11.578    0.000 /Users/t.ricatte/dev/tda_env/lib/python3.6/site-packages/torchvision/datasets/mnist.py:80(__getitem__)\n",
      "    80000    0.225    0.000    8.251    0.000 /Users/t.ricatte/dev/tda_env/lib/python3.6/site-packages/torchvision/transforms/transforms.py:59(__call__)\n",
      "       30    6.469    0.216    6.543    0.218 /Users/t.ricatte/dev/tda_for_adv_robustness/tda/graph.py:160(get_edge_list)\n",
      "       90    6.068    0.067    6.068    0.067 /Users/t.ricatte/dev/tda_for_adv_robustness/tda/graph.py:86(<dictcomp>)\n",
      "       90    5.602    0.062    5.602    0.062 /Users/t.ricatte/dev/tda_for_adv_robustness/tda/graph.py:87(<listcomp>)\n",
      "    80000    0.116    0.000    4.668    0.000 /Users/t.ricatte/dev/tda_env/lib/python3.6/site-packages/torchvision/transforms/transforms.py:84(__call__)\n",
      "   973816    4.559    0.000    4.559    0.000 {method 'round' of 'numpy.generic' objects}\n",
      "    80000    0.974    0.000    4.552    0.000 /Users/t.ricatte/dev/tda_env/lib/python3.6/site-packages/torchvision/transforms/functional.py:42(to_tensor)\n",
      "    80000    0.168    0.000    3.202    0.000 /Users/t.ricatte/dev/tda_env/lib/python3.6/site-packages/torchvision/transforms/transforms.py:158(__call__)\n",
      "       30    3.169    0.106    3.169    0.106 {built-in method dionysus._dionysus.homology_persistence}\n",
      "    80000    1.630    0.000    3.034    0.000 /Users/t.ricatte/dev/tda_env/lib/python3.6/site-packages/torchvision/transforms/functional.py:191(normalize)\n",
      "      363    0.008    0.000    2.487    0.007 /Users/t.ricatte/dev/tda_env/lib/python3.6/site-packages/scipy/sparse/coo.py:128(__init__)\n",
      "    87349    2.355    0.000    2.355    0.000 {built-in method numpy.array}\n",
      "74729/65847    0.380    0.000    2.197    0.000 {built-in method numpy.core._multiarray_umath.implement_array_function}\n",
      "  1962/11    0.010    0.000    2.117    0.192 <frozen importlib._bootstrap>:966(_find_and_load)\n",
      "  1957/11    0.007    0.000    2.117    0.192 <frozen importlib._bootstrap>:936(_find_and_load_unlocked)\n",
      "  1879/13    0.008    0.000    2.114    0.163 <frozen importlib._bootstrap>:651(_load_unlocked)\n",
      "  1671/13    0.005    0.000    2.114    0.163 <frozen importlib._bootstrap_external>:672(exec_module)\n",
      "  2472/13    0.001    0.000    2.113    0.163 <frozen importlib._bootstrap>:211(_call_with_frames_removed)\n",
      "    80000    0.432    0.000    2.057    0.000 /Users/t.ricatte/dev/tda_env/lib/python3.6/site-packages/PIL/Image.py:2616(fromarray)\n",
      "   721/77    0.001    0.000    1.757    0.023 {built-in method builtins.__import__}\n",
      "    80000    0.260    0.000    1.594    0.000 /Users/t.ricatte/dev/tda_env/lib/python3.6/site-packages/PIL/Image.py:2556(frombuffer)\n",
      "        1    0.004    0.004    1.569    1.569 /Users/t.ricatte/dev/tda_for_adv_robustness/tda/protocol.py:150(evaluate_embeddings)\n",
      "       70    0.010    0.000    1.362    0.019 /Users/t.ricatte/dev/tda_for_adv_robustness/tda/protocol.py:111(score_with_confidence)\n",
      "     1120    0.007    0.000    1.258    0.001 /Users/t.ricatte/dev/tda_env/lib/python3.6/site-packages/sklearn/metrics/ranking.py:243(roc_auc_score)\n",
      "    26337    0.009    0.000    1.227    0.000 /Users/t.ricatte/dev/tda_env/lib/python3.6/site-packages/numpy/core/_asarray.py:16(asarray)\n",
      "     5341    0.005    0.000    1.215    0.000 <__array_function__ internals>:2(ndim)\n",
      "     1480    0.003    0.000    1.210    0.001 /Users/t.ricatte/dev/tda_env/lib/python3.6/site-packages/scipy/sparse/sputils.py:210(isshape)\n",
      "      360    0.001    0.000    1.207    0.003 /Users/t.ricatte/dev/tda_env/lib/python3.6/site-packages/scipy/sparse/sputils.py:188(isintlike)\n",
      "     5341    0.004    0.000    1.206    0.000 /Users/t.ricatte/dev/tda_env/lib/python3.6/site-packages/numpy/core/fromnumeric.py:2986(ndim)\n",
      "    80000    1.056    0.000    1.056    0.000 {method 'div' of 'torch._C._TensorBase' objects}\n",
      "12332/8241    0.008    0.000    1.039    0.000 <frozen importlib._bootstrap>:997(_handle_fromlist)\n",
      "        1    0.000    0.000    1.034    1.034 /Users/t.ricatte/dev/tda_for_adv_robustness/tda/embeddings/__init__.py:1(<module>)\n",
      "    80000    0.295    0.000    1.017    0.000 /Users/t.ricatte/dev/tda_env/lib/python3.6/site-packages/PIL/Image.py:738(tobytes)\n",
      "       90    0.000    0.000    0.943    0.010 /Users/t.ricatte/dev/tda_env/lib/python3.6/site-packages/scipy/sparse/data.py:37(__abs__)\n",
      "        1    0.000    0.000    0.908    0.908 /Users/t.ricatte/dev/tda_for_adv_robustness/tda/graph.py:1(<module>)\n",
      "       90    0.000    0.000    0.826    0.009 /Users/t.ricatte/dev/tda_env/lib/python3.6/site-packages/scipy/sparse/data.py:32(_deduped_data)\n",
      "       90    0.021    0.000    0.825    0.009 /Users/t.ricatte/dev/tda_env/lib/python3.6/site-packages/scipy/sparse/coo.py:528(sum_duplicates)\n",
      "       90    0.301    0.003    0.805    0.009 /Users/t.ricatte/dev/tda_env/lib/python3.6/site-packages/scipy/sparse/coo.py:539(_sum_duplicates)\n",
      "       90    0.773    0.009    0.773    0.009 /Users/t.ricatte/dev/tda_for_adv_robustness/tda/graph.py:88(<listcomp>)\n",
      "     1120    0.003    0.000    0.737    0.001 /Users/t.ricatte/dev/tda_env/lib/python3.6/site-packages/sklearn/metrics/base.py:22(_average_binary_score)\n",
      "    80000    0.164    0.000    0.692    0.000 /Users/t.ricatte/dev/tda_env/lib/python3.6/site-packages/PIL/Image.py:2473(new)\n",
      "     1120    0.004    0.000    0.689    0.001 /Users/t.ricatte/dev/tda_env/lib/python3.6/site-packages/sklearn/metrics/ranking.py:321(_binary_roc_auc_score)\n",
      "        1    0.000    0.000    0.637    0.637 /Users/t.ricatte/dev/tda_for_adv_robustness/tda/models/__init__.py:1(<module>)\n",
      "        1    0.000    0.000    0.577    0.577 /Users/t.ricatte/dev/tda_for_adv_robustness/tda/models/architectures/__init__.py:1(<module>)\n",
      "   160000    0.546    0.000    0.546    0.000 {built-in method as_tensor}\n",
      "     1120    0.022    0.000    0.539    0.000 /Users/t.ricatte/dev/tda_env/lib/python3.6/site-packages/sklearn/metrics/ranking.py:537(roc_curve)\n",
      "     1120    0.026    0.000    0.441    0.000 /Users/t.ricatte/dev/tda_env/lib/python3.6/site-packages/sklearn/preprocessing/label.py:525(label_binarize)\n",
      "        1    0.000    0.000    0.431    0.431 /Users/t.ricatte/dev/tda_env/lib/python3.6/site-packages/r3d3/__init__.py:1(<module>)\n",
      "        1    0.000    0.000    0.426    0.426 /Users/t.ricatte/dev/tda_env/lib/python3.6/site-packages/r3d3/experiment_db.py:1(<module>)\n",
      "        1    0.000    0.000    0.422    0.422 /Users/t.ricatte/dev/tda_env/lib/python3.6/site-packages/pandas/__init__.py:3(<module>)\n",
      "    80030    0.419    0.000    0.419    0.000 {method 'view' of 'torch._C._TensorBase' objects}\n",
      "     1120    0.034    0.000    0.408    0.000 /Users/t.ricatte/dev/tda_env/lib/python3.6/site-packages/sklearn/metrics/ranking.py:358(_binary_clf_curve)\n",
      "   160000    0.400    0.000    0.400    0.000 {method 'transpose' of 'torch._C._TensorBase' objects}\n",
      "        1    0.000    0.000    0.381    0.381 /Users/t.ricatte/dev/tda_for_adv_robustness/tda/models/architectures/architecture.py:3(<module>)\n",
      "        1    0.000    0.000    0.380    0.380 /Users/t.ricatte/dev/tda_for_adv_robustness/tda/models/layers/__init__.py:1(<module>)\n",
      "        1    0.000    0.000    0.378    0.378 /Users/t.ricatte/dev/tda_for_adv_robustness/tda/models/layers/conv_layer.py:1(<module>)\n",
      "        1    0.000    0.000    0.378    0.378 /Users/t.ricatte/dev/tda_env/lib/python3.6/site-packages/numba/__init__.py:3(<module>)\n",
      "   240000    0.104    0.000    0.358    0.000 /Users/t.ricatte/dev/tda_env/lib/python3.6/site-packages/PIL/Image.py:633(__del__)\n",
      "    80000    0.354    0.000    0.354    0.000 {method 'float' of 'torch._C._TensorBase' objects}\n",
      "        1    0.000    0.000    0.344    0.344 /Users/t.ricatte/dev/tda_env/lib/python3.6/site-packages/sklearn/decomposition/__init__.py:5(<module>)\n",
      "     1671    0.010    0.000    0.340    0.000 <frozen importlib._bootstrap_external>:743(get_code)\n",
      "   160000    0.211    0.000    0.334    0.000 /Users/t.ricatte/dev/tda_env/lib/python3.6/site-packages/PIL/Image.py:576(_new)\n",
      "        1    0.000    0.000    0.317    0.317 /Users/t.ricatte/dev/tda_env/lib/python3.6/site-packages/sklearn/decomposition/kernel_pca.py:1(<module>)\n",
      "        1    0.000    0.000    0.314    0.314 /Users/t.ricatte/dev/tda_env/lib/python3.6/site-packages/pandas/core/api.py:3(<module>)\n",
      "        1    0.000    0.000    0.310    0.310 /Users/t.ricatte/dev/tda_env/lib/python3.6/site-packages/sklearn/preprocessing/__init__.py:4(<module>)\n",
      "  1991203    0.300    0.000    0.302    0.000 {method 'get' of 'dict' objects}\n",
      "       90    0.000    0.000    0.299    0.003 <__array_function__ internals>:2(lexsort)\n",
      "    80000    0.197    0.000    0.289    0.000 /Users/t.ricatte/dev/tda_env/lib/python3.6/site-packages/PIL/Image.py:466(_getencoder)\n",
      "    80000    0.268    0.000    0.268    0.000 {method 'sub_' of 'torch._C._TensorBase' objects}\n",
      "1868/1829    0.004    0.000    0.267    0.000 <frozen importlib._bootstrap>:564(module_from_spec)\n",
      "    80000    0.260    0.000    0.260    0.000 {method 'clone' of 'torch._C._TensorBase' objects}\n",
      "   240000    0.107    0.000    0.254    0.000 /Users/t.ricatte/dev/tda_env/lib/python3.6/site-packages/PIL/Image.py:595(__exit__)\n",
      "        1    0.000    0.000    0.252    0.252 /Users/t.ricatte/dev/tda_env/lib/python3.6/site-packages/pandas/core/groupby/__init__.py:1(<module>)\n",
      "        1    0.000    0.000    0.249    0.249 /Users/t.ricatte/dev/tda_env/lib/python3.6/site-packages/pandas/core/groupby/generic.py:7(<module>)\n",
      "4835/4716    0.080    0.000    0.244    0.000 {built-in method builtins.__build_class__}\n",
      "        1    0.000    0.000    0.231    0.231 /Users/t.ricatte/dev/tda_env/lib/python3.6/site-packages/pandas/core/frame.py:10(<module>)\n",
      "    80000    0.227    0.000    0.227    0.000 {method 'encode' of 'ImagingEncoder' objects}\n",
      "\n",
      "\n"
     ]
    },
    {
     "data": {
      "text/plain": [
       "<pstats.Stats at 0x10dc5f978>"
      ]
     },
     "execution_count": 4,
     "metadata": {},
     "output_type": "execute_result"
    }
   ],
   "source": [
    "p = pstats.Stats('profile.txt')\n",
    "p.sort_stats('cumulative').print_stats(100)"
   ]
  },
  {
   "cell_type": "code",
   "execution_count": 10,
   "metadata": {
    "scrolled": false
   },
   "outputs": [
    {
     "name": "stdout",
     "output_type": "stream",
     "text": [
      "Wed Mar 25 15:22:02 2020    profile2.txt\n",
      "\n",
      "         2532411 function calls (2500683 primitive calls) in 4.557 seconds\n",
      "\n",
      "   Ordered by: cumulative time\n",
      "   List reduced from 10313 to 100 due to restriction <100>\n",
      "\n",
      "   ncalls  tottime  percall  cumtime  percall filename:lineno(function)\n",
      "   2590/1    0.121    0.000    4.562    4.562 {built-in method builtins.exec}\n",
      "        1    0.000    0.000    4.562    4.562 /Users/t.ricatte/dev/tda_for_adv_robustness/tda/../tda/experiments/ocsvm_detector/ocsvm_detector_binary.py:4(<module>)\n",
      "  1962/11    0.013    0.000    2.598    0.236 <frozen importlib._bootstrap>:966(_find_and_load)\n",
      "  1957/11    0.009    0.000    2.598    0.236 <frozen importlib._bootstrap>:936(_find_and_load_unlocked)\n",
      "  1879/13    0.010    0.000    2.595    0.200 <frozen importlib._bootstrap>:651(_load_unlocked)\n",
      "  1671/13    0.007    0.000    2.595    0.200 <frozen importlib._bootstrap_external>:672(exec_module)\n",
      "  2473/13    0.002    0.000    2.593    0.199 <frozen importlib._bootstrap>:211(_call_with_frames_removed)\n",
      "   720/76    0.002    0.000    2.161    0.028 {built-in method builtins.__import__}\n",
      "        1    0.000    0.000    1.960    1.960 /Users/t.ricatte/dev/tda_for_adv_robustness/tda/../tda/experiments/ocsvm_detector/ocsvm_detector_binary.py:339(run_experiment)\n",
      "        1    0.000    0.000    1.960    1.960 /Users/t.ricatte/dev/tda_for_adv_robustness/tda/../tda/experiments/ocsvm_detector/ocsvm_detector_binary.py:127(get_all_embeddings)\n",
      "        1    0.000    0.000    1.960    1.960 /Users/t.ricatte/dev/tda_for_adv_robustness/tda/models/datasets.py:45(get_or_create)\n",
      "        1    0.017    0.017    1.960    1.960 /Users/t.ricatte/dev/tda_for_adv_robustness/tda/models/datasets.py:59(__init__)\n",
      "    11287    0.167    0.000    1.903    0.000 /Users/t.ricatte/dev/tda_env/lib/python3.6/site-packages/torchvision/datasets/mnist.py:80(__getitem__)\n",
      "    11286    0.036    0.000    1.346    0.000 /Users/t.ricatte/dev/tda_env/lib/python3.6/site-packages/torchvision/transforms/transforms.py:59(__call__)\n",
      "        1    0.000    0.000    1.282    1.282 /Users/t.ricatte/dev/tda_for_adv_robustness/tda/embeddings/__init__.py:1(<module>)\n",
      "8677/4586    0.008    0.000    1.282    0.000 <frozen importlib._bootstrap>:997(_handle_fromlist)\n",
      "        1    0.000    0.000    1.128    1.128 /Users/t.ricatte/dev/tda_for_adv_robustness/tda/graph.py:1(<module>)\n",
      "        1    0.000    0.000    0.777    0.777 /Users/t.ricatte/dev/tda_for_adv_robustness/tda/models/__init__.py:1(<module>)\n",
      "    11286    0.019    0.000    0.767    0.000 /Users/t.ricatte/dev/tda_env/lib/python3.6/site-packages/torchvision/transforms/transforms.py:84(__call__)\n",
      "    11286    0.161    0.000    0.748    0.000 /Users/t.ricatte/dev/tda_env/lib/python3.6/site-packages/torchvision/transforms/functional.py:42(to_tensor)\n",
      "        1    0.000    0.000    0.695    0.695 /Users/t.ricatte/dev/tda_for_adv_robustness/tda/models/architectures/__init__.py:1(<module>)\n",
      "        1    0.000    0.000    0.529    0.529 /Users/t.ricatte/dev/tda_env/lib/python3.6/site-packages/r3d3/__init__.py:1(<module>)\n",
      "        1    0.000    0.000    0.526    0.526 /Users/t.ricatte/dev/tda_env/lib/python3.6/site-packages/r3d3/experiment_db.py:1(<module>)\n",
      "        1    0.000    0.000    0.521    0.521 /Users/t.ricatte/dev/tda_env/lib/python3.6/site-packages/pandas/__init__.py:3(<module>)\n",
      "    11286    0.027    0.000    0.516    0.000 /Users/t.ricatte/dev/tda_env/lib/python3.6/site-packages/torchvision/transforms/transforms.py:158(__call__)\n",
      "    11286    0.248    0.000    0.490    0.000 /Users/t.ricatte/dev/tda_env/lib/python3.6/site-packages/torchvision/transforms/functional.py:191(normalize)\n",
      "        1    0.000    0.000    0.471    0.471 /Users/t.ricatte/dev/tda_for_adv_robustness/tda/models/architectures/architecture.py:3(<module>)\n",
      "        1    0.000    0.000    0.470    0.470 /Users/t.ricatte/dev/tda_for_adv_robustness/tda/models/layers/__init__.py:1(<module>)\n",
      "        1    0.000    0.000    0.467    0.467 /Users/t.ricatte/dev/tda_for_adv_robustness/tda/models/layers/conv_layer.py:1(<module>)\n",
      "        1    0.000    0.000    0.467    0.467 /Users/t.ricatte/dev/tda_env/lib/python3.6/site-packages/numba/__init__.py:3(<module>)\n",
      "     1671    0.013    0.000    0.442    0.000 <frozen importlib._bootstrap_external>:743(get_code)\n",
      "        1    0.000    0.000    0.393    0.393 /Users/t.ricatte/dev/tda_env/lib/python3.6/site-packages/pandas/core/api.py:3(<module>)\n",
      "        1    0.000    0.000    0.391    0.391 /Users/t.ricatte/dev/tda_env/lib/python3.6/site-packages/sklearn/decomposition/__init__.py:5(<module>)\n",
      "        1    0.000    0.000    0.363    0.363 /Users/t.ricatte/dev/tda_env/lib/python3.6/site-packages/sklearn/decomposition/kernel_pca.py:1(<module>)\n",
      "        1    0.000    0.000    0.355    0.355 /Users/t.ricatte/dev/tda_env/lib/python3.6/site-packages/sklearn/preprocessing/__init__.py:4(<module>)\n",
      "    11286    0.073    0.000    0.342    0.000 /Users/t.ricatte/dev/tda_env/lib/python3.6/site-packages/PIL/Image.py:2616(fromarray)\n",
      "1868/1829    0.004    0.000    0.318    0.000 <frozen importlib._bootstrap>:564(module_from_spec)\n",
      "        1    0.000    0.000    0.302    0.302 /Users/t.ricatte/dev/tda_env/lib/python3.6/site-packages/pandas/core/groupby/__init__.py:1(<module>)\n",
      "        1    0.000    0.000    0.299    0.299 /Users/t.ricatte/dev/tda_env/lib/python3.6/site-packages/pandas/core/groupby/generic.py:7(<module>)\n",
      "4835/4716    0.096    0.000    0.297    0.000 {built-in method builtins.__build_class__}\n",
      "     1670    0.005    0.000    0.281    0.000 <frozen importlib._bootstrap_external>:485(_compile_bytecode)\n",
      "        1    0.000    0.000    0.280    0.280 /Users/t.ricatte/dev/tda_env/lib/python3.6/site-packages/pandas/core/frame.py:10(<module>)\n",
      "     1670    0.271    0.000    0.271    0.000 {built-in method marshal.loads}\n",
      "  192/172    0.001    0.000    0.266    0.002 <frozen importlib._bootstrap_external>:919(create_module)\n",
      "  192/172    0.200    0.001    0.265    0.002 {built-in method _imp.create_dynamic}\n",
      "    11286    0.044    0.000    0.264    0.000 /Users/t.ricatte/dev/tda_env/lib/python3.6/site-packages/PIL/Image.py:2556(frombuffer)\n",
      "        1    0.000    0.000    0.244    0.244 /Users/t.ricatte/dev/tda_env/lib/python3.6/site-packages/sklearn/preprocessing/data.py:11(<module>)\n",
      "        1    0.000    0.000    0.240    0.240 /Users/t.ricatte/dev/tda_env/lib/python3.6/site-packages/scipy/stats/__init__.py:381(<module>)\n",
      "        1    0.000    0.000    0.225    0.225 /Users/t.ricatte/dev/tda_env/lib/python3.6/site-packages/scipy/stats/stats.py:162(<module>)\n",
      "        1    0.001    0.001    0.213    0.213 /Users/t.ricatte/dev/tda_env/lib/python3.6/site-packages/torch/__init__.py:11(<module>)\n",
      "        1    0.000    0.000    0.209    0.209 /Users/t.ricatte/dev/tda_env/lib/python3.6/site-packages/numpy/__init__.py:106(<module>)\n",
      "     1925    0.016    0.000    0.206    0.000 <frozen importlib._bootstrap>:870(_find_spec)\n",
      "        1    0.000    0.000    0.199    0.199 /Users/t.ricatte/dev/tda_env/lib/python3.6/site-packages/numba/config.py:1(<module>)\n",
      "        1    0.000    0.000    0.197    0.197 /Users/t.ricatte/dev/tda_env/lib/python3.6/site-packages/llvmlite/binding/__init__.py:3(<module>)\n",
      "       63    0.001    0.000    0.191    0.003 /Users/t.ricatte/dev/tda_env/lib/python3.6/site-packages/torch/nn/init.py:287(kaiming_uniform_)\n",
      "       97    0.188    0.002    0.188    0.002 {method 'uniform_' of 'torch._C._TensorBase' objects}\n",
      "        1    0.000    0.000    0.185    0.185 /Users/t.ricatte/dev/tda_for_adv_robustness/tda/models/architectures/svhn_models.py:1(<module>)\n",
      "        1    0.000    0.000    0.181    0.181 /Users/t.ricatte/dev/tda_env/lib/python3.6/site-packages/llvmlite/binding/dylib.py:1(<module>)\n",
      "        1    0.000    0.000    0.181    0.181 /Users/t.ricatte/dev/tda_env/lib/python3.6/site-packages/llvmlite/binding/ffi.py:1(<module>)\n",
      "     1920    0.002    0.000    0.180    0.000 <frozen importlib._bootstrap_external>:1149(find_spec)\n",
      "        1    0.000    0.000    0.180    0.180 /Users/t.ricatte/dev/tda_env/lib/python3.6/site-packages/pandas/core/series.py:3(<module>)\n",
      "    11286    0.178    0.000    0.178    0.000 {method 'div' of 'torch._C._TensorBase' objects}\n",
      "     1920    0.007    0.000    0.178    0.000 <frozen importlib._bootstrap_external>:1117(_get_spec)\n",
      "        1    0.000    0.000    0.176    0.176 /Users/t.ricatte/dev/tda_env/lib/python3.6/site-packages/scipy/stats/distributions.py:8(<module>)\n",
      "    11286    0.048    0.000    0.168    0.000 /Users/t.ricatte/dev/tda_env/lib/python3.6/site-packages/PIL/Image.py:738(tobytes)\n",
      "        1    0.000    0.000    0.167    0.167 /Users/t.ricatte/dev/tda_env/lib/python3.6/site-packages/pkg_resources/__init__.py:16(<module>)\n",
      "        1    0.000    0.000    0.164    0.164 /Users/t.ricatte/dev/tda_env/lib/python3.6/site-packages/pandas/plotting/__init__.py:58(<module>)\n",
      "        1    0.000    0.000    0.163    0.163 /Users/t.ricatte/dev/tda_env/lib/python3.6/site-packages/pandas/plotting/_core.py:1(<module>)\n",
      "       35    0.000    0.000    0.163    0.005 /Users/t.ricatte/dev/tda_for_adv_robustness/tda/models/layers/conv_layer.py:13(__init__)\n",
      "       35    0.000    0.000    0.163    0.005 /Users/t.ricatte/dev/tda_env/lib/python3.6/site-packages/torch/nn/modules/conv.py:321(__init__)\n",
      "        1    0.000    0.000    0.162    0.162 /Users/t.ricatte/dev/tda_env/lib/python3.6/site-packages/pandas/plotting/_matplotlib/__init__.py:1(<module>)\n",
      "        1    0.000    0.000    0.161    0.161 /Users/t.ricatte/dev/tda_env/lib/python3.6/site-packages/pandas/plotting/_matplotlib/boxplot.py:1(<module>)\n",
      "     2654    0.030    0.000    0.160    0.000 <frozen importlib._bootstrap_external>:1233(find_spec)\n",
      "       35    0.001    0.000    0.160    0.005 /Users/t.ricatte/dev/tda_env/lib/python3.6/site-packages/torch/nn/modules/conv.py:18(__init__)\n",
      "       35    0.000    0.000    0.156    0.004 /Users/t.ricatte/dev/tda_env/lib/python3.6/site-packages/torch/nn/modules/conv.py:48(reset_parameters)\n",
      "     4596    0.006    0.000    0.154    0.000 /Users/t.ricatte/anaconda3/lib/python3.6/re.py:286(_compile)\n",
      "        1    0.000    0.000    0.147    0.147 /Users/t.ricatte/dev/tda_for_adv_robustness/tda/embeddings/persistent_diagrams.py:1(<module>)\n",
      "      307    0.002    0.000    0.143    0.000 /Users/t.ricatte/anaconda3/lib/python3.6/sre_compile.py:557(compile)\n",
      "        1    0.000    0.000    0.143    0.143 /Users/t.ricatte/dev/tda_env/lib/python3.6/site-packages/ripser/__init__.py:1(<module>)\n",
      "        1    0.000    0.000    0.142    0.142 /Users/t.ricatte/dev/tda_env/lib/python3.6/site-packages/ripser/ripser.py:23(<module>)\n",
      "        1    0.000    0.000    0.136    0.136 /Users/t.ricatte/dev/tda_env/lib/python3.6/site-packages/networkx/__init__.py:23(<module>)\n",
      "        1    0.000    0.000    0.136    0.136 /Users/t.ricatte/dev/tda_env/lib/python3.6/site-packages/matplotlib/pyplot.py:19(<module>)\n",
      "      720    0.000    0.000    0.132    0.000 /Users/t.ricatte/anaconda3/lib/python3.6/re.py:231(compile)\n",
      "      163    0.004    0.000    0.115    0.001 /Users/t.ricatte/anaconda3/lib/python3.6/collections/__init__.py:357(namedtuple)\n",
      "    11286    0.028    0.000    0.115    0.000 /Users/t.ricatte/dev/tda_env/lib/python3.6/site-packages/PIL/Image.py:2473(new)\n",
      "        1    0.000    0.000    0.110    0.110 /Users/t.ricatte/dev/tda_env/lib/python3.6/site-packages/sklearn/preprocessing/_function_transformer.py:1(<module>)\n",
      "        1    0.000    0.000    0.109    0.109 /Users/t.ricatte/dev/tda_env/lib/python3.6/site-packages/sklearn/utils/testing.py:1(<module>)\n",
      "        1    0.001    0.001    0.105    0.105 /Users/t.ricatte/dev/tda_env/lib/python3.6/site-packages/scipy/stats/_continuous_distns.py:6(<module>)\n",
      "        2    0.000    0.000    0.098    0.049 /Users/t.ricatte/dev/tda_env/lib/python3.6/site-packages/pkg_resources/__init__.py:3236(_call_aside)\n",
      "        1    0.000    0.000    0.098    0.098 /Users/t.ricatte/dev/tda_env/lib/python3.6/site-packages/pkg_resources/__init__.py:3253(_initialize_master_working_set)\n",
      "        1    0.000    0.000    0.094    0.094 /Users/t.ricatte/dev/tda_env/lib/python3.6/site-packages/numba/decorators.py:3(<module>)\n",
      "        1    0.000    0.000    0.093    0.093 /Users/t.ricatte/dev/tda_env/lib/python3.6/site-packages/numba/targets/registry.py:1(<module>)\n",
      "        1    0.000    0.000    0.093    0.093 /Users/t.ricatte/dev/tda_env/lib/python3.6/site-packages/numpy/core/__init__.py:1(<module>)\n",
      "    22572    0.092    0.000    0.092    0.000 {built-in method as_tensor}\n",
      "      100    0.003    0.000    0.090    0.001 /Users/t.ricatte/dev/tda_env/lib/python3.6/site-packages/scipy/stats/_distn_infrastructure.py:1572(__init__)\n",
      "        1    0.000    0.000    0.089    0.089 /Users/t.ricatte/dev/tda_env/lib/python3.6/site-packages/pandas/core/arrays/__init__.py:1(<module>)\n",
      "     1672    0.060    0.000    0.087    0.000 <frozen importlib._bootstrap_external>:830(get_data)\n",
      "        1    0.000    0.000    0.086    0.086 /Users/t.ricatte/dev/tda_env/lib/python3.6/site-packages/sklearn/__init__.py:14(<module>)\n",
      "        1    0.000    0.000    0.085    0.085 /Users/t.ricatte/dev/tda_env/lib/python3.6/site-packages/pandas/core/generic.py:1(<module>)\n",
      "        1    0.000    0.000    0.083    0.083 /Users/t.ricatte/dev/tda_env/lib/python3.6/site-packages/sklearn/base.py:1(<module>)\n",
      "\n",
      "\n"
     ]
    },
    {
     "data": {
      "text/plain": [
       "<pstats.Stats at 0x10e7066d8>"
      ]
     },
     "execution_count": 10,
     "metadata": {},
     "output_type": "execute_result"
    }
   ],
   "source": [
    "p = pstats.Stats('profile2.txt')\n",
    "p.sort_stats('cumulative').print_stats(100)"
   ]
  },
  {
   "cell_type": "code",
   "execution_count": 6,
   "metadata": {},
   "outputs": [
    {
     "name": "stdout",
     "output_type": "stream",
     "text": [
      "Wed Mar 25 23:09:21 2020    profile4.txt\n",
      "\n",
      "         21590758 function calls (21543049 primitive calls) in 69.390 seconds\n",
      "\n",
      "   Ordered by: cumulative time\n",
      "   List reduced from 10740 to 25 due to restriction <25>\n",
      "\n",
      "   ncalls  tottime  percall  cumtime  percall filename:lineno(function)\n",
      "   2590/1    0.117    0.000   69.395   69.395 {built-in method builtins.exec}\n",
      "        1    0.001    0.001   69.395   69.395 /Users/t.ricatte/dev/tda_for_adv_robustness/tda/../tda/experiments/ocsvm_detector/ocsvm_detector_binary.py:4(<module>)\n",
      "        1    0.003    0.003   65.039   65.039 /Users/t.ricatte/dev/tda_for_adv_robustness/tda/../tda/experiments/ocsvm_detector/ocsvm_detector_binary.py:339(run_experiment)\n",
      "        1    0.001    0.001   62.413   62.413 /Users/t.ricatte/dev/tda_for_adv_robustness/tda/../tda/experiments/ocsvm_detector/ocsvm_detector_binary.py:127(get_all_embeddings)\n",
      "        4    0.000    0.000   51.114   12.778 /Users/t.ricatte/dev/tda_for_adv_robustness/tda/../tda/experiments/ocsvm_detector/ocsvm_detector_binary.py:234(process)\n",
      "        4    0.000    0.000   51.114   12.778 /Users/t.ricatte/dev/tda_env/lib/python3.6/site-packages/joblib/parallel.py:866(__call__)\n",
      "        8    0.000    0.000   51.113    6.389 /Users/t.ricatte/dev/tda_env/lib/python3.6/site-packages/joblib/parallel.py:735(dispatch_one_batch)\n",
      "        4    0.000    0.000   51.113   12.778 /Users/t.ricatte/dev/tda_env/lib/python3.6/site-packages/joblib/parallel.py:698(_dispatch)\n",
      "        4    0.000    0.000   51.113   12.778 /Users/t.ricatte/dev/tda_env/lib/python3.6/site-packages/joblib/_parallel_backends.py:180(apply_async)\n",
      "        4    0.000    0.000   51.113   12.778 /Users/t.ricatte/dev/tda_env/lib/python3.6/site-packages/joblib/_parallel_backends.py:546(__init__)\n",
      "        4    0.000    0.000   51.113   12.778 /Users/t.ricatte/dev/tda_env/lib/python3.6/site-packages/joblib/parallel.py:220(__call__)\n",
      "        4    0.000    0.000   51.113   12.778 /Users/t.ricatte/dev/tda_env/lib/python3.6/site-packages/joblib/parallel.py:224(<listcomp>)\n",
      "        4    0.010    0.003   51.113   12.778 /Users/t.ricatte/dev/tda_for_adv_robustness/tda/../tda/experiments/ocsvm_detector/ocsvm_detector_binary.py:205(embedding_getter)\n",
      "       60    0.800    0.013   51.103    0.852 /Users/t.ricatte/dev/tda_for_adv_robustness/tda/embeddings/__init__.py:53(get_embedding)\n",
      "       60    5.776    0.096   32.844    0.547 /Users/t.ricatte/dev/tda_for_adv_robustness/tda/embeddings/persistent_diagrams.py:86(compute_dgm_from_graph)\n",
      "       60    2.785    0.046   15.501    0.258 /Users/t.ricatte/dev/tda_for_adv_robustness/tda/graph.py:82(thresholdize_underopt)\n",
      "       60    0.908    0.015   13.668    0.228 /Users/t.ricatte/dev/tda_for_adv_robustness/tda/embeddings/persistent_diagrams.py:66(_prepare_edges_for_diagram)\n",
      "       60   12.108    0.202   12.231    0.204 /Users/t.ricatte/dev/tda_for_adv_robustness/tda/graph.py:161(get_edge_list)\n",
      "        1    0.000    0.000   11.107   11.107 /Users/t.ricatte/dev/tda_for_adv_robustness/tda/models/datasets.py:45(get_or_create)\n",
      "        1    0.050    0.050   11.107   11.107 /Users/t.ricatte/dev/tda_for_adv_robustness/tda/models/datasets.py:59(__init__)\n",
      "    80003    0.958    0.000   10.937    0.000 /Users/t.ricatte/dev/tda_env/lib/python3.6/site-packages/torchvision/datasets/mnist.py:80(__getitem__)\n",
      "    80000    0.211    0.000    7.769    0.000 /Users/t.ricatte/dev/tda_env/lib/python3.6/site-packages/torchvision/transforms/transforms.py:59(__call__)\n",
      "  1971322    7.752    0.000    7.752    0.000 {method 'round' of 'numpy.generic' objects}\n",
      "      180    0.940    0.005    7.057    0.039 /Users/t.ricatte/dev/tda_for_adv_robustness/tda/graph.py:88(<listcomp>)\n",
      "  7041651    6.653    0.000    6.655    0.000 {method 'get' of 'dict' objects}\n",
      "\n",
      "\n"
     ]
    },
    {
     "data": {
      "text/plain": [
       "<pstats.Stats at 0x10c1eb630>"
      ]
     },
     "execution_count": 6,
     "metadata": {},
     "output_type": "execute_result"
    }
   ],
   "source": [
    "p = pstats.Stats('profile4.txt')\n",
    "p.sort_stats('cumulative').print_stats(25)"
   ]
  },
  {
   "cell_type": "code",
   "execution_count": 12,
   "metadata": {},
   "outputs": [
    {
     "name": "stdout",
     "output_type": "stream",
     "text": [
      "Thu Mar 26 17:38:45 2020    profile7.txt\n",
      "\n",
      "         42363839 function calls (42309390 primitive calls) in 171.445 seconds\n",
      "\n",
      "   Ordered by: cumulative time\n",
      "   List reduced from 10722 to 25 due to restriction <25>\n",
      "\n",
      "   ncalls  tottime  percall  cumtime  percall filename:lineno(function)\n",
      "   2590/1    0.111    0.000  171.451  171.451 {built-in method builtins.exec}\n",
      "        1    0.002    0.002  171.450  171.450 /Users/t.ricatte/dev/tda_for_adv_robustness/tda/../tda/experiments/ocsvm_detector/ocsvm_detector_binary.py:4(<module>)\n",
      "        1    0.001    0.001  168.113  168.113 /Users/t.ricatte/dev/tda_for_adv_robustness/tda/../tda/experiments/ocsvm_detector/ocsvm_detector_binary.py:339(run_experiment)\n",
      "        1    0.014    0.014  163.518  163.518 /Users/t.ricatte/dev/tda_for_adv_robustness/tda/../tda/experiments/ocsvm_detector/ocsvm_detector_binary.py:127(get_all_embeddings)\n",
      "        4    0.000    0.000  150.022   37.506 /Users/t.ricatte/dev/tda_for_adv_robustness/tda/../tda/experiments/ocsvm_detector/ocsvm_detector_binary.py:234(process)\n",
      "        4    0.000    0.000  150.022   37.506 /Users/t.ricatte/dev/tda_env/lib/python3.6/site-packages/joblib/parallel.py:866(__call__)\n",
      "        8    0.000    0.000  150.022   18.753 /Users/t.ricatte/dev/tda_env/lib/python3.6/site-packages/joblib/parallel.py:735(dispatch_one_batch)\n",
      "        4    0.000    0.000  150.021   37.505 /Users/t.ricatte/dev/tda_env/lib/python3.6/site-packages/joblib/parallel.py:698(_dispatch)\n",
      "        4    0.000    0.000  150.021   37.505 /Users/t.ricatte/dev/tda_env/lib/python3.6/site-packages/joblib/_parallel_backends.py:180(apply_async)\n",
      "        4    0.000    0.000  150.021   37.505 /Users/t.ricatte/dev/tda_env/lib/python3.6/site-packages/joblib/_parallel_backends.py:546(__init__)\n",
      "        4    0.000    0.000  150.021   37.505 /Users/t.ricatte/dev/tda_env/lib/python3.6/site-packages/joblib/parallel.py:220(__call__)\n",
      "        4    0.000    0.000  150.021   37.505 /Users/t.ricatte/dev/tda_env/lib/python3.6/site-packages/joblib/parallel.py:224(<listcomp>)\n",
      "        4    0.024    0.006  150.021   37.505 /Users/t.ricatte/dev/tda_for_adv_robustness/tda/../tda/experiments/ocsvm_detector/ocsvm_detector_binary.py:205(embedding_getter)\n",
      "       90    3.146    0.035  149.997    1.667 /Users/t.ricatte/dev/tda_for_adv_robustness/tda/embeddings/__init__.py:52(get_embedding)\n",
      "       90   25.014    0.278  143.377    1.593 /Users/t.ricatte/dev/tda_for_adv_robustness/tda/embeddings/persistent_diagrams.py:86(compute_dgm_from_graph)\n",
      "       90    3.875    0.043   58.694    0.652 /Users/t.ricatte/dev/tda_for_adv_robustness/tda/embeddings/persistent_diagrams.py:66(_prepare_edges_for_diagram)\n",
      "       90   51.886    0.577   52.390    0.582 /Users/t.ricatte/dev/tda_for_adv_robustness/tda/graph.py:163(get_edge_list)\n",
      "  7680727   32.775    0.000   32.775    0.000 {method 'round' of 'numpy.generic' objects}\n",
      "       90   26.550    0.295   26.550    0.295 {built-in method dionysus._dionysus.homology_persistence}\n",
      "        1    0.000    0.000   12.999   12.999 /Users/t.ricatte/dev/tda_for_adv_robustness/tda/models/datasets.py:45(get_or_create)\n",
      "        1    0.063    0.063   12.999   12.999 /Users/t.ricatte/dev/tda_for_adv_robustness/tda/models/datasets.py:59(__init__)\n",
      "    80003    1.109    0.000   12.802    0.000 /Users/t.ricatte/dev/tda_env/lib/python3.6/site-packages/torchvision/datasets/mnist.py:80(__getitem__)\n",
      "    80000    0.252    0.000    9.079    0.000 /Users/t.ricatte/dev/tda_env/lib/python3.6/site-packages/torchvision/transforms/transforms.py:59(__call__)\n",
      "    80000    0.127    0.000    5.131    0.000 /Users/t.ricatte/dev/tda_env/lib/python3.6/site-packages/torchvision/transforms/transforms.py:84(__call__)\n",
      "    80000    1.078    0.000    5.004    0.000 /Users/t.ricatte/dev/tda_env/lib/python3.6/site-packages/torchvision/transforms/functional.py:42(to_tensor)\n",
      "\n",
      "\n"
     ]
    },
    {
     "data": {
      "text/plain": [
       "<pstats.Stats at 0x10dd616d8>"
      ]
     },
     "execution_count": 12,
     "metadata": {},
     "output_type": "execute_result"
    }
   ],
   "source": [
    "p = pstats.Stats('profile7.txt')\n",
    "p.sort_stats('cumulative').print_stats(25)"
   ]
  },
  {
   "cell_type": "code",
   "execution_count": 7,
   "metadata": {},
   "outputs": [],
   "source": [
    "a=[[1,2], [2,3]]"
   ]
  },
  {
   "cell_type": "code",
   "execution_count": 9,
   "metadata": {},
   "outputs": [
    {
     "data": {
      "text/plain": [
       "True"
      ]
     },
     "execution_count": 9,
     "metadata": {},
     "output_type": "execute_result"
    }
   ],
   "source": [
    "[1,2] in a"
   ]
  },
  {
   "cell_type": "code",
   "execution_count": null,
   "metadata": {},
   "outputs": [],
   "source": []
  }
 ],
 "metadata": {
  "kernelspec": {
   "display_name": "Python 3",
   "language": "python",
   "name": "python3"
  },
  "language_info": {
   "codemirror_mode": {
    "name": "ipython",
    "version": 3
   },
   "file_extension": ".py",
   "mimetype": "text/x-python",
   "name": "python",
   "nbconvert_exporter": "python",
   "pygments_lexer": "ipython3",
   "version": "3.6.9"
  }
 },
 "nbformat": 4,
 "nbformat_minor": 4
}

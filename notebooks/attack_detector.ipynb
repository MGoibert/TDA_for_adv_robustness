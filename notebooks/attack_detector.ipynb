{
 "cells": [
  {
   "cell_type": "code",
   "execution_count": 1,
   "metadata": {},
   "outputs": [],
   "source": [
    "import time\n",
    "import numpy as np\n",
    "import matplotlib\n",
    "import matplotlib.pyplot as plt\n",
    "\n",
    "%matplotlib inline"
   ]
  },
  {
   "cell_type": "code",
   "execution_count": 2,
   "metadata": {},
   "outputs": [
    {
     "name": "stderr",
     "output_type": "stream",
     "text": [
      "2020-01-15 18:26:21,444 - Devices - INFO - Found 0 compatible with CUDA\n"
     ]
    }
   ],
   "source": [
    "from tda.experiments.ocsvm_detector.ocsvm_detector_binary import (Config, get_all_embeddings, logger,\n",
    "                                                                  evaluate_all_embeddings)\n",
    "from tda.embeddings import EmbeddingType, KernelType, get_gram_matrix\n",
    "from tda.models.architectures import mnist_lenet"
   ]
  },
  {
   "cell_type": "code",
   "execution_count": 3,
   "metadata": {},
   "outputs": [],
   "source": [
    "n_jobs = 8\n",
    "config = Config(\n",
    "    embedding_type=EmbeddingType.PersistentDiagramRipser,\n",
    "    kernel_type=KernelType.SlicedWasserstein,\n",
    "    thresholds='0.9',\n",
    "    epochs=50,\n",
    "    dataset=\"MNIST\",\n",
    "    architecture=mnist_lenet.name,\n",
    "    train_noise=0.0,\n",
    "    dataset_size=20,\n",
    "    successful_adv=1,\n",
    "    attack_type=\"FGSM\",\n",
    "    identical_train_samples=1,\n",
    "    noise=0.0,\n",
    "    \n",
    "    num_iter=1,\n",
    "    height=1,\n",
    "    hash_size=1,\n",
    "    node_labels=0,\n",
    "    steps=1,\n",
    "    \n",
    "    n_jobs=n_jobs\n",
    ")"
   ]
  },
  {
   "cell_type": "code",
   "execution_count": null,
   "metadata": {
    "scrolled": true
   },
   "outputs": [
    {
     "name": "stderr",
     "output_type": "stream",
     "text": [
      "2020-01-15 18:26:32,586 - Datasets - INFO - Instantiated dataset MNIST with validation_size 1000\n",
      "2020-01-15 18:26:32,587 - Models - INFO - Filename = /home/elvis/CODE/FORKED/TDA_for_adv_robustness/tda/../trained_models/mnist_mnist_lenet_50_epochs.model \n",
      "\n",
      "/home/elvis/anaconda3/envs/tda/lib/python3.6/site-packages/torch/serialization.py:493: SourceChangeWarning: source code of class 'tda.models.architectures.Architecture' has changed. you can retrieve the original source code by accessing the object's source attribute or set `torch.nn.Module.dump_patches = True` and use the patch tool to revert the changes.\n",
      "  warnings.warn(msg, SourceChangeWarning)\n",
      "2020-01-15 18:26:32,605 - Models - INFO - Loaded successfully model from /home/elvis/CODE/FORKED/TDA_for_adv_robustness/tda/../trained_models/mnist_mnist_lenet_50_epochs.model\n",
      "2020-01-15 18:26:32,606 - Thresholds - INFO - Detected uniform threshold\n",
      "2020-01-15 18:26:32,606 - Thresholds - INFO - My received thresholds {(-1, 0): 0.9, (0, 1): 0.9, (1, 2): 0.9, (2, 3): 0.9, (3, 4): 0.9, (5, 6): 0.9}\n",
      "2020-01-15 18:26:32,607 - GraphStats - INFO - Loading stats from file /home/elvis/CODE/FORKED/TDA_for_adv_robustness/tda/../stats/architecture=mnist_lenet/dataset=mnist/dataset_size=5/train_noise=0.0/stats.pickle\n",
      "2020-01-15 18:26:32,613 - Thresholds - INFO - Link (-1, 0): threshold=302643.42610911146 (quantile 0.9)\n",
      "2020-01-15 18:26:32,614 - Thresholds - INFO - Link (0, 1): threshold=1000000.0 (quantile 0.9)\n",
      "2020-01-15 18:26:32,614 - Thresholds - INFO - Link (1, 2): threshold=374113.85122620064 (quantile 0.9)\n",
      "2020-01-15 18:26:32,615 - Thresholds - INFO - Link (2, 3): threshold=1000000.0 (quantile 0.9)\n",
      "2020-01-15 18:26:32,615 - Thresholds - INFO - Link (3, 4): threshold=601683.974844107 (quantile 0.9)\n",
      "2020-01-15 18:26:32,616 - Thresholds - INFO - Link (5, 6): threshold=4562845.099417279 (quantile 0.9)\n",
      "2020-01-15 18:26:32,616 - Thresholds - INFO - Thresholds = {(-1, 0): 302643.42610911146, (0, 1): 1000000.0, (1, 2): 374113.85122620064, (2, 3): 1000000.0, (3, 4): 601683.974844107, (5, 6): 4562845.099417279}\n",
      "2020-01-15 18:26:32,617 - Detector - INFO - Clean train dataset !!\n",
      "2020-01-15 18:26:32,617 - Detector - INFO - Adversarial test dataset for espilon = 0.0 !!\n",
      "2020-01-15 18:26:32,618 - GraphDataset - INFO - Using source dataset mnist\n",
      "2020-01-15 18:26:32,618 - GraphDataset - INFO - Checking that the received architecture has been trained\n",
      "2020-01-15 18:26:32,619 - GraphDataset - INFO - OK ! Architecture is ready\n",
      "2020-01-15 18:26:32,620 - GraphDataset - INFO - I am going to generate a dataset of 20 points...\n",
      "2020-01-15 18:26:32,620 - GraphDataset - INFO - Only successful adversaries ? yes\n",
      "2020-01-15 18:26:32,623 - GraphDataset - INFO - Which attack ? FGSM\n",
      "2020-01-15 18:27:20,365 - Detector - INFO - Computed embeddings for (attack = FGSM, eps=0.0, noise=0.0), number of sample = 20\n",
      "2020-01-15 18:27:20,366 - Detector - INFO - Clean test dataset !!\n",
      "2020-01-15 18:27:20,367 - Detector - INFO - Adversarial test dataset for espilon = 0.0 !!\n",
      "2020-01-15 18:27:20,367 - GraphDataset - INFO - Using source dataset mnist\n",
      "2020-01-15 18:27:20,368 - GraphDataset - INFO - Checking that the received architecture has been trained\n",
      "2020-01-15 18:27:20,368 - GraphDataset - INFO - OK ! Architecture is ready\n",
      "2020-01-15 18:27:20,368 - GraphDataset - INFO - I am going to generate a dataset of 20 points...\n",
      "2020-01-15 18:27:20,368 - GraphDataset - INFO - Only successful adversaries ? yes\n",
      "2020-01-15 18:27:20,369 - GraphDataset - INFO - Which attack ? FGSM\n",
      "2020-01-15 18:28:07,958 - Detector - INFO - Computed embeddings for (attack = FGSM, eps=0.0, noise=0.0), number of sample = 20\n",
      "2020-01-15 18:28:07,960 - Detector - INFO - Computing embeddings for epsilons [0.         0.05714286 0.11428571 0.17142857 0.22857143 0.28571429\n",
      " 0.34285714 0.4       ] using n_jobs=8\n",
      "2020-01-15 18:28:07,960 - Detector - INFO - Adversarial test dataset for espilon = 0.0 !!\n",
      "2020-01-15 18:28:07,961 - GraphDataset - INFO - Using source dataset mnist\n",
      "2020-01-15 18:28:07,961 - GraphDataset - INFO - Checking that the received architecture has been trained\n",
      "2020-01-15 18:28:07,962 - GraphDataset - INFO - OK ! Architecture is ready\n",
      "2020-01-15 18:28:07,962 - GraphDataset - INFO - I am going to generate a dataset of 20 points...\n",
      "2020-01-15 18:28:07,963 - GraphDataset - INFO - Only successful adversaries ? yes\n",
      "2020-01-15 18:28:07,963 - GraphDataset - INFO - Which attack ? FGSM\n",
      "2020-01-15 18:28:55,294 - Detector - INFO - Computed embeddings for (attack = FGSM, eps=0.0, noise=0.0), number of sample = 20\n",
      "2020-01-15 18:28:55,296 - Detector - INFO - Adversarial test dataset for espilon = 0.05714285714285715 !!\n",
      "2020-01-15 18:28:55,296 - GraphDataset - INFO - Using source dataset mnist\n",
      "2020-01-15 18:28:55,297 - GraphDataset - INFO - Checking that the received architecture has been trained\n",
      "2020-01-15 18:28:55,297 - GraphDataset - INFO - OK ! Architecture is ready\n",
      "2020-01-15 18:28:55,298 - GraphDataset - INFO - I am going to generate a dataset of 20 points...\n",
      "2020-01-15 18:28:55,298 - GraphDataset - INFO - Only successful adversaries ? yes\n",
      "2020-01-15 18:28:55,299 - GraphDataset - INFO - Which attack ? FGSM\n"
     ]
    }
   ],
   "source": [
    "epsilons = np.linspace(0, 0.4, num=8)\n",
    "(embedding_train, embedding_test, adv_embeddings, thresholds, stats,\n",
    " stats_inf) = get_all_embeddings(config, epsilons=epsilons)"
   ]
  },
  {
   "cell_type": "code",
   "execution_count": null,
   "metadata": {},
   "outputs": [],
   "source": [
    "logger.info(f\"Using kernel {config.kernel_type} with embeddings {config.embedding_type}\")\n",
    "\n",
    "if config.kernel_type == KernelType.RBF:\n",
    "    param_space = [\n",
    "        {'gamma': gamma}\n",
    "        for gamma in np.logspace(-6, -3, 10)\n",
    "    ]\n",
    "elif config.kernel_type == KernelType.SlicedWasserstein:\n",
    "    param_space = [\n",
    "        {'M': 20, 'sigma': 5 * 10 ** (-1)},\n",
    "    ]\n",
    "else:\n",
    "    raise NotImplementedError(f\"Unknown kernel {config.kernel_type}\")\n",
    "\n",
    "t0 = time.time()\n",
    "gram_train_matrices = {i: get_gram_matrix(\n",
    "    kernel_type=config.kernel_type,\n",
    "    embeddings_in=embedding_train,\n",
    "    embeddings_out=None,\n",
    "    params=param\n",
    ")\n",
    "    for i, param in enumerate(param_space)\n",
    "}\n",
    "dt = time.time() - t0\n",
    "logger.info(f\"Computed all Gram train matrices !\")\n",
    "logger.info(\"Time spent computing gram matrices (train): %s\" % dt)"
   ]
  },
  {
   "cell_type": "code",
   "execution_count": null,
   "metadata": {
    "scrolled": false
   },
   "outputs": [],
   "source": [
    "all_results = evaluate_all_embeddings(\n",
    "    gram_train_matrices=gram_train_matrices,\n",
    "    embeddings_train=embedding_train,\n",
    "    embeddings_test=embedding_test,\n",
    "    adv_embeddings=adv_embeddings,\n",
    "    param_space=param_space,\n",
    "    config=config)\n",
    "\n",
    "logger.info(all_results)"
   ]
  },
  {
   "cell_type": "code",
   "execution_count": null,
   "metadata": {},
   "outputs": [],
   "source": [
    "accs = list(all_results.values())"
   ]
  },
  {
   "cell_type": "code",
   "execution_count": null,
   "metadata": {},
   "outputs": [],
   "source": [
    "plt.plot(epsilons, accs, linewidth=2)\n",
    "plt.xlabel(\"$\\epsilon$\")\n",
    "plt.ylabel(\"detection AUC\")\n",
    "plt.tight_layout()\n",
    "plt.savefig(\"attack_detector.png\", dpi=200, bbox_inches=\"tight\")"
   ]
  },
  {
   "cell_type": "code",
   "execution_count": null,
   "metadata": {},
   "outputs": [],
   "source": []
  }
 ],
 "metadata": {
  "kernelspec": {
   "display_name": "Python 3",
   "language": "python",
   "name": "python3"
  },
  "language_info": {
   "codemirror_mode": {
    "name": "ipython",
    "version": 3
   },
   "file_extension": ".py",
   "mimetype": "text/x-python",
   "name": "python",
   "nbconvert_exporter": "python",
   "pygments_lexer": "ipython3",
   "version": "3.6.10"
  }
 },
 "nbformat": 4,
 "nbformat_minor": 2
}

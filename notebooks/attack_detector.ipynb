{
 "cells": [
  {
   "cell_type": "code",
   "execution_count": 1,
   "metadata": {},
   "outputs": [
    {
     "name": "stderr",
     "output_type": "stream",
     "text": [
      "2020-01-14 20:11:07,754 - Devices - INFO - Found 0 compatible with CUDA\n"
     ]
    }
   ],
   "source": [
    "from tda.experiments.ocsvm_detector.ocsvm_detector_binary import Config, get_all_embeddings\n",
    "from tda.embeddings import EmbeddingType, KernelType\n",
    "from tda.models.architectures import mnist_lenet"
   ]
  },
  {
   "cell_type": "code",
   "execution_count": 2,
   "metadata": {},
   "outputs": [],
   "source": [
    "config = Config(\n",
    "    embedding_type=EmbeddingType.PersistentDiagram,\n",
    "    kernel_type=KernelType.SlicedWasserstein,\n",
    "    thresholds='0.9',\n",
    "    epochs=50,\n",
    "    dataset=\"MNIST\",\n",
    "    architecture=mnist_lenet.name,\n",
    "    train_noise=0.0,\n",
    "    dataset_size=10,\n",
    "    successful_adv=1,\n",
    "    attack_type=\"FGSM\",\n",
    "    identical_train_samples=1,\n",
    "    noise=0.0,\n",
    "    \n",
    "    num_iter=1,\n",
    "    height=1,\n",
    "    hash_size=1,\n",
    "    node_labels=0,\n",
    "    steps=1\n",
    ")"
   ]
  },
  {
   "cell_type": "code",
   "execution_count": 3,
   "metadata": {},
   "outputs": [
    {
     "name": "stderr",
     "output_type": "stream",
     "text": [
      "2020-01-14 20:11:18,577 - Datasets - INFO - Instantiated dataset MNIST with validation_size 1000\n",
      "2020-01-14 20:11:18,578 - Models - INFO - Filename = /home/elvis/CODE/FORKED/TDA_for_adv_robustness/tda/../trained_models/mnist_mnist_lenet_50_epochs.model \n",
      "\n",
      "/home/elvis/anaconda3/envs/tda/lib/python3.6/site-packages/torch/serialization.py:493: SourceChangeWarning: source code of class 'tda.models.architectures.Architecture' has changed. you can retrieve the original source code by accessing the object's source attribute or set `torch.nn.Module.dump_patches = True` and use the patch tool to revert the changes.\n",
      "  warnings.warn(msg, SourceChangeWarning)\n",
      "2020-01-14 20:11:18,591 - Models - INFO - Loaded successfully model from /home/elvis/CODE/FORKED/TDA_for_adv_robustness/tda/../trained_models/mnist_mnist_lenet_50_epochs.model\n",
      "2020-01-14 20:11:18,592 - Thresholds - INFO - Detected uniform threshold\n",
      "2020-01-14 20:11:18,593 - Thresholds - INFO - My received thresholds {(-1, 0): 0.9, (0, 1): 0.9, (1, 2): 0.9, (2, 3): 0.9, (3, 4): 0.9, (5, 6): 0.9}\n",
      "2020-01-14 20:11:18,593 - GraphStats - INFO - Cannot find /home/elvis/CODE/FORKED/TDA_for_adv_robustness/tda/../stats/architecture=mnist_lenet/dataset=MNIST/dataset_size=5/epochs=50/train_noise=0.0/stats.pickle. Recomputing stats...\n"
     ]
    },
    {
     "ename": "TypeError",
     "evalue": "get_graph_dataset() got an unexpected keyword argument 'source_dataset_name'",
     "output_type": "error",
     "traceback": [
      "\u001b[0;31m---------------------------------------------------------------------------\u001b[0m",
      "\u001b[0;31mTypeError\u001b[0m                                 Traceback (most recent call last)",
      "\u001b[0;32m<ipython-input-3-618aa7fb4b66>\u001b[0m in \u001b[0;36m<module>\u001b[0;34m\u001b[0m\n\u001b[0;32m----> 1\u001b[0;31m \u001b[0membedding_train\u001b[0m\u001b[0;34m,\u001b[0m \u001b[0membedding_test\u001b[0m\u001b[0;34m,\u001b[0m \u001b[0madv_embeddings\u001b[0m\u001b[0;34m,\u001b[0m \u001b[0mthresholds\u001b[0m\u001b[0;34m,\u001b[0m \u001b[0mstats\u001b[0m\u001b[0;34m,\u001b[0m \u001b[0mstats_inf\u001b[0m \u001b[0;34m=\u001b[0m \u001b[0mget_all_embeddings\u001b[0m\u001b[0;34m(\u001b[0m\u001b[0mconfig\u001b[0m\u001b[0;34m)\u001b[0m\u001b[0;34m\u001b[0m\u001b[0;34m\u001b[0m\u001b[0m\n\u001b[0m",
      "\u001b[0;32m~/CODE/FORKED/TDA_for_adv_robustness/tda/experiments/ocsvm_detector/ocsvm_detector_binary.py\u001b[0m in \u001b[0;36mget_all_embeddings\u001b[0;34m(config)\u001b[0m\n\u001b[1;32m    158\u001b[0m         \u001b[0marchitecture\u001b[0m\u001b[0;34m=\u001b[0m\u001b[0marchitecture\u001b[0m\u001b[0;34m,\u001b[0m\u001b[0;34m\u001b[0m\u001b[0;34m\u001b[0m\u001b[0m\n\u001b[1;32m    159\u001b[0m         \u001b[0mepochs\u001b[0m\u001b[0;34m=\u001b[0m\u001b[0mconfig\u001b[0m\u001b[0;34m.\u001b[0m\u001b[0mepochs\u001b[0m\u001b[0;34m,\u001b[0m\u001b[0;34m\u001b[0m\u001b[0;34m\u001b[0m\u001b[0m\n\u001b[0;32m--> 160\u001b[0;31m         \u001b[0mdataset_size\u001b[0m\u001b[0;34m=\u001b[0m\u001b[0;36m5\u001b[0m\u001b[0;34m\u001b[0m\u001b[0;34m\u001b[0m\u001b[0m\n\u001b[0m\u001b[1;32m    161\u001b[0m     )\n\u001b[1;32m    162\u001b[0m \u001b[0;34m\u001b[0m\u001b[0m\n",
      "\u001b[0;32m~/CODE/FORKED/TDA_for_adv_robustness/tda/thresholds.py\u001b[0m in \u001b[0;36mprocess_thresholds\u001b[0;34m(raw_thresholds, dataset, architecture, epochs, dataset_size)\u001b[0m\n\u001b[1;32m     70\u001b[0m                 \u001b[0marchitecture\u001b[0m\u001b[0;34m=\u001b[0m\u001b[0marchitecture\u001b[0m\u001b[0;34m,\u001b[0m\u001b[0;34m\u001b[0m\u001b[0;34m\u001b[0m\u001b[0m\n\u001b[1;32m     71\u001b[0m                 \u001b[0mdataset_size\u001b[0m\u001b[0;34m=\u001b[0m\u001b[0mdataset_size\u001b[0m\u001b[0;34m,\u001b[0m\u001b[0;34m\u001b[0m\u001b[0;34m\u001b[0m\u001b[0m\n\u001b[0;32m---> 72\u001b[0;31m                 \u001b[0mepochs\u001b[0m\u001b[0;34m=\u001b[0m\u001b[0mepochs\u001b[0m\u001b[0;34m\u001b[0m\u001b[0;34m\u001b[0m\u001b[0m\n\u001b[0m\u001b[1;32m     73\u001b[0m         )\n\u001b[1;32m     74\u001b[0m \u001b[0;34m\u001b[0m\u001b[0m\n",
      "\u001b[0;32m~/CODE/FORKED/TDA_for_adv_robustness/tda/graph_stats.py\u001b[0m in \u001b[0;36mget_stats\u001b[0;34m(epochs, architecture, dataset, dataset_size, train_noise)\u001b[0m\n\u001b[1;32m     78\u001b[0m             \u001b[0monly_successful_adversaries\u001b[0m\u001b[0;34m=\u001b[0m\u001b[0;32mFalse\u001b[0m\u001b[0;34m,\u001b[0m\u001b[0;34m\u001b[0m\u001b[0;34m\u001b[0m\u001b[0m\n\u001b[1;32m     79\u001b[0m             \u001b[0mtrain_noise\u001b[0m\u001b[0;34m=\u001b[0m\u001b[0mtrain_noise\u001b[0m\u001b[0;34m,\u001b[0m\u001b[0;34m\u001b[0m\u001b[0;34m\u001b[0m\u001b[0m\n\u001b[0;32m---> 80\u001b[0;31m             \u001b[0muse_sigmoid\u001b[0m\u001b[0;34m=\u001b[0m\u001b[0;32mFalse\u001b[0m\u001b[0;34m\u001b[0m\u001b[0;34m\u001b[0m\u001b[0m\n\u001b[0m\u001b[1;32m     81\u001b[0m         ):\n\u001b[1;32m     82\u001b[0m \u001b[0;34m\u001b[0m\u001b[0m\n",
      "\u001b[0;31mTypeError\u001b[0m: get_graph_dataset() got an unexpected keyword argument 'source_dataset_name'"
     ]
    }
   ],
   "source": [
    "embedding_train, embedding_test, adv_embeddings, thresholds, stats, stats_inf = get_all_embeddings(config)"
   ]
  },
  {
   "cell_type": "code",
   "execution_count": null,
   "metadata": {},
   "outputs": [],
   "source": [
    "logger.info(f\"Using kernel {config.kernel_type} with embeddings {config.embedding_type}\")\n",
    "\n",
    "if config.kernel_type == KernelType.RBF:\n",
    "    param_space = [\n",
    "        {'gamma': gamma}\n",
    "        for gamma in np.logspace(-6, -3, 10)\n",
    "    ]\n",
    "elif config.kernel_type == KernelType.SlicedWasserstein:\n",
    "    param_space = [\n",
    "        {'M': 20, 'sigma': 5 * 10 ** (-1)},\n",
    "    ]\n",
    "else:\n",
    "    raise NotImplementedError(f\"Unknown kernel {config.kernel_type}\")\n",
    "\n",
    "gram_train_matrices = {i: get_gram_matrix(\n",
    "    kernel_type=config.kernel_type,\n",
    "    embeddings_in=embedding_train,\n",
    "    embeddings_out=None,\n",
    "    params=param\n",
    ")\n",
    "    for i, param in enumerate(param_space)\n",
    "}\n",
    "logger.info(f\"Computed all Gram train matrices !\")"
   ]
  },
  {
   "cell_type": "code",
   "execution_count": null,
   "metadata": {
    "scrolled": false
   },
   "outputs": [],
   "source": [
    "all_results = {\n",
    "        epsilon: evaluate_embeddings(\n",
    "            gram_train_matrices=gram_train_matrices,\n",
    "            embeddings_train=embedding_train,\n",
    "            embeddings_test=embedding_test,\n",
    "            adv_embeddings=adv_embeddings[epsilon],\n",
    "            param_space=param_space,\n",
    "            kernel_type=config.kernel_type\n",
    "        )\n",
    "        for epsilon in adv_embeddings\n",
    "    }\n",
    "\n",
    "logger.info(all_results)"
   ]
  },
  {
   "cell_type": "code",
   "execution_count": null,
   "metadata": {},
   "outputs": [],
   "source": []
  }
 ],
 "metadata": {
  "kernelspec": {
   "display_name": "Python 3",
   "language": "python",
   "name": "python3"
  },
  "language_info": {
   "codemirror_mode": {
    "name": "ipython",
    "version": 3
   },
   "file_extension": ".py",
   "mimetype": "text/x-python",
   "name": "python",
   "nbconvert_exporter": "python",
   "pygments_lexer": "ipython3",
   "version": "3.6.10"
  }
 },
 "nbformat": 4,
 "nbformat_minor": 2
}

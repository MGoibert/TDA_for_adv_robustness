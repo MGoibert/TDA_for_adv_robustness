{
 "cells": [
  {
   "cell_type": "code",
   "execution_count": 72,
   "metadata": {},
   "outputs": [],
   "source": [
    "from tda.experiments.visualization.kernel_pca_binary import *\n",
    "from tda.embeddings import EmbeddingType, KernelType\n",
    "from tda.models.architectures import mnist_mlp, mnist_lenet, svhn_lenet\n",
    "from tda.logging import get_logger\n",
    "import copy"
   ]
  },
  {
   "cell_type": "code",
   "execution_count": 73,
   "metadata": {},
   "outputs": [],
   "source": [
    "config = Config(\n",
    "    embedding_type=EmbeddingType.PersistentDiagram,\n",
    "    kernel_type=KernelType.SlicedWasserstein,\n",
    "    thresholds='0.4_0.03_0.4_0.03_0_0_0',\n",
    "    epochs=200,\n",
    "    dataset=\"SVHN\",\n",
    "    architecture=svhn_lenet.name,\n",
    "    train_noise=0.0,\n",
    "    dataset_size=2,\n",
    "    successful_adv=1,\n",
    "    attack_type=\"All\",\n",
    "    identical_train_samples=1,\n",
    "    noise=0.0,\n",
    "    \n",
    "    num_iter=1,\n",
    "    height=1,\n",
    "    hash_size=1,\n",
    "    node_labels=0,\n",
    "    steps=1\n",
    ")"
   ]
  },
  {
   "cell_type": "markdown",
   "metadata": {},
   "source": [
    "#### Get embeddings"
   ]
  },
  {
   "cell_type": "code",
   "execution_count": 74,
   "metadata": {},
   "outputs": [
    {
     "name": "stderr",
     "output_type": "stream",
     "text": [
      "2020-01-21 12:14:21,115 - Models - INFO - Filename = /Users/m.goibert/Documents/Criteo/P2_TDA_Detection/TDA_for_adv_robustness/tda/../trained_models/svhn_svhn_lenet_200_epochs.model \n",
      "\n",
      "/Users/m.goibert/Documents/Criteo/P2_TDA_Detection/TDA_for_adv_robustness/tda_env/lib/python3.7/site-packages/torch/serialization.py:453: SourceChangeWarning: source code of class 'tda.models.architectures.Architecture' has changed. you can retrieve the original source code by accessing the object's source attribute or set `torch.nn.Module.dump_patches = True` and use the patch tool to revert the changes.\n",
      "  warnings.warn(msg, SourceChangeWarning)\n",
      "2020-01-21 12:14:21,134 - Models - INFO - Loaded successfully model from /Users/m.goibert/Documents/Criteo/P2_TDA_Detection/TDA_for_adv_robustness/tda/../trained_models/svhn_svhn_lenet_200_epochs.model\n",
      "2020-01-21 12:14:21,135 - Thresholds - INFO - Detected legacy format for thresholds\n",
      "2020-01-21 12:14:21,138 - Thresholds - INFO - My received thresholds {(-1, 0): 0.4, (0, 1): 0.03, (1, 2): 0.4, (2, 3): 0.03, (3, 4): 0.0, (4, 5): 0.0, (5, 6): 0.0}\n",
      "2020-01-21 12:14:21,139 - GraphStats - INFO - Loading stats from file /Users/m.goibert/Documents/Criteo/P2_TDA_Detection/TDA_for_adv_robustness/tda/../stats/architecture=svhn_lenet/dataset=svhn/dataset_size=300/train_noise=0.0/stats.pickle\n",
      "2020-01-21 12:14:21,156 - Thresholds - INFO - Link (-1, 0): threshold=25724.444010146468 (quantile 0.4)\n",
      "2020-01-21 12:14:21,158 - Thresholds - INFO - Link (0, 1): threshold=31922.622475456195 (quantile 0.03)\n",
      "2020-01-21 12:14:21,160 - Thresholds - INFO - Link (1, 2): threshold=64780.788609471936 (quantile 0.4)\n",
      "2020-01-21 12:14:21,161 - Thresholds - INFO - Link (2, 3): threshold=112640.9255057731 (quantile 0.03)\n",
      "2020-01-21 12:14:21,165 - Thresholds - INFO - Link (3, 4): threshold=0.0\n",
      "2020-01-21 12:14:21,169 - Thresholds - INFO - Link (4, 5): threshold=0.0\n",
      "2020-01-21 12:14:21,171 - Thresholds - INFO - Link (5, 6): threshold=0.0\n",
      "2020-01-21 12:14:21,173 - Thresholds - INFO - Thresholds = {(-1, 0): 25724.444010146468, (0, 1): 31922.622475456195, (1, 2): 64780.788609471936, (2, 3): 112640.9255057731, (3, 4): 0.0, (4, 5): 0.0, (5, 6): 0.0}\n",
      "2020-01-21 12:14:21,177 - Visualization PCA - INFO - Clean dataset !!\n",
      "2020-01-21 12:14:21,181 - GraphDataset - INFO - Using source dataset svhn\n",
      "2020-01-21 12:14:21,184 - GraphDataset - INFO - Checking that the received architecture has been trained\n",
      "2020-01-21 12:14:21,187 - GraphDataset - INFO - OK ! Architecture is ready\n",
      "2020-01-21 12:14:21,188 - GraphDataset - INFO - I am going to generate a dataset of 2 points...\n",
      "2020-01-21 12:14:21,192 - GraphDataset - INFO - Only successful adversaries ? yes\n",
      "2020-01-21 12:14:21,194 - GraphDataset - INFO - Which attack ? FGSM\n",
      "2020-01-21 12:14:21,196 - GraphDataset - INFO - We are going to use a saved dataset: clean_test_50ex.pt (dataset size required = 2)\n",
      "2020-01-21 12:14:30,993 - Visualization PCA - INFO - Computed embeddings for (attack = All, eps=0.0, noise=0.0), number of sample = 2\n",
      "2020-01-21 12:14:30,994 - Visualization PCA - INFO - Noisy dataset !!\n",
      "2020-01-21 12:14:30,994 - GraphDataset - INFO - Using source dataset svhn\n",
      "2020-01-21 12:14:30,995 - GraphDataset - INFO - Checking that the received architecture has been trained\n",
      "2020-01-21 12:14:30,996 - GraphDataset - INFO - OK ! Architecture is ready\n",
      "2020-01-21 12:14:30,997 - GraphDataset - INFO - I am going to generate a dataset of 2 points...\n",
      "2020-01-21 12:14:31,004 - GraphDataset - INFO - Only successful adversaries ? yes\n",
      "2020-01-21 12:14:31,005 - GraphDataset - INFO - Which attack ? FGSM\n",
      "2020-01-21 12:14:31,011 - GraphDataset - INFO - We are going to use a saved dataset: noisy_test_noise=0.025_50ex.pt (dataset size required = 2)\n",
      "2020-01-21 12:14:45,936 - Visualization PCA - INFO - Computed embeddings for (attack = All, eps=0.0, noise=0.025), number of sample = 2\n",
      "2020-01-21 12:14:45,937 - GraphDataset - INFO - Using source dataset svhn\n",
      "2020-01-21 12:14:45,938 - GraphDataset - INFO - Checking that the received architecture has been trained\n",
      "2020-01-21 12:14:45,939 - GraphDataset - INFO - OK ! Architecture is ready\n",
      "2020-01-21 12:14:45,939 - GraphDataset - INFO - I am going to generate a dataset of 2 points...\n",
      "2020-01-21 12:14:45,940 - GraphDataset - INFO - Only successful adversaries ? yes\n",
      "2020-01-21 12:14:45,941 - GraphDataset - INFO - Which attack ? FGSM\n",
      "2020-01-21 12:14:45,942 - GraphDataset - INFO - We are going to use a saved dataset: noisy_test_noise=0.05_50ex.pt (dataset size required = 2)\n",
      "2020-01-21 12:14:57,944 - Visualization PCA - INFO - Computed embeddings for (attack = All, eps=0.0, noise=0.05), number of sample = 2\n",
      "2020-01-21 12:14:57,945 - GraphDataset - INFO - Using source dataset svhn\n",
      "2020-01-21 12:14:57,946 - GraphDataset - INFO - Checking that the received architecture has been trained\n",
      "2020-01-21 12:14:57,947 - GraphDataset - INFO - OK ! Architecture is ready\n",
      "2020-01-21 12:14:57,947 - GraphDataset - INFO - I am going to generate a dataset of 2 points...\n",
      "2020-01-21 12:14:57,950 - GraphDataset - INFO - Only successful adversaries ? yes\n",
      "2020-01-21 12:14:57,951 - GraphDataset - INFO - Which attack ? FGSM\n",
      "2020-01-21 12:14:57,953 - GraphDataset - INFO - We are going to use a saved dataset: noisy_test_noise=0.1_50ex.pt (dataset size required = 2)\n",
      "2020-01-21 12:15:14,884 - Visualization PCA - INFO - Computed embeddings for (attack = All, eps=0.0, noise=0.1), number of sample = 2\n",
      "2020-01-21 12:15:14,884 - Visualization PCA - INFO - All attacks\n",
      "2020-01-21 12:15:14,885 - Visualization PCA - INFO - Attack type = FGSM and epsilon = 0.025\n",
      "2020-01-21 12:15:14,886 - GraphDataset - INFO - Using source dataset svhn\n",
      "2020-01-21 12:15:14,886 - GraphDataset - INFO - Checking that the received architecture has been trained\n",
      "2020-01-21 12:15:14,888 - GraphDataset - INFO - OK ! Architecture is ready\n",
      "2020-01-21 12:15:14,889 - GraphDataset - INFO - I am going to generate a dataset of 2 points...\n",
      "2020-01-21 12:15:14,891 - GraphDataset - INFO - Only successful adversaries ? yes\n",
      "2020-01-21 12:15:14,893 - GraphDataset - INFO - Which attack ? FGSM\n",
      "2020-01-21 12:15:14,894 - GraphDataset - INFO - We are going to use a saved dataset: adv_test_FGSM_eps=0.025_50ex.pt (dataset size required = 2)\n",
      "2020-01-21 12:15:31,852 - Visualization PCA - INFO - Computed embeddings for (attack = All, eps=0.025, noise=0.0), number of sample = 2\n",
      "2020-01-21 12:15:31,855 - Visualization PCA - INFO - Attack type = FGSM and epsilon = 0.05\n",
      "2020-01-21 12:15:31,856 - GraphDataset - INFO - Using source dataset svhn\n",
      "2020-01-21 12:15:31,856 - GraphDataset - INFO - Checking that the received architecture has been trained\n",
      "2020-01-21 12:15:31,859 - GraphDataset - INFO - OK ! Architecture is ready\n",
      "2020-01-21 12:15:31,860 - GraphDataset - INFO - I am going to generate a dataset of 2 points...\n",
      "2020-01-21 12:15:31,861 - GraphDataset - INFO - Only successful adversaries ? yes\n",
      "2020-01-21 12:15:31,865 - GraphDataset - INFO - Which attack ? FGSM\n",
      "2020-01-21 12:15:31,868 - GraphDataset - INFO - We are going to use a saved dataset: adv_test_FGSM_eps=0.05_50ex.pt (dataset size required = 2)\n",
      "2020-01-21 12:15:48,312 - Visualization PCA - INFO - Computed embeddings for (attack = All, eps=0.05, noise=0.0), number of sample = 2\n",
      "2020-01-21 12:15:48,313 - Visualization PCA - INFO - Attack type = FGSM and epsilon = 0.1\n",
      "2020-01-21 12:15:48,314 - GraphDataset - INFO - Using source dataset svhn\n",
      "2020-01-21 12:15:48,314 - GraphDataset - INFO - Checking that the received architecture has been trained\n",
      "2020-01-21 12:15:48,315 - GraphDataset - INFO - OK ! Architecture is ready\n",
      "2020-01-21 12:15:48,316 - GraphDataset - INFO - I am going to generate a dataset of 2 points...\n",
      "2020-01-21 12:15:48,317 - GraphDataset - INFO - Only successful adversaries ? yes\n",
      "2020-01-21 12:15:48,318 - GraphDataset - INFO - Which attack ? FGSM\n",
      "2020-01-21 12:15:48,322 - GraphDataset - INFO - We are going to use a saved dataset: adv_test_FGSM_eps=0.1_50ex.pt (dataset size required = 2)\n",
      "2020-01-21 12:16:02,293 - Visualization PCA - INFO - Computed embeddings for (attack = All, eps=0.1, noise=0.0), number of sample = 2\n",
      "2020-01-21 12:16:02,293 - Visualization PCA - INFO - Attack type = BIM and epsilon = 0.025\n",
      "2020-01-21 12:16:02,295 - GraphDataset - INFO - Using source dataset svhn\n"
     ]
    },
    {
     "name": "stderr",
     "output_type": "stream",
     "text": [
      "2020-01-21 12:16:02,296 - GraphDataset - INFO - Checking that the received architecture has been trained\n",
      "2020-01-21 12:16:02,297 - GraphDataset - INFO - OK ! Architecture is ready\n",
      "2020-01-21 12:16:02,298 - GraphDataset - INFO - I am going to generate a dataset of 2 points...\n",
      "2020-01-21 12:16:02,300 - GraphDataset - INFO - Only successful adversaries ? yes\n",
      "2020-01-21 12:16:02,301 - GraphDataset - INFO - Which attack ? BIM\n",
      "2020-01-21 12:16:02,302 - GraphDataset - INFO - We are going to use a saved dataset: adv_test_BIM_eps=0.025_50ex.pt (dataset size required = 2)\n",
      "2020-01-21 12:16:17,884 - Visualization PCA - INFO - Computed embeddings for (attack = All, eps=0.025, noise=0.0), number of sample = 2\n",
      "2020-01-21 12:16:17,885 - Visualization PCA - INFO - Attack type = BIM and epsilon = 0.05\n",
      "2020-01-21 12:16:17,886 - GraphDataset - INFO - Using source dataset svhn\n",
      "2020-01-21 12:16:17,889 - GraphDataset - INFO - Checking that the received architecture has been trained\n",
      "2020-01-21 12:16:17,891 - GraphDataset - INFO - OK ! Architecture is ready\n",
      "2020-01-21 12:16:17,894 - GraphDataset - INFO - I am going to generate a dataset of 2 points...\n",
      "2020-01-21 12:16:17,896 - GraphDataset - INFO - Only successful adversaries ? yes\n",
      "2020-01-21 12:16:17,898 - GraphDataset - INFO - Which attack ? BIM\n",
      "2020-01-21 12:16:17,899 - GraphDataset - INFO - We are going to use a saved dataset: adv_test_BIM_eps=0.05_50ex.pt (dataset size required = 2)\n",
      "2020-01-21 12:16:34,703 - Visualization PCA - INFO - Computed embeddings for (attack = All, eps=0.05, noise=0.0), number of sample = 2\n",
      "2020-01-21 12:16:34,704 - Visualization PCA - INFO - Attack type = BIM and epsilon = 0.1\n",
      "2020-01-21 12:16:34,704 - GraphDataset - INFO - Using source dataset svhn\n",
      "2020-01-21 12:16:34,705 - GraphDataset - INFO - Checking that the received architecture has been trained\n",
      "2020-01-21 12:16:34,705 - GraphDataset - INFO - OK ! Architecture is ready\n",
      "2020-01-21 12:16:34,706 - GraphDataset - INFO - I am going to generate a dataset of 2 points...\n",
      "2020-01-21 12:16:34,707 - GraphDataset - INFO - Only successful adversaries ? yes\n",
      "2020-01-21 12:16:34,708 - GraphDataset - INFO - Which attack ? BIM\n",
      "2020-01-21 12:16:34,710 - GraphDataset - INFO - We are going to use a saved dataset: adv_test_BIM_eps=0.1_50ex.pt (dataset size required = 2)\n",
      "2020-01-21 12:16:45,191 - Visualization PCA - INFO - Computed embeddings for (attack = All, eps=0.1, noise=0.0), number of sample = 2\n",
      "2020-01-21 12:16:45,192 - GraphDataset - INFO - Using source dataset svhn\n",
      "2020-01-21 12:16:45,192 - GraphDataset - INFO - Checking that the received architecture has been trained\n",
      "2020-01-21 12:16:45,193 - GraphDataset - INFO - OK ! Architecture is ready\n",
      "2020-01-21 12:16:45,194 - GraphDataset - INFO - I am going to generate a dataset of 2 points...\n",
      "2020-01-21 12:16:45,195 - GraphDataset - INFO - Only successful adversaries ? yes\n",
      "2020-01-21 12:16:45,196 - GraphDataset - INFO - Which attack ? DeepFool\n",
      "2020-01-21 12:16:45,198 - GraphDataset - INFO - We are going to use a saved dataset: adv_test_DeepFool_eps=1.0_50ex.pt (dataset size required = 2)\n",
      "2020-01-21 12:16:55,637 - Visualization PCA - INFO - Computed embeddings for (attack = All, eps=1, noise=0.0), number of sample = 2\n",
      "2020-01-21 12:16:55,638 - GraphDataset - INFO - Using source dataset svhn\n",
      "2020-01-21 12:16:55,638 - GraphDataset - INFO - Checking that the received architecture has been trained\n",
      "2020-01-21 12:16:55,639 - GraphDataset - INFO - OK ! Architecture is ready\n",
      "2020-01-21 12:16:55,640 - GraphDataset - INFO - I am going to generate a dataset of 2 points...\n",
      "2020-01-21 12:16:55,641 - GraphDataset - INFO - Only successful adversaries ? yes\n",
      "2020-01-21 12:16:55,642 - GraphDataset - INFO - Which attack ? CW\n",
      "2020-01-21 12:16:55,643 - GraphDataset - INFO - We are going to use a saved dataset: adv_test_CW_eps=1.0_50ex.pt (dataset size required = 2)\n",
      "2020-01-21 12:17:11,257 - Visualization PCA - INFO - Computed embeddings for (attack = All, eps=1, noise=0.0), number of sample = 2\n"
     ]
    }
   ],
   "source": [
    "clean_embeddings, noisy_embeddings, adv_embeddings, adv_embeddings_all, \\\n",
    "thresholds, all_noises, all_epsilons = get_all_embeddings(config)"
   ]
  },
  {
   "cell_type": "markdown",
   "metadata": {},
   "source": [
    "Add some parameters (for kernel)"
   ]
  },
  {
   "cell_type": "code",
   "execution_count": 61,
   "metadata": {},
   "outputs": [
    {
     "name": "stderr",
     "output_type": "stream",
     "text": [
      "2020-01-21 12:08:05,395 - Visualization PCA - INFO - Using kernel SlicedWasserstein with embeddings PersistentDiagram\n"
     ]
    }
   ],
   "source": [
    "logger.info(f\"Using kernel {config.kernel_type} with embeddings {config.embedding_type}\")\n",
    "\n",
    "if config.kernel_type == KernelType.RBF:\n",
    "    param_space = [\n",
    "        {'gamma': gamma}\n",
    "        for gamma in np.logspace(-6, -3, 10)\n",
    "    ]\n",
    "elif config.kernel_type == KernelType.SlicedWasserstein:\n",
    "    param_space = [\n",
    "        {'M': 20, 'sigma': 5 * 10 ** (-1)},\n",
    "    ]\n",
    "else:\n",
    "    raise NotImplementedError(f\"Unknown kernel {config.kernel_type}\")"
   ]
  },
  {
   "cell_type": "code",
   "execution_count": 62,
   "metadata": {},
   "outputs": [],
   "source": [
    "embedding_init = clean_embeddings + noisy_embeddings + adv_embeddings_all\n",
    "for param in param_space:\n",
    "    gram_matrix = get_gram_matrix(\n",
    "    kernel_type=config.kernel_type,\n",
    "    embeddings_in=embedding_init,\n",
    "    embeddings_out=None,\n",
    "    params=param\n",
    "    )\n",
    "kpca = KernelPCA(2, kernel=\"precomputed\")\n",
    "transform_input = kpca.fit_transform(gram_matrix)"
   ]
  },
  {
   "cell_type": "markdown",
   "metadata": {},
   "source": [
    "### Plotting"
   ]
  },
  {
   "cell_type": "code",
   "execution_count": 63,
   "metadata": {},
   "outputs": [],
   "source": [
    "binary_path = os.path.dirname(os.path.abspath(''))\n",
    "binary_path_split = pathlib.Path(binary_path)\n",
    "directory = str(pathlib.Path(*binary_path_split.parts[:-1])) + \"/tda/plots/visualization/kernel_pca/\" + str(config.architecture)\n",
    "if not os.path.exists(directory):\n",
    "    os.makedirs(directory)\n",
    "filename = directory + f\"/{config.attack_type}.png\"\n",
    "plt.style.use('seaborn-dark')"
   ]
  },
  {
   "cell_type": "code",
   "execution_count": 64,
   "metadata": {},
   "outputs": [],
   "source": [
    "labels = len(clean_embeddings)*list([\"Clean\"]) #+ len(noisy_embeddings)*list([\"Noisy\"])\n",
    "for noise in all_noises:\n",
    "    labels += (len(noisy_embeddings)//len(all_noises))*list([f\"Noisy {noise}\"])\n",
    "if config.attack_type != \"All\":\n",
    "    for epsilon in all_epsilons:\n",
    "        labels += len(adv_embeddings[epsilon])*list([f\"Adv {config.attack_type} {epsilon}\"])\n",
    "else:\n",
    "    for att in [\"FGSM\", \"BIM\", \"DeepFool\", \"CW\"]:\n",
    "        if att in [\"FGSM\", \"BIM\"]:\n",
    "            for epsilon in all_epsilons:\n",
    "                labels += len(adv_embeddings[att][epsilon])*list([f\"Adv {att} {epsilon}\"])\n",
    "        else:\n",
    "            labels += len(adv_embeddings[att][1])*list([f\"Adv {att} {1}\"])"
   ]
  },
  {
   "cell_type": "code",
   "execution_count": 67,
   "metadata": {},
   "outputs": [],
   "source": [
    "le = len(all_epsilons)\n",
    "if config.attack_type == \"FGSM\":\n",
    "    pal = sns.color_palette([\"#0F0F0F\", \"#C9C9C9\", \"#A0A0A0\", \"#757575\"] + sns.color_palette(\"Blues\", le))\n",
    "elif config.attack_type == \"BIM\":\n",
    "    pal = sns.color_palette([\"#0F0F0F\", \"#C9C9C9\", \"#A0A0A0\", \"#757575\"] + sns.color_palette(\"Greens\", le))\n",
    "elif config.attack_type == \"DeepFool\":\n",
    "    pal = sns.color_palette([\"#0F0F0F\", \"#C9C9C9\", \"#A0A0A0\", \"#757575\", \"#FEB307\"])\n",
    "elif config.attack_type == \"CW\":\n",
    "    pal = sns.color_palette([\"#0F0F0F\", \"#C9C9C9\", \"#A0A0A0\", \"#757575\", \"#C50000\"])\n",
    "else:\n",
    "    pal = sns.color_palette([\"#0F0F0F\", \"#C9C9C9\", \"#A0A0A0\", \"#757575\"] + sns.color_palette(\"Blues\", le) + sns.color_palette(\"Greens\", le) + [\"#FEB307\"] + [\"#C50000\"])"
   ]
  },
  {
   "cell_type": "code",
   "execution_count": 68,
   "metadata": {},
   "outputs": [
    {
     "name": "stderr",
     "output_type": "stream",
     "text": [
      "2020-01-21 12:13:48,817 - Visualization PCA - INFO - Plotting figure...\n"
     ]
    },
    {
     "data": {
      "image/png": "[encoded data removed]",
      "text/plain": [
       "<Figure size 432x288 with 1 Axes>"
      ]
     },
     "metadata": {},
     "output_type": "display_data"
    },
    {
     "name": "stderr",
     "output_type": "stream",
     "text": [
      "2020-01-21 12:13:49,112 - Visualization PCA - INFO - Closing figure\n"
     ]
    }
   ],
   "source": [
    "logger.info(f\"Plotting figure...\")\n",
    "p = sns.scatterplot(x=[1000*item[0] for item in transform_input], y=[1000*item[1] for item in transform_input],\n",
    "    hue=labels, palette=pal, alpha=0.8)\n",
    "#plt.savefig(filename, dpi=600)\n",
    "#plt.clf()\n",
    "plt.show()\n",
    "logger.info(f\"Closing figure\")"
   ]
  },
  {
   "cell_type": "code",
   "execution_count": 71,
   "metadata": {},
   "outputs": [
    {
     "ename": "NameError",
     "evalue": "name 'copy' is not defined",
     "output_type": "error",
     "traceback": [
      "\u001b[0;31m---------------------------------------------------------------------------\u001b[0m",
      "\u001b[0;31mNameError\u001b[0m                                 Traceback (most recent call last)",
      "\u001b[0;32m<ipython-input-71-2695af0d9ccb>\u001b[0m in \u001b[0;36m<module>\u001b[0;34m\u001b[0m\n\u001b[1;32m     11\u001b[0m             \u001b[0mother_transform_input\u001b[0m \u001b[0;34m=\u001b[0m \u001b[0mtransform_input\u001b[0m\u001b[0;34m[\u001b[0m\u001b[0;36m0\u001b[0m\u001b[0;34m:\u001b[0m\u001b[0mfgsm_end\u001b[0m\u001b[0;34m]\u001b[0m\u001b[0;34m\u001b[0m\u001b[0;34m\u001b[0m\u001b[0m\n\u001b[1;32m     12\u001b[0m             \u001b[0mpal2\u001b[0m \u001b[0;34m=\u001b[0m \u001b[0msns\u001b[0m\u001b[0;34m.\u001b[0m\u001b[0mcolor_palette\u001b[0m\u001b[0;34m(\u001b[0m\u001b[0;34m[\u001b[0m\u001b[0;34m\"#0F0F0F\"\u001b[0m\u001b[0;34m,\u001b[0m \u001b[0;34m\"#C9C9C9\"\u001b[0m\u001b[0;34m,\u001b[0m \u001b[0;34m\"#A0A0A0\"\u001b[0m\u001b[0;34m,\u001b[0m \u001b[0;34m\"#757575\"\u001b[0m\u001b[0;34m]\u001b[0m \u001b[0;34m+\u001b[0m \u001b[0msns\u001b[0m\u001b[0;34m.\u001b[0m\u001b[0mcolor_palette\u001b[0m\u001b[0;34m(\u001b[0m\u001b[0;34m\"Blues\"\u001b[0m\u001b[0;34m,\u001b[0m \u001b[0mle\u001b[0m\u001b[0;34m)\u001b[0m\u001b[0;34m)\u001b[0m\u001b[0;34m\u001b[0m\u001b[0;34m\u001b[0m\u001b[0m\n\u001b[0;32m---> 13\u001b[0;31m             \u001b[0mlabels2\u001b[0m \u001b[0;34m=\u001b[0m \u001b[0mcopy\u001b[0m\u001b[0;34m.\u001b[0m\u001b[0mdeepcopy\u001b[0m\u001b[0;34m(\u001b[0m\u001b[0mlabs\u001b[0m\u001b[0;34m)\u001b[0m\u001b[0;34m\u001b[0m\u001b[0;34m\u001b[0m\u001b[0m\n\u001b[0m\u001b[1;32m     14\u001b[0m             \u001b[0;32mfor\u001b[0m \u001b[0mepsilon\u001b[0m \u001b[0;32min\u001b[0m \u001b[0mall_epsilons\u001b[0m\u001b[0;34m:\u001b[0m\u001b[0;34m\u001b[0m\u001b[0;34m\u001b[0m\u001b[0m\n\u001b[1;32m     15\u001b[0m                 \u001b[0mlabels2\u001b[0m \u001b[0;34m+=\u001b[0m \u001b[0mlen\u001b[0m\u001b[0;34m(\u001b[0m\u001b[0madv_embeddings\u001b[0m\u001b[0;34m[\u001b[0m\u001b[0matt\u001b[0m\u001b[0;34m]\u001b[0m\u001b[0;34m[\u001b[0m\u001b[0mepsilon\u001b[0m\u001b[0;34m]\u001b[0m\u001b[0;34m)\u001b[0m\u001b[0;34m*\u001b[0m\u001b[0mlist\u001b[0m\u001b[0;34m(\u001b[0m\u001b[0;34m[\u001b[0m\u001b[0;34mf\"Adv {att} {epsilon}\"\u001b[0m\u001b[0;34m]\u001b[0m\u001b[0;34m)\u001b[0m\u001b[0;34m\u001b[0m\u001b[0;34m\u001b[0m\u001b[0m\n",
      "\u001b[0;31mNameError\u001b[0m: name 'copy' is not defined"
     ]
    }
   ],
   "source": [
    "labs = len(clean_embeddings)*list([\"Clean\"]) #+ len(noisy_embeddings)*list([\"Noisy\"])\n",
    "for noise in all_noises:\n",
    "    labs += (len(noisy_embeddings)//len(all_noises))*list([f\"Noisy {noise}\"])\n",
    "\n",
    "if config.attack_type == \"All\":\n",
    "    for att in [\"FGSM\", \"BIM\", \"DeepFool\", \"CW\"]:\n",
    "        clean_noisy_end = len(clean_embeddings) + len(noisy_embeddings)\n",
    "        filename2 = directory + f\"/{config.attack_type}_viz_{att}.png\"\n",
    "        if att == \"FGSM\":\n",
    "            fgsm_end = clean_noisy_end + len(adv_embeddings[att])*config.dataset_size\n",
    "            other_transform_input = transform_input[0:fgsm_end]\n",
    "            pal2 = sns.color_palette([\"#0F0F0F\", \"#C9C9C9\", \"#A0A0A0\", \"#757575\"] + sns.color_palette(\"Blues\", le))\n",
    "            labels2 = copy.deepcopy(labs)\n",
    "            for epsilon in all_epsilons:\n",
    "                labels2 += len(adv_embeddings[att][epsilon])*list([f\"Adv {att} {epsilon}\"])\n",
    "        elif att == \"BIM\":\n",
    "            bim_end = fgsm_end + len(adv_embeddings[att])*config.dataset_size\n",
    "            other_transform_input = list(transform_input[:clean_noisy_end]) + list(transform_input[fgsm_end:bim_end])\n",
    "            pal2 = sns.color_palette([\"#0F0F0F\", \"#C9C9C9\", \"#A0A0A0\", \"#757575\"] + sns.color_palette(\"Greens\", le))\n",
    "            labels2 = copy.deepcopy(labs)\n",
    "            for epsilon in all_epsilons:\n",
    "                labels2 += len(adv_embeddings[att][epsilon])*list([f\"Adv {att} {epsilon}\"])\n",
    "        elif att == \"DeepFool\":\n",
    "            deepfool_end = bim_end + len(adv_embeddings[att])*config.dataset_size\n",
    "            other_transform_input = list(transform_input[:clean_noisy_end]) + list(transform_input[bim_end:deepfool_end])\n",
    "            pal2 = sns.color_palette([\"#0F0F0F\", \"#C9C9C9\", \"#A0A0A0\", \"#757575\", \"#FEB307\"])\n",
    "            labels2 = copy.deepcopy(labs) + len(adv_embeddings[att][1])*list([f\"Adv {att} {1}\"])\n",
    "        elif att == \"CW\":\n",
    "            other_transform_input = list(transform_input[:clean_noisy_end]) + list(transform_input[deepfool_end:])\n",
    "            pal2 = sns.color_palette([\"#0F0F0F\", \"#C9C9C9\", \"#A0A0A0\", \"#757575\", \"#C50000\"])\n",
    "            labels2 = copy.deepcopy(labs) + len(adv_embeddings[att][1])*list([f\"Adv {att} {1}\"])\n",
    "        logger.info(f\"Plotting figure for all attacks...\")\n",
    "        p2 = sns.scatterplot(x=[1000*item[0] for item in other_transform_input], y=[1000*item[1] for item in other_transform_input],\n",
    "            hue=labels2, palette=pal2, alpha=0.8)\n",
    "        #plt.savefig(filename2, dpi=600)\n",
    "        #plt.clf()\n",
    "        plt.show()\n",
    "        logger.info(f\"Closing figure\")"
   ]
  }
 ],
 "metadata": {
  "kernelspec": {
   "display_name": "Python 3",
   "language": "python",
   "name": "python3"
  },
  "language_info": {
   "codemirror_mode": {
    "name": "ipython",
    "version": 3
   },
   "file_extension": ".py",
   "mimetype": "text/x-python",
   "name": "python",
   "nbconvert_exporter": "python",
   "pygments_lexer": "ipython3",
   "version": "3.7.4"
  }
 },
 "nbformat": 4,
 "nbformat_minor": 2
}

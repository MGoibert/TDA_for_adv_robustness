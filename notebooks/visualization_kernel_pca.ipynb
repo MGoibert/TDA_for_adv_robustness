{
 "cells": [
  {
   "cell_type": "code",
   "execution_count": 54,
   "metadata": {},
   "outputs": [],
   "source": [
    "from tda.experiments.visualization.kernel_pca_binary import *\n",
    "from tda.embeddings import EmbeddingType, KernelType\n",
    "from tda.models.architectures import mnist_mlp, mnist_lenet, svhn_lenet\n",
    "from tda.logging import get_logger"
   ]
  },
  {
   "cell_type": "code",
   "execution_count": 55,
   "metadata": {},
   "outputs": [],
   "source": [
    "config = Config(\n",
    "    embedding_type=EmbeddingType.PersistentDiagram,\n",
    "    kernel_type=KernelType.SlicedWasserstein,\n",
    "    thresholds='0.4_0.03_0.4_0.03_0_0_0',\n",
    "    epochs=200,\n",
    "    dataset=\"SVHN\",\n",
    "    architecture=svhn_lenet.name,\n",
    "    train_noise=0.0,\n",
    "    dataset_size=2,\n",
    "    successful_adv=1,\n",
    "    attack_type=\"All\",\n",
    "    identical_train_samples=1,\n",
    "    noise=0.0,\n",
    "    \n",
    "    num_iter=1,\n",
    "    height=1,\n",
    "    hash_size=1,\n",
    "    node_labels=0,\n",
    "    steps=1\n",
    ")"
   ]
  },
  {
   "cell_type": "markdown",
   "metadata": {},
   "source": [
    "#### Get embeddings"
   ]
  },
  {
   "cell_type": "code",
   "execution_count": 56,
   "metadata": {},
   "outputs": [
    {
     "name": "stderr",
     "output_type": "stream",
     "text": [
      "2020-01-20 23:03:51,083 - Models - INFO - Filename = /Users/m.goibert/Documents/Criteo/P2_TDA_Detection/TDA_for_adv_robustness/tda/../trained_models/svhn_svhn_lenet_200_epochs.model \n",
      "\n",
      "/Users/m.goibert/Documents/Criteo/P2_TDA_Detection/TDA_for_adv_robustness/tda_env/lib/python3.7/site-packages/torch/serialization.py:453: SourceChangeWarning: source code of class 'tda.models.architectures.Architecture' has changed. you can retrieve the original source code by accessing the object's source attribute or set `torch.nn.Module.dump_patches = True` and use the patch tool to revert the changes.\n",
      "  warnings.warn(msg, SourceChangeWarning)\n",
      "2020-01-20 23:03:51,121 - Models - INFO - Loaded successfully model from /Users/m.goibert/Documents/Criteo/P2_TDA_Detection/TDA_for_adv_robustness/tda/../trained_models/svhn_svhn_lenet_200_epochs.model\n",
      "2020-01-20 23:03:51,127 - Thresholds - INFO - Detected legacy format for thresholds\n",
      "2020-01-20 23:03:51,131 - Thresholds - INFO - My received thresholds {(-1, 0): 0.4, (0, 1): 0.03, (1, 2): 0.4, (2, 3): 0.03, (3, 4): 0.0, (4, 5): 0.0, (5, 6): 0.0}\n",
      "2020-01-20 23:03:51,134 - GraphStats - INFO - Loading stats from file /Users/m.goibert/Documents/Criteo/P2_TDA_Detection/TDA_for_adv_robustness/tda/../stats/architecture=svhn_lenet/dataset=svhn/dataset_size=300/train_noise=0.0/stats.pickle\n",
      "2020-01-20 23:03:51,161 - Thresholds - INFO - Link (-1, 0): threshold=25724.444010146468 (quantile 0.4)\n",
      "2020-01-20 23:03:51,165 - Thresholds - INFO - Link (0, 1): threshold=31922.622475456195 (quantile 0.03)\n",
      "2020-01-20 23:03:51,167 - Thresholds - INFO - Link (1, 2): threshold=64780.788609471936 (quantile 0.4)\n",
      "2020-01-20 23:03:51,172 - Thresholds - INFO - Link (2, 3): threshold=112640.9255057731 (quantile 0.03)\n",
      "2020-01-20 23:03:51,175 - Thresholds - INFO - Link (3, 4): threshold=0.0\n",
      "2020-01-20 23:03:51,178 - Thresholds - INFO - Link (4, 5): threshold=0.0\n",
      "2020-01-20 23:03:51,180 - Thresholds - INFO - Link (5, 6): threshold=0.0\n",
      "2020-01-20 23:03:51,185 - Thresholds - INFO - Thresholds = {(-1, 0): 25724.444010146468, (0, 1): 31922.622475456195, (1, 2): 64780.788609471936, (2, 3): 112640.9255057731, (3, 4): 0.0, (4, 5): 0.0, (5, 6): 0.0}\n",
      "2020-01-20 23:03:51,188 - Visualization PCA - INFO - Clean dataset !!\n",
      "2020-01-20 23:03:51,191 - GraphDataset - INFO - Using source dataset svhn\n",
      "2020-01-20 23:03:51,194 - GraphDataset - INFO - Checking that the received architecture has been trained\n",
      "2020-01-20 23:03:51,196 - GraphDataset - INFO - OK ! Architecture is ready\n",
      "2020-01-20 23:03:51,198 - GraphDataset - INFO - I am going to generate a dataset of 2 points...\n",
      "2020-01-20 23:03:51,202 - GraphDataset - INFO - Only successful adversaries ? yes\n",
      "2020-01-20 23:03:51,205 - GraphDataset - INFO - Which attack ? FGSM\n",
      "2020-01-20 23:03:51,211 - GraphDataset - INFO - We are going to use a saved dataset: clean_test_50ex.pt (dataset size required = 2)\n",
      "2020-01-20 23:04:00,842 - Visualization PCA - INFO - Computed embeddings for (attack = All, eps=0.0, noise=0.0), number of sample = 2\n",
      "2020-01-20 23:04:00,843 - Visualization PCA - INFO - Noisy dataset !!\n",
      "2020-01-20 23:04:00,843 - GraphDataset - INFO - Using source dataset svhn\n",
      "2020-01-20 23:04:00,844 - GraphDataset - INFO - Checking that the received architecture has been trained\n",
      "2020-01-20 23:04:00,844 - GraphDataset - INFO - OK ! Architecture is ready\n",
      "2020-01-20 23:04:00,847 - GraphDataset - INFO - I am going to generate a dataset of 2 points...\n",
      "2020-01-20 23:04:00,849 - GraphDataset - INFO - Only successful adversaries ? yes\n",
      "2020-01-20 23:04:00,853 - GraphDataset - INFO - Which attack ? FGSM\n",
      "2020-01-20 23:04:00,857 - GraphDataset - INFO - We are going to use a saved dataset: noisy_test_noise=0.025_50ex.pt (dataset size required = 2)\n",
      "2020-01-20 23:04:12,912 - Visualization PCA - INFO - Computed embeddings for (attack = All, eps=0.0, noise=0.025), number of sample = 2\n",
      "2020-01-20 23:04:12,912 - GraphDataset - INFO - Using source dataset svhn\n",
      "2020-01-20 23:04:12,913 - GraphDataset - INFO - Checking that the received architecture has been trained\n",
      "2020-01-20 23:04:12,913 - GraphDataset - INFO - OK ! Architecture is ready\n",
      "2020-01-20 23:04:12,914 - GraphDataset - INFO - I am going to generate a dataset of 2 points...\n",
      "2020-01-20 23:04:12,920 - GraphDataset - INFO - Only successful adversaries ? yes\n",
      "2020-01-20 23:04:12,933 - GraphDataset - INFO - Which attack ? FGSM\n",
      "2020-01-20 23:04:12,937 - GraphDataset - INFO - We are going to use a saved dataset: noisy_test_noise=0.05_50ex.pt (dataset size required = 2)\n",
      "2020-01-20 23:04:23,670 - Visualization PCA - INFO - Computed embeddings for (attack = All, eps=0.0, noise=0.05), number of sample = 2\n",
      "2020-01-20 23:04:23,672 - GraphDataset - INFO - Using source dataset svhn\n",
      "2020-01-20 23:04:23,673 - GraphDataset - INFO - Checking that the received architecture has been trained\n",
      "2020-01-20 23:04:23,674 - GraphDataset - INFO - OK ! Architecture is ready\n",
      "2020-01-20 23:04:23,675 - GraphDataset - INFO - I am going to generate a dataset of 2 points...\n",
      "2020-01-20 23:04:23,676 - GraphDataset - INFO - Only successful adversaries ? yes\n",
      "2020-01-20 23:04:23,677 - GraphDataset - INFO - Which attack ? FGSM\n",
      "2020-01-20 23:04:23,679 - GraphDataset - INFO - We are going to use a saved dataset: noisy_test_noise=0.1_50ex.pt (dataset size required = 2)\n",
      "2020-01-20 23:04:36,199 - Visualization PCA - INFO - Computed embeddings for (attack = All, eps=0.0, noise=0.1), number of sample = 2\n",
      "2020-01-20 23:04:36,200 - Visualization PCA - INFO - All attacks\n",
      "2020-01-20 23:04:36,200 - Visualization PCA - INFO - Attack type = FGSM and epsilon = 0.025\n",
      "2020-01-20 23:04:36,201 - GraphDataset - INFO - Using source dataset svhn\n",
      "2020-01-20 23:04:36,201 - GraphDataset - INFO - Checking that the received architecture has been trained\n",
      "2020-01-20 23:04:36,202 - GraphDataset - INFO - OK ! Architecture is ready\n",
      "2020-01-20 23:04:36,203 - GraphDataset - INFO - I am going to generate a dataset of 2 points...\n",
      "2020-01-20 23:04:36,204 - GraphDataset - INFO - Only successful adversaries ? yes\n",
      "2020-01-20 23:04:36,211 - GraphDataset - INFO - Which attack ? FGSM\n",
      "2020-01-20 23:04:36,214 - GraphDataset - INFO - We are going to use a saved dataset: adv_test_FGSM_eps=0.025_50ex.pt (dataset size required = 2)\n",
      "2020-01-20 23:04:47,378 - Visualization PCA - INFO - Computed embeddings for (attack = All, eps=0.025, noise=0.0), number of sample = 2\n",
      "2020-01-20 23:04:47,380 - Visualization PCA - INFO - Attack type = FGSM and epsilon = 0.05\n",
      "2020-01-20 23:04:47,381 - GraphDataset - INFO - Using source dataset svhn\n",
      "2020-01-20 23:04:47,382 - GraphDataset - INFO - Checking that the received architecture has been trained\n",
      "2020-01-20 23:04:47,383 - GraphDataset - INFO - OK ! Architecture is ready\n",
      "2020-01-20 23:04:47,384 - GraphDataset - INFO - I am going to generate a dataset of 2 points...\n",
      "2020-01-20 23:04:47,388 - GraphDataset - INFO - Only successful adversaries ? yes\n",
      "2020-01-20 23:04:47,389 - GraphDataset - INFO - Which attack ? FGSM\n",
      "2020-01-20 23:04:47,393 - GraphDataset - INFO - We are going to use a saved dataset: adv_test_FGSM_eps=0.05_50ex.pt (dataset size required = 2)\n",
      "2020-01-20 23:04:57,607 - Visualization PCA - INFO - Computed embeddings for (attack = All, eps=0.05, noise=0.0), number of sample = 2\n",
      "2020-01-20 23:04:57,608 - Visualization PCA - INFO - Attack type = FGSM and epsilon = 0.1\n",
      "2020-01-20 23:04:57,608 - GraphDataset - INFO - Using source dataset svhn\n",
      "2020-01-20 23:04:57,609 - GraphDataset - INFO - Checking that the received architecture has been trained\n",
      "2020-01-20 23:04:57,617 - GraphDataset - INFO - OK ! Architecture is ready\n",
      "2020-01-20 23:04:57,620 - GraphDataset - INFO - I am going to generate a dataset of 2 points...\n",
      "2020-01-20 23:04:57,622 - GraphDataset - INFO - Only successful adversaries ? yes\n",
      "2020-01-20 23:04:57,624 - GraphDataset - INFO - Which attack ? FGSM\n",
      "2020-01-20 23:04:57,627 - GraphDataset - INFO - We are going to use a saved dataset: adv_test_FGSM_eps=0.1_50ex.pt (dataset size required = 2)\n",
      "2020-01-20 23:05:07,897 - Visualization PCA - INFO - Computed embeddings for (attack = All, eps=0.1, noise=0.0), number of sample = 2\n",
      "2020-01-20 23:05:07,898 - Visualization PCA - INFO - Attack type = BIM and epsilon = 0.025\n",
      "2020-01-20 23:05:07,899 - GraphDataset - INFO - Using source dataset svhn\n"
     ]
    },
    {
     "name": "stderr",
     "output_type": "stream",
     "text": [
      "2020-01-20 23:05:07,899 - GraphDataset - INFO - Checking that the received architecture has been trained\n",
      "2020-01-20 23:05:07,900 - GraphDataset - INFO - OK ! Architecture is ready\n",
      "2020-01-20 23:05:07,901 - GraphDataset - INFO - I am going to generate a dataset of 2 points...\n",
      "2020-01-20 23:05:07,902 - GraphDataset - INFO - Only successful adversaries ? yes\n",
      "2020-01-20 23:05:07,903 - GraphDataset - INFO - Which attack ? BIM\n",
      "2020-01-20 23:05:07,910 - GraphDataset - INFO - We are going to use a saved dataset: adv_test_BIM_eps=0.025_50ex.pt (dataset size required = 2)\n",
      "2020-01-20 23:05:18,315 - Visualization PCA - INFO - Computed embeddings for (attack = All, eps=0.025, noise=0.0), number of sample = 2\n",
      "2020-01-20 23:05:18,315 - Visualization PCA - INFO - Attack type = BIM and epsilon = 0.05\n",
      "2020-01-20 23:05:18,316 - GraphDataset - INFO - Using source dataset svhn\n",
      "2020-01-20 23:05:18,316 - GraphDataset - INFO - Checking that the received architecture has been trained\n",
      "2020-01-20 23:05:18,317 - GraphDataset - INFO - OK ! Architecture is ready\n",
      "2020-01-20 23:05:18,319 - GraphDataset - INFO - I am going to generate a dataset of 2 points...\n",
      "2020-01-20 23:05:18,320 - GraphDataset - INFO - Only successful adversaries ? yes\n",
      "2020-01-20 23:05:18,322 - GraphDataset - INFO - Which attack ? BIM\n",
      "2020-01-20 23:05:18,324 - GraphDataset - INFO - We are going to use a saved dataset: adv_test_BIM_eps=0.05_50ex.pt (dataset size required = 2)\n",
      "2020-01-20 23:05:28,918 - Visualization PCA - INFO - Computed embeddings for (attack = All, eps=0.05, noise=0.0), number of sample = 2\n",
      "2020-01-20 23:05:28,919 - Visualization PCA - INFO - Attack type = BIM and epsilon = 0.1\n",
      "2020-01-20 23:05:28,920 - GraphDataset - INFO - Using source dataset svhn\n",
      "2020-01-20 23:05:28,921 - GraphDataset - INFO - Checking that the received architecture has been trained\n",
      "2020-01-20 23:05:28,921 - GraphDataset - INFO - OK ! Architecture is ready\n",
      "2020-01-20 23:05:28,924 - GraphDataset - INFO - I am going to generate a dataset of 2 points...\n",
      "2020-01-20 23:05:28,925 - GraphDataset - INFO - Only successful adversaries ? yes\n",
      "2020-01-20 23:05:28,926 - GraphDataset - INFO - Which attack ? BIM\n",
      "2020-01-20 23:05:28,928 - GraphDataset - INFO - We are going to use a saved dataset: adv_test_BIM_eps=0.1_50ex.pt (dataset size required = 2)\n",
      "2020-01-20 23:05:38,906 - Visualization PCA - INFO - Computed embeddings for (attack = All, eps=0.1, noise=0.0), number of sample = 2\n",
      "2020-01-20 23:05:38,907 - GraphDataset - INFO - Using source dataset svhn\n",
      "2020-01-20 23:05:38,907 - GraphDataset - INFO - Checking that the received architecture has been trained\n",
      "2020-01-20 23:05:38,907 - GraphDataset - INFO - OK ! Architecture is ready\n",
      "2020-01-20 23:05:38,908 - GraphDataset - INFO - I am going to generate a dataset of 2 points...\n",
      "2020-01-20 23:05:38,915 - GraphDataset - INFO - Only successful adversaries ? yes\n",
      "2020-01-20 23:05:38,917 - GraphDataset - INFO - Which attack ? DeepFool\n",
      "2020-01-20 23:05:38,919 - GraphDataset - INFO - We are going to use a saved dataset: adv_test_DeepFool_eps=1.0_50ex.pt (dataset size required = 2)\n",
      "2020-01-20 23:05:49,820 - Visualization PCA - INFO - Computed embeddings for (attack = All, eps=1, noise=0.0), number of sample = 2\n",
      "2020-01-20 23:05:49,820 - GraphDataset - INFO - Using source dataset svhn\n",
      "2020-01-20 23:05:49,821 - GraphDataset - INFO - Checking that the received architecture has been trained\n",
      "2020-01-20 23:05:49,822 - GraphDataset - INFO - OK ! Architecture is ready\n",
      "2020-01-20 23:05:49,822 - GraphDataset - INFO - I am going to generate a dataset of 2 points...\n",
      "2020-01-20 23:05:49,823 - GraphDataset - INFO - Only successful adversaries ? yes\n",
      "2020-01-20 23:05:49,828 - GraphDataset - INFO - Which attack ? CW\n",
      "2020-01-20 23:05:49,831 - GraphDataset - INFO - We are going to use a saved dataset: adv_test_CW_eps=1.0_50ex.pt (dataset size required = 2)\n",
      "2020-01-20 23:06:00,242 - Visualization PCA - INFO - Computed embeddings for (attack = All, eps=1, noise=0.0), number of sample = 2\n"
     ]
    }
   ],
   "source": [
    "clean_embeddings, noisy_embeddings, adv_embeddings, adv_embeddings_all, \\\n",
    "thresholds, all_noises, all_epsilons = get_all_embeddings(config)"
   ]
  },
  {
   "cell_type": "markdown",
   "metadata": {},
   "source": [
    "Add some parameters (for kernel)"
   ]
  },
  {
   "cell_type": "code",
   "execution_count": 57,
   "metadata": {},
   "outputs": [
    {
     "name": "stderr",
     "output_type": "stream",
     "text": [
      "2020-01-20 23:07:17,431 - Visualization PCA - INFO - Using kernel SlicedWasserstein with embeddings PersistentDiagram\n"
     ]
    }
   ],
   "source": [
    "logger.info(f\"Using kernel {config.kernel_type} with embeddings {config.embedding_type}\")\n",
    "\n",
    "if config.kernel_type == KernelType.RBF:\n",
    "    param_space = [\n",
    "        {'gamma': gamma}\n",
    "        for gamma in np.logspace(-6, -3, 10)\n",
    "    ]\n",
    "elif config.kernel_type == KernelType.SlicedWasserstein:\n",
    "    param_space = [\n",
    "        {'M': 20, 'sigma': 5 * 10 ** (-1)},\n",
    "    ]\n",
    "else:\n",
    "    raise NotImplementedError(f\"Unknown kernel {config.kernel_type}\")"
   ]
  },
  {
   "cell_type": "code",
   "execution_count": 58,
   "metadata": {},
   "outputs": [
    {
     "name": "stderr",
     "output_type": "stream",
     "text": [
      "/Users/m.goibert/Documents/Criteo/P2_TDA_Detection/TDA_for_adv_robustness/tda/embeddings/persistent_diagrams.py:67: RuntimeWarning: invalid value encountered in subtract\n",
      "  val = np.nan_to_num(np.asarray(v1) - np.asarray(v2))\n"
     ]
    },
    {
     "ename": "KeyboardInterrupt",
     "evalue": "",
     "output_type": "error",
     "traceback": [
      "\u001b[0;31m---------------------------------------------------------------------------\u001b[0m",
      "\u001b[0;31mKeyboardInterrupt\u001b[0m                         Traceback (most recent call last)",
      "\u001b[0;32m<ipython-input-58-539777fbb31b>\u001b[0m in \u001b[0;36m<module>\u001b[0;34m\u001b[0m\n\u001b[1;32m      5\u001b[0m     \u001b[0membeddings_in\u001b[0m\u001b[0;34m=\u001b[0m\u001b[0membedding_init\u001b[0m\u001b[0;34m,\u001b[0m\u001b[0;34m\u001b[0m\u001b[0;34m\u001b[0m\u001b[0m\n\u001b[1;32m      6\u001b[0m     \u001b[0membeddings_out\u001b[0m\u001b[0;34m=\u001b[0m\u001b[0;32mNone\u001b[0m\u001b[0;34m,\u001b[0m\u001b[0;34m\u001b[0m\u001b[0;34m\u001b[0m\u001b[0m\n\u001b[0;32m----> 7\u001b[0;31m     \u001b[0mparams\u001b[0m\u001b[0;34m=\u001b[0m\u001b[0mparam\u001b[0m\u001b[0;34m\u001b[0m\u001b[0;34m\u001b[0m\u001b[0m\n\u001b[0m\u001b[1;32m      8\u001b[0m     )\n\u001b[1;32m      9\u001b[0m \u001b[0mkpca\u001b[0m \u001b[0;34m=\u001b[0m \u001b[0mKernelPCA\u001b[0m\u001b[0;34m(\u001b[0m\u001b[0;36m2\u001b[0m\u001b[0;34m,\u001b[0m \u001b[0mkernel\u001b[0m\u001b[0;34m=\u001b[0m\u001b[0;34m\"precomputed\"\u001b[0m\u001b[0;34m)\u001b[0m\u001b[0;34m\u001b[0m\u001b[0;34m\u001b[0m\u001b[0m\n",
      "\u001b[0;32m~/Documents/Criteo/P2_TDA_Detection/TDA_for_adv_robustness/tda/embeddings/__init__.py\u001b[0m in \u001b[0;36mget_gram_matrix\u001b[0;34m(kernel_type, embeddings_in, embeddings_out, params)\u001b[0m\n\u001b[1;32m     99\u001b[0m                     \u001b[0membeddings_in\u001b[0m\u001b[0;34m[\u001b[0m\u001b[0mi\u001b[0m\u001b[0;34m]\u001b[0m\u001b[0;34m,\u001b[0m\u001b[0;34m\u001b[0m\u001b[0;34m\u001b[0m\u001b[0m\n\u001b[1;32m    100\u001b[0m                     \u001b[0membeddings_out\u001b[0m\u001b[0;34m[\u001b[0m\u001b[0mj\u001b[0m\u001b[0;34m]\u001b[0m\u001b[0;34m,\u001b[0m\u001b[0;34m\u001b[0m\u001b[0;34m\u001b[0m\u001b[0m\n\u001b[0;32m--> 101\u001b[0;31m                     M=params['M'])\n\u001b[0m\u001b[1;32m    102\u001b[0m                 \u001b[0mgram\u001b[0m\u001b[0;34m[\u001b[0m\u001b[0mi\u001b[0m\u001b[0;34m,\u001b[0m \u001b[0mj\u001b[0m\u001b[0;34m]\u001b[0m \u001b[0;34m=\u001b[0m \u001b[0mnp\u001b[0m\u001b[0;34m.\u001b[0m\u001b[0mexp\u001b[0m\u001b[0;34m(\u001b[0m\u001b[0;34m-\u001b[0m\u001b[0msw\u001b[0m \u001b[0;34m/\u001b[0m \u001b[0;34m(\u001b[0m\u001b[0;36m2\u001b[0m \u001b[0;34m*\u001b[0m \u001b[0mparams\u001b[0m\u001b[0;34m[\u001b[0m\u001b[0;34m'sigma'\u001b[0m\u001b[0;34m]\u001b[0m \u001b[0;34m**\u001b[0m \u001b[0;36m2\u001b[0m\u001b[0;34m)\u001b[0m\u001b[0;34m)\u001b[0m\u001b[0;34m\u001b[0m\u001b[0;34m\u001b[0m\u001b[0m\n\u001b[1;32m    103\u001b[0m             \u001b[0;32melse\u001b[0m\u001b[0;34m:\u001b[0m\u001b[0;34m\u001b[0m\u001b[0;34m\u001b[0m\u001b[0m\n",
      "\u001b[0;32m~/Documents/Criteo/P2_TDA_Detection/TDA_for_adv_robustness/tda/embeddings/persistent_diagrams.py\u001b[0m in \u001b[0;36msliced_wasserstein_kernel\u001b[0;34m(dgm1, dgm2, M)\u001b[0m\n\u001b[1;32m     61\u001b[0m     \u001b[0ms\u001b[0m \u001b[0;34m=\u001b[0m \u001b[0mnp\u001b[0m\u001b[0;34m.\u001b[0m\u001b[0mpi\u001b[0m \u001b[0;34m/\u001b[0m \u001b[0mM\u001b[0m\u001b[0;34m\u001b[0m\u001b[0;34m\u001b[0m\u001b[0m\n\u001b[1;32m     62\u001b[0m     \u001b[0;32mfor\u001b[0m \u001b[0mi\u001b[0m \u001b[0;32min\u001b[0m \u001b[0mrange\u001b[0m\u001b[0;34m(\u001b[0m\u001b[0mM\u001b[0m\u001b[0;34m)\u001b[0m\u001b[0;34m:\u001b[0m\u001b[0;34m\u001b[0m\u001b[0;34m\u001b[0m\u001b[0m\n\u001b[0;32m---> 63\u001b[0;31m         \u001b[0mv1\u001b[0m \u001b[0;34m=\u001b[0m \u001b[0;34m[\u001b[0m\u001b[0mnp\u001b[0m\u001b[0;34m.\u001b[0m\u001b[0mdot\u001b[0m\u001b[0;34m(\u001b[0m\u001b[0mpt1\u001b[0m\u001b[0;34m,\u001b[0m \u001b[0;34m[\u001b[0m\u001b[0mtheta\u001b[0m\u001b[0;34m,\u001b[0m \u001b[0mtheta\u001b[0m\u001b[0;34m]\u001b[0m\u001b[0;34m)\u001b[0m \u001b[0;32mfor\u001b[0m \u001b[0mpt1\u001b[0m \u001b[0;32min\u001b[0m \u001b[0mvec1\u001b[0m\u001b[0;34m]\u001b[0m\u001b[0;34m\u001b[0m\u001b[0;34m\u001b[0m\u001b[0m\n\u001b[0m\u001b[1;32m     64\u001b[0m         \u001b[0mv2\u001b[0m \u001b[0;34m=\u001b[0m \u001b[0;34m[\u001b[0m\u001b[0mnp\u001b[0m\u001b[0;34m.\u001b[0m\u001b[0mdot\u001b[0m\u001b[0;34m(\u001b[0m\u001b[0mpt2\u001b[0m\u001b[0;34m,\u001b[0m \u001b[0;34m[\u001b[0m\u001b[0mtheta\u001b[0m\u001b[0;34m,\u001b[0m \u001b[0mtheta\u001b[0m\u001b[0;34m]\u001b[0m\u001b[0;34m)\u001b[0m \u001b[0;32mfor\u001b[0m \u001b[0mpt2\u001b[0m \u001b[0;32min\u001b[0m \u001b[0mvec2\u001b[0m\u001b[0;34m]\u001b[0m\u001b[0;34m\u001b[0m\u001b[0;34m\u001b[0m\u001b[0m\n\u001b[1;32m     65\u001b[0m         \u001b[0mv1\u001b[0m\u001b[0;34m.\u001b[0m\u001b[0msort\u001b[0m\u001b[0;34m(\u001b[0m\u001b[0;34m)\u001b[0m\u001b[0;34m\u001b[0m\u001b[0;34m\u001b[0m\u001b[0m\n",
      "\u001b[0;32m~/Documents/Criteo/P2_TDA_Detection/TDA_for_adv_robustness/tda/embeddings/persistent_diagrams.py\u001b[0m in \u001b[0;36m<listcomp>\u001b[0;34m(.0)\u001b[0m\n\u001b[1;32m     61\u001b[0m     \u001b[0ms\u001b[0m \u001b[0;34m=\u001b[0m \u001b[0mnp\u001b[0m\u001b[0;34m.\u001b[0m\u001b[0mpi\u001b[0m \u001b[0;34m/\u001b[0m \u001b[0mM\u001b[0m\u001b[0;34m\u001b[0m\u001b[0;34m\u001b[0m\u001b[0m\n\u001b[1;32m     62\u001b[0m     \u001b[0;32mfor\u001b[0m \u001b[0mi\u001b[0m \u001b[0;32min\u001b[0m \u001b[0mrange\u001b[0m\u001b[0;34m(\u001b[0m\u001b[0mM\u001b[0m\u001b[0;34m)\u001b[0m\u001b[0;34m:\u001b[0m\u001b[0;34m\u001b[0m\u001b[0;34m\u001b[0m\u001b[0m\n\u001b[0;32m---> 63\u001b[0;31m         \u001b[0mv1\u001b[0m \u001b[0;34m=\u001b[0m \u001b[0;34m[\u001b[0m\u001b[0mnp\u001b[0m\u001b[0;34m.\u001b[0m\u001b[0mdot\u001b[0m\u001b[0;34m(\u001b[0m\u001b[0mpt1\u001b[0m\u001b[0;34m,\u001b[0m \u001b[0;34m[\u001b[0m\u001b[0mtheta\u001b[0m\u001b[0;34m,\u001b[0m \u001b[0mtheta\u001b[0m\u001b[0;34m]\u001b[0m\u001b[0;34m)\u001b[0m \u001b[0;32mfor\u001b[0m \u001b[0mpt1\u001b[0m \u001b[0;32min\u001b[0m \u001b[0mvec1\u001b[0m\u001b[0;34m]\u001b[0m\u001b[0;34m\u001b[0m\u001b[0;34m\u001b[0m\u001b[0m\n\u001b[0m\u001b[1;32m     64\u001b[0m         \u001b[0mv2\u001b[0m \u001b[0;34m=\u001b[0m \u001b[0;34m[\u001b[0m\u001b[0mnp\u001b[0m\u001b[0;34m.\u001b[0m\u001b[0mdot\u001b[0m\u001b[0;34m(\u001b[0m\u001b[0mpt2\u001b[0m\u001b[0;34m,\u001b[0m \u001b[0;34m[\u001b[0m\u001b[0mtheta\u001b[0m\u001b[0;34m,\u001b[0m \u001b[0mtheta\u001b[0m\u001b[0;34m]\u001b[0m\u001b[0;34m)\u001b[0m \u001b[0;32mfor\u001b[0m \u001b[0mpt2\u001b[0m \u001b[0;32min\u001b[0m \u001b[0mvec2\u001b[0m\u001b[0;34m]\u001b[0m\u001b[0;34m\u001b[0m\u001b[0;34m\u001b[0m\u001b[0m\n\u001b[1;32m     65\u001b[0m         \u001b[0mv1\u001b[0m\u001b[0;34m.\u001b[0m\u001b[0msort\u001b[0m\u001b[0;34m(\u001b[0m\u001b[0;34m)\u001b[0m\u001b[0;34m\u001b[0m\u001b[0;34m\u001b[0m\u001b[0m\n",
      "\u001b[0;32m<__array_function__ internals>\u001b[0m in \u001b[0;36mdot\u001b[0;34m(*args, **kwargs)\u001b[0m\n",
      "\u001b[0;31mKeyboardInterrupt\u001b[0m: "
     ]
    }
   ],
   "source": [
    "embedding_init = clean_embeddings + noisy_embeddings + adv_embeddings_all\n",
    "for param in param_space:\n",
    "    gram_matrix = get_gram_matrix(\n",
    "    kernel_type=config.kernel_type,\n",
    "    embeddings_in=embedding_init,\n",
    "    embeddings_out=None,\n",
    "    params=param\n",
    "    )\n",
    "kpca = KernelPCA(2, kernel=\"precomputed\")\n",
    "transform_input = kpca.fit_transform(gram_matrix)"
   ]
  },
  {
   "cell_type": "markdown",
   "metadata": {},
   "source": [
    "### Plotting"
   ]
  },
  {
   "cell_type": "code",
   "execution_count": 49,
   "metadata": {},
   "outputs": [],
   "source": [
    "binary_path = os.path.dirname(os.path.abspath(''))\n",
    "binary_path_split = pathlib.Path(binary_path)\n",
    "directory = str(pathlib.Path(*binary_path_split.parts[:-1])) + \"/tda/plots/visualization/kernel_pca/\" + str(config.architecture)\n",
    "if not os.path.exists(directory):\n",
    "    os.makedirs(directory)\n",
    "filename = directory + f\"/{config.attack_type}.png\"\n",
    "plt.style.use('seaborn-dark')"
   ]
  },
  {
   "cell_type": "code",
   "execution_count": 51,
   "metadata": {},
   "outputs": [
    {
     "name": "stderr",
     "output_type": "stream",
     "text": [
      "2020-01-20 22:43:00,434 - Visualization PCA - INFO - Labels = ['Clean', 'Clean', 'Noisy 0.025', 'Noisy 0.025', 'Noisy 0.05', 'Noisy 0.05', 'Noisy 0.1', 'Noisy 0.1', 'Adv FGSM 0.025', 'Adv FGSM 0.025', 'Adv FGSM 0.05', 'Adv FGSM 0.05', 'Adv FGSM 0.1', 'Adv FGSM 0.1']\n"
     ]
    }
   ],
   "source": [
    "labels = len(clean_embeddings)*list([\"Clean\"]) #+ len(noisy_embeddings)*list([\"Noisy\"])\n",
    "for noise in all_noises:\n",
    "    labels += (len(noisy_embeddings)//len(all_noises))*list([f\"Noisy {noise}\"])\n",
    "if config.attack_type != \"All\":\n",
    "    for epsilon in all_epsilons:\n",
    "        labels += len(adv_embeddings[epsilon])*list([f\"Adv {config.attack_type} {epsilon}\"])\n",
    "else:\n",
    "    for att in [\"FGSM\", \"BIM\", \"DeepFool\", \"CW\"]:\n",
    "        if att in [\"FGSM\", \"BIM\"]:\n",
    "            for epsilon in all_epsilons:\n",
    "                labels += len(adv_embeddings[att][epsilon])*list([f\"Adv {att} {epsilon}\"])\n",
    "        else:\n",
    "            labels += len(adv_embeddings[att][1])*list([f\"Adv {att} {1}\"])\n",
    "logger.info(f\"Labels = {labels}\")"
   ]
  },
  {
   "cell_type": "code",
   "execution_count": 52,
   "metadata": {},
   "outputs": [],
   "source": [
    "le = len(all_epsilons)\n",
    "if config.attack_type == \"FGSM\":\n",
    "    pal = sns.color_palette([\"#0F0F0F\", \"#C9C9C9\", \"#A0A0A0\", \"#757575\"] + sns.color_palette(\"Blues\", le))\n",
    "elif config.attack_type == \"BIM\":\n",
    "    pal = sns.color_palette([\"#0F0F0F\", \"#A0A0A0\"] + sns.color_palette(\"Greens\", le))\n",
    "elif config.attack_type == \"DeepFool\":\n",
    "    pal = sns.color_palette([\"#0F0F0F\", \"#A0A0A0\", \"#FEB307\"])\n",
    "elif config.attack_type == \"CW\":\n",
    "    pal = sns.color_palette([\"#0F0F0F\", \"#A0A0A0\", \"#C50000\"])\n",
    "else:\n",
    "    pal = sns.color_palette([\"#0F0F0F\", \"#A0A0A0\"] + sns.color_palette(\"Blues\", le) + sns.color_palette(\"Greens\", le) + [\"#FEB307\"] + [\"#C50000\"])"
   ]
  },
  {
   "cell_type": "code",
   "execution_count": 53,
   "metadata": {},
   "outputs": [
    {
     "data": {
      "image/png": "[encoded data removed]",
      "text/plain": [
       "<Figure size 432x288 with 1 Axes>"
      ]
     },
     "metadata": {},
     "output_type": "display_data"
    },
    {
     "name": "stderr",
     "output_type": "stream",
     "text": [
      "2020-01-20 22:44:05,563 - Visualization PCA - INFO - Closing figure\n"
     ]
    }
   ],
   "source": [
    "p = sns.scatterplot(x=[500*item[0] for item in transform_input], y=[500*item[1] for item in transform_input],\n",
    "    hue=labels, palette=pal, alpha=0.8)\n",
    "#plt.savefig(filename, dpi=600)\n",
    "#plt.clf()\n",
    "plt.show()\n",
    "logger.info(f\"Closing figure\")"
   ]
  },
  {
   "cell_type": "code",
   "execution_count": null,
   "metadata": {},
   "outputs": [],
   "source": [
    "if config.attack_type == \"All\":\n",
    "    for att in [\"FGSM\", \"BIM\", \"DeepFool\", \"CW\"]:\n",
    "        clean_noisy_end = 2*config.dataset_size\n",
    "        labels2 = len(clean_embeddings)*list([\"Clean\"]) + len(noisy_embeddings)*list([\"Noisy\"])\n",
    "        filename2 = directory + f\"/{config.attack_type}_viz_{att}.png\"\n",
    "        if att == \"FGSM\":\n",
    "            fgsm_end = clean_noisy_end + len(adv_embeddings[att])*config.dataset_size\n",
    "            other_transform_input = transform_input[0:fgsm_end]\n",
    "            pal2 = sns.color_palette([\"#0F0F0F\", \"#A0A0A0\"] + sns.color_palette(\"Blues\", le))\n",
    "            for epsilon in all_epsilons:\n",
    "                labels2 += len(adv_embeddings[att][epsilon])*list([f\"Adv {att} {epsilon}\"])\n",
    "        elif att == \"BIM\":\n",
    "            bim_end = fgsm_end + len(adv_embeddings[att])*config.dataset_size\n",
    "            other_transform_input = list(transform_input[:clean_noisy_end]) + list(transform_input[fgsm_end:bim_end])\n",
    "            pal2 = sns.color_palette([\"#0F0F0F\", \"#A0A0A0\"] + sns.color_palette(\"Greens\", le))\n",
    "            for epsilon in all_epsilons:\n",
    "                labels2 += len(adv_embeddings[att][epsilon])*list([f\"Adv {att} {epsilon}\"])\n",
    "        elif att == \"DeepFool\":\n",
    "            deepfool_end = bim_end + len(adv_embeddings[att])*config.dataset_size\n",
    "            other_transform_input = list(transform_input[:clean_noisy_end]) + list(transform_input[bim_end:deepfool_end])\n",
    "            pal2 = sns.color_palette([\"#0F0F0F\", \"#A0A0A0\", \"#FEB307\"])\n",
    "            labels2 += len(adv_embeddings[att][1])*list([f\"Adv {att} {1}\"])\n",
    "        elif att == \"CW\":\n",
    "            other_transform_input = list(transform_input[:clean_noisy_end]) + list(transform_input[deepfool_end:])\n",
    "            pal2 = sns.color_palette([\"#0F0F0F\", \"#A0A0A0\", \"#C50000\"])\n",
    "            labels2 += len(adv_embeddings[att][1])*list([f\"Adv {att} {1}\"])\n",
    "        p2 = sns.scatterplot(x=[item[0] for item in other_transform_input], y=[item[1] for item in other_transform_input],\n",
    "            hue=labels2, palette=pal2, alpha=0.8)\n",
    "        #plt.savefig(filename2, dpi=600)\n",
    "        #plt.clf()\n",
    "        plt.show()\n",
    "        logger.info(f\"Closing figure\")"
   ]
  }
 ],
 "metadata": {
  "kernelspec": {
   "display_name": "Python 3",
   "language": "python",
   "name": "python3"
  },
  "language_info": {
   "codemirror_mode": {
    "name": "ipython",
    "version": 3
   },
   "file_extension": ".py",
   "mimetype": "text/x-python",
   "name": "python",
   "nbconvert_exporter": "python",
   "pygments_lexer": "ipython3",
   "version": "3.7.4"
  }
 },
 "nbformat": 4,
 "nbformat_minor": 2
}

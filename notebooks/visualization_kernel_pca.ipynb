{
 "cells": [
  {
   "cell_type": "code",
   "execution_count": null,
   "metadata": {},
   "outputs": [],
   "source": [
    "from tda.experiments.visualization.kernel_pca_binary import *\n",
    "from tda.embeddings import EmbeddingType, KernelType\n",
    "from tda.models.architectures import mnist_mlp, mnist_lenet, svhn_lenet\n",
    "from tda.logging import get_logger\n",
    "import copy"
   ]
  },
  {
   "cell_type": "code",
   "execution_count": null,
   "metadata": {},
   "outputs": [],
   "source": [
    "config = Config(\n",
    "    embedding_type=EmbeddingType.PersistentDiagram,\n",
    "    kernel_type=KernelType.SlicedWasserstein,\n",
    "    thresholds='0.4_0.03_0.4_0.03_0_0_0',\n",
    "    epochs=200,\n",
    "    dataset=\"SVHN\",\n",
    "    architecture=svhn_lenet.name,\n",
    "    train_noise=0.0,\n",
    "    dataset_size=2,\n",
    "    successful_adv=1,\n",
    "    attack_type=\"All\",\n",
    "    identical_train_samples=1,\n",
    "    noise=0.0,\n",
    "    \n",
    "    num_iter=1,\n",
    "    height=1,\n",
    "    hash_size=1,\n",
    "    node_labels=0,\n",
    "    steps=1\n",
    ")"
   ]
  },
  {
   "cell_type": "markdown",
   "metadata": {},
   "source": [
    "#### Get embeddings"
   ]
  },
  {
   "cell_type": "code",
   "execution_count": null,
   "metadata": {
    "scrolled": true
   },
   "outputs": [],
   "source": [
    "clean_embeddings, noisy_embeddings, adv_embeddings, adv_embeddings_all, \\\n",
    "thresholds, all_noises, all_epsilons = get_all_embeddings(config)"
   ]
  },
  {
   "cell_type": "markdown",
   "metadata": {},
   "source": [
    "Add some parameters (for kernel)"
   ]
  },
  {
   "cell_type": "code",
   "execution_count": null,
   "metadata": {},
   "outputs": [],
   "source": [
    "logger.info(f\"Using kernel {config.kernel_type} with embeddings {config.embedding_type}\")\n",
    "\n",
    "if config.kernel_type == KernelType.RBF:  \n",
    "    param_space = [\n",
    "        {'gamma': gamma}\n",
    "        for gamma in np.logspace(-6, -3, 10)\n",
    "    ]\n",
    "elif config.kernel_type == KernelType.SlicedWasserstein:\n",
    "    param_space = [\n",
    "        {'M': 20, 'sigma': 5 * 10 ** (-1)},\n",
    "    ]\n",
    "else:\n",
    "    raise NotImplementedError(f\"Unknown kernel {config.kernel_type}\")"
   ]
  },
  {
   "cell_type": "code",
   "execution_count": null,
   "metadata": {},
   "outputs": [],
   "source": [
    "embedding_init = clean_embeddings + noisy_embeddings + adv_embeddings_all\n",
    "for param in param_space:\n",
    "    gram_matrix = get_gram_matrix(\n",
    "    kernel_type=config.kernel_type,\n",
    "    embeddings_in=embedding_init,\n",
    "    embeddings_out=None,\n",
    "    params=param\n",
    "    )\n",
    "kpca = KernelPCA(2, kernel=\"precomputed\")\n",
    "transform_input = kpca.fit_transform(gram_matrix)"
   ]
  },
  {
   "cell_type": "markdown",
   "metadata": {},
   "source": [
    "### Plotting"
   ]
  },
  {
   "cell_type": "code",
   "execution_count": null,
   "metadata": {},
   "outputs": [],
   "source": [
    "binary_path = os.path.dirname(os.path.abspath(''))\n",
    "binary_path_split = pathlib.Path(binary_path)\n",
    "directory = str(pathlib.Path(*binary_path_split.parts[:-1])) + \"/tda/plots/visualization/kernel_pca/\" + str(config.architecture)\n",
    "if not os.path.exists(directory):\n",
    "    os.makedirs(directory)\n",
    "filename = directory + f\"/{config.attack_type}.png\"\n",
    "plt.style.use('seaborn-dark')"
   ]
  },
  {
   "cell_type": "code",
   "execution_count": null,
   "metadata": {},
   "outputs": [],
   "source": [
    "labels = len(clean_embeddings)*list([\"Clean\"]) #+ len(noisy_embeddings)*list([\"Noisy\"])\n",
    "for noise in all_noises:\n",
    "    labels += (len(noisy_embeddings)//len(all_noises))*list([f\"Noisy {noise}\"])\n",
    "if config.attack_type != \"All\":\n",
    "    for epsilon in all_epsilons:\n",
    "        labels += len(adv_embeddings[epsilon])*list([f\"Adv {config.attack_type} {epsilon}\"])\n",
    "else:\n",
    "    for att in [\"FGSM\", \"BIM\", \"DeepFool\", \"CW\"]:\n",
    "        if att in [\"FGSM\", \"BIM\"]:\n",
    "            for epsilon in all_epsilons:\n",
    "                labels += len(adv_embeddings[att][epsilon])*list([f\"Adv {att} {epsilon}\"])\n",
    "        else:\n",
    "            labels += len(adv_embeddings[att][1])*list([f\"Adv {att} {1}\"])"
   ]
  },
  {
   "cell_type": "code",
   "execution_count": null,
   "metadata": {},
   "outputs": [],
   "source": [
    "le = len(all_epsilons)\n",
    "if config.attack_type == \"FGSM\":\n",
    "    pal = sns.color_palette([\"#0F0F0F\", \"#C9C9C9\", \"#A0A0A0\", \"#757575\"] + sns.color_palette(\"Blues\", le))\n",
    "elif config.attack_type == \"BIM\":\n",
    "    pal = sns.color_palette([\"#0F0F0F\", \"#C9C9C9\", \"#A0A0A0\", \"#757575\"] + sns.color_palette(\"Greens\", le))\n",
    "elif config.attack_type == \"DeepFool\":\n",
    "    pal = sns.color_palette([\"#0F0F0F\", \"#C9C9C9\", \"#A0A0A0\", \"#757575\", \"#FEB307\"])\n",
    "elif config.attack_type == \"CW\":\n",
    "    pal = sns.color_palette([\"#0F0F0F\", \"#C9C9C9\", \"#A0A0A0\", \"#757575\", \"#C50000\"])\n",
    "else:\n",
    "    pal = sns.color_palette([\"#0F0F0F\", \"#C9C9C9\", \"#A0A0A0\", \"#757575\"] + sns.color_palette(\"Blues\", le) + sns.color_palette(\"Greens\", le) + [\"#FEB307\"] + [\"#C50000\"])"
   ]
  },
  {
   "cell_type": "code",
   "execution_count": null,
   "metadata": {},
   "outputs": [],
   "source": [
    "logger.info(f\"Plotting figure...\")\n",
    "p = sns.scatterplot(x=[1000*item[0] for item in transform_input], y=[1000*item[1] for item in transform_input],\n",
    "    hue=labels, palette=pal, alpha=0.8)\n",
    "#plt.savefig(filename, dpi=600)\n",
    "#plt.clf()\n",
    "plt.show()\n",
    "logger.info(f\"Closing figure\")"
   ]
  },
  {
   "cell_type": "code",
   "execution_count": null,
   "metadata": {},
   "outputs": [],
   "source": [
    "labs = len(clean_embeddings)*list([\"Clean\"]) #+ len(noisy_embeddings)*list([\"Noisy\"])\n",
    "for noise in all_noises:\n",
    "    labs += (len(noisy_embeddings)//len(all_noises))*list([f\"Noisy {noise}\"])\n",
    "\n",
    "if config.attack_type == \"All\":\n",
    "    for att in [\"FGSM\", \"BIM\", \"DeepFool\", \"CW\"]:\n",
    "        clean_noisy_end = len(clean_embeddings) + len(noisy_embeddings)\n",
    "        filename2 = directory + f\"/{config.attack_type}_viz_{att}.png\"\n",
    "        if att == \"FGSM\":\n",
    "            fgsm_end = clean_noisy_end + len(adv_embeddings[att])*config.dataset_size\n",
    "            other_transform_input = transform_input[0:fgsm_end]\n",
    "            pal2 = sns.color_palette([\"#0F0F0F\", \"#C9C9C9\", \"#A0A0A0\", \"#757575\"] + sns.color_palette(\"Blues\", le))\n",
    "            labels2 = copy.deepcopy(labs)\n",
    "            for epsilon in all_epsilons:\n",
    "                labels2 += len(adv_embeddings[att][epsilon])*list([f\"Adv {att} {epsilon}\"])\n",
    "        elif att == \"BIM\":\n",
    "            bim_end = fgsm_end + len(adv_embeddings[att])*config.dataset_size\n",
    "            other_transform_input = list(transform_input[:clean_noisy_end]) + list(transform_input[fgsm_end:bim_end])\n",
    "            pal2 = sns.color_palette([\"#0F0F0F\", \"#C9C9C9\", \"#A0A0A0\", \"#757575\"] + sns.color_palette(\"Greens\", le))\n",
    "            labels2 = copy.deepcopy(labs)\n",
    "            for epsilon in all_epsilons:\n",
    "                labels2 += len(adv_embeddings[att][epsilon])*list([f\"Adv {att} {epsilon}\"])\n",
    "        elif att == \"DeepFool\":\n",
    "            deepfool_end = bim_end + len(adv_embeddings[att])*config.dataset_size\n",
    "            other_transform_input = list(transform_input[:clean_noisy_end]) + list(transform_input[bim_end:deepfool_end])\n",
    "            pal2 = sns.color_palette([\"#0F0F0F\", \"#C9C9C9\", \"#A0A0A0\", \"#757575\", \"#FEB307\"])\n",
    "            labels2 = copy.deepcopy(labs) + len(adv_embeddings[att][1])*list([f\"Adv {att} {1}\"])\n",
    "        elif att == \"CW\":\n",
    "            other_transform_input = list(transform_input[:clean_noisy_end]) + list(transform_input[deepfool_end:])\n",
    "            pal2 = sns.color_palette([\"#0F0F0F\", \"#C9C9C9\", \"#A0A0A0\", \"#757575\", \"#C50000\"])\n",
    "            labels2 = copy.deepcopy(labs) + len(adv_embeddings[att][1])*list([f\"Adv {att} {1}\"])\n",
    "        logger.info(f\"Plotting figure for all attacks...\")\n",
    "        p2 = sns.scatterplot(x=[1000*item[0] for item in other_transform_input], y=[1000*item[1] for item in other_transform_input],\n",
    "            hue=labels2, palette=pal2, alpha=0.8)\n",
    "        #plt.savefig(filename2, dpi=600)\n",
    "        #plt.clf()\n",
    "        plt.show()\n",
    "        logger.info(f\"Closing figure\")"
   ]
  },
  {
   "cell_type": "code",
   "execution_count": null,
   "metadata": {},
   "outputs": [],
   "source": []
  }
 ],
 "metadata": {
  "kernelspec": {
   "display_name": "Python 3",
   "language": "python",
   "name": "python3"
  },
  "language_info": {
   "codemirror_mode": {
    "name": "ipython",
    "version": 3
   },
   "file_extension": ".py",
   "mimetype": "text/x-python",
   "name": "python",
   "nbconvert_exporter": "python",
   "pygments_lexer": "ipython3",
   "version": "3.6.10"
  }
 },
 "nbformat": 4,
 "nbformat_minor": 2
}

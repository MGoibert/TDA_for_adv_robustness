{
 "cells": [
  {
   "cell_type": "code",
   "execution_count": null,
   "metadata": {},
   "outputs": [],
   "source": [
    "%matplotlib inline\n",
    "from matplotlib import pyplot as plt"
   ]
  },
  {
   "cell_type": "code",
   "execution_count": null,
   "metadata": {},
   "outputs": [],
   "source": [
    "import matplotlib\n",
    "matplotlib.rcParams['figure.figsize'] = (20.0, 20.0)"
   ]
  },
  {
   "cell_type": "code",
   "execution_count": null,
   "metadata": {},
   "outputs": [],
   "source": [
    "from tda.experiments.mahalanobis.mahalanobis_binary import Config, run_experiment, get_feature_datasets, evaluate_detector, \\\n",
    "    compute_means_and_sigmas_inv, get_config, logger\n",
    "from tda.models.architectures import mnist_lenet, get_architecture, mnist_mlp\n",
    "from tda.models.datasets import Dataset\n",
    "from tda.models import get_deep_model"
   ]
  },
  {
   "cell_type": "code",
   "execution_count": null,
   "metadata": {},
   "outputs": [],
   "source": [
    "config = Config(\n",
    "    # Number of epochs for the model\n",
    "    epochs = 50,\n",
    "    # Dataset we consider (MNIST, SVHN)\n",
    "    dataset = \"MNIST\",\n",
    "    # Name of the architecture\n",
    "    architecture = mnist_lenet.name,\n",
    "    # Size of the dataset used for the experiment\n",
    "    dataset_size = 1000,\n",
    "    # Type of attack (FGSM, BIM, CW)\n",
    "    attack_type = \"FGSM\",\n",
    "    # Epsilon for the preprocessing step (see the paper)\n",
    "    preproc_epsilon = 0.0,\n",
    "    # Noise to consider for the noisy samples\n",
    "    noise = 0.0,\n",
    "    # Number of sample per class to estimate mu_class and sigma_class\n",
    "    number_of_samples_for_mu_sigma = 100,\n",
    "    # Should we filter out non successful_adversaries\n",
    "    successful_adv = 0\n",
    ")"
   ]
  },
  {
   "cell_type": "code",
   "execution_count": null,
   "metadata": {
    "scrolled": false
   },
   "outputs": [],
   "source": [
    "dataset = Dataset(name=config.dataset)\n",
    "\n",
    "architecture = get_deep_model(\n",
    "    num_epochs=config.epochs,\n",
    "    dataset=dataset,\n",
    "    architecture=get_architecture(config.architecture),\n",
    "    train_noise=0.0\n",
    ")\n",
    "\n",
    "mean_per_class, sigma_per_class_inv = compute_means_and_sigmas_inv(\n",
    "    config=config,\n",
    "    dataset=dataset,\n",
    "    architecture=architecture\n",
    ")"
   ]
  },
  {
   "cell_type": "code",
   "execution_count": null,
   "metadata": {},
   "outputs": [],
   "source": [
    "fig, axs = plt.subplots(len(sigma_per_class_inv)//2+1, 2)\n",
    "i = 0\n",
    "\n",
    "for layer_idx in sigma_per_class_inv:\n",
    "    px = i // 2\n",
    "    py = i % 2\n",
    "    axs[px][py].imshow(sigma_per_class_inv[layer_idx])\n",
    "    i+=1"
   ]
  },
  {
   "cell_type": "code",
   "execution_count": null,
   "metadata": {
    "scrolled": false
   },
   "outputs": [],
   "source": [
    "datasets = dict()\n",
    "for epsilon in [0.01, 0.025, 0.05, 0.1, 0.4, 1.0]:\n",
    "    ds_train, ds_test = get_feature_datasets(\n",
    "        config=config,\n",
    "        epsilon=epsilon,\n",
    "        dataset=dataset,\n",
    "        architecture=architecture,\n",
    "        mean_per_class=mean_per_class,\n",
    "        sigma_per_class_inv=sigma_per_class_inv\n",
    "    )\n",
    "    \n",
    "    datasets[epsilon] = (ds_train, ds_test)"
   ]
  },
  {
   "cell_type": "code",
   "execution_count": null,
   "metadata": {},
   "outputs": [],
   "source": [
    "#datasets = dict()\n",
    "#for num_iter in [1, 5, 10, 20, 30, 50]:\n",
    "#    ds_train, ds_test = get_feature_datasets(\n",
    "#        config=config,\n",
    "#        epsilon=1.0,\n",
    "#        num_iter=num_iter,\n",
    "#        dataset=dataset,\n",
    "#        architecture=architecture,\n",
    "#        mean_per_class=mean_per_class,\n",
    "#        sigma_per_class_inv=sigma_per_class_inv\n",
    "#    )\n",
    "#    \n",
    "#    datasets[num_iter] = (ds_train, ds_test)"
   ]
  },
  {
   "cell_type": "code",
   "execution_count": null,
   "metadata": {},
   "outputs": [],
   "source": [
    "datasets[1.0][0]"
   ]
  },
  {
   "cell_type": "markdown",
   "metadata": {},
   "source": [
    "## Supervised Learning"
   ]
  },
  {
   "cell_type": "code",
   "execution_count": null,
   "metadata": {},
   "outputs": [],
   "source": [
    "from sklearn.linear_model import LogisticRegression\n",
    "from sklearn.preprocessing import StandardScaler\n",
    "from sklearn.svm import SVC\n",
    "from sklearn.metrics import roc_auc_score\n",
    "import numpy as np\n",
    "\n",
    "scaler = StandardScaler()\n",
    "\n",
    "aucs = dict()\n",
    "coefs = dict() \n",
    "\n",
    "for key in datasets:\n",
    "    \n",
    "    ds_train, ds_test = datasets[key]\n",
    "    \n",
    "    typ_detector = \"LR\"\n",
    "    \n",
    "    if typ_detector == \"LR\":\n",
    "        detector = LogisticRegression(\n",
    "        fit_intercept=True,\n",
    "        verbose=0,\n",
    "        tol=1e-9,\n",
    "        max_iter=100000,\n",
    "        solver='lbfgs'\n",
    "    )\n",
    "    elif typ_detector == \"SVM\":\n",
    "        detector = SVC(\n",
    "            tol=1e-5,\n",
    "            C=1.0,\n",
    "            kernel=\"rbf\",\n",
    "            verbose=False,\n",
    "            max_iter=10000,\n",
    "            gamma='scale'\n",
    "        )\n",
    "    else:\n",
    "        raise NotImplementedError(f\"Unknown detector method {typ_detector}\")\n",
    "        \n",
    "    ds_train_scaled = scaler.fit_transform(ds_train.iloc[:, :-3])\n",
    "\n",
    "    detector.fit(X=ds_train_scaled, y=ds_train.iloc[:, -3])\n",
    "    #coef = list(detector.coef_.flatten())\n",
    "    #logger.info(f\"Coefs of detector {coef}\")\n",
    "    #logger.info(f\"Intercept of detector {detector.intercept_}\")\n",
    "    \n",
    "    ds_test_scaled = scaler.transform(ds_train.iloc[:, :-3])\n",
    "    \n",
    "    train_predictions = detector.predict_proba(X=ds_train_scaled)[:, 1]\n",
    "    \n",
    "    test_predictions = detector.predict_proba(X=ds_test_scaled)[:, 1]\n",
    "    logger.info(f\"Average prediction {np.mean(test_predictions)}\")\n",
    "    auc = roc_auc_score(y_true=ds_test.iloc[:, -3], y_score=test_predictions)\n",
    "    \n",
    "    logger.info(f\"AUC for {key} => {auc}\")\n",
    "\n",
    "    aucs[key] = auc\n",
    "    #coefs[key] = coef\n",
    "    \n",
    "logger.info(f\"All AUCS are {aucs}\")"
   ]
  },
  {
   "cell_type": "code",
   "execution_count": null,
   "metadata": {},
   "outputs": [],
   "source": [
    "linfs = dict()\n",
    "l2s = dict()\n",
    "\n",
    "for key in datasets:\n",
    "    linf_mean_train = datasets[key][0].query(\"label > 0\").linf_norm.mean()\n",
    "    l2_mean_train = datasets[key][0].query(\"label > 0\").l2_norm.mean()\n",
    "    \n",
    "    linfs[key] = linf_mean_train\n",
    "    l2s[key] = l2_mean_train"
   ]
  },
  {
   "cell_type": "code",
   "execution_count": null,
   "metadata": {
    "scrolled": false
   },
   "outputs": [],
   "source": [
    "keys = sorted(aucs.keys())\n",
    "matplotlib.rcParams['figure.figsize'] = (10.0, 10.0)\n",
    "\n",
    "fig, ax1 = plt.subplots()\n",
    "\n",
    "ax1.set_xlabel('epsilon')\n",
    "ax1.set_ylabel('AUC & l_inf norm')\n",
    "#plt.xscale('log')\n",
    "ax1.plot(\n",
    "    keys, [aucs[k] for k in keys], label=\"Mahalanobis\"\n",
    ")\n",
    "ax1.plot(\n",
    "    keys, [linfs[k] for k in keys], label=\"l_inf\"\n",
    ")\n",
    "\n",
    "ax2 = ax1.twinx()\n",
    "ax2.set_ylabel(\"l_2 norm\")\n",
    "\n",
    "ax2.plot(\n",
    "    keys, [l2s[k] for k in keys], label=\"l_2\", color=\"green\"\n",
    ")\n",
    "\n",
    "ax1.legend()\n",
    "ax2.legend()"
   ]
  },
  {
   "cell_type": "markdown",
   "metadata": {},
   "source": [
    "## Unsupervised Learning"
   ]
  },
  {
   "cell_type": "code",
   "execution_count": null,
   "metadata": {},
   "outputs": [],
   "source": [
    "from sklearn.svm import OneClassSVM\n",
    "\n",
    "scaler = StandardScaler()\n",
    "\n",
    "aucs = dict()\n",
    "coefs = dict() \n",
    "\n",
    "for key in datasets:\n",
    "    \n",
    "    ds_train, ds_test = datasets[key]\n",
    "    \n",
    "    detector = OneClassSVM(\n",
    "        tol=1e-5,\n",
    "        kernel='rbf',\n",
    "        nu=1e-4\n",
    "    )\n",
    "        \n",
    "    ds_train_scaled = scaler.fit_transform(ds_train.iloc[:, :-3])\n",
    "\n",
    "    detector.fit(X=ds_train_scaled)\n",
    "    #coef = list(detector.coef_.flatten())\n",
    "    #logger.info(f\"Coefs of detector {coef}\")\n",
    "    #logger.info(f\"Intercept of detector {detector.intercept_}\")\n",
    "    \n",
    "    ds_test_scaled = scaler.transform(ds_train.iloc[:, :-3])\n",
    "    \n",
    "    train_predictions = detector.decision_function(X=ds_train_scaled)\n",
    "    \n",
    "    test_predictions = detector.decision_function(X=ds_test_scaled)\n",
    "    logger.info(f\"Average prediction {np.mean(test_predictions)}\")\n",
    "    auc = roc_auc_score(y_true=ds_test.iloc[:, -3], y_score=test_predictions)\n",
    "    \n",
    "    logger.info(f\"AUC for {key} => {auc}\")\n",
    "\n",
    "    aucs[key] = auc\n",
    "    #coefs[key] = coef\n",
    "    \n",
    "logger.info(f\"All AUCS are {aucs}\")"
   ]
  },
  {
   "cell_type": "code",
   "execution_count": null,
   "metadata": {},
   "outputs": [],
   "source": [
    "keys = sorted(aucs.keys())\n",
    "matplotlib.rcParams['figure.figsize'] = (10.0, 10.0)\n",
    "\n",
    "fig, ax1 = plt.subplots()\n",
    "\n",
    "ax1.set_xlabel('epsilon')\n",
    "ax1.set_ylabel('AUC & l_inf norm')\n",
    "#plt.xscale('log')\n",
    "ax1.plot(\n",
    "    keys, [aucs[k] for k in keys], label=\"Mahalanobis\"\n",
    ")\n",
    "ax1.plot(\n",
    "    keys, [linfs[k] for k in keys], label=\"l_inf\"\n",
    ")\n",
    "\n",
    "ax2 = ax1.twinx()\n",
    "ax2.set_ylabel(\"l_2 norm\")\n",
    "\n",
    "ax2.plot(\n",
    "    keys, [l2s[k] for k in keys], label=\"l_2\", color=\"green\"\n",
    ")\n",
    "\n",
    "ax1.legend()\n",
    "ax2.legend()"
   ]
  },
  {
   "cell_type": "code",
   "execution_count": null,
   "metadata": {},
   "outputs": [],
   "source": []
  }
 ],
 "metadata": {
  "kernelspec": {
   "display_name": "Python 3",
   "language": "python",
   "name": "python3"
  },
  "language_info": {
   "codemirror_mode": {
    "name": "ipython",
    "version": 3
   },
   "file_extension": ".py",
   "mimetype": "text/x-python",
   "name": "python",
   "nbconvert_exporter": "python",
   "pygments_lexer": "ipython3",
   "version": "3.6.10"
  }
 },
 "nbformat": 4,
 "nbformat_minor": 2
}

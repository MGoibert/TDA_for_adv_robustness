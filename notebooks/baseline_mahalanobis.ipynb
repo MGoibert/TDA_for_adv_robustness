{
 "cells": [
  {
   "cell_type": "code",
   "execution_count": null,
   "metadata": {},
   "outputs": [],
   "source": [
    "%matplotlib inline\n",
    "from matplotlib import pyplot as plt\n",
    "import matplotlib\n",
    "matplotlib.rcParams['figure.figsize'] = (20.0, 20.0)"
   ]
  },
  {
   "cell_type": "code",
   "execution_count": null,
   "metadata": {},
   "outputs": [],
   "source": [
    "from tda.experiments.mahalanobis.mahalanobis_binary import Config, run_experiment, evaluate_epsilon, \\\n",
    "    compute_means_and_sigmas_inv, get_config, logger\n",
    "from tda.models.architectures import mnist_lenet, get_architecture, mnist_mlp\n",
    "from tda.models.datasets import Dataset\n",
    "from tda.models import get_deep_model"
   ]
  },
  {
   "cell_type": "code",
   "execution_count": null,
   "metadata": {},
   "outputs": [],
   "source": [
    "config = Config(\n",
    "    # Number of epochs for the model\n",
    "    epochs = 25,\n",
    "    # Dataset we consider (MNIST, SVHN)\n",
    "    dataset = \"MNIST\",\n",
    "    # Name of the architecture\n",
    "    architecture = mnist_mlp.name,\n",
    "    # Size of the dataset used for the experiment\n",
    "    dataset_size = 100,\n",
    "    # Type of attack (FGSM, BIM, CW)\n",
    "    attack_type = \"FGSM\",\n",
    "    # Epsilon for the preprocessing step (see the paper)\n",
    "    preproc_epsilon = 0.0,\n",
    "    # Noise to consider for the noisy samples\n",
    "    noise = 0.0,\n",
    "    # Number of sample per class to estimate mu_class and sigma_class\n",
    "    number_of_samples_for_mu_sigma = 100\n",
    ")"
   ]
  },
  {
   "cell_type": "code",
   "execution_count": null,
   "metadata": {
    "scrolled": false
   },
   "outputs": [],
   "source": [
    "dataset = Dataset(name=config.dataset)\n",
    "\n",
    "architecture = get_deep_model(\n",
    "    num_epochs=config.epochs,\n",
    "    dataset=dataset,\n",
    "    architecture=get_architecture(config.architecture),\n",
    "    train_noise=0.0\n",
    ")\n",
    "\n",
    "mean_per_class, sigma_per_class_inv = compute_means_and_sigmas_inv(\n",
    "    config=config,\n",
    "    dataset=dataset,\n",
    "    architecture=architecture\n",
    ")"
   ]
  },
  {
   "cell_type": "code",
   "execution_count": null,
   "metadata": {},
   "outputs": [],
   "source": [
    "fig, axs = plt.subplots(len(sigma_per_class_inv)//2+1, 2)\n",
    "i = 0\n",
    "\n",
    "for layer_idx in sigma_per_class_inv:\n",
    "    px = i // 2\n",
    "    py = i % 2\n",
    "    axs[px][py].imshow(sigma_per_class_inv[layer_idx])\n",
    "    i+=1"
   ]
  },
  {
   "cell_type": "code",
   "execution_count": null,
   "metadata": {
    "scrolled": false
   },
   "outputs": [],
   "source": [
    "aucs = dict()\n",
    "coefs = dict()\n",
    "for epsilon in [0.01, 0.025, 0.05, 0.1, 0.4]:\n",
    "    auc, coef = evaluate_epsilon(\n",
    "        config=config,\n",
    "        epsilon=epsilon,\n",
    "        dataset=dataset,\n",
    "        architecture=architecture,\n",
    "        mean_per_class=mean_per_class,\n",
    "        sigma_per_class_inv=sigma_per_class_inv\n",
    "    )\n",
    "    \n",
    "    logger.info(f\"AUC for {epsilon} => {auc}\")\n",
    "\n",
    "    aucs[epsilon] = auc\n",
    "    coefs[epsilon] = coef\n",
    "    \n",
    "logger.info(f\"All AUCS are {aucs}\")"
   ]
  },
  {
   "cell_type": "code",
   "execution_count": null,
   "metadata": {},
   "outputs": [],
   "source": [
    "evaluate_epsilon(\n",
    "        config=config,\n",
    "        epsilon=2,\n",
    "        dataset=dataset,\n",
    "        architecture=architecture,\n",
    "        mean_per_class=mean_per_class,\n",
    "        sigma_per_class_inv=sigma_per_class_inv\n",
    "    )"
   ]
  },
  {
   "cell_type": "code",
   "execution_count": null,
   "metadata": {},
   "outputs": [],
   "source": []
  }
 ],
 "metadata": {
  "kernelspec": {
   "display_name": "Python 3",
   "language": "python",
   "name": "python3"
  },
  "language_info": {
   "codemirror_mode": {
    "name": "ipython",
    "version": 3
   },
   "file_extension": ".py",
   "mimetype": "text/x-python",
   "name": "python",
   "nbconvert_exporter": "python",
   "pygments_lexer": "ipython3",
   "version": "3.6.8"
  }
 },
 "nbformat": 4,
 "nbformat_minor": 2
}

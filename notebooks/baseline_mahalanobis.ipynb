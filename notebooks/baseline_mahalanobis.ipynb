{
 "cells": [
  {
   "cell_type": "code",
   "execution_count": 1,
   "metadata": {},
   "outputs": [],
   "source": [
    "%matplotlib inline\n",
    "from matplotlib import pyplot as plt\n",
    "import matplotlib\n",
    "matplotlib.rcParams['figure.figsize'] = (20.0, 20.0)"
   ]
  },
  {
   "cell_type": "code",
   "execution_count": 2,
   "metadata": {},
   "outputs": [
    {
     "name": "stderr",
     "output_type": "stream",
     "text": [
      "2020-01-20 11:40:23,487 - Devices - INFO - Found 0 compatible with CUDA\n"
     ]
    }
   ],
   "source": [
    "from tda.experiments.mahalanobis.mahalanobis_binary import Config, run_experiment, evaluate_epsilon, \\\n",
    "    compute_means_and_sigmas_inv, get_config, logger\n",
    "from tda.models.architectures import mnist_lenet, get_architecture, mnist_mlp\n",
    "from tda.models.datasets import Dataset\n",
    "from tda.models import get_deep_model"
   ]
  },
  {
   "cell_type": "code",
   "execution_count": 6,
   "metadata": {},
   "outputs": [],
   "source": [
    "config = Config(\n",
    "    # Number of epochs for the model\n",
    "    epochs = 50,\n",
    "    # Dataset we consider (MNIST, SVHN)\n",
    "    dataset = \"MNIST\",\n",
    "    # Name of the architecture\n",
    "    architecture = mnist_lenet.name,\n",
    "    # Size of the dataset used for the experiment\n",
    "    dataset_size = 100,\n",
    "    # Type of attack (FGSM, BIM, CW)\n",
    "    attack_type = \"FGSM\",\n",
    "    # Epsilon for the preprocessing step (see the paper)\n",
    "    preproc_epsilon = 0.3,\n",
    "    # Noise to consider for the noisy samples\n",
    "    noise = 0.0,\n",
    "    # Number of sample per class to estimate mu_class and sigma_class\n",
    "    number_of_samples_for_mu_sigma = 100\n",
    ")"
   ]
  },
  {
   "cell_type": "code",
   "execution_count": 7,
   "metadata": {
    "scrolled": false
   },
   "outputs": [
    {
     "name": "stderr",
     "output_type": "stream",
     "text": [
      "2020-01-20 11:41:24,474 - Models - INFO - Filename = /Users/t.ricatte/dev/tda_for_adv_robustness/tda/../trained_models/mnist_mnist_lenet_50_epochs.model \n",
      "\n",
      "/Users/t.ricatte/dev/tda_env/lib/python3.6/site-packages/torch/serialization.py:453: SourceChangeWarning: source code of class 'tda.models.architectures.Architecture' has changed. you can retrieve the original source code by accessing the object's source attribute or set `torch.nn.Module.dump_patches = True` and use the patch tool to revert the changes.\n",
      "  warnings.warn(msg, SourceChangeWarning)\n",
      "2020-01-20 11:41:24,502 - Models - INFO - Loaded successfully model from /Users/t.ricatte/dev/tda_for_adv_robustness/tda/../trained_models/mnist_mnist_lenet_50_epochs.model\n",
      "2020-01-20 11:41:24,503 - Mahalanobis - INFO - I am going to go through a dataset of 100 points...\n",
      "2020-01-20 11:41:24,572 - Mahalanobis - INFO - All indices for features are [-1, 0, 1, 2, 3, 4, 5, 6, 7]\n",
      "2020-01-20 11:41:24,572 - Mahalanobis - INFO - All classes are [0, 1, 2, 3, 4, 5, 6, 7, 8, 9]\n",
      "2020-01-20 11:41:51,959 - Mahalanobis - INFO - Computing inverse of sigmas...\n",
      "2020-01-20 11:41:51,960 - Mahalanobis - INFO - Processing sigma for layer -1 (shape is (784, 784))\n",
      "2020-01-20 11:41:52,038 - Mahalanobis - INFO - Processing sigma for layer 0 (shape is (5760, 5760))\n",
      "2020-01-20 11:42:22,545 - Mahalanobis - INFO - Processing sigma for layer 1 (shape is (1440, 1440))\n",
      "2020-01-20 11:42:23,052 - Mahalanobis - INFO - Processing sigma for layer 2 (shape is (1280, 1280))\n",
      "2020-01-20 11:42:23,378 - Mahalanobis - INFO - Processing sigma for layer 3 (shape is (320, 320))\n",
      "2020-01-20 11:42:23,388 - Mahalanobis - INFO - Processing sigma for layer 4 (shape is (50, 50))\n",
      "2020-01-20 11:42:23,390 - Mahalanobis - INFO - Processing sigma for layer 5 (shape is (50, 50))\n",
      "2020-01-20 11:42:23,391 - Mahalanobis - INFO - Processing sigma for layer 6 (shape is (10, 10))\n",
      "2020-01-20 11:42:23,392 - Mahalanobis - INFO - Processing sigma for layer 7 (shape is (10, 10))\n",
      "2020-01-20 11:42:23,393 - Mahalanobis - INFO - Done.\n",
      "2020-01-20 11:42:23,479 - Mahalanobis - INFO - Accuracy on test set = 0.99\n"
     ]
    }
   ],
   "source": [
    "dataset = Dataset(name=config.dataset)\n",
    "\n",
    "architecture = get_deep_model(\n",
    "    num_epochs=config.epochs,\n",
    "    dataset=dataset,\n",
    "    architecture=get_architecture(config.architecture),\n",
    "    train_noise=0.0\n",
    ")\n",
    "\n",
    "mean_per_class, sigma_per_class_inv = compute_means_and_sigmas_inv(\n",
    "    config=config,\n",
    "    dataset=dataset,\n",
    "    architecture=architecture\n",
    ")"
   ]
  },
  {
   "cell_type": "code",
   "execution_count": 8,
   "metadata": {},
   "outputs": [
    {
     "data": {
      "image/png": "[encoded data removed]",
      "text/plain": [
       "<Figure size 432x288 with 10 Axes>"
      ]
     },
     "metadata": {
      "needs_background": "light"
     },
     "output_type": "display_data"
    }
   ],
   "source": [
    "fig, axs = plt.subplots(len(sigma_per_class_inv)//2+1, 2)\n",
    "i = 0\n",
    "\n",
    "for layer_idx in sigma_per_class_inv:\n",
    "    px = i // 2\n",
    "    py = i % 2\n",
    "    axs[px][py].imshow(sigma_per_class_inv[layer_idx])\n",
    "    i+=1"
   ]
  },
  {
   "cell_type": "code",
   "execution_count": 9,
   "metadata": {
    "scrolled": false
   },
   "outputs": [
    {
     "name": "stderr",
     "output_type": "stream",
     "text": [
      "2020-01-20 11:43:13,572 - Mahalanobis - INFO - All indices for features are [-1, 0, 1, 2, 3, 4, 5, 6, 7]\n",
      "2020-01-20 11:43:13,573 - Mahalanobis - INFO - All classes are [0, 1, 2, 3, 4, 5, 6, 7, 8, 9]\n",
      "2020-01-20 11:43:13,573 - Mahalanobis - INFO - Evaluating epsilon=0.01\n"
     ]
    },
    {
     "ename": "RuntimeError",
     "evalue": "The size of tensor a (28) must match the size of tensor b (784) at non-singleton dimension 3",
     "output_type": "error",
     "traceback": [
      "\u001b[0;31m---------------------------------------------------------------------------\u001b[0m",
      "\u001b[0;31mRuntimeError\u001b[0m                              Traceback (most recent call last)",
      "\u001b[0;32m<ipython-input-9-51a81be910fa>\u001b[0m in \u001b[0;36m<module>\u001b[0;34m\u001b[0m\n\u001b[1;32m      8\u001b[0m         \u001b[0marchitecture\u001b[0m\u001b[0;34m=\u001b[0m\u001b[0marchitecture\u001b[0m\u001b[0;34m,\u001b[0m\u001b[0;34m\u001b[0m\u001b[0;34m\u001b[0m\u001b[0m\n\u001b[1;32m      9\u001b[0m         \u001b[0mmean_per_class\u001b[0m\u001b[0;34m=\u001b[0m\u001b[0mmean_per_class\u001b[0m\u001b[0;34m,\u001b[0m\u001b[0;34m\u001b[0m\u001b[0;34m\u001b[0m\u001b[0m\n\u001b[0;32m---> 10\u001b[0;31m         \u001b[0msigma_per_class_inv\u001b[0m\u001b[0;34m=\u001b[0m\u001b[0msigma_per_class_inv\u001b[0m\u001b[0;34m\u001b[0m\u001b[0;34m\u001b[0m\u001b[0m\n\u001b[0m\u001b[1;32m     11\u001b[0m     )\n\u001b[1;32m     12\u001b[0m \u001b[0;34m\u001b[0m\u001b[0m\n",
      "\u001b[0;32m~/dev/tda_for_adv_robustness/tda/experiments/mahalanobis/mahalanobis_binary.py\u001b[0m in \u001b[0;36mevaluate_epsilon\u001b[0;34m(config, dataset, architecture, mean_per_class, sigma_per_class_inv, epsilon)\u001b[0m\n\u001b[1;32m    320\u001b[0m         \u001b[0;32mreturn\u001b[0m \u001b[0mpd\u001b[0m\u001b[0;34m.\u001b[0m\u001b[0mDataFrame\u001b[0m\u001b[0;34m(\u001b[0m\u001b[0mret\u001b[0m\u001b[0;34m,\u001b[0m \u001b[0mcolumns\u001b[0m\u001b[0;34m=\u001b[0m\u001b[0;34m[\u001b[0m\u001b[0;34mf\"layer_{idx}\"\u001b[0m \u001b[0;32mfor\u001b[0m \u001b[0midx\u001b[0m \u001b[0;32min\u001b[0m \u001b[0mall_feature_indices\u001b[0m\u001b[0;34m]\u001b[0m \u001b[0;34m+\u001b[0m \u001b[0;34m[\u001b[0m\u001b[0;34m\"label\"\u001b[0m\u001b[0;34m]\u001b[0m\u001b[0;34m)\u001b[0m\u001b[0;34m\u001b[0m\u001b[0;34m\u001b[0m\u001b[0m\n\u001b[1;32m    321\u001b[0m \u001b[0;34m\u001b[0m\u001b[0m\n\u001b[0;32m--> 322\u001b[0;31m     \u001b[0mdetector_train_dataset\u001b[0m \u001b[0;34m=\u001b[0m \u001b[0mcreate_dataset\u001b[0m\u001b[0;34m(\u001b[0m\u001b[0mstart\u001b[0m\u001b[0;34m=\u001b[0m\u001b[0;36m0\u001b[0m\u001b[0;34m)\u001b[0m\u001b[0;34m\u001b[0m\u001b[0;34m\u001b[0m\u001b[0m\n\u001b[0m\u001b[1;32m    323\u001b[0m     \u001b[0mlogger\u001b[0m\u001b[0;34m.\u001b[0m\u001b[0minfo\u001b[0m\u001b[0;34m(\u001b[0m\u001b[0;34m\"Generated train dataset for detector !\"\u001b[0m\u001b[0;34m)\u001b[0m\u001b[0;34m\u001b[0m\u001b[0;34m\u001b[0m\u001b[0m\n\u001b[1;32m    324\u001b[0m \u001b[0;34m\u001b[0m\u001b[0m\n",
      "\u001b[0;32m~/dev/tda_for_adv_robustness/tda/experiments/mahalanobis/mahalanobis_binary.py\u001b[0m in \u001b[0;36mcreate_dataset\u001b[0;34m(start)\u001b[0m\n\u001b[1;32m    280\u001b[0m                     )[layer_idx]\n\u001b[1;32m    281\u001b[0m \u001b[0;34m\u001b[0m\u001b[0m\n\u001b[0;32m--> 282\u001b[0;31m                     \u001b[0mlive_score\u001b[0m \u001b[0;34m=\u001b[0m \u001b[0;34m(\u001b[0m\u001b[0mf\u001b[0m \u001b[0;34m-\u001b[0m \u001b[0mmu_tensor\u001b[0m\u001b[0;34m)\u001b[0m \u001b[0;34m@\u001b[0m \u001b[0minv_sigma_tensor\u001b[0m \u001b[0;34m@\u001b[0m \u001b[0;34m(\u001b[0m\u001b[0mf\u001b[0m \u001b[0;34m-\u001b[0m \u001b[0mmu_tensor\u001b[0m\u001b[0;34m)\u001b[0m\u001b[0;34m.\u001b[0m\u001b[0mT\u001b[0m\u001b[0;34m\u001b[0m\u001b[0;34m\u001b[0m\u001b[0m\n\u001b[0m\u001b[1;32m    283\u001b[0m \u001b[0;34m\u001b[0m\u001b[0m\n\u001b[1;32m    284\u001b[0m                     \u001b[0;32massert\u001b[0m \u001b[0mnp\u001b[0m\u001b[0;34m.\u001b[0m\u001b[0misclose\u001b[0m\u001b[0;34m(\u001b[0m\u001b[0mlive_score\u001b[0m\u001b[0;34m.\u001b[0m\u001b[0mdetach\u001b[0m\u001b[0;34m(\u001b[0m\u001b[0;34m)\u001b[0m\u001b[0;34m.\u001b[0m\u001b[0mnumpy\u001b[0m\u001b[0;34m(\u001b[0m\u001b[0;34m)\u001b[0m\u001b[0;34m,\u001b[0m \u001b[0mbest_score\u001b[0m\u001b[0;34m)\u001b[0m\u001b[0;34m\u001b[0m\u001b[0;34m\u001b[0m\u001b[0m\n",
      "\u001b[0;31mRuntimeError\u001b[0m: The size of tensor a (28) must match the size of tensor b (784) at non-singleton dimension 3"
     ]
    }
   ],
   "source": [
    "aucs = dict()\n",
    "coefs = dict()\n",
    "for epsilon in [0.01, 0.025, 0.05, 0.1, 0.4]:\n",
    "    auc, coef = evaluate_epsilon(\n",
    "        config=config,\n",
    "        epsilon=epsilon,\n",
    "        dataset=dataset,\n",
    "        architecture=architecture,\n",
    "        mean_per_class=mean_per_class,\n",
    "        sigma_per_class_inv=sigma_per_class_inv\n",
    "    )\n",
    "    \n",
    "    logger.info(f\"AUC for {epsilon} => {auc}\")\n",
    "\n",
    "    aucs[epsilon] = auc\n",
    "    coefs[epsilon] = coef\n",
    "    \n",
    "logger.info(f\"All AUCS are {aucs}\")"
   ]
  },
  {
   "cell_type": "code",
   "execution_count": null,
   "metadata": {},
   "outputs": [],
   "source": [
    "evaluate_epsilon(\n",
    "        config=config,\n",
    "        epsilon=2,\n",
    "        dataset=dataset,\n",
    "        architecture=architecture,\n",
    "        mean_per_class=mean_per_class,\n",
    "        sigma_per_class_inv=sigma_per_class_inv\n",
    "    )"
   ]
  },
  {
   "cell_type": "code",
   "execution_count": null,
   "metadata": {},
   "outputs": [],
   "source": []
  }
 ],
 "metadata": {
  "kernelspec": {
   "display_name": "Python 3",
   "language": "python",
   "name": "python3"
  },
  "language_info": {
   "codemirror_mode": {
    "name": "ipython",
    "version": 3
   },
   "file_extension": ".py",
   "mimetype": "text/x-python",
   "name": "python",
   "nbconvert_exporter": "python",
   "pygments_lexer": "ipython3",
   "version": "3.6.8"
  }
 },
 "nbformat": 4,
 "nbformat_minor": 2
}

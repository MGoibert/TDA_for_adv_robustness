{
 "cells": [
  {
   "cell_type": "code",
   "execution_count": 8,
   "metadata": {},
   "outputs": [],
   "source": [
    "import numpy as np\n",
    "import pandas as pd\n",
    "\n",
    "import matplotlib.pyplot as plt\n",
    "import matplotlib\n",
    "import seaborn as sns\n",
    "from ipywidgets import interact\n",
    "\n",
    "%matplotlib inline"
   ]
  },
  {
   "cell_type": "code",
   "execution_count": 9,
   "metadata": {},
   "outputs": [],
   "source": [
    "def fix_dataframe(df):\n",
    "    params = []\n",
    "    vals = []\n",
    "    for key, val in df.items():\n",
    "        if key == \"Unnamed: 0\":\n",
    "            continue\n",
    "        params.append(key)\n",
    "        vals.append(val)\n",
    "\n",
    "    dicos = []\n",
    "    for stuff in zip(*vals):\n",
    "        others = []\n",
    "        dico = {}\n",
    "        for param, val in zip(params, stuff):\n",
    "            if not param.startswith(\"eps\"):\n",
    "                dico[param] = val\n",
    "            else:\n",
    "                others.append((param, val))\n",
    "\n",
    "        if not isinstance(dico[\"embedding_type\"], str):\n",
    "            dico[\"method\"] = dico[\"binary\"].upper()\n",
    "        else:\n",
    "            dico[\"method\"] = dico[\"embedding_type\"]\n",
    "        for param, val in others:\n",
    "            sup, eps = param.split(\"_\")[1:3]\n",
    "            eps = float(eps)\n",
    "            dicos.append({\"eps\": eps, \"AUC\": val, \"supervised\": sup == \"s\", **dico})\n",
    "\n",
    "    return pd.DataFrame(dicos)\n",
    "\n",
    "df = pd.read_csv(\"csv/results_8_04_2020_readable.csv\")\n",
    "df = fix_dataframe(df)\n",
    "df = df.loc[df.architecture != \"svhn_lenet_bandw2\"]"
   ]
  },
  {
   "cell_type": "code",
   "execution_count": 11,
   "metadata": {},
   "outputs": [
    {
     "data": {
      "application/vnd.jupyter.widget-view+json": {
       "model_id": "c2482dcbb43b44cead43c1169229651c",
       "version_major": 2,
       "version_minor": 0
      },
      "text/plain": [
       "interactive(children=(Dropdown(description='supervised', options=(True, False), value=True), Dropdown(descript…"
      ]
     },
     "metadata": {},
     "output_type": "display_data"
    }
   ],
   "source": [
    "def filter_column(df, column, value):\n",
    "    return df.loc[np.logical_or(df[column].isnull(), df[column] == value)]\n",
    "\n",
    "@interact\n",
    "def plot_results(# architecture=df.architecture.unique(),\n",
    "                 supervised=[True, False],\n",
    "                 mlp=[False, True]\n",
    "                 # epochs=[50, 200, 250, 300]\n",
    "                 ):\n",
    "    subdf = df.copy()\n",
    "    subdf[\"mlp\"] = subdf[\"architecture\"].apply(lambda arch: \"mlp\" in arch or \"simple_fcn\" in arch)\n",
    "    for param, val in zip([\"supervised\", \"mlp\"],\n",
    "                          [supervised, mlp]):\n",
    "        subdf = filter_column(subdf, param, val)\n",
    "    sns.catplot(data=subdf, x=\"eps\", y=\"AUC\", hue=\"method\", kind=\"point\", col=\"architecture\", col_wrap=2)\n",
    "    plt.tight_layout()\n",
    "    plt.savefig(\"/home/elvis/Downloads/fig_sup=%s_mlp=%s.png\" % (supervised, mlp),\n",
    "                dpi=200, bbox_inches=\"tight\")"
   ]
  },
  {
   "cell_type": "code",
   "execution_count": null,
   "metadata": {},
   "outputs": [],
   "source": []
  }
 ],
 "metadata": {
  "kernelspec": {
   "display_name": "Python 3",
   "language": "python",
   "name": "python3"
  },
  "language_info": {
   "codemirror_mode": {
    "name": "ipython",
    "version": 3
   },
   "file_extension": ".py",
   "mimetype": "text/x-python",
   "name": "python",
   "nbconvert_exporter": "python",
   "pygments_lexer": "ipython3",
   "version": "3.7.6"
  }
 },
 "nbformat": 4,
 "nbformat_minor": 4
}

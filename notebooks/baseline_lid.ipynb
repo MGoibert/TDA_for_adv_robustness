{
 "cells": [
  {
   "cell_type": "code",
   "execution_count": null,
   "metadata": {},
   "outputs": [],
   "source": [
    "%matplotlib inline\n",
    "from matplotlib import pyplot as plt"
   ]
  },
  {
   "cell_type": "code",
   "execution_count": null,
   "metadata": {},
   "outputs": [],
   "source": [
    "import matplotlib\n",
    "matplotlib.rcParams['figure.figsize'] = (10.0, 10.0)"
   ]
  },
  {
   "cell_type": "code",
   "execution_count": null,
   "metadata": {},
   "outputs": [],
   "source": [
    "import numpy as np"
   ]
  },
  {
   "cell_type": "code",
   "execution_count": null,
   "metadata": {},
   "outputs": [],
   "source": [
    "from tda.experiments.lid.lid_binary import logger, run_experiment, Config, Architecture, get_feature_datasets\n",
    "from tda.models.architectures import get_architecture, mnist_lenet\n",
    "from tda.models import get_deep_model\n",
    "from tda.models.datasets import Dataset"
   ]
  },
  {
   "cell_type": "code",
   "execution_count": null,
   "metadata": {},
   "outputs": [],
   "source": [
    "config = Config(\n",
    "    epochs=50,\n",
    "    dataset=\"MNIST\",\n",
    "    architecture=mnist_lenet.name,\n",
    "    train_noise=0.0,\n",
    "    nb_batches=1,\n",
    "    attack_type=\"FGSM\",\n",
    "    noise=0.0,\n",
    "    num_iter=1,\n",
    "    batch_size=100,\n",
    "    number_of_nn=20,\n",
    "    successful_adv=True\n",
    ")"
   ]
  },
  {
   "cell_type": "code",
   "execution_count": null,
   "metadata": {
    "scrolled": false
   },
   "outputs": [],
   "source": [
    "dataset = Dataset(name=config.dataset)\n",
    "\n",
    "logger.info(f\"Getting deep model...\")\n",
    "archi: Architecture = get_deep_model(\n",
    "    num_epochs=config.epochs,\n",
    "    dataset=dataset,\n",
    "    architecture=get_architecture(config.architecture),\n",
    "    train_noise=config.train_noise\n",
    ")\n",
    "\n",
    "datasets = dict()\n",
    "\n",
    "for epsilon in [0.01, 0.025, 0.05, 0.1, 0.4, 1.0]:\n",
    "    ds_train, ds_test = get_feature_datasets(\n",
    "        config=config,\n",
    "        epsilon=epsilon,\n",
    "        dataset=dataset,\n",
    "        archi=archi\n",
    "    )\n",
    "    datasets[epsilon] = (ds_train, ds_test)"
   ]
  },
  {
   "cell_type": "code",
   "execution_count": null,
   "metadata": {},
   "outputs": [],
   "source": [
    "datasets[0.4][0]"
   ]
  },
  {
   "cell_type": "code",
   "execution_count": null,
   "metadata": {},
   "outputs": [],
   "source": [
    "linfs = dict()\n",
    "l2s = dict()\n",
    "\n",
    "for key in datasets:\n",
    "    linf_mean_train = datasets[key][0].query(\"label > 0\").linf_norm.mean()\n",
    "    l2_mean_train = datasets[key][0].query(\"label > 0\").l2_norm.mean()\n",
    "    \n",
    "    linfs[key] = linf_mean_train\n",
    "    l2s[key] = l2_mean_train"
   ]
  },
  {
   "cell_type": "markdown",
   "metadata": {},
   "source": [
    "## Supervised Learning"
   ]
  },
  {
   "cell_type": "code",
   "execution_count": null,
   "metadata": {},
   "outputs": [],
   "source": [
    "from sklearn.linear_model import LogisticRegression\n",
    "from sklearn.preprocessing import StandardScaler\n",
    "from sklearn.metrics import roc_auc_score\n",
    "\n",
    "scaler = StandardScaler()\n",
    "\n",
    "all_aucs = dict()\n",
    "all_coefs = dict()\n",
    "\n",
    "for epsilon in datasets:\n",
    "    train_ds, test_ds = datasets[epsilon]\n",
    "    \n",
    "    detector = LogisticRegression(\n",
    "        fit_intercept=True,\n",
    "        verbose=1,\n",
    "        tol=1e-5,\n",
    "        max_iter=1000,\n",
    "        solver='lbfgs'\n",
    "    )\n",
    "    \n",
    "    ds_train_scaled = scaler.fit_transform(train_ds.iloc[:, :-3])\n",
    "\n",
    "    detector.fit(X=ds_train_scaled, y=train_ds.iloc[:, -3])\n",
    "    coefs = list(detector.coef_.flatten())\n",
    "    logger.info(f\"Coefs of detector {coefs}\")\n",
    "    \n",
    "    ds_test_scaled = scaler.transform(test_ds.iloc[:, :-3])\n",
    "\n",
    "    test_predictions = detector.predict_proba(X=ds_test_scaled)[:, 1]\n",
    "    auc = roc_auc_score(y_true=test_ds.iloc[:, -3], y_score=test_predictions)\n",
    "    logger.info(f\"AUC is {auc}\")\n",
    "\n",
    "    all_aucs[epsilon] = auc\n",
    "    all_coefs[epsilon] = coefs\n",
    "\n",
    "logger.info(all_aucs)"
   ]
  },
  {
   "cell_type": "code",
   "execution_count": null,
   "metadata": {},
   "outputs": [],
   "source": [
    "keys = sorted(all_aucs.keys())\n",
    "matplotlib.rcParams['figure.figsize'] = (10.0, 10.0)\n",
    "\n",
    "fig, ax1 = plt.subplots()\n",
    "\n",
    "ax1.set_xlabel('epsilon')\n",
    "ax1.set_ylabel('AUC & l_inf norm')\n",
    "#plt.xscale('log')\n",
    "ax1.plot(\n",
    "    keys, [all_aucs[k] for k in keys], label=\"Mahalanobis\"\n",
    ")\n",
    "ax1.plot(\n",
    "    keys, [linfs[k] for k in keys], label=\"l_inf\"\n",
    ")\n",
    "\n",
    "ax2 = ax1.twinx()\n",
    "ax2.set_ylabel(\"l_2 norm\")\n",
    "\n",
    "ax2.plot(\n",
    "    keys, [l2s[k] for k in keys], label=\"l_2\", color=\"green\"\n",
    ")\n",
    "\n",
    "ax1.legend()\n",
    "ax2.legend()"
   ]
  },
  {
   "cell_type": "markdown",
   "metadata": {},
   "source": [
    "## Unsupervised Learning"
   ]
  },
  {
   "cell_type": "code",
   "execution_count": null,
   "metadata": {},
   "outputs": [],
   "source": [
    "from sklearn.svm import OneClassSVM\n",
    "\n",
    "scaler = StandardScaler()\n",
    "\n",
    "aucs = dict()\n",
    "coefs = dict() \n",
    "\n",
    "for key in datasets:\n",
    "    \n",
    "    ds_train, ds_test = datasets[key]\n",
    "    \n",
    "    detector = OneClassSVM(\n",
    "        tol=1e-5,\n",
    "        kernel='rbf',\n",
    "        nu=1e-4\n",
    "    )\n",
    "        \n",
    "    ds_train_scaled = scaler.fit_transform(ds_train.iloc[:, :-3])\n",
    "\n",
    "    detector.fit(X=ds_train_scaled)\n",
    "    #coef = list(detector.coef_.flatten())\n",
    "    #logger.info(f\"Coefs of detector {coef}\")\n",
    "    #logger.info(f\"Intercept of detector {detector.intercept_}\")\n",
    "    \n",
    "    ds_test_scaled = scaler.transform(ds_train.iloc[:, :-3])\n",
    "    \n",
    "    train_predictions = detector.decision_function(X=ds_train_scaled)\n",
    "    \n",
    "    test_predictions = detector.decision_function(X=ds_test_scaled)\n",
    "    logger.info(f\"Average prediction {np.mean(test_predictions)}\")\n",
    "    auc = roc_auc_score(y_true=ds_test.iloc[:, -3], y_score=test_predictions)\n",
    "    \n",
    "    logger.info(f\"AUC for {key} => {auc}\")\n",
    "\n",
    "    aucs[key] = auc\n",
    "    #coefs[key] = coef\n",
    "    \n",
    "logger.info(f\"All AUCS are {aucs}\")"
   ]
  },
  {
   "cell_type": "code",
   "execution_count": null,
   "metadata": {},
   "outputs": [],
   "source": [
    "keys = sorted(aucs.keys())\n",
    "matplotlib.rcParams['figure.figsize'] = (10.0, 10.0)\n",
    "\n",
    "fig, ax1 = plt.subplots()\n",
    "\n",
    "ax1.set_xlabel('epsilon')\n",
    "ax1.set_ylabel('AUC & l_inf norm')\n",
    "#plt.xscale('log')\n",
    "ax1.plot(\n",
    "    keys, [aucs[k] for k in keys], label=\"Mahalanobis\"\n",
    ")\n",
    "ax1.plot(\n",
    "    keys, [linfs[k] for k in keys], label=\"l_inf\"\n",
    ")\n",
    "\n",
    "ax2 = ax1.twinx()\n",
    "ax2.set_ylabel(\"l_2 norm\")\n",
    "\n",
    "ax2.plot(\n",
    "    keys, [l2s[k] for k in keys], label=\"l_2\", color=\"green\"\n",
    ")\n",
    "\n",
    "ax1.legend()\n",
    "ax2.legend()"
   ]
  },
  {
   "cell_type": "code",
   "execution_count": null,
   "metadata": {},
   "outputs": [],
   "source": []
  }
 ],
 "metadata": {
  "kernelspec": {
   "display_name": "Python 3",
   "language": "python",
   "name": "python3"
  },
  "language_info": {
   "codemirror_mode": {
    "name": "ipython",
    "version": 3
   },
   "file_extension": ".py",
   "mimetype": "text/x-python",
   "name": "python",
   "nbconvert_exporter": "python",
   "pygments_lexer": "ipython3",
   "version": "3.6.10"
  }
 },
 "nbformat": 4,
 "nbformat_minor": 2
}

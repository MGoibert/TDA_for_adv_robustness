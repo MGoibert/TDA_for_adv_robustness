{
 "cells": [
  {
   "cell_type": "code",
   "execution_count": 1,
   "metadata": {},
   "outputs": [],
   "source": [
    "%matplotlib inline\n",
    "from matplotlib import pyplot as plt"
   ]
  },
  {
   "cell_type": "code",
   "execution_count": 2,
   "metadata": {},
   "outputs": [],
   "source": [
    "import matplotlib\n",
    "matplotlib.rcParams['figure.figsize'] = (10.0, 10.0)"
   ]
  },
  {
   "cell_type": "code",
   "execution_count": 3,
   "metadata": {},
   "outputs": [],
   "source": [
    "import numpy as np"
   ]
  },
  {
   "cell_type": "code",
   "execution_count": 4,
   "metadata": {},
   "outputs": [
    {
     "name": "stderr",
     "output_type": "stream",
     "text": [
      "2020-01-27 11:42:16,123 - Devices - INFO - Found 0 compatible with CUDA\n"
     ]
    }
   ],
   "source": [
    "from tda.experiments.lid.lid_binary import logger, run_experiment, Config, Architecture, get_feature_datasets\n",
    "from tda.models.architectures import get_architecture, mnist_lenet\n",
    "from tda.models import get_deep_model\n",
    "from tda.models.datasets import Dataset"
   ]
  },
  {
   "cell_type": "code",
   "execution_count": 5,
   "metadata": {},
   "outputs": [],
   "source": [
    "config = Config(\n",
    "    epochs=50,\n",
    "    dataset=\"MNIST\",\n",
    "    architecture=mnist_lenet.name,\n",
    "    train_noise=0.0,\n",
    "    nb_batches=1,\n",
    "    attack_type=\"FGSM\",\n",
    "    noise=0.0,\n",
    "    num_iter=1,\n",
    "    batch_size=100,\n",
    "    number_of_nn=20,\n",
    "    successful_adv=True\n",
    ")"
   ]
  },
  {
   "cell_type": "code",
   "execution_count": 6,
   "metadata": {
    "scrolled": false
   },
   "outputs": [
    {
     "name": "stderr",
     "output_type": "stream",
     "text": [
      "2020-01-27 11:42:26,328 - LID - INFO - Getting deep model...\n",
      "2020-01-27 11:42:26,329 - Models - INFO - Filename = /Users/t.ricatte/dev/tda_for_adv_robustness/tda/../trained_models/mnist_mnist_lenet_50_epochs.model \n",
      "\n",
      "/Users/t.ricatte/dev/tda_env/lib/python3.6/site-packages/torch/serialization.py:453: SourceChangeWarning: source code of class 'tda.models.architectures.Architecture' has changed. you can retrieve the original source code by accessing the object's source attribute or set `torch.nn.Module.dump_patches = True` and use the patch tool to revert the changes.\n",
      "  warnings.warn(msg, SourceChangeWarning)\n",
      "2020-01-27 11:42:26,343 - Models - INFO - Loaded successfully model from /Users/t.ricatte/dev/tda_for_adv_robustness/tda/../trained_models/mnist_mnist_lenet_50_epochs.model\n",
      "2020-01-27 11:42:26,344 - LID - INFO - Evaluating epsilon=0.01\n",
      "2020-01-27 11:42:26,345 - Cache - INFO - Using cache file /Users/t.ricatte/dev/tda_for_adv_robustness/tda/../cache/get_sample_dataset/adv=True_archi=mnist_lenet_attack_type=FGSM_dataset=mnist_dataset_size=100_epsilon=0.01_noise=0.0_num_iter=50_succ_adv=True_train=False.cached for the call to get_sample_dataset\n",
      "2020-01-27 11:42:26,580 - LID - INFO - Computed LIDs for 100 points\n",
      "2020-01-27 11:42:26,581 - LID - INFO - Shape of train ds for LR is (100, 7)\n",
      "2020-01-27 11:42:26,582 - LID - INFO - Shape of train labels for LR is (100, 1)\n",
      "2020-01-27 11:42:26,583 - LID - INFO - Shape of train ds for LR is (100, 7)\n",
      "2020-01-27 11:42:26,584 - LID - INFO - Shape of train labels for LR is (100, 1)\n",
      "2020-01-27 11:42:26,604 - LID - INFO - Evaluating epsilon=0.025\n",
      "2020-01-27 11:42:26,606 - Cache - INFO - Using cache file /Users/t.ricatte/dev/tda_for_adv_robustness/tda/../cache/get_sample_dataset/adv=True_archi=mnist_lenet_attack_type=FGSM_dataset=mnist_dataset_size=100_epsilon=0.025_noise=0.0_num_iter=50_succ_adv=True_train=False.cached for the call to get_sample_dataset\n",
      "2020-01-27 11:42:26,828 - LID - INFO - Computed LIDs for 100 points\n",
      "2020-01-27 11:42:26,829 - LID - INFO - Shape of train ds for LR is (100, 7)\n",
      "2020-01-27 11:42:26,830 - LID - INFO - Shape of train labels for LR is (100, 1)\n",
      "2020-01-27 11:42:26,831 - LID - INFO - Shape of train ds for LR is (100, 7)\n",
      "2020-01-27 11:42:26,831 - LID - INFO - Shape of train labels for LR is (100, 1)\n",
      "2020-01-27 11:42:26,853 - LID - INFO - Evaluating epsilon=0.05\n",
      "2020-01-27 11:42:26,854 - Cache - INFO - Using cache file /Users/t.ricatte/dev/tda_for_adv_robustness/tda/../cache/get_sample_dataset/adv=True_archi=mnist_lenet_attack_type=FGSM_dataset=mnist_dataset_size=100_epsilon=0.05_noise=0.0_num_iter=50_succ_adv=True_train=False.cached for the call to get_sample_dataset\n",
      "2020-01-27 11:42:27,082 - LID - INFO - Computed LIDs for 100 points\n",
      "2020-01-27 11:42:27,083 - LID - INFO - Shape of train ds for LR is (100, 7)\n",
      "2020-01-27 11:42:27,083 - LID - INFO - Shape of train labels for LR is (100, 1)\n",
      "2020-01-27 11:42:27,085 - LID - INFO - Shape of train ds for LR is (100, 7)\n",
      "2020-01-27 11:42:27,086 - LID - INFO - Shape of train labels for LR is (100, 1)\n",
      "2020-01-27 11:42:27,108 - LID - INFO - Evaluating epsilon=0.1\n",
      "2020-01-27 11:42:27,109 - Cache - INFO - Using cache file /Users/t.ricatte/dev/tda_for_adv_robustness/tda/../cache/get_sample_dataset/adv=True_archi=mnist_lenet_attack_type=FGSM_dataset=mnist_dataset_size=100_epsilon=0.1_noise=0.0_num_iter=50_succ_adv=True_train=False.cached for the call to get_sample_dataset\n",
      "2020-01-27 11:42:27,347 - LID - INFO - Computed LIDs for 100 points\n",
      "2020-01-27 11:42:27,348 - LID - INFO - Shape of train ds for LR is (100, 7)\n",
      "2020-01-27 11:42:27,348 - LID - INFO - Shape of train labels for LR is (100, 1)\n",
      "2020-01-27 11:42:27,350 - LID - INFO - Shape of train ds for LR is (100, 7)\n",
      "2020-01-27 11:42:27,350 - LID - INFO - Shape of train labels for LR is (100, 1)\n",
      "2020-01-27 11:42:27,371 - LID - INFO - Evaluating epsilon=0.4\n",
      "2020-01-27 11:42:27,372 - Cache - INFO - Using cache file /Users/t.ricatte/dev/tda_for_adv_robustness/tda/../cache/get_sample_dataset/adv=True_archi=mnist_lenet_attack_type=FGSM_dataset=mnist_dataset_size=100_epsilon=0.4_noise=0.0_num_iter=50_succ_adv=True_train=False.cached for the call to get_sample_dataset\n",
      "2020-01-27 11:42:27,634 - LID - INFO - Computed LIDs for 100 points\n",
      "2020-01-27 11:42:27,635 - LID - INFO - Shape of train ds for LR is (100, 7)\n",
      "2020-01-27 11:42:27,636 - LID - INFO - Shape of train labels for LR is (100, 1)\n",
      "2020-01-27 11:42:27,637 - LID - INFO - Shape of train ds for LR is (100, 7)\n",
      "2020-01-27 11:42:27,638 - LID - INFO - Shape of train labels for LR is (100, 1)\n",
      "2020-01-27 11:42:27,658 - LID - INFO - Evaluating epsilon=1.0\n",
      "2020-01-27 11:42:27,660 - Cache - INFO - Using cache file /Users/t.ricatte/dev/tda_for_adv_robustness/tda/../cache/get_sample_dataset/adv=True_archi=mnist_lenet_attack_type=FGSM_dataset=mnist_dataset_size=100_epsilon=1.0_noise=0.0_num_iter=50_succ_adv=True_train=False.cached for the call to get_sample_dataset\n",
      "2020-01-27 11:42:27,915 - LID - INFO - Computed LIDs for 100 points\n",
      "2020-01-27 11:42:27,915 - LID - INFO - Shape of train ds for LR is (100, 7)\n",
      "2020-01-27 11:42:27,916 - LID - INFO - Shape of train labels for LR is (100, 1)\n",
      "2020-01-27 11:42:27,917 - LID - INFO - Shape of train ds for LR is (100, 7)\n",
      "2020-01-27 11:42:27,919 - LID - INFO - Shape of train labels for LR is (100, 1)\n"
     ]
    }
   ],
   "source": [
    "dataset = Dataset(name=config.dataset)\n",
    "\n",
    "logger.info(f\"Getting deep model...\")\n",
    "archi: Architecture = get_deep_model(\n",
    "    num_epochs=config.epochs,\n",
    "    dataset=dataset,\n",
    "    architecture=get_architecture(config.architecture),\n",
    "    train_noise=config.train_noise\n",
    ")\n",
    "\n",
    "datasets = dict()\n",
    "\n",
    "for epsilon in [0.01, 0.025, 0.05, 0.1, 0.4, 1.0]:\n",
    "    ds_train, ds_test = get_feature_datasets(\n",
    "        config=config,\n",
    "        epsilon=epsilon,\n",
    "        dataset=dataset,\n",
    "        archi=archi\n",
    "    )\n",
    "    datasets[epsilon] = (ds_train, ds_test)"
   ]
  },
  {
   "cell_type": "code",
   "execution_count": 7,
   "metadata": {},
   "outputs": [
    {
     "data": {
      "text/html": [
       "<div>\n",
       "<style scoped>\n",
       "    .dataframe tbody tr th:only-of-type {\n",
       "        vertical-align: middle;\n",
       "    }\n",
       "\n",
       "    .dataframe tbody tr th {\n",
       "        vertical-align: top;\n",
       "    }\n",
       "\n",
       "    .dataframe thead th {\n",
       "        text-align: right;\n",
       "    }\n",
       "</style>\n",
       "<table border=\"1\" class=\"dataframe\">\n",
       "  <thead>\n",
       "    <tr style=\"text-align: right;\">\n",
       "      <th></th>\n",
       "      <th>x_0</th>\n",
       "      <th>x_1</th>\n",
       "      <th>x_2</th>\n",
       "      <th>x_3</th>\n",
       "      <th>x_4</th>\n",
       "      <th>x_5</th>\n",
       "      <th>x_6</th>\n",
       "      <th>label</th>\n",
       "      <th>l2_norm</th>\n",
       "      <th>linf_norm</th>\n",
       "    </tr>\n",
       "  </thead>\n",
       "  <tbody>\n",
       "    <tr>\n",
       "      <td>0</td>\n",
       "      <td>7.826012</td>\n",
       "      <td>7.121026</td>\n",
       "      <td>7.521339</td>\n",
       "      <td>6.608914</td>\n",
       "      <td>2.839315</td>\n",
       "      <td>2.839315</td>\n",
       "      <td>2.096558</td>\n",
       "      <td>0.0</td>\n",
       "      <td>0.000000</td>\n",
       "      <td>0.0</td>\n",
       "    </tr>\n",
       "    <tr>\n",
       "      <td>1</td>\n",
       "      <td>10.251671</td>\n",
       "      <td>8.914675</td>\n",
       "      <td>8.536477</td>\n",
       "      <td>12.468080</td>\n",
       "      <td>6.963720</td>\n",
       "      <td>6.963720</td>\n",
       "      <td>6.022425</td>\n",
       "      <td>0.0</td>\n",
       "      <td>0.000000</td>\n",
       "      <td>0.0</td>\n",
       "    </tr>\n",
       "    <tr>\n",
       "      <td>2</td>\n",
       "      <td>3.663839</td>\n",
       "      <td>3.571638</td>\n",
       "      <td>3.363593</td>\n",
       "      <td>2.569572</td>\n",
       "      <td>1.369712</td>\n",
       "      <td>1.369712</td>\n",
       "      <td>0.971590</td>\n",
       "      <td>0.0</td>\n",
       "      <td>0.000000</td>\n",
       "      <td>0.0</td>\n",
       "    </tr>\n",
       "    <tr>\n",
       "      <td>3</td>\n",
       "      <td>12.664940</td>\n",
       "      <td>11.539657</td>\n",
       "      <td>6.575437</td>\n",
       "      <td>6.070586</td>\n",
       "      <td>2.134655</td>\n",
       "      <td>2.134655</td>\n",
       "      <td>1.535897</td>\n",
       "      <td>0.0</td>\n",
       "      <td>0.000000</td>\n",
       "      <td>0.0</td>\n",
       "    </tr>\n",
       "    <tr>\n",
       "      <td>4</td>\n",
       "      <td>9.886588</td>\n",
       "      <td>8.821885</td>\n",
       "      <td>9.577665</td>\n",
       "      <td>8.738871</td>\n",
       "      <td>5.108611</td>\n",
       "      <td>5.108611</td>\n",
       "      <td>3.757313</td>\n",
       "      <td>0.0</td>\n",
       "      <td>0.000000</td>\n",
       "      <td>0.0</td>\n",
       "    </tr>\n",
       "    <tr>\n",
       "      <td>...</td>\n",
       "      <td>...</td>\n",
       "      <td>...</td>\n",
       "      <td>...</td>\n",
       "      <td>...</td>\n",
       "      <td>...</td>\n",
       "      <td>...</td>\n",
       "      <td>...</td>\n",
       "      <td>...</td>\n",
       "      <td>...</td>\n",
       "      <td>...</td>\n",
       "    </tr>\n",
       "    <tr>\n",
       "      <td>95</td>\n",
       "      <td>22.960194</td>\n",
       "      <td>27.353845</td>\n",
       "      <td>24.196995</td>\n",
       "      <td>17.968025</td>\n",
       "      <td>4.756369</td>\n",
       "      <td>4.756369</td>\n",
       "      <td>2.719742</td>\n",
       "      <td>1.0</td>\n",
       "      <td>7.915897</td>\n",
       "      <td>0.4</td>\n",
       "    </tr>\n",
       "    <tr>\n",
       "      <td>96</td>\n",
       "      <td>15.618919</td>\n",
       "      <td>15.243097</td>\n",
       "      <td>13.326799</td>\n",
       "      <td>12.473205</td>\n",
       "      <td>6.599398</td>\n",
       "      <td>6.599398</td>\n",
       "      <td>6.050702</td>\n",
       "      <td>1.0</td>\n",
       "      <td>8.151682</td>\n",
       "      <td>0.4</td>\n",
       "    </tr>\n",
       "    <tr>\n",
       "      <td>97</td>\n",
       "      <td>19.971228</td>\n",
       "      <td>22.046868</td>\n",
       "      <td>19.655430</td>\n",
       "      <td>22.275224</td>\n",
       "      <td>6.181584</td>\n",
       "      <td>6.181584</td>\n",
       "      <td>4.351380</td>\n",
       "      <td>1.0</td>\n",
       "      <td>8.260038</td>\n",
       "      <td>0.4</td>\n",
       "    </tr>\n",
       "    <tr>\n",
       "      <td>98</td>\n",
       "      <td>20.321736</td>\n",
       "      <td>18.350342</td>\n",
       "      <td>14.424089</td>\n",
       "      <td>14.124101</td>\n",
       "      <td>4.361164</td>\n",
       "      <td>4.361164</td>\n",
       "      <td>2.813762</td>\n",
       "      <td>1.0</td>\n",
       "      <td>8.119847</td>\n",
       "      <td>0.4</td>\n",
       "    </tr>\n",
       "    <tr>\n",
       "      <td>99</td>\n",
       "      <td>16.542890</td>\n",
       "      <td>16.154654</td>\n",
       "      <td>13.280156</td>\n",
       "      <td>16.740908</td>\n",
       "      <td>6.876364</td>\n",
       "      <td>6.876364</td>\n",
       "      <td>5.574332</td>\n",
       "      <td>1.0</td>\n",
       "      <td>8.456075</td>\n",
       "      <td>0.4</td>\n",
       "    </tr>\n",
       "  </tbody>\n",
       "</table>\n",
       "<p>100 rows × 10 columns</p>\n",
       "</div>"
      ],
      "text/plain": [
       "          x_0        x_1        x_2        x_3       x_4       x_5       x_6  \\\n",
       "0    7.826012   7.121026   7.521339   6.608914  2.839315  2.839315  2.096558   \n",
       "1   10.251671   8.914675   8.536477  12.468080  6.963720  6.963720  6.022425   \n",
       "2    3.663839   3.571638   3.363593   2.569572  1.369712  1.369712  0.971590   \n",
       "3   12.664940  11.539657   6.575437   6.070586  2.134655  2.134655  1.535897   \n",
       "4    9.886588   8.821885   9.577665   8.738871  5.108611  5.108611  3.757313   \n",
       "..        ...        ...        ...        ...       ...       ...       ...   \n",
       "95  22.960194  27.353845  24.196995  17.968025  4.756369  4.756369  2.719742   \n",
       "96  15.618919  15.243097  13.326799  12.473205  6.599398  6.599398  6.050702   \n",
       "97  19.971228  22.046868  19.655430  22.275224  6.181584  6.181584  4.351380   \n",
       "98  20.321736  18.350342  14.424089  14.124101  4.361164  4.361164  2.813762   \n",
       "99  16.542890  16.154654  13.280156  16.740908  6.876364  6.876364  5.574332   \n",
       "\n",
       "    label   l2_norm  linf_norm  \n",
       "0     0.0  0.000000        0.0  \n",
       "1     0.0  0.000000        0.0  \n",
       "2     0.0  0.000000        0.0  \n",
       "3     0.0  0.000000        0.0  \n",
       "4     0.0  0.000000        0.0  \n",
       "..    ...       ...        ...  \n",
       "95    1.0  7.915897        0.4  \n",
       "96    1.0  8.151682        0.4  \n",
       "97    1.0  8.260038        0.4  \n",
       "98    1.0  8.119847        0.4  \n",
       "99    1.0  8.456075        0.4  \n",
       "\n",
       "[100 rows x 10 columns]"
      ]
     },
     "execution_count": 7,
     "metadata": {},
     "output_type": "execute_result"
    }
   ],
   "source": [
    "datasets[0.4][0]"
   ]
  },
  {
   "cell_type": "code",
   "execution_count": 8,
   "metadata": {},
   "outputs": [],
   "source": [
    "linfs = dict()\n",
    "l2s = dict()\n",
    "\n",
    "for key in datasets:\n",
    "    linf_mean_train = datasets[key][0].query(\"label > 0\").linf_norm.mean()\n",
    "    l2_mean_train = datasets[key][0].query(\"label > 0\").l2_norm.mean()\n",
    "    \n",
    "    linfs[key] = linf_mean_train\n",
    "    l2s[key] = l2_mean_train"
   ]
  },
  {
   "cell_type": "markdown",
   "metadata": {},
   "source": [
    "## Supervised Learning"
   ]
  },
  {
   "cell_type": "code",
   "execution_count": 16,
   "metadata": {},
   "outputs": [
    {
     "name": "stderr",
     "output_type": "stream",
     "text": [
      "[Parallel(n_jobs=1)]: Using backend SequentialBackend with 1 concurrent workers.\n",
      "[Parallel(n_jobs=1)]: Done   1 out of   1 | elapsed:    0.0s finished\n",
      "2020-01-27 11:46:10,975 - LID - INFO - Coefs of detector [0.3110343307338925, -0.4428972441429085, 0.7039780198277789, -0.4409024033579074, -0.1317253953735625, -0.1317253953735625, 1.8573415294970357]\n",
      "2020-01-27 11:46:10,978 - LID - INFO - AUC is 0.852\n",
      "[Parallel(n_jobs=1)]: Using backend SequentialBackend with 1 concurrent workers.\n",
      "[Parallel(n_jobs=1)]: Done   1 out of   1 | elapsed:    0.0s finished\n",
      "2020-01-27 11:46:10,988 - LID - INFO - Coefs of detector [0.10514472424045432, -0.14884192464198778, 0.5409148669104138, 0.17097672532388625, 0.5372741438360037, 0.5372741438360037, 0.810750767100637]\n",
      "2020-01-27 11:46:10,992 - LID - INFO - AUC is 0.7867999999999999\n",
      "[Parallel(n_jobs=1)]: Using backend SequentialBackend with 1 concurrent workers.\n",
      "[Parallel(n_jobs=1)]: Done   1 out of   1 | elapsed:    0.0s finished\n",
      "2020-01-27 11:46:11,001 - LID - INFO - Coefs of detector [-0.5583159983715749, 0.1588859632951231, 0.3920635259633236, 0.7255840839098904, 0.595435949317993, 0.595435949317993, 0.1447014490124114]\n",
      "2020-01-27 11:46:11,005 - LID - INFO - AUC is 0.892\n",
      "[Parallel(n_jobs=1)]: Using backend SequentialBackend with 1 concurrent workers.\n",
      "[Parallel(n_jobs=1)]: Done   1 out of   1 | elapsed:    0.0s finished\n",
      "2020-01-27 11:46:11,018 - LID - INFO - Coefs of detector [-1.0890981321174455, 0.8885924298658489, -0.22262651750299295, 0.4156863282148103, -0.2798088149291142, -0.2798088149291142, 1.7041892218673982]\n",
      "2020-01-27 11:46:11,026 - LID - INFO - AUC is 0.8288\n",
      "[Parallel(n_jobs=1)]: Using backend SequentialBackend with 1 concurrent workers.\n",
      "[Parallel(n_jobs=1)]: Done   1 out of   1 | elapsed:    0.0s finished\n",
      "2020-01-27 11:46:11,035 - LID - INFO - Coefs of detector [0.11647933575578474, 0.8689469905467136, 0.06503331995825351, -0.008209904918403454, 0.5445788501788067, 0.5445788501788067, 0.5841302062103928]\n",
      "2020-01-27 11:46:11,041 - LID - INFO - AUC is 0.8487999999999999\n",
      "[Parallel(n_jobs=1)]: Using backend SequentialBackend with 1 concurrent workers.\n",
      "[Parallel(n_jobs=1)]: Done   1 out of   1 | elapsed:    0.1s finished\n",
      "2020-01-27 11:46:11,113 - LID - INFO - Coefs of detector [1.665819428722233, 0.4404592538068092, -0.0059254627817650375, -0.2776582760019318, 0.8238449500521359, 0.8238449500521359, -0.12799366475698537]\n",
      "2020-01-27 11:46:11,118 - LID - INFO - AUC is 0.9292\n",
      "2020-01-27 11:46:11,120 - LID - INFO - {0.01: 0.852, 0.025: 0.7867999999999999, 0.05: 0.892, 0.1: 0.8288, 0.4: 0.8487999999999999, 1.0: 0.9292}\n"
     ]
    }
   ],
   "source": [
    "from sklearn.linear_model import LogisticRegression\n",
    "from sklearn.preprocessing import StandardScaler\n",
    "from sklearn.metrics import roc_auc_score\n",
    "\n",
    "scaler = StandardScaler()\n",
    "\n",
    "all_aucs = dict()\n",
    "all_coefs = dict()\n",
    "\n",
    "for epsilon in datasets:\n",
    "    train_ds, test_ds = datasets[epsilon]\n",
    "    \n",
    "    detector = LogisticRegression(\n",
    "        fit_intercept=True,\n",
    "        verbose=1,\n",
    "        tol=1e-5,\n",
    "        max_iter=1000,\n",
    "        solver='lbfgs'\n",
    "    )\n",
    "    \n",
    "    ds_train_scaled = scaler.fit_transform(train_ds.iloc[:, :-3])\n",
    "\n",
    "    detector.fit(X=ds_train_scaled, y=train_ds.iloc[:, -3])\n",
    "    coefs = list(detector.coef_.flatten())\n",
    "    logger.info(f\"Coefs of detector {coefs}\")\n",
    "    \n",
    "    ds_test_scaled = scaler.transform(test_ds.iloc[:, :-3])\n",
    "\n",
    "    test_predictions = detector.predict_proba(X=ds_test_scaled)[:, 1]\n",
    "    auc = roc_auc_score(y_true=test_ds.iloc[:, -3], y_score=test_predictions)\n",
    "    logger.info(f\"AUC is {auc}\")\n",
    "\n",
    "    all_aucs[epsilon] = auc\n",
    "    all_coefs[epsilon] = coefs\n",
    "\n",
    "logger.info(all_aucs)"
   ]
  },
  {
   "cell_type": "code",
   "execution_count": 18,
   "metadata": {},
   "outputs": [
    {
     "data": {
      "text/plain": [
       "<matplotlib.legend.Legend at 0x1401dea58>"
      ]
     },
     "execution_count": 18,
     "metadata": {},
     "output_type": "execute_result"
    },
    {
     "data": {
      "image/png": "[encoded data removed]",
      "text/plain": [
       "<Figure size 720x720 with 2 Axes>"
      ]
     },
     "metadata": {
      "needs_background": "light"
     },
     "output_type": "display_data"
    }
   ],
   "source": [
    "keys = sorted(all_aucs.keys())\n",
    "matplotlib.rcParams['figure.figsize'] = (10.0, 10.0)\n",
    "\n",
    "fig, ax1 = plt.subplots()\n",
    "\n",
    "ax1.set_xlabel('epsilon')\n",
    "ax1.set_ylabel('AUC & l_inf norm')\n",
    "#plt.xscale('log')\n",
    "ax1.plot(\n",
    "    keys, [all_aucs[k] for k in keys], label=\"Mahalanobis\"\n",
    ")\n",
    "ax1.plot(\n",
    "    keys, [linfs[k] for k in keys], label=\"l_inf\"\n",
    ")\n",
    "\n",
    "ax2 = ax1.twinx()\n",
    "ax2.set_ylabel(\"l_2 norm\")\n",
    "\n",
    "ax2.plot(\n",
    "    keys, [l2s[k] for k in keys], label=\"l_2\", color=\"green\"\n",
    ")\n",
    "\n",
    "ax1.legend()\n",
    "ax2.legend()"
   ]
  },
  {
   "cell_type": "markdown",
   "metadata": {},
   "source": [
    "## Unsupervised Learning"
   ]
  },
  {
   "cell_type": "code",
   "execution_count": 19,
   "metadata": {},
   "outputs": [
    {
     "name": "stderr",
     "output_type": "stream",
     "text": [
      "2020-01-27 11:47:21,194 - LID - INFO - Average prediction 0.00015127432683210843\n",
      "2020-01-27 11:47:21,197 - LID - INFO - AUC for 0.01 => 0.5776\n",
      "2020-01-27 11:47:21,202 - LID - INFO - Average prediction 7.357282871113856e-05\n",
      "2020-01-27 11:47:21,205 - LID - INFO - AUC for 0.025 => 0.48160000000000003\n",
      "2020-01-27 11:47:21,210 - LID - INFO - Average prediction 9.690872745665969e-05\n",
      "2020-01-27 11:47:21,212 - LID - INFO - AUC for 0.05 => 0.5404\n",
      "2020-01-27 11:47:21,217 - LID - INFO - Average prediction 0.0001443514654231692\n",
      "2020-01-27 11:47:21,219 - LID - INFO - AUC for 0.1 => 0.6220000000000001\n",
      "2020-01-27 11:47:21,224 - LID - INFO - Average prediction 0.0001934935561623504\n",
      "2020-01-27 11:47:21,226 - LID - INFO - AUC for 0.4 => 0.6440000000000001\n",
      "2020-01-27 11:47:21,231 - LID - INFO - Average prediction 0.00013607805616364327\n",
      "2020-01-27 11:47:21,234 - LID - INFO - AUC for 1.0 => 0.5224\n",
      "2020-01-27 11:47:21,235 - LID - INFO - All AUCS are {0.01: 0.5776, 0.025: 0.48160000000000003, 0.05: 0.5404, 0.1: 0.6220000000000001, 0.4: 0.6440000000000001, 1.0: 0.5224}\n"
     ]
    }
   ],
   "source": [
    "from sklearn.svm import OneClassSVM\n",
    "\n",
    "scaler = StandardScaler()\n",
    "\n",
    "aucs = dict()\n",
    "coefs = dict() \n",
    "\n",
    "for key in datasets:\n",
    "    \n",
    "    ds_train, ds_test = datasets[key]\n",
    "    \n",
    "    detector = OneClassSVM(\n",
    "        tol=1e-5,\n",
    "        kernel='rbf',\n",
    "        nu=1e-4\n",
    "    )\n",
    "        \n",
    "    ds_train_scaled = scaler.fit_transform(ds_train.iloc[:, :-3])\n",
    "\n",
    "    detector.fit(X=ds_train_scaled)\n",
    "    #coef = list(detector.coef_.flatten())\n",
    "    #logger.info(f\"Coefs of detector {coef}\")\n",
    "    #logger.info(f\"Intercept of detector {detector.intercept_}\")\n",
    "    \n",
    "    ds_test_scaled = scaler.transform(ds_train.iloc[:, :-3])\n",
    "    \n",
    "    train_predictions = detector.decision_function(X=ds_train_scaled)\n",
    "    \n",
    "    test_predictions = detector.decision_function(X=ds_test_scaled)\n",
    "    logger.info(f\"Average prediction {np.mean(test_predictions)}\")\n",
    "    auc = roc_auc_score(y_true=ds_test.iloc[:, -3], y_score=test_predictions)\n",
    "    \n",
    "    logger.info(f\"AUC for {key} => {auc}\")\n",
    "\n",
    "    aucs[key] = auc\n",
    "    #coefs[key] = coef\n",
    "    \n",
    "logger.info(f\"All AUCS are {aucs}\")"
   ]
  },
  {
   "cell_type": "code",
   "execution_count": 20,
   "metadata": {},
   "outputs": [
    {
     "data": {
      "text/plain": [
       "<matplotlib.legend.Legend at 0x140444710>"
      ]
     },
     "execution_count": 20,
     "metadata": {},
     "output_type": "execute_result"
    },
    {
     "data": {
      "image/png": "[encoded data removed]",
      "text/plain": [
       "<Figure size 720x720 with 2 Axes>"
      ]
     },
     "metadata": {
      "needs_background": "light"
     },
     "output_type": "display_data"
    }
   ],
   "source": [
    "keys = sorted(aucs.keys())\n",
    "matplotlib.rcParams['figure.figsize'] = (10.0, 10.0)\n",
    "\n",
    "fig, ax1 = plt.subplots()\n",
    "\n",
    "ax1.set_xlabel('epsilon')\n",
    "ax1.set_ylabel('AUC & l_inf norm')\n",
    "#plt.xscale('log')\n",
    "ax1.plot(\n",
    "    keys, [aucs[k] for k in keys], label=\"Mahalanobis\"\n",
    ")\n",
    "ax1.plot(\n",
    "    keys, [linfs[k] for k in keys], label=\"l_inf\"\n",
    ")\n",
    "\n",
    "ax2 = ax1.twinx()\n",
    "ax2.set_ylabel(\"l_2 norm\")\n",
    "\n",
    "ax2.plot(\n",
    "    keys, [l2s[k] for k in keys], label=\"l_2\", color=\"green\"\n",
    ")\n",
    "\n",
    "ax1.legend()\n",
    "ax2.legend()"
   ]
  },
  {
   "cell_type": "code",
   "execution_count": null,
   "metadata": {},
   "outputs": [],
   "source": []
  }
 ],
 "metadata": {
  "kernelspec": {
   "display_name": "Python 3",
   "language": "python",
   "name": "python3"
  },
  "language_info": {
   "codemirror_mode": {
    "name": "ipython",
    "version": 3
   },
   "file_extension": ".py",
   "mimetype": "text/x-python",
   "name": "python",
   "nbconvert_exporter": "python",
   "pygments_lexer": "ipython3",
   "version": "3.6.10"
  }
 },
 "nbformat": 4,
 "nbformat_minor": 2
}

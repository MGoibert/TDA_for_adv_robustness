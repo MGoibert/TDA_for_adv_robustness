{
 "cells": [
  {
   "cell_type": "code",
   "execution_count": 1,
   "metadata": {},
   "outputs": [],
   "source": [
    "%matplotlib inline\n",
    "from matplotlib import pyplot as plt"
   ]
  },
  {
   "cell_type": "code",
   "execution_count": 2,
   "metadata": {},
   "outputs": [],
   "source": [
    "import matplotlib\n",
    "matplotlib.rcParams['figure.figsize'] = (10.0, 10.0)"
   ]
  },
  {
   "cell_type": "code",
   "execution_count": 3,
   "metadata": {},
   "outputs": [],
   "source": [
    "import numpy as np"
   ]
  },
  {
   "cell_type": "code",
   "execution_count": 4,
   "metadata": {},
   "outputs": [
    {
     "ename": "ModuleNotFoundError",
     "evalue": "No module named 'fwg'",
     "output_type": "error",
     "traceback": [
      "\u001b[0;31m---------------------------------------------------------------------------\u001b[0m",
      "\u001b[0;31mModuleNotFoundError\u001b[0m                       Traceback (most recent call last)",
      "\u001b[0;32m<ipython-input-4-248ff116e949>\u001b[0m in \u001b[0;36m<module>\u001b[0;34m\u001b[0m\n\u001b[0;32m----> 1\u001b[0;31m \u001b[0;32mfrom\u001b[0m \u001b[0mtda\u001b[0m\u001b[0;34m.\u001b[0m\u001b[0mexperiments\u001b[0m\u001b[0;34m.\u001b[0m\u001b[0mlid\u001b[0m\u001b[0;34m.\u001b[0m\u001b[0mlid_binary\u001b[0m \u001b[0;32mimport\u001b[0m \u001b[0mlogger\u001b[0m\u001b[0;34m,\u001b[0m \u001b[0mrun_experiment\u001b[0m\u001b[0;34m,\u001b[0m \u001b[0mConfig\u001b[0m\u001b[0;34m,\u001b[0m \u001b[0mArchitecture\u001b[0m\u001b[0;34m,\u001b[0m \u001b[0mget_feature_datasets\u001b[0m\u001b[0;34m\u001b[0m\u001b[0;34m\u001b[0m\u001b[0m\n\u001b[0m\u001b[1;32m      2\u001b[0m \u001b[0;32mfrom\u001b[0m \u001b[0mtda\u001b[0m\u001b[0;34m.\u001b[0m\u001b[0mmodels\u001b[0m\u001b[0;34m.\u001b[0m\u001b[0marchitectures\u001b[0m \u001b[0;32mimport\u001b[0m \u001b[0mget_architecture\u001b[0m\u001b[0;34m,\u001b[0m \u001b[0mmnist_lenet\u001b[0m\u001b[0;34m\u001b[0m\u001b[0;34m\u001b[0m\u001b[0m\n\u001b[1;32m      3\u001b[0m \u001b[0;32mfrom\u001b[0m \u001b[0mtda\u001b[0m\u001b[0;34m.\u001b[0m\u001b[0mmodels\u001b[0m \u001b[0;32mimport\u001b[0m \u001b[0mget_deep_model\u001b[0m\u001b[0;34m\u001b[0m\u001b[0;34m\u001b[0m\u001b[0m\n\u001b[1;32m      4\u001b[0m \u001b[0;32mfrom\u001b[0m \u001b[0mtda\u001b[0m\u001b[0;34m.\u001b[0m\u001b[0mmodels\u001b[0m\u001b[0;34m.\u001b[0m\u001b[0mdatasets\u001b[0m \u001b[0;32mimport\u001b[0m \u001b[0mDataset\u001b[0m\u001b[0;34m\u001b[0m\u001b[0;34m\u001b[0m\u001b[0m\n",
      "\u001b[0;32m~/anaconda3/envs/art/lib/python3.7/site-packages/tda-0.2-py3.7.egg/tda/experiments/lid/lid_binary.py\u001b[0m in \u001b[0;36m<module>\u001b[0;34m\u001b[0m\n\u001b[1;32m     15\u001b[0m \u001b[0;32mfrom\u001b[0m \u001b[0msklearn\u001b[0m\u001b[0;34m.\u001b[0m\u001b[0mmetrics\u001b[0m\u001b[0;34m.\u001b[0m\u001b[0mpairwise\u001b[0m \u001b[0;32mimport\u001b[0m \u001b[0meuclidean_distances\u001b[0m\u001b[0;34m\u001b[0m\u001b[0;34m\u001b[0m\u001b[0m\n\u001b[1;32m     16\u001b[0m \u001b[0;34m\u001b[0m\u001b[0m\n\u001b[0;32m---> 17\u001b[0;31m \u001b[0;32mfrom\u001b[0m \u001b[0mtda\u001b[0m\u001b[0;34m.\u001b[0m\u001b[0membeddings\u001b[0m \u001b[0;32mimport\u001b[0m \u001b[0mKernelType\u001b[0m\u001b[0;34m\u001b[0m\u001b[0;34m\u001b[0m\u001b[0m\n\u001b[0m\u001b[1;32m     18\u001b[0m \u001b[0;32mfrom\u001b[0m \u001b[0mtda\u001b[0m\u001b[0;34m.\u001b[0m\u001b[0mgraph_dataset\u001b[0m \u001b[0;32mimport\u001b[0m \u001b[0mDatasetLine\u001b[0m\u001b[0;34m\u001b[0m\u001b[0;34m\u001b[0m\u001b[0m\n\u001b[1;32m     19\u001b[0m \u001b[0;32mfrom\u001b[0m \u001b[0mtda\u001b[0m\u001b[0;34m.\u001b[0m\u001b[0mtda_logging\u001b[0m \u001b[0;32mimport\u001b[0m \u001b[0mget_logger\u001b[0m\u001b[0;34m\u001b[0m\u001b[0;34m\u001b[0m\u001b[0m\n",
      "\u001b[0;32m~/anaconda3/envs/art/lib/python3.7/site-packages/tda-0.2-py3.7.egg/tda/embeddings/__init__.py\u001b[0m in \u001b[0;36m<module>\u001b[0;34m\u001b[0m\n\u001b[1;32m      2\u001b[0m \u001b[0;32mimport\u001b[0m \u001b[0mpickle\u001b[0m\u001b[0;34m\u001b[0m\u001b[0;34m\u001b[0m\u001b[0m\n\u001b[1;32m      3\u001b[0m \u001b[0;34m\u001b[0m\u001b[0m\n\u001b[0;32m----> 4\u001b[0;31m \u001b[0;32mimport\u001b[0m \u001b[0mfwg\u001b[0m\u001b[0;34m\u001b[0m\u001b[0;34m\u001b[0m\u001b[0m\n\u001b[0m\u001b[1;32m      5\u001b[0m \u001b[0;32mimport\u001b[0m \u001b[0mtime\u001b[0m\u001b[0;34m\u001b[0m\u001b[0;34m\u001b[0m\u001b[0m\n\u001b[1;32m      6\u001b[0m \u001b[0;32mimport\u001b[0m \u001b[0mnumpy\u001b[0m \u001b[0;32mas\u001b[0m \u001b[0mnp\u001b[0m\u001b[0;34m\u001b[0m\u001b[0;34m\u001b[0m\u001b[0m\n",
      "\u001b[0;31mModuleNotFoundError\u001b[0m: No module named 'fwg'"
     ]
    }
   ],
   "source": [
    "from tda.experiments.lid.lid_binary import logger, run_experiment, Config, Architecture, get_feature_datasets\n",
    "from tda.models.architectures import get_architecture, mnist_lenet\n",
    "from tda.models import get_deep_model\n",
    "from tda.models.datasets import Dataset"
   ]
  },
  {
   "cell_type": "code",
   "execution_count": 2,
   "metadata": {},
   "outputs": [],
   "source": [
    "config = Config(\n",
    "    epochs=50,\n",
    "    dataset=\"MNIST\",\n",
    "    architecture=mnist_lenet.name,\n",
    "    train_noise=0.0,\n",
    "    nb_batches=1,\n",
    "    attack_type=\"FGSM\",\n",
    "    noise=0.0,\n",
    "    num_iter=1,\n",
    "    batch_size=100,\n",
    "    number_of_nn=20,\n",
    "    successful_adv=True\n",
    ")"
   ]
  },
  {
   "cell_type": "code",
   "execution_count": 3,
   "metadata": {
    "scrolled": false
   },
   "outputs": [
    {
     "name": "stderr",
     "output_type": "stream",
     "text": [
      "2020-01-14 19:46:29,439 - LID - INFO - Starting experiment 1579027589_0\n",
      "2020-01-14 19:46:39,480 - LID - INFO - Getting deep model...\n",
      "2020-01-14 19:46:39,480 - Models - INFO - Filename = /home/elvis/CODE/FORKED/TDA_for_adv_robustness/tda/../trained_models/mnist_mnist_lenet_50_epochs.model \n",
      "\n",
      "/home/elvis/anaconda3/envs/tda/lib/python3.6/site-packages/torch/serialization.py:493: SourceChangeWarning: source code of class 'tda.models.architectures.Architecture' has changed. you can retrieve the original source code by accessing the object's source attribute or set `torch.nn.Module.dump_patches = True` and use the patch tool to revert the changes.\n",
      "  warnings.warn(msg, SourceChangeWarning)\n",
      "2020-01-14 19:46:39,494 - Models - INFO - Loaded successfully model from /home/elvis/CODE/FORKED/TDA_for_adv_robustness/tda/../trained_models/mnist_mnist_lenet_50_epochs.model\n",
      "2020-01-14 19:48:19,254 - LID - INFO - {0.0: 0.5, 0.044444444444444446: 0.581132, 0.08888888888888889: 0.6625719999999999, 0.13333333333333333: 0.7179439999999999, 0.17777777777777778: 0.7548320000000001, 0.22222222222222224: 0.7651720000000001, 0.26666666666666666: 0.7835679999999999, 0.3111111111111111: 0.8049839999999999, 0.35555555555555557: 0.816424, 0.4: 0.830084}\n",
      "Error: no such table: experiments\n",
      "2020-01-14 19:48:19,255 - LID - INFO - Done with experiment 1579027589_0 !\n"
     ]
    }
   ],
   "source": [
    "n_jobs = 4\n",
    "epsilons = np.linspace(0, .4, num=10)\n",
    "all_aucs, all_coefs = run_experiment(config, epsilons=epsilons, n_jobs=n_jobs)"
   ]
  },
  {
   "cell_type": "code",
   "execution_count": 4,
   "metadata": {},
   "outputs": [
    {
     "data": {
      "text/plain": [
       "{0.0: 0.5,\n",
       " 0.044444444444444446: 0.581132,\n",
       " 0.08888888888888889: 0.6625719999999999,\n",
       " 0.13333333333333333: 0.7179439999999999,\n",
       " 0.17777777777777778: 0.7548320000000001,\n",
       " 0.22222222222222224: 0.7651720000000001,\n",
       " 0.26666666666666666: 0.7835679999999999,\n",
       " 0.3111111111111111: 0.8049839999999999,\n",
       " 0.35555555555555557: 0.816424,\n",
       " 0.4: 0.830084}"
      ]
     },
     "execution_count": 4,
     "metadata": {},
     "output_type": "execute_result"
    }
   ],
   "source": [
    "all_aucs"
   ]
  },
  {
   "cell_type": "code",
   "execution_count": 5,
   "metadata": {},
   "outputs": [],
   "source": [
    "dataset = Dataset(name=config.dataset)\n",
    "\n",
    "logger.info(f\"Getting deep model...\")\n",
    "archi: Architecture = get_deep_model(\n",
    "    num_epochs=config.epochs,\n",
    "    dataset=dataset,\n",
    "    architecture=get_architecture(config.architecture),\n",
    "    train_noise=config.train_noise\n",
    ")\n",
    "\n",
    "datasets = dict()\n",
    "\n",
    "for epsilon in [0.01, 0.025, 0.05, 0.1, 0.4, 1.0]:\n",
    "    ds_train, ds_test = get_feature_datasets(\n",
    "        config=config,\n",
    "        epsilon=epsilon,\n",
    "        dataset=dataset,\n",
    "        archi=archi\n",
    "    )\n",
    "    datasets[epsilon] = (ds_train, ds_test)"
   ]
  },
  {
   "cell_type": "code",
   "execution_count": null,
   "metadata": {},
   "outputs": [],
   "source": [
    "datasets[0.4][0]"
   ]
  },
  {
   "cell_type": "code",
   "execution_count": null,
   "metadata": {},
   "outputs": [],
   "source": [
    "linfs = dict()\n",
    "l2s = dict()\n",
    "\n",
    "for key in datasets:\n",
    "    linf_mean_train = datasets[key][0].query(\"label > 0\").linf_norm.mean()\n",
    "    l2_mean_train = datasets[key][0].query(\"label > 0\").l2_norm.mean()\n",
    "    \n",
    "    linfs[key] = linf_mean_train\n",
    "    l2s[key] = l2_mean_train"
   ]
  },
  {
   "cell_type": "markdown",
   "metadata": {},
   "source": [
    "## Supervised Learning"
   ]
  },
  {
   "cell_type": "code",
   "execution_count": null,
   "metadata": {},
   "outputs": [],
   "source": [
    "from sklearn.linear_model import LogisticRegression\n",
    "from sklearn.preprocessing import StandardScaler\n",
    "from sklearn.metrics import roc_auc_score\n",
    "\n",
    "scaler = StandardScaler()\n",
    "\n",
    "all_aucs = dict()\n",
    "all_coefs = dict()\n",
    "\n",
    "for epsilon in datasets:\n",
    "    train_ds, test_ds = datasets[epsilon]\n",
    "    \n",
    "    detector = LogisticRegression(\n",
    "        fit_intercept=True,\n",
    "        verbose=1,\n",
    "        tol=1e-5,\n",
    "        max_iter=1000,\n",
    "        solver='lbfgs'\n",
    "    )\n",
    "    \n",
    "    ds_train_scaled = scaler.fit_transform(train_ds.iloc[:, :-3])\n",
    "\n",
    "    detector.fit(X=ds_train_scaled, y=train_ds.iloc[:, -3])\n",
    "    coefs = list(detector.coef_.flatten())\n",
    "    logger.info(f\"Coefs of detector {coefs}\")\n",
    "    \n",
    "    ds_test_scaled = scaler.transform(test_ds.iloc[:, :-3])\n",
    "\n",
    "    test_predictions = detector.predict_proba(X=ds_test_scaled)[:, 1]\n",
    "    auc = roc_auc_score(y_true=test_ds.iloc[:, -3], y_score=test_predictions)\n",
    "    logger.info(f\"AUC is {auc}\")\n",
    "\n",
    "    all_aucs[epsilon] = auc\n",
    "    all_coefs[epsilon] = coefs\n",
    "\n",
    "logger.info(all_aucs)"
   ]
  },
  {
   "cell_type": "code",
   "execution_count": null,
   "metadata": {},
   "outputs": [],
   "source": [
    "keys = sorted(all_aucs.keys())\n",
    "matplotlib.rcParams['figure.figsize'] = (10.0, 10.0)\n",
    "\n",
    "fig, ax1 = plt.subplots()\n",
    "\n",
    "ax1.set_xlabel('epsilon')\n",
    "ax1.set_ylabel('AUC & l_inf norm')\n",
    "#plt.xscale('log')\n",
    "ax1.plot(\n",
    "    keys, [all_aucs[k] for k in keys], label=\"Mahalanobis\"\n",
    ")\n",
    "ax1.plot(\n",
    "    keys, [linfs[k] for k in keys], label=\"l_inf\"\n",
    ")\n",
    "\n",
    "ax2 = ax1.twinx()\n",
    "ax2.set_ylabel(\"l_2 norm\")\n",
    "\n",
    "ax2.plot(\n",
    "    keys, [l2s[k] for k in keys], label=\"l_2\", color=\"green\"\n",
    ")\n",
    "\n",
    "ax1.legend()\n",
    "ax2.legend()"
   ]
  },
  {
   "cell_type": "markdown",
   "metadata": {},
   "source": [
    "## Unsupervised Learning"
   ]
  },
  {
   "cell_type": "code",
   "execution_count": null,
   "metadata": {},
   "outputs": [],
   "source": [
    "from sklearn.svm import OneClassSVM\n",
    "\n",
    "scaler = StandardScaler()\n",
    "\n",
    "aucs = dict()\n",
    "coefs = dict() \n",
    "\n",
    "for key in datasets:\n",
    "    \n",
    "    ds_train, ds_test = datasets[key]\n",
    "    \n",
    "    detector = OneClassSVM(\n",
    "        tol=1e-5,\n",
    "        kernel='rbf',\n",
    "        nu=1e-4\n",
    "    )\n",
    "        \n",
    "    ds_train_scaled = scaler.fit_transform(ds_train.iloc[:, :-3])\n",
    "\n",
    "    detector.fit(X=ds_train_scaled)\n",
    "    #coef = list(detector.coef_.flatten())\n",
    "    #logger.info(f\"Coefs of detector {coef}\")\n",
    "    #logger.info(f\"Intercept of detector {detector.intercept_}\")\n",
    "    \n",
    "    ds_test_scaled = scaler.transform(ds_train.iloc[:, :-3])\n",
    "    \n",
    "    train_predictions = detector.decision_function(X=ds_train_scaled)\n",
    "    \n",
    "    test_predictions = detector.decision_function(X=ds_test_scaled)\n",
    "    logger.info(f\"Average prediction {np.mean(test_predictions)}\")\n",
    "    auc = roc_auc_score(y_true=ds_test.iloc[:, -3], y_score=test_predictions)\n",
    "    \n",
    "    logger.info(f\"AUC for {key} => {auc}\")\n",
    "\n",
    "    aucs[key] = auc\n",
    "    #coefs[key] = coef\n",
    "    \n",
    "logger.info(f\"All AUCS are {aucs}\")"
   ]
  },
  {
   "cell_type": "code",
   "execution_count": 12,
   "metadata": {},
   "outputs": [
    {
     "data": {
      "image/png": "[encoded data removed]",
      "text/plain": [
       "<Figure size 432x288 with 1 Axes>"
      ]
     },
     "metadata": {
      "needs_background": "light"
     },
     "output_type": "display_data"
    }
   ],
   "source": [
    "plt.plot(epsilons, accs, linewidth=2)\n",
    "plt.xlabel(\"$\\epsilon$\")\n",
    "plt.ylabel(\"detection AUC\")\n",
    "plt.tight_layout()\n",
    "plt.savefig(\"lid.png\", dpi=200, bbox_inches=\"tight\")"
   ]
  },
  {
   "cell_type": "code",
   "execution_count": 7,
   "metadata": {},
   "outputs": [],
   "source": [
    "keys = sorted(aucs.keys())\n",
    "matplotlib.rcParams['figure.figsize'] = (10.0, 10.0)\n",
    "\n",
    "fig, ax1 = plt.subplots()\n",
    "\n",
    "ax1.set_xlabel('epsilon')\n",
    "ax1.set_ylabel('AUC & l_inf norm')\n",
    "#plt.xscale('log')\n",
    "ax1.plot(\n",
    "    keys, [aucs[k] for k in keys], label=\"Mahalanobis\"\n",
    ")\n",
    "ax1.plot(\n",
    "    keys, [linfs[k] for k in keys], label=\"l_inf\"\n",
    ")\n",
    "\n",
    "ax2 = ax1.twinx()\n",
    "ax2.set_ylabel(\"l_2 norm\")\n",
    "\n",
    "ax2.plot(\n",
    "    keys, [l2s[k] for k in keys], label=\"l_2\", color=\"green\"\n",
    ")\n",
    "\n",
    "ax1.legend()\n",
    "ax2.legend()"
   ]
  },
  {
   "cell_type": "code",
   "execution_count": null,
   "metadata": {},
   "outputs": [],
   "source": []
  }
 ],
 "metadata": {
  "kernelspec": {
   "display_name": "Python 3",
   "language": "python",
   "name": "python3"
  },
  "language_info": {
   "codemirror_mode": {
    "name": "ipython",
    "version": 3
   },
   "file_extension": ".py",
   "mimetype": "text/x-python",
   "name": "python",
   "nbconvert_exporter": "python",
   "pygments_lexer": "ipython3",
   "version": "3.7.6"
  }
 },
 "nbformat": 4,
 "nbformat_minor": 2
}

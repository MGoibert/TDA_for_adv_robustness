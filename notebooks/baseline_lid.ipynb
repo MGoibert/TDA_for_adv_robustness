{
 "cells": [
  {
   "cell_type": "code",
   "execution_count": null,
   "metadata": {},
   "outputs": [],
   "source": [
    "from tda.experiments.lid.lid_binary import logger, run_experiment, Config, Architecture, get_feature_datasets\n",
    "from tda.models.architectures import get_architecture, mnist_lenet\n",
    "from tda.models import get_deep_model\n",
    "from tda.models.datasets import Dataset"
   ]
  },
  {
   "cell_type": "code",
   "execution_count": null,
   "metadata": {},
   "outputs": [],
   "source": [
    "config = Config(\n",
    "    epochs=50,\n",
    "    dataset=\"MNIST\",\n",
    "    architecture=mnist_lenet.name,\n",
    "    train_noise=0.0,\n",
    "    nb_batches=10,\n",
    "    attack_type=\"FGSM\",\n",
    "    noise=0.0,\n",
    "    num_iter=1,\n",
    "    batch_size=100,\n",
    "    number_of_nn=20\n",
    ")"
   ]
  },
  {
   "cell_type": "code",
   "execution_count": null,
   "metadata": {},
   "outputs": [],
   "source": [
    "dataset = Dataset(name=config.dataset)\n",
    "\n",
    "logger.info(f\"Getting deep model...\")\n",
    "archi: Architecture = get_deep_model(\n",
    "    num_epochs=config.epochs,\n",
    "    dataset=dataset,\n",
    "    architecture=get_architecture(config.architecture),\n",
    "    train_noise=config.train_noise\n",
    ")\n",
    "\n",
    "datasets = dict()\n",
    "\n",
    "for epsilon in [0.01, 0.025, 0.05, 0.1, 0.4, 1.0]:\n",
    "    ds_train, ds_test = get_feature_datasets(\n",
    "        config=config,\n",
    "        epsilon=epsilon,\n",
    "        dataset=dataset,\n",
    "        archi=archi\n",
    "    )\n",
    "    datasets[epsilon] = (ds_train, ds_test)"
   ]
  },
  {
   "cell_type": "code",
   "execution_count": null,
   "metadata": {},
   "outputs": [],
   "source": [
    "datasets[0.4][0]"
   ]
  },
  {
   "cell_type": "code",
   "execution_count": null,
   "metadata": {},
   "outputs": [],
   "source": [
    "from sklearn.linear_model import LogisticRegression\n",
    "from sklearn.metrics import roc_auc_score\n",
    "\n",
    "all_aucs = dict()\n",
    "all_coefs = dict()\n",
    "\n",
    "for epsilon in datasets:\n",
    "    train_ds, test_ds = datasets[epsilon]\n",
    "    \n",
    "    detector = LogisticRegression(\n",
    "        fit_intercept=True,\n",
    "        verbose=1,\n",
    "        tol=1e-5,\n",
    "        max_iter=1000,\n",
    "        solver='lbfgs'\n",
    "    )\n",
    "\n",
    "    detector.fit(X=train_ds.iloc[:, :-1], y=train_ds.iloc[:, -1])\n",
    "    coefs = list(detector.coef_.flatten())\n",
    "    logger.info(f\"Coefs of detector {coefs}\")\n",
    "\n",
    "    test_predictions = detector.predict_proba(X=test_ds.iloc[:, :-1])[:, 1]\n",
    "    auc = roc_auc_score(y_true=test_ds.iloc[:, -1], y_score=test_predictions)\n",
    "    logger.info(f\"AUC is {auc}\")\n",
    "\n",
    "    all_aucs[epsilon] = auc\n",
    "    all_coefs[epsilon] = coefs\n",
    "\n",
    "logger.info(all_aucs)"
   ]
  },
  {
   "cell_type": "code",
   "execution_count": null,
   "metadata": {},
   "outputs": [],
   "source": []
  }
 ],
 "metadata": {
  "kernelspec": {
   "display_name": "Python 3",
   "language": "python",
   "name": "python3"
  },
  "language_info": {
   "codemirror_mode": {
    "name": "ipython",
    "version": 3
   },
   "file_extension": ".py",
   "mimetype": "text/x-python",
   "name": "python",
   "nbconvert_exporter": "python",
   "pygments_lexer": "ipython3",
   "version": "3.6.8"
  }
 },
 "nbformat": 4,
 "nbformat_minor": 2
}

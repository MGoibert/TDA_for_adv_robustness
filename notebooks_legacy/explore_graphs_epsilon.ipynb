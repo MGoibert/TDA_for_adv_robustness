{
 "cells": [
  {
   "cell_type": "code",
   "execution_count": 1,
   "metadata": {},
   "outputs": [],
   "source": [
    "import pickle\n",
    "import numpy as np\n",
    "import pandas as pd\n",
    "import networkx as nx\n",
    "import matplotlib.pyplot as plt\n",
    "import tensorflow as tf\n",
    "from tqdm import tqdm\n",
    "import pandas as pd\n",
    "import typing\n",
    "import scipy\n",
    "from collections import OrderedDict\n",
    "from sklearn.manifold import TSNE\n",
    "from sklearn.svm import OneClassSVM\n",
    "from sklearn.metrics import roc_auc_score"
   ]
  },
  {
   "cell_type": "code",
   "execution_count": 2,
   "metadata": {},
   "outputs": [],
   "source": [
    "%matplotlib inline"
   ]
  },
  {
   "cell_type": "code",
   "execution_count": 3,
   "metadata": {},
   "outputs": [],
   "source": [
    "from bokeh.io import output_notebook\n",
    "from bokeh.plotting import figure, show\n",
    "from bokeh.models import ColumnDataSource"
   ]
  },
  {
   "cell_type": "code",
   "execution_count": 4,
   "metadata": {},
   "outputs": [
    {
     "data": {
      "text/html": [
       "\n",
       "    <div class=\"bk-root\">\n",
       "        <a href=\"https://bokeh.pydata.org\" target=\"_blank\" class=\"bk-logo bk-logo-small bk-logo-notebook\"></a>\n",
       "        <span id=\"1001\">Loading BokehJS ...</span>\n",
       "    </div>"
      ]
     },
     "metadata": {},
     "output_type": "display_data"
    },
    {
     "data": {
      "application/javascript": [
       "\n",
       "(function(root) {\n",
       "  function now() {\n",
       "    return new Date();\n",
       "  }\n",
       "\n",
       "  var force = true;\n",
       "\n",
       "  if (typeof root._bokeh_onload_callbacks === \"undefined\" || force === true) {\n",
       "    root._bokeh_onload_callbacks = [];\n",
       "    root._bokeh_is_loading = undefined;\n",
       "  }\n",
       "\n",
       "  var JS_MIME_TYPE = 'application/javascript';\n",
       "  var HTML_MIME_TYPE = 'text/html';\n",
       "  var EXEC_MIME_TYPE = 'application/vnd.bokehjs_exec.v0+json';\n",
       "  var CLASS_NAME = 'output_bokeh rendered_html';\n",
       "\n",
       "  /**\n",
       "   * Render data to the DOM node\n",
       "   */\n",
       "  function render(props, node) {\n",
       "    var script = document.createElement(\"script\");\n",
       "    node.appendChild(script);\n",
       "  }\n",
       "\n",
       "  /**\n",
       "   * Handle when an output is cleared or removed\n",
       "   */\n",
       "  function handleClearOutput(event, handle) {\n",
       "    var cell = handle.cell;\n",
       "\n",
       "    var id = cell.output_area._bokeh_element_id;\n",
       "    var server_id = cell.output_area._bokeh_server_id;\n",
       "    // Clean up Bokeh references\n",
       "    if (id != null && id in Bokeh.index) {\n",
       "      Bokeh.index[id].model.document.clear();\n",
       "      delete Bokeh.index[id];\n",
       "    }\n",
       "\n",
       "    if (server_id !== undefined) {\n",
       "      // Clean up Bokeh references\n",
       "      var cmd = \"from bokeh.io.state import curstate; print(curstate().uuid_to_server['\" + server_id + \"'].get_sessions()[0].document.roots[0]._id)\";\n",
       "      cell.notebook.kernel.execute(cmd, {\n",
       "        iopub: {\n",
       "          output: function(msg) {\n",
       "            var id = msg.content.text.trim();\n",
       "            if (id in Bokeh.index) {\n",
       "              Bokeh.index[id].model.document.clear();\n",
       "              delete Bokeh.index[id];\n",
       "            }\n",
       "          }\n",
       "        }\n",
       "      });\n",
       "      // Destroy server and session\n",
       "      var cmd = \"import bokeh.io.notebook as ion; ion.destroy_server('\" + server_id + \"')\";\n",
       "      cell.notebook.kernel.execute(cmd);\n",
       "    }\n",
       "  }\n",
       "\n",
       "  /**\n",
       "   * Handle when a new output is added\n",
       "   */\n",
       "  function handleAddOutput(event, handle) {\n",
       "    var output_area = handle.output_area;\n",
       "    var output = handle.output;\n",
       "\n",
       "    // limit handleAddOutput to display_data with EXEC_MIME_TYPE content only\n",
       "    if ((output.output_type != \"display_data\") || (!output.data.hasOwnProperty(EXEC_MIME_TYPE))) {\n",
       "      return\n",
       "    }\n",
       "\n",
       "    var toinsert = output_area.element.find(\".\" + CLASS_NAME.split(' ')[0]);\n",
       "\n",
       "    if (output.metadata[EXEC_MIME_TYPE][\"id\"] !== undefined) {\n",
       "      toinsert[toinsert.length - 1].firstChild.textContent = output.data[JS_MIME_TYPE];\n",
       "      // store reference to embed id on output_area\n",
       "      output_area._bokeh_element_id = output.metadata[EXEC_MIME_TYPE][\"id\"];\n",
       "    }\n",
       "    if (output.metadata[EXEC_MIME_TYPE][\"server_id\"] !== undefined) {\n",
       "      var bk_div = document.createElement(\"div\");\n",
       "      bk_div.innerHTML = output.data[HTML_MIME_TYPE];\n",
       "      var script_attrs = bk_div.children[0].attributes;\n",
       "      for (var i = 0; i < script_attrs.length; i++) {\n",
       "        toinsert[toinsert.length - 1].firstChild.setAttribute(script_attrs[i].name, script_attrs[i].value);\n",
       "      }\n",
       "      // store reference to server id on output_area\n",
       "      output_area._bokeh_server_id = output.metadata[EXEC_MIME_TYPE][\"server_id\"];\n",
       "    }\n",
       "  }\n",
       "\n",
       "  function register_renderer(events, OutputArea) {\n",
       "\n",
       "    function append_mime(data, metadata, element) {\n",
       "      // create a DOM node to render to\n",
       "      var toinsert = this.create_output_subarea(\n",
       "        metadata,\n",
       "        CLASS_NAME,\n",
       "        EXEC_MIME_TYPE\n",
       "      );\n",
       "      this.keyboard_manager.register_events(toinsert);\n",
       "      // Render to node\n",
       "      var props = {data: data, metadata: metadata[EXEC_MIME_TYPE]};\n",
       "      render(props, toinsert[toinsert.length - 1]);\n",
       "      element.append(toinsert);\n",
       "      return toinsert\n",
       "    }\n",
       "\n",
       "    /* Handle when an output is cleared or removed */\n",
       "    events.on('clear_output.CodeCell', handleClearOutput);\n",
       "    events.on('delete.Cell', handleClearOutput);\n",
       "\n",
       "    /* Handle when a new output is added */\n",
       "    events.on('output_added.OutputArea', handleAddOutput);\n",
       "\n",
       "    /**\n",
       "     * Register the mime type and append_mime function with output_area\n",
       "     */\n",
       "    OutputArea.prototype.register_mime_type(EXEC_MIME_TYPE, append_mime, {\n",
       "      /* Is output safe? */\n",
       "      safe: true,\n",
       "      /* Index of renderer in `output_area.display_order` */\n",
       "      index: 0\n",
       "    });\n",
       "  }\n",
       "\n",
       "  // register the mime type if in Jupyter Notebook environment and previously unregistered\n",
       "  if (root.Jupyter !== undefined) {\n",
       "    var events = require('base/js/events');\n",
       "    var OutputArea = require('notebook/js/outputarea').OutputArea;\n",
       "\n",
       "    if (OutputArea.prototype.mime_types().indexOf(EXEC_MIME_TYPE) == -1) {\n",
       "      register_renderer(events, OutputArea);\n",
       "    }\n",
       "  }\n",
       "\n",
       "  \n",
       "  if (typeof (root._bokeh_timeout) === \"undefined\" || force === true) {\n",
       "    root._bokeh_timeout = Date.now() + 5000;\n",
       "    root._bokeh_failed_load = false;\n",
       "  }\n",
       "\n",
       "  var NB_LOAD_WARNING = {'data': {'text/html':\n",
       "     \"<div style='background-color: #fdd'>\\n\"+\n",
       "     \"<p>\\n\"+\n",
       "     \"BokehJS does not appear to have successfully loaded. If loading BokehJS from CDN, this \\n\"+\n",
       "     \"may be due to a slow or bad network connection. Possible fixes:\\n\"+\n",
       "     \"</p>\\n\"+\n",
       "     \"<ul>\\n\"+\n",
       "     \"<li>re-rerun `output_notebook()` to attempt to load from CDN again, or</li>\\n\"+\n",
       "     \"<li>use INLINE resources instead, as so:</li>\\n\"+\n",
       "     \"</ul>\\n\"+\n",
       "     \"<code>\\n\"+\n",
       "     \"from bokeh.resources import INLINE\\n\"+\n",
       "     \"output_notebook(resources=INLINE)\\n\"+\n",
       "     \"</code>\\n\"+\n",
       "     \"</div>\"}};\n",
       "\n",
       "  function display_loaded() {\n",
       "    var el = document.getElementById(\"1001\");\n",
       "    if (el != null) {\n",
       "      el.textContent = \"BokehJS is loading...\";\n",
       "    }\n",
       "    if (root.Bokeh !== undefined) {\n",
       "      if (el != null) {\n",
       "        el.textContent = \"BokehJS \" + root.Bokeh.version + \" successfully loaded.\";\n",
       "      }\n",
       "    } else if (Date.now() < root._bokeh_timeout) {\n",
       "      setTimeout(display_loaded, 100)\n",
       "    }\n",
       "  }\n",
       "\n",
       "\n",
       "  function run_callbacks() {\n",
       "    try {\n",
       "      root._bokeh_onload_callbacks.forEach(function(callback) {\n",
       "        if (callback != null)\n",
       "          callback();\n",
       "      });\n",
       "    } finally {\n",
       "      delete root._bokeh_onload_callbacks\n",
       "    }\n",
       "    console.debug(\"Bokeh: all callbacks have finished\");\n",
       "  }\n",
       "\n",
       "  function load_libs(css_urls, js_urls, callback) {\n",
       "    if (css_urls == null) css_urls = [];\n",
       "    if (js_urls == null) js_urls = [];\n",
       "\n",
       "    root._bokeh_onload_callbacks.push(callback);\n",
       "    if (root._bokeh_is_loading > 0) {\n",
       "      console.debug(\"Bokeh: BokehJS is being loaded, scheduling callback at\", now());\n",
       "      return null;\n",
       "    }\n",
       "    if (js_urls == null || js_urls.length === 0) {\n",
       "      run_callbacks();\n",
       "      return null;\n",
       "    }\n",
       "    console.debug(\"Bokeh: BokehJS not loaded, scheduling load and callback at\", now());\n",
       "    root._bokeh_is_loading = css_urls.length + js_urls.length;\n",
       "\n",
       "    function on_load() {\n",
       "      root._bokeh_is_loading--;\n",
       "      if (root._bokeh_is_loading === 0) {\n",
       "        console.debug(\"Bokeh: all BokehJS libraries/stylesheets loaded\");\n",
       "        run_callbacks()\n",
       "      }\n",
       "    }\n",
       "\n",
       "    function on_error() {\n",
       "      console.error(\"failed to load \" + url);\n",
       "    }\n",
       "\n",
       "    for (var i = 0; i < css_urls.length; i++) {\n",
       "      var url = css_urls[i];\n",
       "      const element = document.createElement(\"link\");\n",
       "      element.onload = on_load;\n",
       "      element.onerror = on_error;\n",
       "      element.rel = \"stylesheet\";\n",
       "      element.type = \"text/css\";\n",
       "      element.href = url;\n",
       "      console.debug(\"Bokeh: injecting link tag for BokehJS stylesheet: \", url);\n",
       "      document.body.appendChild(element);\n",
       "    }\n",
       "\n",
       "    for (var i = 0; i < js_urls.length; i++) {\n",
       "      var url = js_urls[i];\n",
       "      var element = document.createElement('script');\n",
       "      element.onload = on_load;\n",
       "      element.onerror = on_error;\n",
       "      element.async = false;\n",
       "      element.src = url;\n",
       "      console.debug(\"Bokeh: injecting script tag for BokehJS library: \", url);\n",
       "      document.head.appendChild(element);\n",
       "    }\n",
       "  };var element = document.getElementById(\"1001\");\n",
       "  if (element == null) {\n",
       "    console.error(\"Bokeh: ERROR: autoload.js configured with elementid '1001' but no matching script tag was found. \")\n",
       "    return false;\n",
       "  }\n",
       "\n",
       "  function inject_raw_css(css) {\n",
       "    const element = document.createElement(\"style\");\n",
       "    element.appendChild(document.createTextNode(css));\n",
       "    document.body.appendChild(element);\n",
       "  }\n",
       "\n",
       "  var js_urls = [\"https://cdn.pydata.org/bokeh/release/bokeh-1.2.0.min.js\", \"https://cdn.pydata.org/bokeh/release/bokeh-widgets-1.2.0.min.js\", \"https://cdn.pydata.org/bokeh/release/bokeh-tables-1.2.0.min.js\", \"https://cdn.pydata.org/bokeh/release/bokeh-gl-1.2.0.min.js\"];\n",
       "  var css_urls = [\"https://cdn.pydata.org/bokeh/release/bokeh-1.2.0.min.css\", \"https://cdn.pydata.org/bokeh/release/bokeh-widgets-1.2.0.min.css\", \"https://cdn.pydata.org/bokeh/release/bokeh-tables-1.2.0.min.css\"];\n",
       "\n",
       "  var inline_js = [\n",
       "    function(Bokeh) {\n",
       "      Bokeh.set_log_level(\"info\");\n",
       "    },\n",
       "    \n",
       "    function(Bokeh) {\n",
       "      \n",
       "    },\n",
       "    function(Bokeh) {} // ensure no trailing comma for IE\n",
       "  ];\n",
       "\n",
       "  function run_inline_js() {\n",
       "    \n",
       "    if ((root.Bokeh !== undefined) || (force === true)) {\n",
       "      for (var i = 0; i < inline_js.length; i++) {\n",
       "        inline_js[i].call(root, root.Bokeh);\n",
       "      }if (force === true) {\n",
       "        display_loaded();\n",
       "      }} else if (Date.now() < root._bokeh_timeout) {\n",
       "      setTimeout(run_inline_js, 100);\n",
       "    } else if (!root._bokeh_failed_load) {\n",
       "      console.log(\"Bokeh: BokehJS failed to load within specified timeout.\");\n",
       "      root._bokeh_failed_load = true;\n",
       "    } else if (force !== true) {\n",
       "      var cell = $(document.getElementById(\"1001\")).parents('.cell').data().cell;\n",
       "      cell.output_area.append_execute_result(NB_LOAD_WARNING)\n",
       "    }\n",
       "\n",
       "  }\n",
       "\n",
       "  if (root._bokeh_is_loading === 0) {\n",
       "    console.debug(\"Bokeh: BokehJS loaded, going straight to plotting\");\n",
       "    run_inline_js();\n",
       "  } else {\n",
       "    load_libs(css_urls, js_urls, function() {\n",
       "      console.debug(\"Bokeh: BokehJS plotting callback run at\", now());\n",
       "      run_inline_js();\n",
       "    });\n",
       "  }\n",
       "}(window));"
      ],
      "application/vnd.bokehjs_load.v0+json": "\n(function(root) {\n  function now() {\n    return new Date();\n  }\n\n  var force = true;\n\n  if (typeof root._bokeh_onload_callbacks === \"undefined\" || force === true) {\n    root._bokeh_onload_callbacks = [];\n    root._bokeh_is_loading = undefined;\n  }\n\n  \n\n  \n  if (typeof (root._bokeh_timeout) === \"undefined\" || force === true) {\n    root._bokeh_timeout = Date.now() + 5000;\n    root._bokeh_failed_load = false;\n  }\n\n  var NB_LOAD_WARNING = {'data': {'text/html':\n     \"<div style='background-color: #fdd'>\\n\"+\n     \"<p>\\n\"+\n     \"BokehJS does not appear to have successfully loaded. If loading BokehJS from CDN, this \\n\"+\n     \"may be due to a slow or bad network connection. Possible fixes:\\n\"+\n     \"</p>\\n\"+\n     \"<ul>\\n\"+\n     \"<li>re-rerun `output_notebook()` to attempt to load from CDN again, or</li>\\n\"+\n     \"<li>use INLINE resources instead, as so:</li>\\n\"+\n     \"</ul>\\n\"+\n     \"<code>\\n\"+\n     \"from bokeh.resources import INLINE\\n\"+\n     \"output_notebook(resources=INLINE)\\n\"+\n     \"</code>\\n\"+\n     \"</div>\"}};\n\n  function display_loaded() {\n    var el = document.getElementById(\"1001\");\n    if (el != null) {\n      el.textContent = \"BokehJS is loading...\";\n    }\n    if (root.Bokeh !== undefined) {\n      if (el != null) {\n        el.textContent = \"BokehJS \" + root.Bokeh.version + \" successfully loaded.\";\n      }\n    } else if (Date.now() < root._bokeh_timeout) {\n      setTimeout(display_loaded, 100)\n    }\n  }\n\n\n  function run_callbacks() {\n    try {\n      root._bokeh_onload_callbacks.forEach(function(callback) {\n        if (callback != null)\n          callback();\n      });\n    } finally {\n      delete root._bokeh_onload_callbacks\n    }\n    console.debug(\"Bokeh: all callbacks have finished\");\n  }\n\n  function load_libs(css_urls, js_urls, callback) {\n    if (css_urls == null) css_urls = [];\n    if (js_urls == null) js_urls = [];\n\n    root._bokeh_onload_callbacks.push(callback);\n    if (root._bokeh_is_loading > 0) {\n      console.debug(\"Bokeh: BokehJS is being loaded, scheduling callback at\", now());\n      return null;\n    }\n    if (js_urls == null || js_urls.length === 0) {\n      run_callbacks();\n      return null;\n    }\n    console.debug(\"Bokeh: BokehJS not loaded, scheduling load and callback at\", now());\n    root._bokeh_is_loading = css_urls.length + js_urls.length;\n\n    function on_load() {\n      root._bokeh_is_loading--;\n      if (root._bokeh_is_loading === 0) {\n        console.debug(\"Bokeh: all BokehJS libraries/stylesheets loaded\");\n        run_callbacks()\n      }\n    }\n\n    function on_error() {\n      console.error(\"failed to load \" + url);\n    }\n\n    for (var i = 0; i < css_urls.length; i++) {\n      var url = css_urls[i];\n      const element = document.createElement(\"link\");\n      element.onload = on_load;\n      element.onerror = on_error;\n      element.rel = \"stylesheet\";\n      element.type = \"text/css\";\n      element.href = url;\n      console.debug(\"Bokeh: injecting link tag for BokehJS stylesheet: \", url);\n      document.body.appendChild(element);\n    }\n\n    for (var i = 0; i < js_urls.length; i++) {\n      var url = js_urls[i];\n      var element = document.createElement('script');\n      element.onload = on_load;\n      element.onerror = on_error;\n      element.async = false;\n      element.src = url;\n      console.debug(\"Bokeh: injecting script tag for BokehJS library: \", url);\n      document.head.appendChild(element);\n    }\n  };var element = document.getElementById(\"1001\");\n  if (element == null) {\n    console.error(\"Bokeh: ERROR: autoload.js configured with elementid '1001' but no matching script tag was found. \")\n    return false;\n  }\n\n  function inject_raw_css(css) {\n    const element = document.createElement(\"style\");\n    element.appendChild(document.createTextNode(css));\n    document.body.appendChild(element);\n  }\n\n  var js_urls = [\"https://cdn.pydata.org/bokeh/release/bokeh-1.2.0.min.js\", \"https://cdn.pydata.org/bokeh/release/bokeh-widgets-1.2.0.min.js\", \"https://cdn.pydata.org/bokeh/release/bokeh-tables-1.2.0.min.js\", \"https://cdn.pydata.org/bokeh/release/bokeh-gl-1.2.0.min.js\"];\n  var css_urls = [\"https://cdn.pydata.org/bokeh/release/bokeh-1.2.0.min.css\", \"https://cdn.pydata.org/bokeh/release/bokeh-widgets-1.2.0.min.css\", \"https://cdn.pydata.org/bokeh/release/bokeh-tables-1.2.0.min.css\"];\n\n  var inline_js = [\n    function(Bokeh) {\n      Bokeh.set_log_level(\"info\");\n    },\n    \n    function(Bokeh) {\n      \n    },\n    function(Bokeh) {} // ensure no trailing comma for IE\n  ];\n\n  function run_inline_js() {\n    \n    if ((root.Bokeh !== undefined) || (force === true)) {\n      for (var i = 0; i < inline_js.length; i++) {\n        inline_js[i].call(root, root.Bokeh);\n      }if (force === true) {\n        display_loaded();\n      }} else if (Date.now() < root._bokeh_timeout) {\n      setTimeout(run_inline_js, 100);\n    } else if (!root._bokeh_failed_load) {\n      console.log(\"Bokeh: BokehJS failed to load within specified timeout.\");\n      root._bokeh_failed_load = true;\n    } else if (force !== true) {\n      var cell = $(document.getElementById(\"1001\")).parents('.cell').data().cell;\n      cell.output_area.append_execute_result(NB_LOAD_WARNING)\n    }\n\n  }\n\n  if (root._bokeh_is_loading === 0) {\n    console.debug(\"Bokeh: BokehJS loaded, going straight to plotting\");\n    run_inline_js();\n  } else {\n    load_libs(css_urls, js_urls, function() {\n      console.debug(\"Bokeh: BokehJS plotting callback run at\", now());\n      run_inline_js();\n    });\n  }\n}(window));"
     },
     "metadata": {},
     "output_type": "display_data"
    }
   ],
   "source": [
    "output_notebook()"
   ]
  },
  {
   "cell_type": "code",
   "execution_count": 5,
   "metadata": {},
   "outputs": [],
   "source": [
    "import sys\n",
    "sys.path.append(\".\")"
   ]
  },
  {
   "cell_type": "code",
   "execution_count": 6,
   "metadata": {},
   "outputs": [],
   "source": [
    "from tda.graph_dataset import get_dataset\n",
    "from tda.embeddings.weisfeiler_lehman import get_wl_embedding\n",
    "from tda.embeddings import EmbeddingType, get_embedding"
   ]
  },
  {
   "cell_type": "code",
   "execution_count": 7,
   "metadata": {
    "scrolled": true
   },
   "outputs": [
    {
     "name": "stdout",
     "output_type": "stream",
     "text": [
      "Loaded successfully model from /tmp/tda/trained_models/mnist_20_epochs.model\n"
     ]
    },
    {
     "name": "stderr",
     "output_type": "stream",
     "text": [
      "Successfully generated dataset of 1000 points (model accuracy 92.0%)\n"
     ]
    }
   ],
   "source": [
    "datasets = {0: get_dataset(\n",
    "            num_epochs=20,\n",
    "            epsilon=0.04,\n",
    "            noise=0.0,\n",
    "            adv=False)\n",
    "           }"
   ]
  },
  {
   "cell_type": "code",
   "execution_count": 8,
   "metadata": {
    "scrolled": true
   },
   "outputs": [
    {
     "name": "stdout",
     "output_type": "stream",
     "text": [
      "Trying epsilon=0.01\n",
      "Loaded successfully model from /tmp/tda/trained_models/mnist_20_epochs.model\n"
     ]
    },
    {
     "name": "stderr",
     "output_type": "stream",
     "text": [
      "Successfully generated dataset of 1000 points (model accuracy 88.8%)\n"
     ]
    },
    {
     "name": "stdout",
     "output_type": "stream",
     "text": [
      "Trying epsilon=0.026250000000000002\n",
      "Loaded successfully model from /tmp/tda/trained_models/mnist_20_epochs.model\n"
     ]
    },
    {
     "name": "stderr",
     "output_type": "stream",
     "text": [
      "Successfully generated dataset of 1000 points (model accuracy 80.3%)\n"
     ]
    },
    {
     "name": "stdout",
     "output_type": "stream",
     "text": [
      "Trying epsilon=0.0425\n",
      "Loaded successfully model from /tmp/tda/trained_models/mnist_20_epochs.model\n"
     ]
    },
    {
     "name": "stderr",
     "output_type": "stream",
     "text": [
      "Successfully generated dataset of 1000 points (model accuracy 67.0%)\n"
     ]
    },
    {
     "name": "stdout",
     "output_type": "stream",
     "text": [
      "Trying epsilon=0.058750000000000004\n",
      "Loaded successfully model from /tmp/tda/trained_models/mnist_20_epochs.model\n"
     ]
    },
    {
     "name": "stderr",
     "output_type": "stream",
     "text": [
      "Successfully generated dataset of 1000 points (model accuracy 47.8%)\n"
     ]
    },
    {
     "name": "stdout",
     "output_type": "stream",
     "text": [
      "Trying epsilon=0.075\n",
      "Loaded successfully model from /tmp/tda/trained_models/mnist_20_epochs.model\n"
     ]
    },
    {
     "name": "stderr",
     "output_type": "stream",
     "text": [
      "Successfully generated dataset of 1000 points (model accuracy 32.2%)\n"
     ]
    }
   ],
   "source": [
    "for epsilon in np.linspace(0.01, 0.075, num=5):\n",
    "    print(f\"Trying epsilon={epsilon}\")\n",
    "    datasets[epsilon] = get_dataset(\n",
    "            num_epochs=20,\n",
    "            epsilon=epsilon,\n",
    "            noise=0.0,\n",
    "            adv=True\n",
    ")"
   ]
  },
  {
   "cell_type": "code",
   "execution_count": 124,
   "metadata": {},
   "outputs": [],
   "source": [
    "def get_vector_from_diagram(dgm):\n",
    "    \"\"\"\n",
    "    Simple tentative to get vector from persistent diagram\n",
    "    (Top 20 lifespans)\n",
    "    \"\"\"\n",
    "    return list(reversed(sorted([dp.death-dp.birth for dp in dgm][1:])))[:20]"
   ]
  },
  {
   "cell_type": "code",
   "execution_count": 9,
   "metadata": {
    "scrolled": true
   },
   "outputs": [
    {
     "name": "stderr",
     "output_type": "stream",
     "text": [
      "\r",
      "  0%|          | 0/100 [00:00<?, ?it/s]"
     ]
    },
    {
     "name": "stdout",
     "output_type": "stream",
     "text": [
      "Trying epsilon=0\n"
     ]
    },
    {
     "name": "stderr",
     "output_type": "stream",
     "text": [
      "100%|██████████| 100/100 [01:04<00:00,  1.66it/s]\n",
      "  0%|          | 0/100 [00:00<?, ?it/s]"
     ]
    },
    {
     "name": "stdout",
     "output_type": "stream",
     "text": [
      "Trying epsilon=0.01\n"
     ]
    },
    {
     "name": "stderr",
     "output_type": "stream",
     "text": [
      "100%|██████████| 100/100 [00:59<00:00,  1.57it/s]\n",
      "  0%|          | 0/100 [00:00<?, ?it/s]"
     ]
    },
    {
     "name": "stdout",
     "output_type": "stream",
     "text": [
      "Trying epsilon=0.026250000000000002\n"
     ]
    },
    {
     "name": "stderr",
     "output_type": "stream",
     "text": [
      "100%|██████████| 100/100 [00:54<00:00,  1.84it/s]\n",
      "  0%|          | 0/100 [00:00<?, ?it/s]"
     ]
    },
    {
     "name": "stdout",
     "output_type": "stream",
     "text": [
      "Trying epsilon=0.0425\n"
     ]
    },
    {
     "name": "stderr",
     "output_type": "stream",
     "text": [
      "100%|██████████| 100/100 [00:47<00:00,  2.04it/s]\n",
      "  0%|          | 0/100 [00:00<?, ?it/s]"
     ]
    },
    {
     "name": "stdout",
     "output_type": "stream",
     "text": [
      "Trying epsilon=0.058750000000000004\n"
     ]
    },
    {
     "name": "stderr",
     "output_type": "stream",
     "text": [
      "100%|██████████| 100/100 [00:44<00:00,  2.16it/s]\n",
      "  0%|          | 0/100 [00:00<?, ?it/s]"
     ]
    },
    {
     "name": "stdout",
     "output_type": "stream",
     "text": [
      "Trying epsilon=0.075\n"
     ]
    },
    {
     "name": "stderr",
     "output_type": "stream",
     "text": [
      "100%|██████████| 100/100 [00:42<00:00,  2.34it/s]\n"
     ]
    }
   ],
   "source": [
    "embeddings = list()\n",
    "\n",
    "for epsilon in datasets:\n",
    "    print(f\"Trying epsilon={epsilon}\")\n",
    "    ds = datasets[epsilon]\n",
    "    for idx in tqdm(range(len(ds[:100]))):\n",
    "        embedding = get_embedding(\n",
    "            embedding_type=EmbeddingType.WeisfeilerLehman,\n",
    "            graph=ds[idx][0],\n",
    "            params={'threshold': 20000, 'height': 5, 'hash_size': 50}\n",
    "        )\n",
    "        #embedding = get_embedding(\n",
    "        #    embedding_type=EmbeddingType.AnonymousWalk,\n",
    "        #    graph=ds[idx][0],\n",
    "        #    params={'steps': 5, 'threshold': 25000}\n",
    "        #)\n",
    "        #dgm = get_embedding(\n",
    "        #    embedding_type=EmbeddingType.PersistentDiagram,\n",
    "        #    graph=ds[idx][0],\n",
    "        #    params={'threshold': 25000}\n",
    "        #)\n",
    "        #embedding = get_vector_from_diagram(dgm)\n",
    "        \n",
    "        embeddings.append((embedding, ds[idx][1], ds[idx][2], ds[idx][3], epsilon))\n"
   ]
  },
  {
   "cell_type": "code",
   "execution_count": 17,
   "metadata": {},
   "outputs": [
    {
     "name": "stdout",
     "output_type": "stream",
     "text": [
      "[t-SNE] Computing 31 nearest neighbors...\n",
      "[t-SNE] Indexed 600 samples in 0.001s...\n",
      "[t-SNE] Computed neighbors for 600 samples in 0.033s...\n",
      "[t-SNE] Computed conditional probabilities for sample 600 / 600\n",
      "[t-SNE] Mean sigma: 27.332086\n",
      "[t-SNE] KL divergence after 250 iterations with early exaggeration: 87.200340\n",
      "[t-SNE] KL divergence after 9150 iterations: 1.580144\n"
     ]
    }
   ],
   "source": [
    "tsne = TSNE(n_components=2, verbose=1, perplexity=10, n_iter=100000)\n",
    "viz_data = tsne.fit_transform([np.ndarray.flatten(np.array((e[0]))) for e in embeddings])"
   ]
  },
  {
   "cell_type": "code",
   "execution_count": 18,
   "metadata": {},
   "outputs": [
    {
     "data": {
      "text/html": [
       "<div>\n",
       "<style scoped>\n",
       "    .dataframe tbody tr th:only-of-type {\n",
       "        vertical-align: middle;\n",
       "    }\n",
       "\n",
       "    .dataframe tbody tr th {\n",
       "        vertical-align: top;\n",
       "    }\n",
       "\n",
       "    .dataframe thead th {\n",
       "        text-align: right;\n",
       "    }\n",
       "</style>\n",
       "<table border=\"1\" class=\"dataframe\">\n",
       "  <thead>\n",
       "    <tr style=\"text-align: right;\">\n",
       "      <th></th>\n",
       "      <th>x1</th>\n",
       "      <th>x2</th>\n",
       "      <th>y</th>\n",
       "      <th>y_pred</th>\n",
       "      <th>y_adv</th>\n",
       "      <th>epsilon</th>\n",
       "      <th>color</th>\n",
       "      <th>color_adv</th>\n",
       "      <th>color_eps</th>\n",
       "      <th>legend</th>\n",
       "    </tr>\n",
       "  </thead>\n",
       "  <tbody>\n",
       "    <tr>\n",
       "      <th>0</th>\n",
       "      <td>-65.113136</td>\n",
       "      <td>58.388264</td>\n",
       "      <td>7</td>\n",
       "      <td>7</td>\n",
       "      <td>0</td>\n",
       "      <td>0.0</td>\n",
       "      <td>#FF7F00</td>\n",
       "      <td>#A6CEE3</td>\n",
       "      <td>#009392</td>\n",
       "      <td>0.0 (acc 92.0%)</td>\n",
       "    </tr>\n",
       "    <tr>\n",
       "      <th>1</th>\n",
       "      <td>-73.430603</td>\n",
       "      <td>11.132290</td>\n",
       "      <td>2</td>\n",
       "      <td>2</td>\n",
       "      <td>0</td>\n",
       "      <td>0.0</td>\n",
       "      <td>#B2DF8A</td>\n",
       "      <td>#A6CEE3</td>\n",
       "      <td>#009392</td>\n",
       "      <td>0.0 (acc 92.0%)</td>\n",
       "    </tr>\n",
       "    <tr>\n",
       "      <th>2</th>\n",
       "      <td>-93.846886</td>\n",
       "      <td>36.197308</td>\n",
       "      <td>1</td>\n",
       "      <td>1</td>\n",
       "      <td>0</td>\n",
       "      <td>0.0</td>\n",
       "      <td>#1F78B4</td>\n",
       "      <td>#A6CEE3</td>\n",
       "      <td>#009392</td>\n",
       "      <td>0.0 (acc 92.0%)</td>\n",
       "    </tr>\n",
       "    <tr>\n",
       "      <th>3</th>\n",
       "      <td>-84.581070</td>\n",
       "      <td>19.279242</td>\n",
       "      <td>0</td>\n",
       "      <td>0</td>\n",
       "      <td>0</td>\n",
       "      <td>0.0</td>\n",
       "      <td>#A6CEE3</td>\n",
       "      <td>#A6CEE3</td>\n",
       "      <td>#009392</td>\n",
       "      <td>0.0 (acc 92.0%)</td>\n",
       "    </tr>\n",
       "    <tr>\n",
       "      <th>4</th>\n",
       "      <td>-77.390648</td>\n",
       "      <td>41.818829</td>\n",
       "      <td>4</td>\n",
       "      <td>4</td>\n",
       "      <td>0</td>\n",
       "      <td>0.0</td>\n",
       "      <td>#FB9A99</td>\n",
       "      <td>#A6CEE3</td>\n",
       "      <td>#009392</td>\n",
       "      <td>0.0 (acc 92.0%)</td>\n",
       "    </tr>\n",
       "  </tbody>\n",
       "</table>\n",
       "</div>"
      ],
      "text/plain": [
       "          x1         x2  y  y_pred  y_adv  epsilon    color color_adv  \\\n",
       "0 -65.113136  58.388264  7       7      0      0.0  #FF7F00   #A6CEE3   \n",
       "1 -73.430603  11.132290  2       2      0      0.0  #B2DF8A   #A6CEE3   \n",
       "2 -93.846886  36.197308  1       1      0      0.0  #1F78B4   #A6CEE3   \n",
       "3 -84.581070  19.279242  0       0      0      0.0  #A6CEE3   #A6CEE3   \n",
       "4 -77.390648  41.818829  4       4      0      0.0  #FB9A99   #A6CEE3   \n",
       "\n",
       "  color_eps           legend  \n",
       "0   #009392  0.0 (acc 92.0%)  \n",
       "1   #009392  0.0 (acc 92.0%)  \n",
       "2   #009392  0.0 (acc 92.0%)  \n",
       "3   #009392  0.0 (acc 92.0%)  \n",
       "4   #009392  0.0 (acc 92.0%)  "
      ]
     },
     "execution_count": 18,
     "metadata": {},
     "output_type": "execute_result"
    }
   ],
   "source": [
    "from palettable.colorbrewer.qualitative import Paired_12\n",
    "from palettable.cartocolors.diverging import Temps_6\n",
    "\n",
    "def epsilon_color(epsilon):\n",
    "    keys = sorted(list(datasets.keys()))\n",
    "    idx = keys.index(epsilon)\n",
    "    return Temps_6.hex_colors[idx]\n",
    "\n",
    "\n",
    "\n",
    "df = pd.DataFrame({\n",
    "    \"x1\": viz_data[:,0],\n",
    "    \"x2\": viz_data[:, 1],\n",
    "    \"y\": [e[1] for e in embeddings],\n",
    "    \"y_pred\": [e[2] for e in embeddings],\n",
    "    \"y_adv\": [e[3] for e in embeddings],\n",
    "    \"epsilon\": [e[4] for e in embeddings]\n",
    "})\n",
    "\n",
    "df[\"color\"] = df[\"y\"].apply(lambda val: Paired_12.hex_colors[val])\n",
    "df[\"color_adv\"] = df[\"y_adv\"].apply(lambda val: Paired_12.hex_colors[val])\n",
    "df[\"color_eps\"] = df[\"epsilon\"].apply(epsilon_color)\n",
    "\n",
    "def epsilon_legend(epsilon):\n",
    "    eps_str = str(int(epsilon * 1000) / 1000)\n",
    "    accuracies = [\"92.0%\", \"88.8%\", \"80.3%\", \"67.0%\", \"47.8%\", \"32.2%\"]\n",
    "    keys = sorted(list(datasets.keys()))\n",
    "    idx = keys.index(epsilon)\n",
    "    acc = accuracies[idx]\n",
    "    return f\"{eps_str} (acc {acc})\"\n",
    "\n",
    "df[\"legend\"] = df[\"epsilon\"].apply(epsilon_legend)\n",
    "\n",
    "df.head()"
   ]
  },
  {
   "cell_type": "code",
   "execution_count": 19,
   "metadata": {},
   "outputs": [
    {
     "data": {
      "text/html": [
       "\n",
       "\n",
       "\n",
       "\n",
       "\n",
       "\n",
       "  <div class=\"bk-root\" id=\"6379dafb-17f4-42c7-ae8a-5e78b533c4d7\" data-root-id=\"1218\"></div>\n"
      ]
     },
     "metadata": {},
     "output_type": "display_data"
    },
    {
     "data": {
      "application/javascript": [
       "(function(root) {\n",
       "  function embed_document(root) {\n",
       "    \n",
       "  var docs_json = {\"97735aec-2577-4538-88f5-36522928afe4\":{\"roots\":{\"references\":[{\"attributes\":{\"below\":[{\"id\":\"1229\",\"type\":\"LinearAxis\"}],\"center\":[{\"id\":\"1233\",\"type\":\"Grid\"},{\"id\":\"1238\",\"type\":\"Grid\"},{\"id\":\"1264\",\"type\":\"Legend\"}],\"left\":[{\"id\":\"1234\",\"type\":\"LinearAxis\"}],\"renderers\":[{\"id\":\"1256\",\"type\":\"GlyphRenderer\"}],\"title\":{\"id\":\"1219\",\"type\":\"Title\"},\"toolbar\":{\"id\":\"1245\",\"type\":\"Toolbar\"},\"x_range\":{\"id\":\"1221\",\"type\":\"DataRange1d\"},\"x_scale\":{\"id\":\"1225\",\"type\":\"LinearScale\"},\"y_range\":{\"id\":\"1223\",\"type\":\"DataRange1d\"},\"y_scale\":{\"id\":\"1227\",\"type\":\"LinearScale\"}},\"id\":\"1218\",\"subtype\":\"Figure\",\"type\":\"Plot\"},{\"attributes\":{\"text\":\"Weisfeiler-Lehman steps for various epsilon\"},\"id\":\"1219\",\"type\":\"Title\"},{\"attributes\":{\"formatter\":{\"id\":\"1260\",\"type\":\"BasicTickFormatter\"},\"ticker\":{\"id\":\"1235\",\"type\":\"BasicTicker\"}},\"id\":\"1234\",\"type\":\"LinearAxis\"},{\"attributes\":{},\"id\":\"1262\",\"type\":\"BasicTickFormatter\"},{\"attributes\":{\"active_drag\":\"auto\",\"active_inspect\":\"auto\",\"active_multi\":null,\"active_scroll\":\"auto\",\"active_tap\":\"auto\",\"tools\":[{\"id\":\"1239\",\"type\":\"PanTool\"},{\"id\":\"1240\",\"type\":\"WheelZoomTool\"},{\"id\":\"1241\",\"type\":\"BoxZoomTool\"},{\"id\":\"1242\",\"type\":\"SaveTool\"},{\"id\":\"1243\",\"type\":\"ResetTool\"},{\"id\":\"1244\",\"type\":\"HelpTool\"}]},\"id\":\"1245\",\"type\":\"Toolbar\"},{\"attributes\":{\"callback\":null,\"data\":{\"color\":[\"#FF7F00\",\"#B2DF8A\",\"#1F78B4\",\"#A6CEE3\",\"#FB9A99\",\"#1F78B4\",\"#FB9A99\",\"#6A3D9A\",\"#E31A1C\",\"#6A3D9A\",\"#A6CEE3\",\"#FDBF6F\",\"#6A3D9A\",\"#A6CEE3\",\"#1F78B4\",\"#E31A1C\",\"#6A3D9A\",\"#FF7F00\",\"#33A02C\",\"#FB9A99\",\"#6A3D9A\",\"#FDBF6F\",\"#FDBF6F\",\"#E31A1C\",\"#FB9A99\",\"#A6CEE3\",\"#FF7F00\",\"#FB9A99\",\"#A6CEE3\",\"#1F78B4\",\"#33A02C\",\"#1F78B4\",\"#33A02C\",\"#FB9A99\",\"#FF7F00\",\"#B2DF8A\",\"#FF7F00\",\"#1F78B4\",\"#B2DF8A\",\"#1F78B4\",\"#1F78B4\",\"#FF7F00\",\"#FB9A99\",\"#B2DF8A\",\"#33A02C\",\"#E31A1C\",\"#1F78B4\",\"#B2DF8A\",\"#FB9A99\",\"#FB9A99\",\"#FDBF6F\",\"#33A02C\",\"#E31A1C\",\"#E31A1C\",\"#FDBF6F\",\"#A6CEE3\",\"#FB9A99\",\"#1F78B4\",\"#6A3D9A\",\"#E31A1C\",\"#FF7F00\",\"#CAB2D6\",\"#6A3D9A\",\"#33A02C\",\"#FF7F00\",\"#FB9A99\",\"#FDBF6F\",\"#FB9A99\",\"#33A02C\",\"#A6CEE3\",\"#FF7F00\",\"#A6CEE3\",\"#B2DF8A\",\"#6A3D9A\",\"#1F78B4\",\"#FF7F00\",\"#33A02C\",\"#B2DF8A\",\"#6A3D9A\",\"#FF7F00\",\"#FF7F00\",\"#FDBF6F\",\"#B2DF8A\",\"#FF7F00\",\"#CAB2D6\",\"#FB9A99\",\"#FF7F00\",\"#33A02C\",\"#FDBF6F\",\"#1F78B4\",\"#33A02C\",\"#FDBF6F\",\"#6A3D9A\",\"#33A02C\",\"#1F78B4\",\"#FB9A99\",\"#1F78B4\",\"#FF7F00\",\"#FDBF6F\",\"#6A3D9A\",\"#FF7F00\",\"#B2DF8A\",\"#1F78B4\",\"#A6CEE3\",\"#FB9A99\",\"#1F78B4\",\"#FB9A99\",\"#6A3D9A\",\"#E31A1C\",\"#6A3D9A\",\"#A6CEE3\",\"#FDBF6F\",\"#6A3D9A\",\"#A6CEE3\",\"#1F78B4\",\"#E31A1C\",\"#6A3D9A\",\"#FF7F00\",\"#33A02C\",\"#FB9A99\",\"#6A3D9A\",\"#FDBF6F\",\"#FDBF6F\",\"#E31A1C\",\"#FB9A99\",\"#A6CEE3\",\"#FF7F00\",\"#FB9A99\",\"#A6CEE3\",\"#1F78B4\",\"#33A02C\",\"#1F78B4\",\"#33A02C\",\"#FB9A99\",\"#FF7F00\",\"#B2DF8A\",\"#FF7F00\",\"#1F78B4\",\"#B2DF8A\",\"#1F78B4\",\"#1F78B4\",\"#FF7F00\",\"#FB9A99\",\"#B2DF8A\",\"#33A02C\",\"#E31A1C\",\"#1F78B4\",\"#B2DF8A\",\"#FB9A99\",\"#FB9A99\",\"#FDBF6F\",\"#33A02C\",\"#E31A1C\",\"#E31A1C\",\"#FDBF6F\",\"#A6CEE3\",\"#FB9A99\",\"#1F78B4\",\"#6A3D9A\",\"#E31A1C\",\"#FF7F00\",\"#CAB2D6\",\"#6A3D9A\",\"#33A02C\",\"#FF7F00\",\"#FB9A99\",\"#FDBF6F\",\"#FB9A99\",\"#33A02C\",\"#A6CEE3\",\"#FF7F00\",\"#A6CEE3\",\"#B2DF8A\",\"#6A3D9A\",\"#1F78B4\",\"#FF7F00\",\"#33A02C\",\"#B2DF8A\",\"#6A3D9A\",\"#FF7F00\",\"#FF7F00\",\"#FDBF6F\",\"#B2DF8A\",\"#FF7F00\",\"#CAB2D6\",\"#FB9A99\",\"#FF7F00\",\"#33A02C\",\"#FDBF6F\",\"#1F78B4\",\"#33A02C\",\"#FDBF6F\",\"#6A3D9A\",\"#33A02C\",\"#1F78B4\",\"#FB9A99\",\"#1F78B4\",\"#FF7F00\",\"#FDBF6F\",\"#6A3D9A\",\"#FF7F00\",\"#B2DF8A\",\"#1F78B4\",\"#A6CEE3\",\"#FB9A99\",\"#1F78B4\",\"#FB9A99\",\"#6A3D9A\",\"#E31A1C\",\"#6A3D9A\",\"#A6CEE3\",\"#FDBF6F\",\"#6A3D9A\",\"#A6CEE3\",\"#1F78B4\",\"#E31A1C\",\"#6A3D9A\",\"#FF7F00\",\"#33A02C\",\"#FB9A99\",\"#6A3D9A\",\"#FDBF6F\",\"#FDBF6F\",\"#E31A1C\",\"#FB9A99\",\"#A6CEE3\",\"#FF7F00\",\"#FB9A99\",\"#A6CEE3\",\"#1F78B4\",\"#33A02C\",\"#1F78B4\",\"#33A02C\",\"#FB9A99\",\"#FF7F00\",\"#B2DF8A\",\"#FF7F00\",\"#1F78B4\",\"#B2DF8A\",\"#1F78B4\",\"#1F78B4\",\"#FF7F00\",\"#FB9A99\",\"#B2DF8A\",\"#33A02C\",\"#E31A1C\",\"#1F78B4\",\"#B2DF8A\",\"#FB9A99\",\"#FB9A99\",\"#FDBF6F\",\"#33A02C\",\"#E31A1C\",\"#E31A1C\",\"#FDBF6F\",\"#A6CEE3\",\"#FB9A99\",\"#1F78B4\",\"#6A3D9A\",\"#E31A1C\",\"#FF7F00\",\"#CAB2D6\",\"#6A3D9A\",\"#33A02C\",\"#FF7F00\",\"#FB9A99\",\"#FDBF6F\",\"#FB9A99\",\"#33A02C\",\"#A6CEE3\",\"#FF7F00\",\"#A6CEE3\",\"#B2DF8A\",\"#6A3D9A\",\"#1F78B4\",\"#FF7F00\",\"#33A02C\",\"#B2DF8A\",\"#6A3D9A\",\"#FF7F00\",\"#FF7F00\",\"#FDBF6F\",\"#B2DF8A\",\"#FF7F00\",\"#CAB2D6\",\"#FB9A99\",\"#FF7F00\",\"#33A02C\",\"#FDBF6F\",\"#1F78B4\",\"#33A02C\",\"#FDBF6F\",\"#6A3D9A\",\"#33A02C\",\"#1F78B4\",\"#FB9A99\",\"#1F78B4\",\"#FF7F00\",\"#FDBF6F\",\"#6A3D9A\",\"#FF7F00\",\"#B2DF8A\",\"#1F78B4\",\"#A6CEE3\",\"#FB9A99\",\"#1F78B4\",\"#FB9A99\",\"#6A3D9A\",\"#E31A1C\",\"#6A3D9A\",\"#A6CEE3\",\"#FDBF6F\",\"#6A3D9A\",\"#A6CEE3\",\"#1F78B4\",\"#E31A1C\",\"#6A3D9A\",\"#FF7F00\",\"#33A02C\",\"#FB9A99\",\"#6A3D9A\",\"#FDBF6F\",\"#FDBF6F\",\"#E31A1C\",\"#FB9A99\",\"#A6CEE3\",\"#FF7F00\",\"#FB9A99\",\"#A6CEE3\",\"#1F78B4\",\"#33A02C\",\"#1F78B4\",\"#33A02C\",\"#FB9A99\",\"#FF7F00\",\"#B2DF8A\",\"#FF7F00\",\"#1F78B4\",\"#B2DF8A\",\"#1F78B4\",\"#1F78B4\",\"#FF7F00\",\"#FB9A99\",\"#B2DF8A\",\"#33A02C\",\"#E31A1C\",\"#1F78B4\",\"#B2DF8A\",\"#FB9A99\",\"#FB9A99\",\"#FDBF6F\",\"#33A02C\",\"#E31A1C\",\"#E31A1C\",\"#FDBF6F\",\"#A6CEE3\",\"#FB9A99\",\"#1F78B4\",\"#6A3D9A\",\"#E31A1C\",\"#FF7F00\",\"#CAB2D6\",\"#6A3D9A\",\"#33A02C\",\"#FF7F00\",\"#FB9A99\",\"#FDBF6F\",\"#FB9A99\",\"#33A02C\",\"#A6CEE3\",\"#FF7F00\",\"#A6CEE3\",\"#B2DF8A\",\"#6A3D9A\",\"#1F78B4\",\"#FF7F00\",\"#33A02C\",\"#B2DF8A\",\"#6A3D9A\",\"#FF7F00\",\"#FF7F00\",\"#FDBF6F\",\"#B2DF8A\",\"#FF7F00\",\"#CAB2D6\",\"#FB9A99\",\"#FF7F00\",\"#33A02C\",\"#FDBF6F\",\"#1F78B4\",\"#33A02C\",\"#FDBF6F\",\"#6A3D9A\",\"#33A02C\",\"#1F78B4\",\"#FB9A99\",\"#1F78B4\",\"#FF7F00\",\"#FDBF6F\",\"#6A3D9A\",\"#FF7F00\",\"#B2DF8A\",\"#1F78B4\",\"#A6CEE3\",\"#FB9A99\",\"#1F78B4\",\"#FB9A99\",\"#6A3D9A\",\"#E31A1C\",\"#6A3D9A\",\"#A6CEE3\",\"#FDBF6F\",\"#6A3D9A\",\"#A6CEE3\",\"#1F78B4\",\"#E31A1C\",\"#6A3D9A\",\"#FF7F00\",\"#33A02C\",\"#FB9A99\",\"#6A3D9A\",\"#FDBF6F\",\"#FDBF6F\",\"#E31A1C\",\"#FB9A99\",\"#A6CEE3\",\"#FF7F00\",\"#FB9A99\",\"#A6CEE3\",\"#1F78B4\",\"#33A02C\",\"#1F78B4\",\"#33A02C\",\"#FB9A99\",\"#FF7F00\",\"#B2DF8A\",\"#FF7F00\",\"#1F78B4\",\"#B2DF8A\",\"#1F78B4\",\"#1F78B4\",\"#FF7F00\",\"#FB9A99\",\"#B2DF8A\",\"#33A02C\",\"#E31A1C\",\"#1F78B4\",\"#B2DF8A\",\"#FB9A99\",\"#FB9A99\",\"#FDBF6F\",\"#33A02C\",\"#E31A1C\",\"#E31A1C\",\"#FDBF6F\",\"#A6CEE3\",\"#FB9A99\",\"#1F78B4\",\"#6A3D9A\",\"#E31A1C\",\"#FF7F00\",\"#CAB2D6\",\"#6A3D9A\",\"#33A02C\",\"#FF7F00\",\"#FB9A99\",\"#FDBF6F\",\"#FB9A99\",\"#33A02C\",\"#A6CEE3\",\"#FF7F00\",\"#A6CEE3\",\"#B2DF8A\",\"#6A3D9A\",\"#1F78B4\",\"#FF7F00\",\"#33A02C\",\"#B2DF8A\",\"#6A3D9A\",\"#FF7F00\",\"#FF7F00\",\"#FDBF6F\",\"#B2DF8A\",\"#FF7F00\",\"#CAB2D6\",\"#FB9A99\",\"#FF7F00\",\"#33A02C\",\"#FDBF6F\",\"#1F78B4\",\"#33A02C\",\"#FDBF6F\",\"#6A3D9A\",\"#33A02C\",\"#1F78B4\",\"#FB9A99\",\"#1F78B4\",\"#FF7F00\",\"#FDBF6F\",\"#6A3D9A\",\"#FF7F00\",\"#B2DF8A\",\"#1F78B4\",\"#A6CEE3\",\"#FB9A99\",\"#1F78B4\",\"#FB9A99\",\"#6A3D9A\",\"#E31A1C\",\"#6A3D9A\",\"#A6CEE3\",\"#FDBF6F\",\"#6A3D9A\",\"#A6CEE3\",\"#1F78B4\",\"#E31A1C\",\"#6A3D9A\",\"#FF7F00\",\"#33A02C\",\"#FB9A99\",\"#6A3D9A\",\"#FDBF6F\",\"#FDBF6F\",\"#E31A1C\",\"#FB9A99\",\"#A6CEE3\",\"#FF7F00\",\"#FB9A99\",\"#A6CEE3\",\"#1F78B4\",\"#33A02C\",\"#1F78B4\",\"#33A02C\",\"#FB9A99\",\"#FF7F00\",\"#B2DF8A\",\"#FF7F00\",\"#1F78B4\",\"#B2DF8A\",\"#1F78B4\",\"#1F78B4\",\"#FF7F00\",\"#FB9A99\",\"#B2DF8A\",\"#33A02C\",\"#E31A1C\",\"#1F78B4\",\"#B2DF8A\",\"#FB9A99\",\"#FB9A99\",\"#FDBF6F\",\"#33A02C\",\"#E31A1C\",\"#E31A1C\",\"#FDBF6F\",\"#A6CEE3\",\"#FB9A99\",\"#1F78B4\",\"#6A3D9A\",\"#E31A1C\",\"#FF7F00\",\"#CAB2D6\",\"#6A3D9A\",\"#33A02C\",\"#FF7F00\",\"#FB9A99\",\"#FDBF6F\",\"#FB9A99\",\"#33A02C\",\"#A6CEE3\",\"#FF7F00\",\"#A6CEE3\",\"#B2DF8A\",\"#6A3D9A\",\"#1F78B4\",\"#FF7F00\",\"#33A02C\",\"#B2DF8A\",\"#6A3D9A\",\"#FF7F00\",\"#FF7F00\",\"#FDBF6F\",\"#B2DF8A\",\"#FF7F00\",\"#CAB2D6\",\"#FB9A99\",\"#FF7F00\",\"#33A02C\",\"#FDBF6F\",\"#1F78B4\",\"#33A02C\",\"#FDBF6F\",\"#6A3D9A\",\"#33A02C\",\"#1F78B4\",\"#FB9A99\",\"#1F78B4\",\"#FF7F00\",\"#FDBF6F\",\"#6A3D9A\"],\"color_adv\":[\"#A6CEE3\",\"#A6CEE3\",\"#A6CEE3\",\"#A6CEE3\",\"#A6CEE3\",\"#A6CEE3\",\"#A6CEE3\",\"#A6CEE3\",\"#A6CEE3\",\"#A6CEE3\",\"#A6CEE3\",\"#A6CEE3\",\"#A6CEE3\",\"#A6CEE3\",\"#A6CEE3\",\"#A6CEE3\",\"#A6CEE3\",\"#A6CEE3\",\"#A6CEE3\",\"#A6CEE3\",\"#A6CEE3\",\"#A6CEE3\",\"#A6CEE3\",\"#A6CEE3\",\"#A6CEE3\",\"#A6CEE3\",\"#A6CEE3\",\"#A6CEE3\",\"#A6CEE3\",\"#A6CEE3\",\"#A6CEE3\",\"#A6CEE3\",\"#A6CEE3\",\"#A6CEE3\",\"#A6CEE3\",\"#A6CEE3\",\"#A6CEE3\",\"#A6CEE3\",\"#A6CEE3\",\"#A6CEE3\",\"#A6CEE3\",\"#A6CEE3\",\"#A6CEE3\",\"#A6CEE3\",\"#A6CEE3\",\"#A6CEE3\",\"#A6CEE3\",\"#A6CEE3\",\"#A6CEE3\",\"#A6CEE3\",\"#A6CEE3\",\"#A6CEE3\",\"#A6CEE3\",\"#A6CEE3\",\"#A6CEE3\",\"#A6CEE3\",\"#A6CEE3\",\"#A6CEE3\",\"#A6CEE3\",\"#A6CEE3\",\"#A6CEE3\",\"#A6CEE3\",\"#A6CEE3\",\"#A6CEE3\",\"#A6CEE3\",\"#A6CEE3\",\"#A6CEE3\",\"#A6CEE3\",\"#A6CEE3\",\"#A6CEE3\",\"#A6CEE3\",\"#A6CEE3\",\"#A6CEE3\",\"#A6CEE3\",\"#A6CEE3\",\"#A6CEE3\",\"#A6CEE3\",\"#A6CEE3\",\"#A6CEE3\",\"#A6CEE3\",\"#A6CEE3\",\"#A6CEE3\",\"#A6CEE3\",\"#A6CEE3\",\"#A6CEE3\",\"#A6CEE3\",\"#A6CEE3\",\"#A6CEE3\",\"#A6CEE3\",\"#A6CEE3\",\"#A6CEE3\",\"#A6CEE3\",\"#A6CEE3\",\"#A6CEE3\",\"#A6CEE3\",\"#A6CEE3\",\"#A6CEE3\",\"#A6CEE3\",\"#A6CEE3\",\"#A6CEE3\",\"#1F78B4\",\"#1F78B4\",\"#1F78B4\",\"#1F78B4\",\"#1F78B4\",\"#1F78B4\",\"#1F78B4\",\"#1F78B4\",\"#1F78B4\",\"#1F78B4\",\"#1F78B4\",\"#1F78B4\",\"#1F78B4\",\"#1F78B4\",\"#1F78B4\",\"#1F78B4\",\"#1F78B4\",\"#1F78B4\",\"#1F78B4\",\"#1F78B4\",\"#1F78B4\",\"#1F78B4\",\"#1F78B4\",\"#1F78B4\",\"#1F78B4\",\"#1F78B4\",\"#1F78B4\",\"#1F78B4\",\"#1F78B4\",\"#1F78B4\",\"#1F78B4\",\"#1F78B4\",\"#1F78B4\",\"#1F78B4\",\"#1F78B4\",\"#1F78B4\",\"#1F78B4\",\"#1F78B4\",\"#1F78B4\",\"#1F78B4\",\"#1F78B4\",\"#1F78B4\",\"#1F78B4\",\"#1F78B4\",\"#1F78B4\",\"#1F78B4\",\"#1F78B4\",\"#1F78B4\",\"#1F78B4\",\"#1F78B4\",\"#1F78B4\",\"#1F78B4\",\"#1F78B4\",\"#1F78B4\",\"#1F78B4\",\"#1F78B4\",\"#1F78B4\",\"#1F78B4\",\"#1F78B4\",\"#1F78B4\",\"#1F78B4\",\"#1F78B4\",\"#1F78B4\",\"#1F78B4\",\"#1F78B4\",\"#1F78B4\",\"#1F78B4\",\"#1F78B4\",\"#1F78B4\",\"#1F78B4\",\"#1F78B4\",\"#1F78B4\",\"#1F78B4\",\"#1F78B4\",\"#1F78B4\",\"#1F78B4\",\"#1F78B4\",\"#1F78B4\",\"#1F78B4\",\"#1F78B4\",\"#1F78B4\",\"#1F78B4\",\"#1F78B4\",\"#1F78B4\",\"#1F78B4\",\"#1F78B4\",\"#1F78B4\",\"#1F78B4\",\"#1F78B4\",\"#1F78B4\",\"#1F78B4\",\"#1F78B4\",\"#1F78B4\",\"#1F78B4\",\"#1F78B4\",\"#1F78B4\",\"#1F78B4\",\"#1F78B4\",\"#1F78B4\",\"#1F78B4\",\"#1F78B4\",\"#1F78B4\",\"#1F78B4\",\"#1F78B4\",\"#1F78B4\",\"#1F78B4\",\"#1F78B4\",\"#1F78B4\",\"#1F78B4\",\"#1F78B4\",\"#1F78B4\",\"#1F78B4\",\"#1F78B4\",\"#1F78B4\",\"#1F78B4\",\"#1F78B4\",\"#1F78B4\",\"#1F78B4\",\"#1F78B4\",\"#1F78B4\",\"#1F78B4\",\"#1F78B4\",\"#1F78B4\",\"#1F78B4\",\"#1F78B4\",\"#1F78B4\",\"#1F78B4\",\"#1F78B4\",\"#1F78B4\",\"#1F78B4\",\"#1F78B4\",\"#1F78B4\",\"#1F78B4\",\"#1F78B4\",\"#1F78B4\",\"#1F78B4\",\"#1F78B4\",\"#1F78B4\",\"#1F78B4\",\"#1F78B4\",\"#1F78B4\",\"#1F78B4\",\"#1F78B4\",\"#1F78B4\",\"#1F78B4\",\"#1F78B4\",\"#1F78B4\",\"#1F78B4\",\"#1F78B4\",\"#1F78B4\",\"#1F78B4\",\"#1F78B4\",\"#1F78B4\",\"#1F78B4\",\"#1F78B4\",\"#1F78B4\",\"#1F78B4\",\"#1F78B4\",\"#1F78B4\",\"#1F78B4\",\"#1F78B4\",\"#1F78B4\",\"#1F78B4\",\"#1F78B4\",\"#1F78B4\",\"#1F78B4\",\"#1F78B4\",\"#1F78B4\",\"#1F78B4\",\"#1F78B4\",\"#1F78B4\",\"#1F78B4\",\"#1F78B4\",\"#1F78B4\",\"#1F78B4\",\"#1F78B4\",\"#1F78B4\",\"#1F78B4\",\"#1F78B4\",\"#1F78B4\",\"#1F78B4\",\"#1F78B4\",\"#1F78B4\",\"#1F78B4\",\"#1F78B4\",\"#1F78B4\",\"#1F78B4\",\"#1F78B4\",\"#1F78B4\",\"#1F78B4\",\"#1F78B4\",\"#1F78B4\",\"#1F78B4\",\"#1F78B4\",\"#1F78B4\",\"#1F78B4\",\"#1F78B4\",\"#1F78B4\",\"#1F78B4\",\"#1F78B4\",\"#1F78B4\",\"#1F78B4\",\"#1F78B4\",\"#1F78B4\",\"#1F78B4\",\"#1F78B4\",\"#1F78B4\",\"#1F78B4\",\"#1F78B4\",\"#1F78B4\",\"#1F78B4\",\"#1F78B4\",\"#1F78B4\",\"#1F78B4\",\"#1F78B4\",\"#1F78B4\",\"#1F78B4\",\"#1F78B4\",\"#1F78B4\",\"#1F78B4\",\"#1F78B4\",\"#1F78B4\",\"#1F78B4\",\"#1F78B4\",\"#1F78B4\",\"#1F78B4\",\"#1F78B4\",\"#1F78B4\",\"#1F78B4\",\"#1F78B4\",\"#1F78B4\",\"#1F78B4\",\"#1F78B4\",\"#1F78B4\",\"#1F78B4\",\"#1F78B4\",\"#1F78B4\",\"#1F78B4\",\"#1F78B4\",\"#1F78B4\",\"#1F78B4\",\"#1F78B4\",\"#1F78B4\",\"#1F78B4\",\"#1F78B4\",\"#1F78B4\",\"#1F78B4\",\"#1F78B4\",\"#1F78B4\",\"#1F78B4\",\"#1F78B4\",\"#1F78B4\",\"#1F78B4\",\"#1F78B4\",\"#1F78B4\",\"#1F78B4\",\"#1F78B4\",\"#1F78B4\",\"#1F78B4\",\"#1F78B4\",\"#1F78B4\",\"#1F78B4\",\"#1F78B4\",\"#1F78B4\",\"#1F78B4\",\"#1F78B4\",\"#1F78B4\",\"#1F78B4\",\"#1F78B4\",\"#1F78B4\",\"#1F78B4\",\"#1F78B4\",\"#1F78B4\",\"#1F78B4\",\"#1F78B4\",\"#1F78B4\",\"#1F78B4\",\"#1F78B4\",\"#1F78B4\",\"#1F78B4\",\"#1F78B4\",\"#1F78B4\",\"#1F78B4\",\"#1F78B4\",\"#1F78B4\",\"#1F78B4\",\"#1F78B4\",\"#1F78B4\",\"#1F78B4\",\"#1F78B4\",\"#1F78B4\",\"#1F78B4\",\"#1F78B4\",\"#1F78B4\",\"#1F78B4\",\"#1F78B4\",\"#1F78B4\",\"#1F78B4\",\"#1F78B4\",\"#1F78B4\",\"#1F78B4\",\"#1F78B4\",\"#1F78B4\",\"#1F78B4\",\"#1F78B4\",\"#1F78B4\",\"#1F78B4\",\"#1F78B4\",\"#1F78B4\",\"#1F78B4\",\"#1F78B4\",\"#1F78B4\",\"#1F78B4\",\"#1F78B4\",\"#1F78B4\",\"#1F78B4\",\"#1F78B4\",\"#1F78B4\",\"#1F78B4\",\"#1F78B4\",\"#1F78B4\",\"#1F78B4\",\"#1F78B4\",\"#1F78B4\",\"#1F78B4\",\"#1F78B4\",\"#1F78B4\",\"#1F78B4\",\"#1F78B4\",\"#1F78B4\",\"#1F78B4\",\"#1F78B4\",\"#1F78B4\",\"#1F78B4\",\"#1F78B4\",\"#1F78B4\",\"#1F78B4\",\"#1F78B4\",\"#1F78B4\",\"#1F78B4\",\"#1F78B4\",\"#1F78B4\",\"#1F78B4\",\"#1F78B4\",\"#1F78B4\",\"#1F78B4\",\"#1F78B4\",\"#1F78B4\",\"#1F78B4\",\"#1F78B4\",\"#1F78B4\",\"#1F78B4\",\"#1F78B4\",\"#1F78B4\",\"#1F78B4\",\"#1F78B4\",\"#1F78B4\",\"#1F78B4\",\"#1F78B4\",\"#1F78B4\",\"#1F78B4\",\"#1F78B4\",\"#1F78B4\",\"#1F78B4\",\"#1F78B4\",\"#1F78B4\",\"#1F78B4\",\"#1F78B4\",\"#1F78B4\",\"#1F78B4\",\"#1F78B4\",\"#1F78B4\",\"#1F78B4\",\"#1F78B4\",\"#1F78B4\",\"#1F78B4\",\"#1F78B4\",\"#1F78B4\",\"#1F78B4\",\"#1F78B4\",\"#1F78B4\",\"#1F78B4\",\"#1F78B4\",\"#1F78B4\",\"#1F78B4\",\"#1F78B4\",\"#1F78B4\",\"#1F78B4\",\"#1F78B4\",\"#1F78B4\",\"#1F78B4\",\"#1F78B4\",\"#1F78B4\",\"#1F78B4\",\"#1F78B4\",\"#1F78B4\",\"#1F78B4\",\"#1F78B4\",\"#1F78B4\",\"#1F78B4\",\"#1F78B4\",\"#1F78B4\",\"#1F78B4\",\"#1F78B4\",\"#1F78B4\",\"#1F78B4\",\"#1F78B4\",\"#1F78B4\",\"#1F78B4\",\"#1F78B4\",\"#1F78B4\",\"#1F78B4\",\"#1F78B4\",\"#1F78B4\",\"#1F78B4\",\"#1F78B4\",\"#1F78B4\",\"#1F78B4\",\"#1F78B4\",\"#1F78B4\",\"#1F78B4\",\"#1F78B4\",\"#1F78B4\",\"#1F78B4\",\"#1F78B4\",\"#1F78B4\",\"#1F78B4\",\"#1F78B4\",\"#1F78B4\",\"#1F78B4\",\"#1F78B4\",\"#1F78B4\",\"#1F78B4\",\"#1F78B4\",\"#1F78B4\",\"#1F78B4\",\"#1F78B4\",\"#1F78B4\",\"#1F78B4\",\"#1F78B4\",\"#1F78B4\",\"#1F78B4\",\"#1F78B4\",\"#1F78B4\",\"#1F78B4\",\"#1F78B4\",\"#1F78B4\",\"#1F78B4\",\"#1F78B4\",\"#1F78B4\",\"#1F78B4\",\"#1F78B4\",\"#1F78B4\",\"#1F78B4\",\"#1F78B4\",\"#1F78B4\",\"#1F78B4\",\"#1F78B4\",\"#1F78B4\",\"#1F78B4\",\"#1F78B4\",\"#1F78B4\",\"#1F78B4\",\"#1F78B4\",\"#1F78B4\",\"#1F78B4\",\"#1F78B4\",\"#1F78B4\",\"#1F78B4\",\"#1F78B4\",\"#1F78B4\",\"#1F78B4\",\"#1F78B4\",\"#1F78B4\",\"#1F78B4\",\"#1F78B4\",\"#1F78B4\",\"#1F78B4\",\"#1F78B4\",\"#1F78B4\",\"#1F78B4\",\"#1F78B4\",\"#1F78B4\",\"#1F78B4\",\"#1F78B4\",\"#1F78B4\",\"#1F78B4\",\"#1F78B4\",\"#1F78B4\",\"#1F78B4\",\"#1F78B4\",\"#1F78B4\",\"#1F78B4\",\"#1F78B4\",\"#1F78B4\",\"#1F78B4\",\"#1F78B4\",\"#1F78B4\",\"#1F78B4\",\"#1F78B4\"],\"color_eps\":[\"#009392\",\"#009392\",\"#009392\",\"#009392\",\"#009392\",\"#009392\",\"#009392\",\"#009392\",\"#009392\",\"#009392\",\"#009392\",\"#009392\",\"#009392\",\"#009392\",\"#009392\",\"#009392\",\"#009392\",\"#009392\",\"#009392\",\"#009392\",\"#009392\",\"#009392\",\"#009392\",\"#009392\",\"#009392\",\"#009392\",\"#009392\",\"#009392\",\"#009392\",\"#009392\",\"#009392\",\"#009392\",\"#009392\",\"#009392\",\"#009392\",\"#009392\",\"#009392\",\"#009392\",\"#009392\",\"#009392\",\"#009392\",\"#009392\",\"#009392\",\"#009392\",\"#009392\",\"#009392\",\"#009392\",\"#009392\",\"#009392\",\"#009392\",\"#009392\",\"#009392\",\"#009392\",\"#009392\",\"#009392\",\"#009392\",\"#009392\",\"#009392\",\"#009392\",\"#009392\",\"#009392\",\"#009392\",\"#009392\",\"#009392\",\"#009392\",\"#009392\",\"#009392\",\"#009392\",\"#009392\",\"#009392\",\"#009392\",\"#009392\",\"#009392\",\"#009392\",\"#009392\",\"#009392\",\"#009392\",\"#009392\",\"#009392\",\"#009392\",\"#009392\",\"#009392\",\"#009392\",\"#009392\",\"#009392\",\"#009392\",\"#009392\",\"#009392\",\"#009392\",\"#009392\",\"#009392\",\"#009392\",\"#009392\",\"#009392\",\"#009392\",\"#009392\",\"#009392\",\"#009392\",\"#009392\",\"#009392\",\"#39B185\",\"#39B185\",\"#39B185\",\"#39B185\",\"#39B185\",\"#39B185\",\"#39B185\",\"#39B185\",\"#39B185\",\"#39B185\",\"#39B185\",\"#39B185\",\"#39B185\",\"#39B185\",\"#39B185\",\"#39B185\",\"#39B185\",\"#39B185\",\"#39B185\",\"#39B185\",\"#39B185\",\"#39B185\",\"#39B185\",\"#39B185\",\"#39B185\",\"#39B185\",\"#39B185\",\"#39B185\",\"#39B185\",\"#39B185\",\"#39B185\",\"#39B185\",\"#39B185\",\"#39B185\",\"#39B185\",\"#39B185\",\"#39B185\",\"#39B185\",\"#39B185\",\"#39B185\",\"#39B185\",\"#39B185\",\"#39B185\",\"#39B185\",\"#39B185\",\"#39B185\",\"#39B185\",\"#39B185\",\"#39B185\",\"#39B185\",\"#39B185\",\"#39B185\",\"#39B185\",\"#39B185\",\"#39B185\",\"#39B185\",\"#39B185\",\"#39B185\",\"#39B185\",\"#39B185\",\"#39B185\",\"#39B185\",\"#39B185\",\"#39B185\",\"#39B185\",\"#39B185\",\"#39B185\",\"#39B185\",\"#39B185\",\"#39B185\",\"#39B185\",\"#39B185\",\"#39B185\",\"#39B185\",\"#39B185\",\"#39B185\",\"#39B185\",\"#39B185\",\"#39B185\",\"#39B185\",\"#39B185\",\"#39B185\",\"#39B185\",\"#39B185\",\"#39B185\",\"#39B185\",\"#39B185\",\"#39B185\",\"#39B185\",\"#39B185\",\"#39B185\",\"#39B185\",\"#39B185\",\"#39B185\",\"#39B185\",\"#39B185\",\"#39B185\",\"#39B185\",\"#39B185\",\"#39B185\",\"#9CCB86\",\"#9CCB86\",\"#9CCB86\",\"#9CCB86\",\"#9CCB86\",\"#9CCB86\",\"#9CCB86\",\"#9CCB86\",\"#9CCB86\",\"#9CCB86\",\"#9CCB86\",\"#9CCB86\",\"#9CCB86\",\"#9CCB86\",\"#9CCB86\",\"#9CCB86\",\"#9CCB86\",\"#9CCB86\",\"#9CCB86\",\"#9CCB86\",\"#9CCB86\",\"#9CCB86\",\"#9CCB86\",\"#9CCB86\",\"#9CCB86\",\"#9CCB86\",\"#9CCB86\",\"#9CCB86\",\"#9CCB86\",\"#9CCB86\",\"#9CCB86\",\"#9CCB86\",\"#9CCB86\",\"#9CCB86\",\"#9CCB86\",\"#9CCB86\",\"#9CCB86\",\"#9CCB86\",\"#9CCB86\",\"#9CCB86\",\"#9CCB86\",\"#9CCB86\",\"#9CCB86\",\"#9CCB86\",\"#9CCB86\",\"#9CCB86\",\"#9CCB86\",\"#9CCB86\",\"#9CCB86\",\"#9CCB86\",\"#9CCB86\",\"#9CCB86\",\"#9CCB86\",\"#9CCB86\",\"#9CCB86\",\"#9CCB86\",\"#9CCB86\",\"#9CCB86\",\"#9CCB86\",\"#9CCB86\",\"#9CCB86\",\"#9CCB86\",\"#9CCB86\",\"#9CCB86\",\"#9CCB86\",\"#9CCB86\",\"#9CCB86\",\"#9CCB86\",\"#9CCB86\",\"#9CCB86\",\"#9CCB86\",\"#9CCB86\",\"#9CCB86\",\"#9CCB86\",\"#9CCB86\",\"#9CCB86\",\"#9CCB86\",\"#9CCB86\",\"#9CCB86\",\"#9CCB86\",\"#9CCB86\",\"#9CCB86\",\"#9CCB86\",\"#9CCB86\",\"#9CCB86\",\"#9CCB86\",\"#9CCB86\",\"#9CCB86\",\"#9CCB86\",\"#9CCB86\",\"#9CCB86\",\"#9CCB86\",\"#9CCB86\",\"#9CCB86\",\"#9CCB86\",\"#9CCB86\",\"#9CCB86\",\"#9CCB86\",\"#9CCB86\",\"#9CCB86\",\"#EEB479\",\"#EEB479\",\"#EEB479\",\"#EEB479\",\"#EEB479\",\"#EEB479\",\"#EEB479\",\"#EEB479\",\"#EEB479\",\"#EEB479\",\"#EEB479\",\"#EEB479\",\"#EEB479\",\"#EEB479\",\"#EEB479\",\"#EEB479\",\"#EEB479\",\"#EEB479\",\"#EEB479\",\"#EEB479\",\"#EEB479\",\"#EEB479\",\"#EEB479\",\"#EEB479\",\"#EEB479\",\"#EEB479\",\"#EEB479\",\"#EEB479\",\"#EEB479\",\"#EEB479\",\"#EEB479\",\"#EEB479\",\"#EEB479\",\"#EEB479\",\"#EEB479\",\"#EEB479\",\"#EEB479\",\"#EEB479\",\"#EEB479\",\"#EEB479\",\"#EEB479\",\"#EEB479\",\"#EEB479\",\"#EEB479\",\"#EEB479\",\"#EEB479\",\"#EEB479\",\"#EEB479\",\"#EEB479\",\"#EEB479\",\"#EEB479\",\"#EEB479\",\"#EEB479\",\"#EEB479\",\"#EEB479\",\"#EEB479\",\"#EEB479\",\"#EEB479\",\"#EEB479\",\"#EEB479\",\"#EEB479\",\"#EEB479\",\"#EEB479\",\"#EEB479\",\"#EEB479\",\"#EEB479\",\"#EEB479\",\"#EEB479\",\"#EEB479\",\"#EEB479\",\"#EEB479\",\"#EEB479\",\"#EEB479\",\"#EEB479\",\"#EEB479\",\"#EEB479\",\"#EEB479\",\"#EEB479\",\"#EEB479\",\"#EEB479\",\"#EEB479\",\"#EEB479\",\"#EEB479\",\"#EEB479\",\"#EEB479\",\"#EEB479\",\"#EEB479\",\"#EEB479\",\"#EEB479\",\"#EEB479\",\"#EEB479\",\"#EEB479\",\"#EEB479\",\"#EEB479\",\"#EEB479\",\"#EEB479\",\"#EEB479\",\"#EEB479\",\"#EEB479\",\"#EEB479\",\"#E88471\",\"#E88471\",\"#E88471\",\"#E88471\",\"#E88471\",\"#E88471\",\"#E88471\",\"#E88471\",\"#E88471\",\"#E88471\",\"#E88471\",\"#E88471\",\"#E88471\",\"#E88471\",\"#E88471\",\"#E88471\",\"#E88471\",\"#E88471\",\"#E88471\",\"#E88471\",\"#E88471\",\"#E88471\",\"#E88471\",\"#E88471\",\"#E88471\",\"#E88471\",\"#E88471\",\"#E88471\",\"#E88471\",\"#E88471\",\"#E88471\",\"#E88471\",\"#E88471\",\"#E88471\",\"#E88471\",\"#E88471\",\"#E88471\",\"#E88471\",\"#E88471\",\"#E88471\",\"#E88471\",\"#E88471\",\"#E88471\",\"#E88471\",\"#E88471\",\"#E88471\",\"#E88471\",\"#E88471\",\"#E88471\",\"#E88471\",\"#E88471\",\"#E88471\",\"#E88471\",\"#E88471\",\"#E88471\",\"#E88471\",\"#E88471\",\"#E88471\",\"#E88471\",\"#E88471\",\"#E88471\",\"#E88471\",\"#E88471\",\"#E88471\",\"#E88471\",\"#E88471\",\"#E88471\",\"#E88471\",\"#E88471\",\"#E88471\",\"#E88471\",\"#E88471\",\"#E88471\",\"#E88471\",\"#E88471\",\"#E88471\",\"#E88471\",\"#E88471\",\"#E88471\",\"#E88471\",\"#E88471\",\"#E88471\",\"#E88471\",\"#E88471\",\"#E88471\",\"#E88471\",\"#E88471\",\"#E88471\",\"#E88471\",\"#E88471\",\"#E88471\",\"#E88471\",\"#E88471\",\"#E88471\",\"#E88471\",\"#E88471\",\"#E88471\",\"#E88471\",\"#E88471\",\"#E88471\",\"#CF597E\",\"#CF597E\",\"#CF597E\",\"#CF597E\",\"#CF597E\",\"#CF597E\",\"#CF597E\",\"#CF597E\",\"#CF597E\",\"#CF597E\",\"#CF597E\",\"#CF597E\",\"#CF597E\",\"#CF597E\",\"#CF597E\",\"#CF597E\",\"#CF597E\",\"#CF597E\",\"#CF597E\",\"#CF597E\",\"#CF597E\",\"#CF597E\",\"#CF597E\",\"#CF597E\",\"#CF597E\",\"#CF597E\",\"#CF597E\",\"#CF597E\",\"#CF597E\",\"#CF597E\",\"#CF597E\",\"#CF597E\",\"#CF597E\",\"#CF597E\",\"#CF597E\",\"#CF597E\",\"#CF597E\",\"#CF597E\",\"#CF597E\",\"#CF597E\",\"#CF597E\",\"#CF597E\",\"#CF597E\",\"#CF597E\",\"#CF597E\",\"#CF597E\",\"#CF597E\",\"#CF597E\",\"#CF597E\",\"#CF597E\",\"#CF597E\",\"#CF597E\",\"#CF597E\",\"#CF597E\",\"#CF597E\",\"#CF597E\",\"#CF597E\",\"#CF597E\",\"#CF597E\",\"#CF597E\",\"#CF597E\",\"#CF597E\",\"#CF597E\",\"#CF597E\",\"#CF597E\",\"#CF597E\",\"#CF597E\",\"#CF597E\",\"#CF597E\",\"#CF597E\",\"#CF597E\",\"#CF597E\",\"#CF597E\",\"#CF597E\",\"#CF597E\",\"#CF597E\",\"#CF597E\",\"#CF597E\",\"#CF597E\",\"#CF597E\",\"#CF597E\",\"#CF597E\",\"#CF597E\",\"#CF597E\",\"#CF597E\",\"#CF597E\",\"#CF597E\",\"#CF597E\",\"#CF597E\",\"#CF597E\",\"#CF597E\",\"#CF597E\",\"#CF597E\",\"#CF597E\",\"#CF597E\",\"#CF597E\",\"#CF597E\",\"#CF597E\",\"#CF597E\",\"#CF597E\"],\"epsilon\":{\"__ndarray__\":\"AAAAAAAAAAAAAAAAAAAAAAAAAAAAAAAAAAAAAAAAAAAAAAAAAAAAAAAAAAAAAAAAAAAAAAAAAAAAAAAAAAAAAAAAAAAAAAAAAAAAAAAAAAAAAAAAAAAAAAAAAAAAAAAAAAAAAAAAAAAAAAAAAAAAAAAAAAAAAAAAAAAAAAAAAAAAAAAAAAAAAAAAAAAAAAAAAAAAAAAAAAAAAAAAAAAAAAAAAAAAAAAAAAAAAAAAAAAAAAAAAAAAAAAAAAAAAAAAAAAAAAAAAAAAAAAAAAAAAAAAAAAAAAAAAAAAAAAAAAAAAAAAAAAAAAAAAAAAAAAAAAAAAAAAAAAAAAAAAAAAAAAAAAAAAAAAAAAAAAAAAAAAAAAAAAAAAAAAAAAAAAAAAAAAAAAAAAAAAAAAAAAAAAAAAAAAAAAAAAAAAAAAAAAAAAAAAAAAAAAAAAAAAAAAAAAAAAAAAAAAAAAAAAAAAAAAAAAAAAAAAAAAAAAAAAAAAAAAAAAAAAAAAAAAAAAAAAAAAAAAAAAAAAAAAAAAAAAAAAAAAAAAAAAAAAAAAAAAAAAAAAAAAAAAAAAAAAAAAAAAAAAAAAAAAAAAAAAAAAAAAAAAAAAAAAAAAAAAAAAAAAAAAAAAAAAAAAAAAAAAAAAAAAAAAAAAAAAAAAAAAAAAAAAAAAAAAAAAAAAAAAAAAAAAAAAAAAAAAAAAAAAAAAAAAAAAAAAAAAAAAAAAAAAAAAAAAAAAAAAAAAAAAAAAAAAAAAAAAAAAAAAAAAAAAAAAAAAAAAAAAAAAAAAAAAAAAAAAAAAAAAAAAAAAAAAAAAAAAAAAAAAAAAAAAAAAAAAAAAAAAAAAAAAAAAAAAAAAAAAAAAAAAAAAAAAAAAAAAAAAAAAAAAAAAAAAAAAAAAAAAAAAAAAAAAAAAAAAAAAAAAAAAAAAAAAAAAAAAAAAAAAAAAAAAAAAAAAAAAAAAAAAAAAAAAAAAAAAAAAAAAAAAAAAAAAAAAAAAAAAAAAAAAAAAAAAAAAAAAAAAAAAAAAAAAAAAAAAAAAAAAAAAAAAAAAAAAAAAAAAAAAAAAB7FK5H4XqEP3sUrkfheoQ/exSuR+F6hD97FK5H4XqEP3sUrkfheoQ/exSuR+F6hD97FK5H4XqEP3sUrkfheoQ/exSuR+F6hD97FK5H4XqEP3sUrkfheoQ/exSuR+F6hD97FK5H4XqEP3sUrkfheoQ/exSuR+F6hD97FK5H4XqEP3sUrkfheoQ/exSuR+F6hD97FK5H4XqEP3sUrkfheoQ/exSuR+F6hD97FK5H4XqEP3sUrkfheoQ/exSuR+F6hD97FK5H4XqEP3sUrkfheoQ/exSuR+F6hD97FK5H4XqEP3sUrkfheoQ/exSuR+F6hD97FK5H4XqEP3sUrkfheoQ/exSuR+F6hD97FK5H4XqEP3sUrkfheoQ/exSuR+F6hD97FK5H4XqEP3sUrkfheoQ/exSuR+F6hD97FK5H4XqEP3sUrkfheoQ/exSuR+F6hD97FK5H4XqEP3sUrkfheoQ/exSuR+F6hD97FK5H4XqEP3sUrkfheoQ/exSuR+F6hD97FK5H4XqEP3sUrkfheoQ/exSuR+F6hD97FK5H4XqEP3sUrkfheoQ/exSuR+F6hD97FK5H4XqEP3sUrkfheoQ/exSuR+F6hD97FK5H4XqEP3sUrkfheoQ/exSuR+F6hD97FK5H4XqEP3sUrkfheoQ/exSuR+F6hD97FK5H4XqEP3sUrkfheoQ/exSuR+F6hD97FK5H4XqEP3sUrkfheoQ/exSuR+F6hD97FK5H4XqEP3sUrkfheoQ/exSuR+F6hD97FK5H4XqEP3sUrkfheoQ/exSuR+F6hD97FK5H4XqEP3sUrkfheoQ/exSuR+F6hD97FK5H4XqEP3sUrkfheoQ/exSuR+F6hD97FK5H4XqEP3sUrkfheoQ/exSuR+F6hD97FK5H4XqEP3sUrkfheoQ/exSuR+F6hD97FK5H4XqEP3sUrkfheoQ/exSuR+F6hD97FK5H4XqEP3sUrkfheoQ/exSuR+F6hD97FK5H4XqEP3sUrkfheoQ/exSuR+F6hD97FK5H4XqEP3sUrkfheoQ/exSuR+F6hD97FK5H4XqEP+J6FK5H4Zo/4noUrkfhmj/iehSuR+GaP+J6FK5H4Zo/4noUrkfhmj/iehSuR+GaP+J6FK5H4Zo/4noUrkfhmj/iehSuR+GaP+J6FK5H4Zo/4noUrkfhmj/iehSuR+GaP+J6FK5H4Zo/4noUrkfhmj/iehSuR+GaP+J6FK5H4Zo/4noUrkfhmj/iehSuR+GaP+J6FK5H4Zo/4noUrkfhmj/iehSuR+GaP+J6FK5H4Zo/4noUrkfhmj/iehSuR+GaP+J6FK5H4Zo/4noUrkfhmj/iehSuR+GaP+J6FK5H4Zo/4noUrkfhmj/iehSuR+GaP+J6FK5H4Zo/4noUrkfhmj/iehSuR+GaP+J6FK5H4Zo/4noUrkfhmj/iehSuR+GaP+J6FK5H4Zo/4noUrkfhmj/iehSuR+GaP+J6FK5H4Zo/4noUrkfhmj/iehSuR+GaP+J6FK5H4Zo/4noUrkfhmj/iehSuR+GaP+J6FK5H4Zo/4noUrkfhmj/iehSuR+GaP+J6FK5H4Zo/4noUrkfhmj/iehSuR+GaP+J6FK5H4Zo/4noUrkfhmj/iehSuR+GaP+J6FK5H4Zo/4noUrkfhmj/iehSuR+GaP+J6FK5H4Zo/4noUrkfhmj/iehSuR+GaP+J6FK5H4Zo/4noUrkfhmj/iehSuR+GaP+J6FK5H4Zo/4noUrkfhmj/iehSuR+GaP+J6FK5H4Zo/4noUrkfhmj/iehSuR+GaP+J6FK5H4Zo/4noUrkfhmj/iehSuR+GaP+J6FK5H4Zo/4noUrkfhmj/iehSuR+GaP+J6FK5H4Zo/4noUrkfhmj/iehSuR+GaP+J6FK5H4Zo/4noUrkfhmj/iehSuR+GaP+J6FK5H4Zo/4noUrkfhmj/iehSuR+GaP+J6FK5H4Zo/4noUrkfhmj/iehSuR+GaP+J6FK5H4Zo/4noUrkfhmj/iehSuR+GaP+J6FK5H4Zo/4noUrkfhmj/iehSuR+GaP+J6FK5H4Zo/4noUrkfhmj/iehSuR+GaP+J6FK5H4Zo/4noUrkfhmj/iehSuR+GaP+J6FK5H4Zo/w/UoXI/CpT/D9Shcj8KlP8P1KFyPwqU/w/UoXI/CpT/D9Shcj8KlP8P1KFyPwqU/w/UoXI/CpT/D9Shcj8KlP8P1KFyPwqU/w/UoXI/CpT/D9Shcj8KlP8P1KFyPwqU/w/UoXI/CpT/D9Shcj8KlP8P1KFyPwqU/w/UoXI/CpT/D9Shcj8KlP8P1KFyPwqU/w/UoXI/CpT/D9Shcj8KlP8P1KFyPwqU/w/UoXI/CpT/D9Shcj8KlP8P1KFyPwqU/w/UoXI/CpT/D9Shcj8KlP8P1KFyPwqU/w/UoXI/CpT/D9Shcj8KlP8P1KFyPwqU/w/UoXI/CpT/D9Shcj8KlP8P1KFyPwqU/w/UoXI/CpT/D9Shcj8KlP8P1KFyPwqU/w/UoXI/CpT/D9Shcj8KlP8P1KFyPwqU/w/UoXI/CpT/D9Shcj8KlP8P1KFyPwqU/w/UoXI/CpT/D9Shcj8KlP8P1KFyPwqU/w/UoXI/CpT/D9Shcj8KlP8P1KFyPwqU/w/UoXI/CpT/D9Shcj8KlP8P1KFyPwqU/w/UoXI/CpT/D9Shcj8KlP8P1KFyPwqU/w/UoXI/CpT/D9Shcj8KlP8P1KFyPwqU/w/UoXI/CpT/D9Shcj8KlP8P1KFyPwqU/w/UoXI/CpT/D9Shcj8KlP8P1KFyPwqU/w/UoXI/CpT/D9Shcj8KlP8P1KFyPwqU/w/UoXI/CpT/D9Shcj8KlP8P1KFyPwqU/w/UoXI/CpT/D9Shcj8KlP8P1KFyPwqU/w/UoXI/CpT/D9Shcj8KlP8P1KFyPwqU/w/UoXI/CpT/D9Shcj8KlP8P1KFyPwqU/w/UoXI/CpT/D9Shcj8KlP8P1KFyPwqU/w/UoXI/CpT/D9Shcj8KlP8P1KFyPwqU/w/UoXI/CpT/D9Shcj8KlP8P1KFyPwqU/w/UoXI/CpT/D9Shcj8KlP8P1KFyPwqU/w/UoXI/CpT/D9Shcj8KlP8P1KFyPwqU/w/UoXI/CpT/D9Shcj8KlP8P1KFyPwqU/w/UoXI/CpT/D9Shcj8KlP8P1KFyPwqU/w/UoXI/CpT8VrkfhehSuPxWuR+F6FK4/Fa5H4XoUrj8VrkfhehSuPxWuR+F6FK4/Fa5H4XoUrj8VrkfhehSuPxWuR+F6FK4/Fa5H4XoUrj8VrkfhehSuPxWuR+F6FK4/Fa5H4XoUrj8VrkfhehSuPxWuR+F6FK4/Fa5H4XoUrj8VrkfhehSuPxWuR+F6FK4/Fa5H4XoUrj8VrkfhehSuPxWuR+F6FK4/Fa5H4XoUrj8VrkfhehSuPxWuR+F6FK4/Fa5H4XoUrj8VrkfhehSuPxWuR+F6FK4/Fa5H4XoUrj8VrkfhehSuPxWuR+F6FK4/Fa5H4XoUrj8VrkfhehSuPxWuR+F6FK4/Fa5H4XoUrj8VrkfhehSuPxWuR+F6FK4/Fa5H4XoUrj8VrkfhehSuPxWuR+F6FK4/Fa5H4XoUrj8VrkfhehSuPxWuR+F6FK4/Fa5H4XoUrj8VrkfhehSuPxWuR+F6FK4/Fa5H4XoUrj8VrkfhehSuPxWuR+F6FK4/Fa5H4XoUrj8VrkfhehSuPxWuR+F6FK4/Fa5H4XoUrj8VrkfhehSuPxWuR+F6FK4/Fa5H4XoUrj8VrkfhehSuPxWuR+F6FK4/Fa5H4XoUrj8VrkfhehSuPxWuR+F6FK4/Fa5H4XoUrj8VrkfhehSuPxWuR+F6FK4/Fa5H4XoUrj8VrkfhehSuPxWuR+F6FK4/Fa5H4XoUrj8VrkfhehSuPxWuR+F6FK4/Fa5H4XoUrj8VrkfhehSuPxWuR+F6FK4/Fa5H4XoUrj8VrkfhehSuPxWuR+F6FK4/Fa5H4XoUrj8VrkfhehSuPxWuR+F6FK4/Fa5H4XoUrj8VrkfhehSuPxWuR+F6FK4/Fa5H4XoUrj8VrkfhehSuPxWuR+F6FK4/Fa5H4XoUrj8VrkfhehSuPxWuR+F6FK4/Fa5H4XoUrj8VrkfhehSuPxWuR+F6FK4/Fa5H4XoUrj8VrkfhehSuPxWuR+F6FK4/Fa5H4XoUrj8VrkfhehSuPxWuR+F6FK4/Fa5H4XoUrj8VrkfhehSuPxWuR+F6FK4/Fa5H4XoUrj8VrkfhehSuPzMzMzMzM7M/MzMzMzMzsz8zMzMzMzOzPzMzMzMzM7M/MzMzMzMzsz8zMzMzMzOzPzMzMzMzM7M/MzMzMzMzsz8zMzMzMzOzPzMzMzMzM7M/MzMzMzMzsz8zMzMzMzOzPzMzMzMzM7M/MzMzMzMzsz8zMzMzMzOzPzMzMzMzM7M/MzMzMzMzsz8zMzMzMzOzPzMzMzMzM7M/MzMzMzMzsz8zMzMzMzOzPzMzMzMzM7M/MzMzMzMzsz8zMzMzMzOzPzMzMzMzM7M/MzMzMzMzsz8zMzMzMzOzPzMzMzMzM7M/MzMzMzMzsz8zMzMzMzOzPzMzMzMzM7M/MzMzMzMzsz8zMzMzMzOzPzMzMzMzM7M/MzMzMzMzsz8zMzMzMzOzPzMzMzMzM7M/MzMzMzMzsz8zMzMzMzOzPzMzMzMzM7M/MzMzMzMzsz8zMzMzMzOzPzMzMzMzM7M/MzMzMzMzsz8zMzMzMzOzPzMzMzMzM7M/MzMzMzMzsz8zMzMzMzOzPzMzMzMzM7M/MzMzMzMzsz8zMzMzMzOzPzMzMzMzM7M/MzMzMzMzsz8zMzMzMzOzPzMzMzMzM7M/MzMzMzMzsz8zMzMzMzOzPzMzMzMzM7M/MzMzMzMzsz8zMzMzMzOzPzMzMzMzM7M/MzMzMzMzsz8zMzMzMzOzPzMzMzMzM7M/MzMzMzMzsz8zMzMzMzOzPzMzMzMzM7M/MzMzMzMzsz8zMzMzMzOzPzMzMzMzM7M/MzMzMzMzsz8zMzMzMzOzPzMzMzMzM7M/MzMzMzMzsz8zMzMzMzOzPzMzMzMzM7M/MzMzMzMzsz8zMzMzMzOzPzMzMzMzM7M/MzMzMzMzsz8zMzMzMzOzPzMzMzMzM7M/MzMzMzMzsz8zMzMzMzOzPzMzMzMzM7M/MzMzMzMzsz8zMzMzMzOzPzMzMzMzM7M/MzMzMzMzsz8zMzMzMzOzPzMzMzMzM7M/MzMzMzMzsz8zMzMzMzOzPzMzMzMzM7M/MzMzMzMzsz8zMzMzMzOzPzMzMzMzM7M/MzMzMzMzsz8zMzMzMzOzPzMzMzMzM7M/\",\"dtype\":\"float64\",\"shape\":[600]},\"index\":[0,1,2,3,4,5,6,7,8,9,10,11,12,13,14,15,16,17,18,19,20,21,22,23,24,25,26,27,28,29,30,31,32,33,34,35,36,37,38,39,40,41,42,43,44,45,46,47,48,49,50,51,52,53,54,55,56,57,58,59,60,61,62,63,64,65,66,67,68,69,70,71,72,73,74,75,76,77,78,79,80,81,82,83,84,85,86,87,88,89,90,91,92,93,94,95,96,97,98,99,100,101,102,103,104,105,106,107,108,109,110,111,112,113,114,115,116,117,118,119,120,121,122,123,124,125,126,127,128,129,130,131,132,133,134,135,136,137,138,139,140,141,142,143,144,145,146,147,148,149,150,151,152,153,154,155,156,157,158,159,160,161,162,163,164,165,166,167,168,169,170,171,172,173,174,175,176,177,178,179,180,181,182,183,184,185,186,187,188,189,190,191,192,193,194,195,196,197,198,199,200,201,202,203,204,205,206,207,208,209,210,211,212,213,214,215,216,217,218,219,220,221,222,223,224,225,226,227,228,229,230,231,232,233,234,235,236,237,238,239,240,241,242,243,244,245,246,247,248,249,250,251,252,253,254,255,256,257,258,259,260,261,262,263,264,265,266,267,268,269,270,271,272,273,274,275,276,277,278,279,280,281,282,283,284,285,286,287,288,289,290,291,292,293,294,295,296,297,298,299,300,301,302,303,304,305,306,307,308,309,310,311,312,313,314,315,316,317,318,319,320,321,322,323,324,325,326,327,328,329,330,331,332,333,334,335,336,337,338,339,340,341,342,343,344,345,346,347,348,349,350,351,352,353,354,355,356,357,358,359,360,361,362,363,364,365,366,367,368,369,370,371,372,373,374,375,376,377,378,379,380,381,382,383,384,385,386,387,388,389,390,391,392,393,394,395,396,397,398,399,400,401,402,403,404,405,406,407,408,409,410,411,412,413,414,415,416,417,418,419,420,421,422,423,424,425,426,427,428,429,430,431,432,433,434,435,436,437,438,439,440,441,442,443,444,445,446,447,448,449,450,451,452,453,454,455,456,457,458,459,460,461,462,463,464,465,466,467,468,469,470,471,472,473,474,475,476,477,478,479,480,481,482,483,484,485,486,487,488,489,490,491,492,493,494,495,496,497,498,499,500,501,502,503,504,505,506,507,508,509,510,511,512,513,514,515,516,517,518,519,520,521,522,523,524,525,526,527,528,529,530,531,532,533,534,535,536,537,538,539,540,541,542,543,544,545,546,547,548,549,550,551,552,553,554,555,556,557,558,559,560,561,562,563,564,565,566,567,568,569,570,571,572,573,574,575,576,577,578,579,580,581,582,583,584,585,586,587,588,589,590,591,592,593,594,595,596,597,598,599],\"legend\":[\"0.0 (acc 92.0%)\",\"0.0 (acc 92.0%)\",\"0.0 (acc 92.0%)\",\"0.0 (acc 92.0%)\",\"0.0 (acc 92.0%)\",\"0.0 (acc 92.0%)\",\"0.0 (acc 92.0%)\",\"0.0 (acc 92.0%)\",\"0.0 (acc 92.0%)\",\"0.0 (acc 92.0%)\",\"0.0 (acc 92.0%)\",\"0.0 (acc 92.0%)\",\"0.0 (acc 92.0%)\",\"0.0 (acc 92.0%)\",\"0.0 (acc 92.0%)\",\"0.0 (acc 92.0%)\",\"0.0 (acc 92.0%)\",\"0.0 (acc 92.0%)\",\"0.0 (acc 92.0%)\",\"0.0 (acc 92.0%)\",\"0.0 (acc 92.0%)\",\"0.0 (acc 92.0%)\",\"0.0 (acc 92.0%)\",\"0.0 (acc 92.0%)\",\"0.0 (acc 92.0%)\",\"0.0 (acc 92.0%)\",\"0.0 (acc 92.0%)\",\"0.0 (acc 92.0%)\",\"0.0 (acc 92.0%)\",\"0.0 (acc 92.0%)\",\"0.0 (acc 92.0%)\",\"0.0 (acc 92.0%)\",\"0.0 (acc 92.0%)\",\"0.0 (acc 92.0%)\",\"0.0 (acc 92.0%)\",\"0.0 (acc 92.0%)\",\"0.0 (acc 92.0%)\",\"0.0 (acc 92.0%)\",\"0.0 (acc 92.0%)\",\"0.0 (acc 92.0%)\",\"0.0 (acc 92.0%)\",\"0.0 (acc 92.0%)\",\"0.0 (acc 92.0%)\",\"0.0 (acc 92.0%)\",\"0.0 (acc 92.0%)\",\"0.0 (acc 92.0%)\",\"0.0 (acc 92.0%)\",\"0.0 (acc 92.0%)\",\"0.0 (acc 92.0%)\",\"0.0 (acc 92.0%)\",\"0.0 (acc 92.0%)\",\"0.0 (acc 92.0%)\",\"0.0 (acc 92.0%)\",\"0.0 (acc 92.0%)\",\"0.0 (acc 92.0%)\",\"0.0 (acc 92.0%)\",\"0.0 (acc 92.0%)\",\"0.0 (acc 92.0%)\",\"0.0 (acc 92.0%)\",\"0.0 (acc 92.0%)\",\"0.0 (acc 92.0%)\",\"0.0 (acc 92.0%)\",\"0.0 (acc 92.0%)\",\"0.0 (acc 92.0%)\",\"0.0 (acc 92.0%)\",\"0.0 (acc 92.0%)\",\"0.0 (acc 92.0%)\",\"0.0 (acc 92.0%)\",\"0.0 (acc 92.0%)\",\"0.0 (acc 92.0%)\",\"0.0 (acc 92.0%)\",\"0.0 (acc 92.0%)\",\"0.0 (acc 92.0%)\",\"0.0 (acc 92.0%)\",\"0.0 (acc 92.0%)\",\"0.0 (acc 92.0%)\",\"0.0 (acc 92.0%)\",\"0.0 (acc 92.0%)\",\"0.0 (acc 92.0%)\",\"0.0 (acc 92.0%)\",\"0.0 (acc 92.0%)\",\"0.0 (acc 92.0%)\",\"0.0 (acc 92.0%)\",\"0.0 (acc 92.0%)\",\"0.0 (acc 92.0%)\",\"0.0 (acc 92.0%)\",\"0.0 (acc 92.0%)\",\"0.0 (acc 92.0%)\",\"0.0 (acc 92.0%)\",\"0.0 (acc 92.0%)\",\"0.0 (acc 92.0%)\",\"0.0 (acc 92.0%)\",\"0.0 (acc 92.0%)\",\"0.0 (acc 92.0%)\",\"0.0 (acc 92.0%)\",\"0.0 (acc 92.0%)\",\"0.0 (acc 92.0%)\",\"0.0 (acc 92.0%)\",\"0.0 (acc 92.0%)\",\"0.0 (acc 92.0%)\",\"0.01 (acc 88.8%)\",\"0.01 (acc 88.8%)\",\"0.01 (acc 88.8%)\",\"0.01 (acc 88.8%)\",\"0.01 (acc 88.8%)\",\"0.01 (acc 88.8%)\",\"0.01 (acc 88.8%)\",\"0.01 (acc 88.8%)\",\"0.01 (acc 88.8%)\",\"0.01 (acc 88.8%)\",\"0.01 (acc 88.8%)\",\"0.01 (acc 88.8%)\",\"0.01 (acc 88.8%)\",\"0.01 (acc 88.8%)\",\"0.01 (acc 88.8%)\",\"0.01 (acc 88.8%)\",\"0.01 (acc 88.8%)\",\"0.01 (acc 88.8%)\",\"0.01 (acc 88.8%)\",\"0.01 (acc 88.8%)\",\"0.01 (acc 88.8%)\",\"0.01 (acc 88.8%)\",\"0.01 (acc 88.8%)\",\"0.01 (acc 88.8%)\",\"0.01 (acc 88.8%)\",\"0.01 (acc 88.8%)\",\"0.01 (acc 88.8%)\",\"0.01 (acc 88.8%)\",\"0.01 (acc 88.8%)\",\"0.01 (acc 88.8%)\",\"0.01 (acc 88.8%)\",\"0.01 (acc 88.8%)\",\"0.01 (acc 88.8%)\",\"0.01 (acc 88.8%)\",\"0.01 (acc 88.8%)\",\"0.01 (acc 88.8%)\",\"0.01 (acc 88.8%)\",\"0.01 (acc 88.8%)\",\"0.01 (acc 88.8%)\",\"0.01 (acc 88.8%)\",\"0.01 (acc 88.8%)\",\"0.01 (acc 88.8%)\",\"0.01 (acc 88.8%)\",\"0.01 (acc 88.8%)\",\"0.01 (acc 88.8%)\",\"0.01 (acc 88.8%)\",\"0.01 (acc 88.8%)\",\"0.01 (acc 88.8%)\",\"0.01 (acc 88.8%)\",\"0.01 (acc 88.8%)\",\"0.01 (acc 88.8%)\",\"0.01 (acc 88.8%)\",\"0.01 (acc 88.8%)\",\"0.01 (acc 88.8%)\",\"0.01 (acc 88.8%)\",\"0.01 (acc 88.8%)\",\"0.01 (acc 88.8%)\",\"0.01 (acc 88.8%)\",\"0.01 (acc 88.8%)\",\"0.01 (acc 88.8%)\",\"0.01 (acc 88.8%)\",\"0.01 (acc 88.8%)\",\"0.01 (acc 88.8%)\",\"0.01 (acc 88.8%)\",\"0.01 (acc 88.8%)\",\"0.01 (acc 88.8%)\",\"0.01 (acc 88.8%)\",\"0.01 (acc 88.8%)\",\"0.01 (acc 88.8%)\",\"0.01 (acc 88.8%)\",\"0.01 (acc 88.8%)\",\"0.01 (acc 88.8%)\",\"0.01 (acc 88.8%)\",\"0.01 (acc 88.8%)\",\"0.01 (acc 88.8%)\",\"0.01 (acc 88.8%)\",\"0.01 (acc 88.8%)\",\"0.01 (acc 88.8%)\",\"0.01 (acc 88.8%)\",\"0.01 (acc 88.8%)\",\"0.01 (acc 88.8%)\",\"0.01 (acc 88.8%)\",\"0.01 (acc 88.8%)\",\"0.01 (acc 88.8%)\",\"0.01 (acc 88.8%)\",\"0.01 (acc 88.8%)\",\"0.01 (acc 88.8%)\",\"0.01 (acc 88.8%)\",\"0.01 (acc 88.8%)\",\"0.01 (acc 88.8%)\",\"0.01 (acc 88.8%)\",\"0.01 (acc 88.8%)\",\"0.01 (acc 88.8%)\",\"0.01 (acc 88.8%)\",\"0.01 (acc 88.8%)\",\"0.01 (acc 88.8%)\",\"0.01 (acc 88.8%)\",\"0.01 (acc 88.8%)\",\"0.01 (acc 88.8%)\",\"0.01 (acc 88.8%)\",\"0.026 (acc 80.3%)\",\"0.026 (acc 80.3%)\",\"0.026 (acc 80.3%)\",\"0.026 (acc 80.3%)\",\"0.026 (acc 80.3%)\",\"0.026 (acc 80.3%)\",\"0.026 (acc 80.3%)\",\"0.026 (acc 80.3%)\",\"0.026 (acc 80.3%)\",\"0.026 (acc 80.3%)\",\"0.026 (acc 80.3%)\",\"0.026 (acc 80.3%)\",\"0.026 (acc 80.3%)\",\"0.026 (acc 80.3%)\",\"0.026 (acc 80.3%)\",\"0.026 (acc 80.3%)\",\"0.026 (acc 80.3%)\",\"0.026 (acc 80.3%)\",\"0.026 (acc 80.3%)\",\"0.026 (acc 80.3%)\",\"0.026 (acc 80.3%)\",\"0.026 (acc 80.3%)\",\"0.026 (acc 80.3%)\",\"0.026 (acc 80.3%)\",\"0.026 (acc 80.3%)\",\"0.026 (acc 80.3%)\",\"0.026 (acc 80.3%)\",\"0.026 (acc 80.3%)\",\"0.026 (acc 80.3%)\",\"0.026 (acc 80.3%)\",\"0.026 (acc 80.3%)\",\"0.026 (acc 80.3%)\",\"0.026 (acc 80.3%)\",\"0.026 (acc 80.3%)\",\"0.026 (acc 80.3%)\",\"0.026 (acc 80.3%)\",\"0.026 (acc 80.3%)\",\"0.026 (acc 80.3%)\",\"0.026 (acc 80.3%)\",\"0.026 (acc 80.3%)\",\"0.026 (acc 80.3%)\",\"0.026 (acc 80.3%)\",\"0.026 (acc 80.3%)\",\"0.026 (acc 80.3%)\",\"0.026 (acc 80.3%)\",\"0.026 (acc 80.3%)\",\"0.026 (acc 80.3%)\",\"0.026 (acc 80.3%)\",\"0.026 (acc 80.3%)\",\"0.026 (acc 80.3%)\",\"0.026 (acc 80.3%)\",\"0.026 (acc 80.3%)\",\"0.026 (acc 80.3%)\",\"0.026 (acc 80.3%)\",\"0.026 (acc 80.3%)\",\"0.026 (acc 80.3%)\",\"0.026 (acc 80.3%)\",\"0.026 (acc 80.3%)\",\"0.026 (acc 80.3%)\",\"0.026 (acc 80.3%)\",\"0.026 (acc 80.3%)\",\"0.026 (acc 80.3%)\",\"0.026 (acc 80.3%)\",\"0.026 (acc 80.3%)\",\"0.026 (acc 80.3%)\",\"0.026 (acc 80.3%)\",\"0.026 (acc 80.3%)\",\"0.026 (acc 80.3%)\",\"0.026 (acc 80.3%)\",\"0.026 (acc 80.3%)\",\"0.026 (acc 80.3%)\",\"0.026 (acc 80.3%)\",\"0.026 (acc 80.3%)\",\"0.026 (acc 80.3%)\",\"0.026 (acc 80.3%)\",\"0.026 (acc 80.3%)\",\"0.026 (acc 80.3%)\",\"0.026 (acc 80.3%)\",\"0.026 (acc 80.3%)\",\"0.026 (acc 80.3%)\",\"0.026 (acc 80.3%)\",\"0.026 (acc 80.3%)\",\"0.026 (acc 80.3%)\",\"0.026 (acc 80.3%)\",\"0.026 (acc 80.3%)\",\"0.026 (acc 80.3%)\",\"0.026 (acc 80.3%)\",\"0.026 (acc 80.3%)\",\"0.026 (acc 80.3%)\",\"0.026 (acc 80.3%)\",\"0.026 (acc 80.3%)\",\"0.026 (acc 80.3%)\",\"0.026 (acc 80.3%)\",\"0.026 (acc 80.3%)\",\"0.026 (acc 80.3%)\",\"0.026 (acc 80.3%)\",\"0.026 (acc 80.3%)\",\"0.026 (acc 80.3%)\",\"0.026 (acc 80.3%)\",\"0.026 (acc 80.3%)\",\"0.042 (acc 67.0%)\",\"0.042 (acc 67.0%)\",\"0.042 (acc 67.0%)\",\"0.042 (acc 67.0%)\",\"0.042 (acc 67.0%)\",\"0.042 (acc 67.0%)\",\"0.042 (acc 67.0%)\",\"0.042 (acc 67.0%)\",\"0.042 (acc 67.0%)\",\"0.042 (acc 67.0%)\",\"0.042 (acc 67.0%)\",\"0.042 (acc 67.0%)\",\"0.042 (acc 67.0%)\",\"0.042 (acc 67.0%)\",\"0.042 (acc 67.0%)\",\"0.042 (acc 67.0%)\",\"0.042 (acc 67.0%)\",\"0.042 (acc 67.0%)\",\"0.042 (acc 67.0%)\",\"0.042 (acc 67.0%)\",\"0.042 (acc 67.0%)\",\"0.042 (acc 67.0%)\",\"0.042 (acc 67.0%)\",\"0.042 (acc 67.0%)\",\"0.042 (acc 67.0%)\",\"0.042 (acc 67.0%)\",\"0.042 (acc 67.0%)\",\"0.042 (acc 67.0%)\",\"0.042 (acc 67.0%)\",\"0.042 (acc 67.0%)\",\"0.042 (acc 67.0%)\",\"0.042 (acc 67.0%)\",\"0.042 (acc 67.0%)\",\"0.042 (acc 67.0%)\",\"0.042 (acc 67.0%)\",\"0.042 (acc 67.0%)\",\"0.042 (acc 67.0%)\",\"0.042 (acc 67.0%)\",\"0.042 (acc 67.0%)\",\"0.042 (acc 67.0%)\",\"0.042 (acc 67.0%)\",\"0.042 (acc 67.0%)\",\"0.042 (acc 67.0%)\",\"0.042 (acc 67.0%)\",\"0.042 (acc 67.0%)\",\"0.042 (acc 67.0%)\",\"0.042 (acc 67.0%)\",\"0.042 (acc 67.0%)\",\"0.042 (acc 67.0%)\",\"0.042 (acc 67.0%)\",\"0.042 (acc 67.0%)\",\"0.042 (acc 67.0%)\",\"0.042 (acc 67.0%)\",\"0.042 (acc 67.0%)\",\"0.042 (acc 67.0%)\",\"0.042 (acc 67.0%)\",\"0.042 (acc 67.0%)\",\"0.042 (acc 67.0%)\",\"0.042 (acc 67.0%)\",\"0.042 (acc 67.0%)\",\"0.042 (acc 67.0%)\",\"0.042 (acc 67.0%)\",\"0.042 (acc 67.0%)\",\"0.042 (acc 67.0%)\",\"0.042 (acc 67.0%)\",\"0.042 (acc 67.0%)\",\"0.042 (acc 67.0%)\",\"0.042 (acc 67.0%)\",\"0.042 (acc 67.0%)\",\"0.042 (acc 67.0%)\",\"0.042 (acc 67.0%)\",\"0.042 (acc 67.0%)\",\"0.042 (acc 67.0%)\",\"0.042 (acc 67.0%)\",\"0.042 (acc 67.0%)\",\"0.042 (acc 67.0%)\",\"0.042 (acc 67.0%)\",\"0.042 (acc 67.0%)\",\"0.042 (acc 67.0%)\",\"0.042 (acc 67.0%)\",\"0.042 (acc 67.0%)\",\"0.042 (acc 67.0%)\",\"0.042 (acc 67.0%)\",\"0.042 (acc 67.0%)\",\"0.042 (acc 67.0%)\",\"0.042 (acc 67.0%)\",\"0.042 (acc 67.0%)\",\"0.042 (acc 67.0%)\",\"0.042 (acc 67.0%)\",\"0.042 (acc 67.0%)\",\"0.042 (acc 67.0%)\",\"0.042 (acc 67.0%)\",\"0.042 (acc 67.0%)\",\"0.042 (acc 67.0%)\",\"0.042 (acc 67.0%)\",\"0.042 (acc 67.0%)\",\"0.042 (acc 67.0%)\",\"0.042 (acc 67.0%)\",\"0.042 (acc 67.0%)\",\"0.042 (acc 67.0%)\",\"0.058 (acc 47.8%)\",\"0.058 (acc 47.8%)\",\"0.058 (acc 47.8%)\",\"0.058 (acc 47.8%)\",\"0.058 (acc 47.8%)\",\"0.058 (acc 47.8%)\",\"0.058 (acc 47.8%)\",\"0.058 (acc 47.8%)\",\"0.058 (acc 47.8%)\",\"0.058 (acc 47.8%)\",\"0.058 (acc 47.8%)\",\"0.058 (acc 47.8%)\",\"0.058 (acc 47.8%)\",\"0.058 (acc 47.8%)\",\"0.058 (acc 47.8%)\",\"0.058 (acc 47.8%)\",\"0.058 (acc 47.8%)\",\"0.058 (acc 47.8%)\",\"0.058 (acc 47.8%)\",\"0.058 (acc 47.8%)\",\"0.058 (acc 47.8%)\",\"0.058 (acc 47.8%)\",\"0.058 (acc 47.8%)\",\"0.058 (acc 47.8%)\",\"0.058 (acc 47.8%)\",\"0.058 (acc 47.8%)\",\"0.058 (acc 47.8%)\",\"0.058 (acc 47.8%)\",\"0.058 (acc 47.8%)\",\"0.058 (acc 47.8%)\",\"0.058 (acc 47.8%)\",\"0.058 (acc 47.8%)\",\"0.058 (acc 47.8%)\",\"0.058 (acc 47.8%)\",\"0.058 (acc 47.8%)\",\"0.058 (acc 47.8%)\",\"0.058 (acc 47.8%)\",\"0.058 (acc 47.8%)\",\"0.058 (acc 47.8%)\",\"0.058 (acc 47.8%)\",\"0.058 (acc 47.8%)\",\"0.058 (acc 47.8%)\",\"0.058 (acc 47.8%)\",\"0.058 (acc 47.8%)\",\"0.058 (acc 47.8%)\",\"0.058 (acc 47.8%)\",\"0.058 (acc 47.8%)\",\"0.058 (acc 47.8%)\",\"0.058 (acc 47.8%)\",\"0.058 (acc 47.8%)\",\"0.058 (acc 47.8%)\",\"0.058 (acc 47.8%)\",\"0.058 (acc 47.8%)\",\"0.058 (acc 47.8%)\",\"0.058 (acc 47.8%)\",\"0.058 (acc 47.8%)\",\"0.058 (acc 47.8%)\",\"0.058 (acc 47.8%)\",\"0.058 (acc 47.8%)\",\"0.058 (acc 47.8%)\",\"0.058 (acc 47.8%)\",\"0.058 (acc 47.8%)\",\"0.058 (acc 47.8%)\",\"0.058 (acc 47.8%)\",\"0.058 (acc 47.8%)\",\"0.058 (acc 47.8%)\",\"0.058 (acc 47.8%)\",\"0.058 (acc 47.8%)\",\"0.058 (acc 47.8%)\",\"0.058 (acc 47.8%)\",\"0.058 (acc 47.8%)\",\"0.058 (acc 47.8%)\",\"0.058 (acc 47.8%)\",\"0.058 (acc 47.8%)\",\"0.058 (acc 47.8%)\",\"0.058 (acc 47.8%)\",\"0.058 (acc 47.8%)\",\"0.058 (acc 47.8%)\",\"0.058 (acc 47.8%)\",\"0.058 (acc 47.8%)\",\"0.058 (acc 47.8%)\",\"0.058 (acc 47.8%)\",\"0.058 (acc 47.8%)\",\"0.058 (acc 47.8%)\",\"0.058 (acc 47.8%)\",\"0.058 (acc 47.8%)\",\"0.058 (acc 47.8%)\",\"0.058 (acc 47.8%)\",\"0.058 (acc 47.8%)\",\"0.058 (acc 47.8%)\",\"0.058 (acc 47.8%)\",\"0.058 (acc 47.8%)\",\"0.058 (acc 47.8%)\",\"0.058 (acc 47.8%)\",\"0.058 (acc 47.8%)\",\"0.058 (acc 47.8%)\",\"0.058 (acc 47.8%)\",\"0.058 (acc 47.8%)\",\"0.058 (acc 47.8%)\",\"0.058 (acc 47.8%)\",\"0.075 (acc 32.2%)\",\"0.075 (acc 32.2%)\",\"0.075 (acc 32.2%)\",\"0.075 (acc 32.2%)\",\"0.075 (acc 32.2%)\",\"0.075 (acc 32.2%)\",\"0.075 (acc 32.2%)\",\"0.075 (acc 32.2%)\",\"0.075 (acc 32.2%)\",\"0.075 (acc 32.2%)\",\"0.075 (acc 32.2%)\",\"0.075 (acc 32.2%)\",\"0.075 (acc 32.2%)\",\"0.075 (acc 32.2%)\",\"0.075 (acc 32.2%)\",\"0.075 (acc 32.2%)\",\"0.075 (acc 32.2%)\",\"0.075 (acc 32.2%)\",\"0.075 (acc 32.2%)\",\"0.075 (acc 32.2%)\",\"0.075 (acc 32.2%)\",\"0.075 (acc 32.2%)\",\"0.075 (acc 32.2%)\",\"0.075 (acc 32.2%)\",\"0.075 (acc 32.2%)\",\"0.075 (acc 32.2%)\",\"0.075 (acc 32.2%)\",\"0.075 (acc 32.2%)\",\"0.075 (acc 32.2%)\",\"0.075 (acc 32.2%)\",\"0.075 (acc 32.2%)\",\"0.075 (acc 32.2%)\",\"0.075 (acc 32.2%)\",\"0.075 (acc 32.2%)\",\"0.075 (acc 32.2%)\",\"0.075 (acc 32.2%)\",\"0.075 (acc 32.2%)\",\"0.075 (acc 32.2%)\",\"0.075 (acc 32.2%)\",\"0.075 (acc 32.2%)\",\"0.075 (acc 32.2%)\",\"0.075 (acc 32.2%)\",\"0.075 (acc 32.2%)\",\"0.075 (acc 32.2%)\",\"0.075 (acc 32.2%)\",\"0.075 (acc 32.2%)\",\"0.075 (acc 32.2%)\",\"0.075 (acc 32.2%)\",\"0.075 (acc 32.2%)\",\"0.075 (acc 32.2%)\",\"0.075 (acc 32.2%)\",\"0.075 (acc 32.2%)\",\"0.075 (acc 32.2%)\",\"0.075 (acc 32.2%)\",\"0.075 (acc 32.2%)\",\"0.075 (acc 32.2%)\",\"0.075 (acc 32.2%)\",\"0.075 (acc 32.2%)\",\"0.075 (acc 32.2%)\",\"0.075 (acc 32.2%)\",\"0.075 (acc 32.2%)\",\"0.075 (acc 32.2%)\",\"0.075 (acc 32.2%)\",\"0.075 (acc 32.2%)\",\"0.075 (acc 32.2%)\",\"0.075 (acc 32.2%)\",\"0.075 (acc 32.2%)\",\"0.075 (acc 32.2%)\",\"0.075 (acc 32.2%)\",\"0.075 (acc 32.2%)\",\"0.075 (acc 32.2%)\",\"0.075 (acc 32.2%)\",\"0.075 (acc 32.2%)\",\"0.075 (acc 32.2%)\",\"0.075 (acc 32.2%)\",\"0.075 (acc 32.2%)\",\"0.075 (acc 32.2%)\",\"0.075 (acc 32.2%)\",\"0.075 (acc 32.2%)\",\"0.075 (acc 32.2%)\",\"0.075 (acc 32.2%)\",\"0.075 (acc 32.2%)\",\"0.075 (acc 32.2%)\",\"0.075 (acc 32.2%)\",\"0.075 (acc 32.2%)\",\"0.075 (acc 32.2%)\",\"0.075 (acc 32.2%)\",\"0.075 (acc 32.2%)\",\"0.075 (acc 32.2%)\",\"0.075 (acc 32.2%)\",\"0.075 (acc 32.2%)\",\"0.075 (acc 32.2%)\",\"0.075 (acc 32.2%)\",\"0.075 (acc 32.2%)\",\"0.075 (acc 32.2%)\",\"0.075 (acc 32.2%)\",\"0.075 (acc 32.2%)\",\"0.075 (acc 32.2%)\",\"0.075 (acc 32.2%)\",\"0.075 (acc 32.2%)\"],\"x1\":{\"__ndarray__\":\"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\",\"dtype\":\"float32\",\"shape\":[600]},\"x2\":{\"__ndarray__\":\"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\",\"dtype\":\"float32\",\"shape\":[600]},\"y\":[7,2,1,0,4,1,4,9,5,9,0,6,9,0,1,5,9,7,3,4,9,6,6,5,4,0,7,4,0,1,3,1,3,4,7,2,7,1,2,1,1,7,4,2,3,5,1,2,4,4,6,3,5,5,6,0,4,1,9,5,7,8,9,3,7,4,6,4,3,0,7,0,2,9,1,7,3,2,9,7,7,6,2,7,8,4,7,3,6,1,3,6,9,3,1,4,1,7,6,9,7,2,1,0,4,1,4,9,5,9,0,6,9,0,1,5,9,7,3,4,9,6,6,5,4,0,7,4,0,1,3,1,3,4,7,2,7,1,2,1,1,7,4,2,3,5,1,2,4,4,6,3,5,5,6,0,4,1,9,5,7,8,9,3,7,4,6,4,3,0,7,0,2,9,1,7,3,2,9,7,7,6,2,7,8,4,7,3,6,1,3,6,9,3,1,4,1,7,6,9,7,2,1,0,4,1,4,9,5,9,0,6,9,0,1,5,9,7,3,4,9,6,6,5,4,0,7,4,0,1,3,1,3,4,7,2,7,1,2,1,1,7,4,2,3,5,1,2,4,4,6,3,5,5,6,0,4,1,9,5,7,8,9,3,7,4,6,4,3,0,7,0,2,9,1,7,3,2,9,7,7,6,2,7,8,4,7,3,6,1,3,6,9,3,1,4,1,7,6,9,7,2,1,0,4,1,4,9,5,9,0,6,9,0,1,5,9,7,3,4,9,6,6,5,4,0,7,4,0,1,3,1,3,4,7,2,7,1,2,1,1,7,4,2,3,5,1,2,4,4,6,3,5,5,6,0,4,1,9,5,7,8,9,3,7,4,6,4,3,0,7,0,2,9,1,7,3,2,9,7,7,6,2,7,8,4,7,3,6,1,3,6,9,3,1,4,1,7,6,9,7,2,1,0,4,1,4,9,5,9,0,6,9,0,1,5,9,7,3,4,9,6,6,5,4,0,7,4,0,1,3,1,3,4,7,2,7,1,2,1,1,7,4,2,3,5,1,2,4,4,6,3,5,5,6,0,4,1,9,5,7,8,9,3,7,4,6,4,3,0,7,0,2,9,1,7,3,2,9,7,7,6,2,7,8,4,7,3,6,1,3,6,9,3,1,4,1,7,6,9,7,2,1,0,4,1,4,9,5,9,0,6,9,0,1,5,9,7,3,4,9,6,6,5,4,0,7,4,0,1,3,1,3,4,7,2,7,1,2,1,1,7,4,2,3,5,1,2,4,4,6,3,5,5,6,0,4,1,9,5,7,8,9,3,7,4,6,4,3,0,7,0,2,9,1,7,3,2,9,7,7,6,2,7,8,4,7,3,6,1,3,6,9,3,1,4,1,7,6,9],\"y_adv\":[0,0,0,0,0,0,0,0,0,0,0,0,0,0,0,0,0,0,0,0,0,0,0,0,0,0,0,0,0,0,0,0,0,0,0,0,0,0,0,0,0,0,0,0,0,0,0,0,0,0,0,0,0,0,0,0,0,0,0,0,0,0,0,0,0,0,0,0,0,0,0,0,0,0,0,0,0,0,0,0,0,0,0,0,0,0,0,0,0,0,0,0,0,0,0,0,0,0,0,0,1,1,1,1,1,1,1,1,1,1,1,1,1,1,1,1,1,1,1,1,1,1,1,1,1,1,1,1,1,1,1,1,1,1,1,1,1,1,1,1,1,1,1,1,1,1,1,1,1,1,1,1,1,1,1,1,1,1,1,1,1,1,1,1,1,1,1,1,1,1,1,1,1,1,1,1,1,1,1,1,1,1,1,1,1,1,1,1,1,1,1,1,1,1,1,1,1,1,1,1,1,1,1,1,1,1,1,1,1,1,1,1,1,1,1,1,1,1,1,1,1,1,1,1,1,1,1,1,1,1,1,1,1,1,1,1,1,1,1,1,1,1,1,1,1,1,1,1,1,1,1,1,1,1,1,1,1,1,1,1,1,1,1,1,1,1,1,1,1,1,1,1,1,1,1,1,1,1,1,1,1,1,1,1,1,1,1,1,1,1,1,1,1,1,1,1,1,1,1,1,1,1,1,1,1,1,1,1,1,1,1,1,1,1,1,1,1,1,1,1,1,1,1,1,1,1,1,1,1,1,1,1,1,1,1,1,1,1,1,1,1,1,1,1,1,1,1,1,1,1,1,1,1,1,1,1,1,1,1,1,1,1,1,1,1,1,1,1,1,1,1,1,1,1,1,1,1,1,1,1,1,1,1,1,1,1,1,1,1,1,1,1,1,1,1,1,1,1,1,1,1,1,1,1,1,1,1,1,1,1,1,1,1,1,1,1,1,1,1,1,1,1,1,1,1,1,1,1,1,1,1,1,1,1,1,1,1,1,1,1,1,1,1,1,1,1,1,1,1,1,1,1,1,1,1,1,1,1,1,1,1,1,1,1,1,1,1,1,1,1,1,1,1,1,1,1,1,1,1,1,1,1,1,1,1,1,1,1,1,1,1,1,1,1,1,1,1,1,1,1,1,1,1,1,1,1,1,1,1,1,1,1,1,1,1,1,1,1,1,1,1,1,1,1,1,1,1,1,1,1,1,1,1,1,1,1,1,1,1,1,1,1,1,1,1,1,1,1,1,1,1,1,1,1,1,1,1,1,1,1,1,1,1,1,1,1,1,1,1,1,1,1,1,1,1,1,1,1,1,1,1,1,1,1,1,1,1,1,1,1,1,1,1,1,1,1,1,1,1,1],\"y_pred\":[7,2,1,0,4,1,4,9,6,9,0,6,9,0,1,5,9,7,3,4,9,6,6,5,4,0,7,4,0,1,3,1,3,6,7,2,7,1,2,1,1,7,4,2,3,5,1,2,4,4,6,3,5,5,6,0,4,1,9,5,7,8,9,3,7,4,6,4,3,0,7,0,2,9,1,7,3,7,9,7,7,6,2,7,8,4,7,5,6,1,3,6,9,3,1,4,1,7,6,9,7,2,1,0,4,1,4,9,6,9,0,6,9,0,1,5,9,7,3,4,9,6,6,5,4,0,7,4,0,1,3,1,3,6,7,2,7,1,3,1,1,7,4,2,3,5,1,2,4,4,6,3,5,5,6,0,4,1,9,5,7,8,9,2,7,4,7,4,3,0,7,0,2,9,1,7,3,7,9,7,7,6,2,7,8,4,7,5,6,1,3,6,4,3,1,4,1,7,6,9,7,2,1,0,4,1,4,9,6,9,0,6,9,0,1,5,9,7,3,4,9,6,6,5,4,0,7,4,0,1,3,1,3,6,7,2,7,1,3,1,1,7,4,1,3,5,3,2,4,4,6,3,5,5,6,0,4,1,9,5,7,8,4,2,7,4,7,4,3,0,7,0,2,7,1,7,3,7,9,7,7,6,2,7,8,4,7,5,6,1,3,6,4,3,1,4,1,7,6,9,7,2,1,0,4,1,4,9,6,9,0,8,9,0,1,5,9,7,6,4,7,6,6,5,7,0,7,4,0,8,3,3,3,6,7,2,3,1,3,1,1,7,4,1,5,5,3,6,4,4,6,3,5,5,6,0,4,1,9,7,7,2,4,2,7,4,7,4,3,0,7,0,2,7,1,7,8,7,8,7,9,6,2,7,5,4,7,5,6,1,3,6,4,3,1,4,8,7,6,9,7,6,2,0,4,1,8,9,6,4,0,8,4,0,1,5,9,7,6,4,7,5,4,5,7,0,7,4,0,8,3,3,5,6,7,2,3,1,3,8,1,9,9,1,5,8,3,6,4,4,6,3,5,5,6,0,4,1,4,7,7,2,4,2,7,9,7,4,3,0,7,0,2,7,8,7,8,7,8,7,9,2,2,7,5,4,7,5,6,1,3,6,4,3,1,4,8,7,6,9,3,6,2,0,9,8,8,9,6,4,5,8,4,0,3,8,7,3,6,4,7,5,4,5,7,0,9,4,0,8,3,3,5,6,7,2,3,8,3,8,8,9,9,1,5,8,3,6,4,4,0,3,0,4,6,0,4,8,4,7,7,2,4,2,3,9,7,4,3,0,7,0,2,7,8,7,8,7,8,7,9,2,2,7,5,4,7,5,6,8,3,6,4,5,1,4,8,9,5,9]},\"selected\":{\"id\":\"1287\",\"type\":\"Selection\"},\"selection_policy\":{\"id\":\"1288\",\"type\":\"UnionRenderers\"}},\"id\":\"1252\",\"type\":\"ColumnDataSource\"},{\"attributes\":{},\"id\":\"1240\",\"type\":\"WheelZoomTool\"},{\"attributes\":{},\"id\":\"1230\",\"type\":\"BasicTicker\"},{\"attributes\":{\"data_source\":{\"id\":\"1252\",\"type\":\"ColumnDataSource\"},\"glyph\":{\"id\":\"1254\",\"type\":\"Scatter\"},\"hover_glyph\":null,\"muted_glyph\":null,\"nonselection_glyph\":{\"id\":\"1255\",\"type\":\"Scatter\"},\"selection_glyph\":null,\"view\":{\"id\":\"1257\",\"type\":\"CDSView\"}},\"id\":\"1256\",\"type\":\"GlyphRenderer\"},{\"attributes\":{},\"id\":\"1287\",\"type\":\"Selection\"},{\"attributes\":{\"items\":[{\"id\":\"1265\",\"type\":\"LegendItem\"}]},\"id\":\"1264\",\"type\":\"Legend\"},{\"attributes\":{},\"id\":\"1239\",\"type\":\"PanTool\"},{\"attributes\":{\"formatter\":{\"id\":\"1262\",\"type\":\"BasicTickFormatter\"},\"ticker\":{\"id\":\"1230\",\"type\":\"BasicTicker\"}},\"id\":\"1229\",\"type\":\"LinearAxis\"},{\"attributes\":{},\"id\":\"1260\",\"type\":\"BasicTickFormatter\"},{\"attributes\":{\"fill_color\":{\"field\":\"color_eps\"},\"line_color\":{\"field\":\"color_eps\"},\"x\":{\"field\":\"x1\"},\"y\":{\"field\":\"x2\"}},\"id\":\"1254\",\"type\":\"Scatter\"},{\"attributes\":{\"overlay\":{\"id\":\"1263\",\"type\":\"BoxAnnotation\"}},\"id\":\"1241\",\"type\":\"BoxZoomTool\"},{\"attributes\":{},\"id\":\"1225\",\"type\":\"LinearScale\"},{\"attributes\":{\"label\":{\"field\":\"legend\"},\"renderers\":[{\"id\":\"1256\",\"type\":\"GlyphRenderer\"}]},\"id\":\"1265\",\"type\":\"LegendItem\"},{\"attributes\":{},\"id\":\"1243\",\"type\":\"ResetTool\"},{\"attributes\":{\"callback\":null},\"id\":\"1223\",\"type\":\"DataRange1d\"},{\"attributes\":{\"ticker\":{\"id\":\"1230\",\"type\":\"BasicTicker\"}},\"id\":\"1233\",\"type\":\"Grid\"},{\"attributes\":{},\"id\":\"1244\",\"type\":\"HelpTool\"},{\"attributes\":{\"callback\":null},\"id\":\"1221\",\"type\":\"DataRange1d\"},{\"attributes\":{},\"id\":\"1288\",\"type\":\"UnionRenderers\"},{\"attributes\":{},\"id\":\"1227\",\"type\":\"LinearScale\"},{\"attributes\":{\"source\":{\"id\":\"1252\",\"type\":\"ColumnDataSource\"}},\"id\":\"1257\",\"type\":\"CDSView\"},{\"attributes\":{\"bottom_units\":\"screen\",\"fill_alpha\":{\"value\":0.5},\"fill_color\":{\"value\":\"lightgrey\"},\"left_units\":\"screen\",\"level\":\"overlay\",\"line_alpha\":{\"value\":1.0},\"line_color\":{\"value\":\"black\"},\"line_dash\":[4,4],\"line_width\":{\"value\":2},\"render_mode\":\"css\",\"right_units\":\"screen\",\"top_units\":\"screen\"},\"id\":\"1263\",\"type\":\"BoxAnnotation\"},{\"attributes\":{\"fill_alpha\":{\"value\":0.1},\"fill_color\":{\"value\":\"#1f77b4\"},\"line_alpha\":{\"value\":0.1},\"line_color\":{\"value\":\"#1f77b4\"},\"x\":{\"field\":\"x1\"},\"y\":{\"field\":\"x2\"}},\"id\":\"1255\",\"type\":\"Scatter\"},{\"attributes\":{},\"id\":\"1235\",\"type\":\"BasicTicker\"},{\"attributes\":{},\"id\":\"1242\",\"type\":\"SaveTool\"},{\"attributes\":{\"dimension\":1,\"ticker\":{\"id\":\"1235\",\"type\":\"BasicTicker\"}},\"id\":\"1238\",\"type\":\"Grid\"}],\"root_ids\":[\"1218\"]},\"title\":\"Bokeh Application\",\"version\":\"1.2.0\"}};\n",
       "  var render_items = [{\"docid\":\"97735aec-2577-4538-88f5-36522928afe4\",\"roots\":{\"1218\":\"6379dafb-17f4-42c7-ae8a-5e78b533c4d7\"}}];\n",
       "  root.Bokeh.embed.embed_items_notebook(docs_json, render_items);\n",
       "\n",
       "  }\n",
       "  if (root.Bokeh !== undefined) {\n",
       "    embed_document(root);\n",
       "  } else {\n",
       "    var attempts = 0;\n",
       "    var timer = setInterval(function(root) {\n",
       "      if (root.Bokeh !== undefined) {\n",
       "        embed_document(root);\n",
       "        clearInterval(timer);\n",
       "      }\n",
       "      attempts++;\n",
       "      if (attempts > 100) {\n",
       "        console.log(\"Bokeh: ERROR: Unable to run BokehJS code because BokehJS library is missing\");\n",
       "        clearInterval(timer);\n",
       "      }\n",
       "    }, 10, root)\n",
       "  }\n",
       "})(window);"
      ],
      "application/vnd.bokehjs_exec.v0+json": ""
     },
     "metadata": {
      "application/vnd.bokehjs_exec.v0+json": {
       "id": "1218"
      }
     },
     "output_type": "display_data"
    }
   ],
   "source": [
    "f = figure(title=\"Weisfeiler-Lehman steps for various epsilon\")\n",
    "\n",
    "f.scatter(source=ColumnDataSource(df),\n",
    "          x=\"x1\", y=\"x2\", color=\"color_eps\", legend=\"legend\", marker=\"circle\")\n",
    "\n",
    "show(f)"
   ]
  },
  {
   "cell_type": "code",
   "execution_count": 20,
   "metadata": {},
   "outputs": [
    {
     "name": "stdout",
     "output_type": "stream",
     "text": [
      "[(0.01, 0.7856), (0.026250000000000002, 0.8720000000000001), (0.0425, 0.8972), (0.058750000000000004, 0.9318), (0.075, 0.9502)]\n"
     ]
    }
   ],
   "source": [
    "separability_values = list()\n",
    "\n",
    "for epsilon in sorted(datasets.keys()):\n",
    "    \n",
    "    if epsilon==0.0:\n",
    "        continue\n",
    "    \n",
    "    roc_values = list()\n",
    "    \n",
    "    for gamma in np.logspace(-6, -3, 10):\n",
    "        ocs = OneClassSVM(\n",
    "        tol=1e-5,\n",
    "        gamma=gamma)\n",
    "\n",
    "        clean_data = [np.ndarray.flatten(np.array((e[0]))) for e in embeddings if e[4]==0.0]\n",
    "        train_data = clean_data[:len(clean_data)//2]\n",
    "        test_data = clean_data[len(clean_data)//2:]\n",
    "\n",
    "        ocs.fit(train_data)\n",
    "        \n",
    "        bad_data = [np.ndarray.flatten(np.array((e[0]))) for e in embeddings if e[4]==epsilon]\n",
    "        \n",
    "        predictions = ocs.score_samples(test_data+bad_data)\n",
    "        \n",
    "        labels = np.concatenate((np.ones(len(test_data)), np.zeros(len(bad_data))))\n",
    "        \n",
    "        \n",
    "        roc_val = roc_auc_score(y_true=labels, y_score=predictions)\n",
    "        roc_values.append(roc_val)\n",
    "        \n",
    "    separability_values.append((epsilon, np.max(roc_values)))\n",
    "    \n",
    "print(separability_values)   "
   ]
  },
  {
   "cell_type": "code",
   "execution_count": 21,
   "metadata": {},
   "outputs": [
    {
     "data": {
      "text/html": [
       "\n",
       "\n",
       "\n",
       "\n",
       "\n",
       "\n",
       "  <div class=\"bk-root\" id=\"af91c32d-d7d5-41d7-8a62-97e00857ab4f\" data-root-id=\"1338\"></div>\n"
      ]
     },
     "metadata": {},
     "output_type": "display_data"
    },
    {
     "data": {
      "application/javascript": [
       "(function(root) {\n",
       "  function embed_document(root) {\n",
       "    \n",
       "  var docs_json = {\"3a234d16-b4bb-419b-a718-e55c15a51d21\":{\"roots\":{\"references\":[{\"attributes\":{\"below\":[{\"id\":\"1349\",\"type\":\"LinearAxis\"}],\"center\":[{\"id\":\"1353\",\"type\":\"Grid\"},{\"id\":\"1358\",\"type\":\"Grid\"},{\"id\":\"1383\",\"type\":\"Legend\"}],\"left\":[{\"id\":\"1354\",\"type\":\"LinearAxis\"}],\"renderers\":[{\"id\":\"1375\",\"type\":\"GlyphRenderer\"}],\"title\":{\"id\":\"1339\",\"type\":\"Title\"},\"toolbar\":{\"id\":\"1365\",\"type\":\"Toolbar\"},\"x_range\":{\"id\":\"1341\",\"type\":\"DataRange1d\"},\"x_scale\":{\"id\":\"1345\",\"type\":\"LinearScale\"},\"y_range\":{\"id\":\"1343\",\"type\":\"DataRange1d\"},\"y_scale\":{\"id\":\"1347\",\"type\":\"LinearScale\"}},\"id\":\"1338\",\"subtype\":\"Figure\",\"type\":\"Plot\"},{\"attributes\":{},\"id\":\"1363\",\"type\":\"ResetTool\"},{\"attributes\":{},\"id\":\"1415\",\"type\":\"UnionRenderers\"},{\"attributes\":{},\"id\":\"1362\",\"type\":\"SaveTool\"},{\"attributes\":{\"data_source\":{\"id\":\"1372\",\"type\":\"ColumnDataSource\"},\"glyph\":{\"id\":\"1373\",\"type\":\"Line\"},\"hover_glyph\":null,\"muted_glyph\":null,\"nonselection_glyph\":{\"id\":\"1374\",\"type\":\"Line\"},\"selection_glyph\":null,\"view\":{\"id\":\"1376\",\"type\":\"CDSView\"}},\"id\":\"1375\",\"type\":\"GlyphRenderer\"},{\"attributes\":{},\"id\":\"1347\",\"type\":\"LinearScale\"},{\"attributes\":{\"text\":\"Best AUC reachable for various epsilon\"},\"id\":\"1339\",\"type\":\"Title\"},{\"attributes\":{\"callback\":null},\"id\":\"1341\",\"type\":\"DataRange1d\"},{\"attributes\":{\"bottom_units\":\"screen\",\"fill_alpha\":{\"value\":0.5},\"fill_color\":{\"value\":\"lightgrey\"},\"left_units\":\"screen\",\"level\":\"overlay\",\"line_alpha\":{\"value\":1.0},\"line_color\":{\"value\":\"black\"},\"line_dash\":[4,4],\"line_width\":{\"value\":2},\"render_mode\":\"css\",\"right_units\":\"screen\",\"top_units\":\"screen\"},\"id\":\"1382\",\"type\":\"BoxAnnotation\"},{\"attributes\":{\"overlay\":{\"id\":\"1382\",\"type\":\"BoxAnnotation\"}},\"id\":\"1361\",\"type\":\"BoxZoomTool\"},{\"attributes\":{},\"id\":\"1345\",\"type\":\"LinearScale\"},{\"attributes\":{},\"id\":\"1381\",\"type\":\"BasicTickFormatter\"},{\"attributes\":{\"items\":[{\"id\":\"1384\",\"type\":\"LegendItem\"}]},\"id\":\"1383\",\"type\":\"Legend\"},{\"attributes\":{\"active_drag\":\"auto\",\"active_inspect\":\"auto\",\"active_multi\":null,\"active_scroll\":\"auto\",\"active_tap\":\"auto\",\"tools\":[{\"id\":\"1359\",\"type\":\"PanTool\"},{\"id\":\"1360\",\"type\":\"WheelZoomTool\"},{\"id\":\"1361\",\"type\":\"BoxZoomTool\"},{\"id\":\"1362\",\"type\":\"SaveTool\"},{\"id\":\"1363\",\"type\":\"ResetTool\"},{\"id\":\"1364\",\"type\":\"HelpTool\"}]},\"id\":\"1365\",\"type\":\"Toolbar\"},{\"attributes\":{},\"id\":\"1350\",\"type\":\"BasicTicker\"},{\"attributes\":{\"axis_label\":\"Epsilon\",\"formatter\":{\"id\":\"1381\",\"type\":\"BasicTickFormatter\"},\"ticker\":{\"id\":\"1350\",\"type\":\"BasicTicker\"}},\"id\":\"1349\",\"type\":\"LinearAxis\"},{\"attributes\":{\"line_alpha\":0.1,\"line_color\":\"#1f77b4\",\"line_width\":2,\"x\":{\"field\":\"x\"},\"y\":{\"field\":\"y\"}},\"id\":\"1374\",\"type\":\"Line\"},{\"attributes\":{\"label\":{\"value\":\"Weisfeiler-Lehman\"},\"renderers\":[{\"id\":\"1375\",\"type\":\"GlyphRenderer\"}]},\"id\":\"1384\",\"type\":\"LegendItem\"},{\"attributes\":{\"axis_label\":\"AUC\",\"formatter\":{\"id\":\"1379\",\"type\":\"BasicTickFormatter\"},\"ticker\":{\"id\":\"1355\",\"type\":\"BasicTicker\"}},\"id\":\"1354\",\"type\":\"LinearAxis\"},{\"attributes\":{\"ticker\":{\"id\":\"1350\",\"type\":\"BasicTicker\"}},\"id\":\"1353\",\"type\":\"Grid\"},{\"attributes\":{},\"id\":\"1364\",\"type\":\"HelpTool\"},{\"attributes\":{},\"id\":\"1359\",\"type\":\"PanTool\"},{\"attributes\":{\"source\":{\"id\":\"1372\",\"type\":\"ColumnDataSource\"}},\"id\":\"1376\",\"type\":\"CDSView\"},{\"attributes\":{\"callback\":null,\"data\":{\"x\":[0.01,0.026250000000000002,0.0425,0.058750000000000004,0.075],\"y\":[0.7856,0.8720000000000001,0.8972,0.9318,0.9502]},\"selected\":{\"id\":\"1414\",\"type\":\"Selection\"},\"selection_policy\":{\"id\":\"1415\",\"type\":\"UnionRenderers\"}},\"id\":\"1372\",\"type\":\"ColumnDataSource\"},{\"attributes\":{},\"id\":\"1379\",\"type\":\"BasicTickFormatter\"},{\"attributes\":{\"line_color\":\"#1f77b4\",\"line_width\":2,\"x\":{\"field\":\"x\"},\"y\":{\"field\":\"y\"}},\"id\":\"1373\",\"type\":\"Line\"},{\"attributes\":{},\"id\":\"1355\",\"type\":\"BasicTicker\"},{\"attributes\":{\"callback\":null},\"id\":\"1343\",\"type\":\"DataRange1d\"},{\"attributes\":{},\"id\":\"1360\",\"type\":\"WheelZoomTool\"},{\"attributes\":{},\"id\":\"1414\",\"type\":\"Selection\"},{\"attributes\":{\"dimension\":1,\"ticker\":{\"id\":\"1355\",\"type\":\"BasicTicker\"}},\"id\":\"1358\",\"type\":\"Grid\"}],\"root_ids\":[\"1338\"]},\"title\":\"Bokeh Application\",\"version\":\"1.2.0\"}};\n",
       "  var render_items = [{\"docid\":\"3a234d16-b4bb-419b-a718-e55c15a51d21\",\"roots\":{\"1338\":\"af91c32d-d7d5-41d7-8a62-97e00857ab4f\"}}];\n",
       "  root.Bokeh.embed.embed_items_notebook(docs_json, render_items);\n",
       "\n",
       "  }\n",
       "  if (root.Bokeh !== undefined) {\n",
       "    embed_document(root);\n",
       "  } else {\n",
       "    var attempts = 0;\n",
       "    var timer = setInterval(function(root) {\n",
       "      if (root.Bokeh !== undefined) {\n",
       "        embed_document(root);\n",
       "        clearInterval(timer);\n",
       "      }\n",
       "      attempts++;\n",
       "      if (attempts > 100) {\n",
       "        console.log(\"Bokeh: ERROR: Unable to run BokehJS code because BokehJS library is missing\");\n",
       "        clearInterval(timer);\n",
       "      }\n",
       "    }, 10, root)\n",
       "  }\n",
       "})(window);"
      ],
      "application/vnd.bokehjs_exec.v0+json": ""
     },
     "metadata": {
      "application/vnd.bokehjs_exec.v0+json": {
       "id": "1338"
      }
     },
     "output_type": "display_data"
    }
   ],
   "source": [
    "f = figure(\n",
    "    title=\"Best AUC reachable for various epsilon\",\n",
    "    x_axis_label=\"Epsilon\",\n",
    "    y_axis_label=\"AUC\")\n",
    "\n",
    "f.line(\n",
    "    x=[z[0] for z in separability_values],\n",
    "    y=[z[1] for z in separability_values],\n",
    "    line_width=2, legend=\"Weisfeiler-Lehman\"\n",
    ")\n",
    "\n",
    "show(f)"
   ]
  },
  {
   "cell_type": "code",
   "execution_count": null,
   "metadata": {},
   "outputs": [],
   "source": []
  }
 ],
 "metadata": {
  "kernelspec": {
   "display_name": "Python 3",
   "language": "python",
   "name": "python3"
  },
  "language_info": {
   "codemirror_mode": {
    "name": "ipython",
    "version": 3
   },
   "file_extension": ".py",
   "mimetype": "text/x-python",
   "name": "python",
   "nbconvert_exporter": "python",
   "pygments_lexer": "ipython3",
   "version": "3.6.8"
  }
 },
 "nbformat": 4,
 "nbformat_minor": 2
}

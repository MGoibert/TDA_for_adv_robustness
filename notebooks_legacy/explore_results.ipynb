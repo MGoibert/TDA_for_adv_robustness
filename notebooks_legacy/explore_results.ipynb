{
 "cells": [
  {
   "cell_type": "code",
   "execution_count": 5,
   "metadata": {},
   "outputs": [],
   "source": [
    "from tda.rootpath import db_path\n",
    "from r3d3.experiment_db import ExperimentDB\n",
    "import qgrid\n",
    "import pandas as pd"
   ]
  },
  {
   "cell_type": "code",
   "execution_count": 6,
   "metadata": {},
   "outputs": [],
   "source": [
    "db_path = '/Users/m.goibert/Downloads/morgane_r3d3.db'\n",
    "my_db = ExperimentDB(db_path)"
   ]
  },
  {
   "cell_type": "code",
   "execution_count": 7,
   "metadata": {},
   "outputs": [
    {
     "data": {
      "text/plain": [
       "'/Users/m.goibert/Downloads/morgane_r3d3.db'"
      ]
     },
     "execution_count": 7,
     "metadata": {},
     "output_type": "execute_result"
    }
   ],
   "source": [
    "db_path"
   ]
  },
  {
   "cell_type": "code",
   "execution_count": 8,
   "metadata": {},
   "outputs": [
    {
     "data": {
      "application/vnd.jupyter.widget-view+json": {
       "model_id": "6be3a0b4677d434ca8041b5eb98e736c",
       "version_major": 2,
       "version_minor": 0
      },
      "text/plain": [
       "QgridWidget(grid_options={'fullWidthRows': True, 'syncColumnCellResize': True, 'forceFitColumns': True, 'defau…"
      ]
     },
     "metadata": {},
     "output_type": "display_data"
    }
   ],
   "source": [
    "qgrid.show_grid(my_db.list_all_experiments())"
   ]
  },
  {
   "cell_type": "code",
   "execution_count": 11,
   "metadata": {},
   "outputs": [],
   "source": [
    "df_test = my_db.show_experiment(1579614448,\n",
    "    params={\n",
    "        \"threshold\": \"threshold\",\n",
    "    },\n",
    "    metrics={\n",
    "        \"val\": \"separability_values\",\n",
    "        \"l2_diff\": \"l2_diff\"\n",
    "    })"
   ]
  },
  {
   "cell_type": "code",
   "execution_count": 16,
   "metadata": {},
   "outputs": [
    {
     "data": {
      "text/plain": [
       "{'0.025': 0.9983, '0.05': 0.9989, '0.1': 0.9991, '0.4': 0.999, '0.0': 0.5}"
      ]
     },
     "execution_count": 16,
     "metadata": {},
     "output_type": "execute_result"
    }
   ],
   "source": [
    "df_test['val'][0]"
   ]
  },
  {
   "cell_type": "code",
   "execution_count": null,
   "metadata": {},
   "outputs": [],
   "source": []
  },
  {
   "cell_type": "code",
   "execution_count": 5,
   "metadata": {},
   "outputs": [
    {
     "data": {
      "application/vnd.jupyter.widget-view+json": {
       "model_id": "d6efaf15630f49539552b4597de75d46",
       "version_major": 2,
       "version_minor": 0
      },
      "text/plain": [
       "QgridWidget(grid_options={'fullWidthRows': True, 'syncColumnCellResize': True, 'forceFitColumns': True, 'defau…"
      ]
     },
     "metadata": {},
     "output_type": "display_data"
    }
   ],
   "source": [
    "_df1 = my_db.show_experiment(\n",
    "    1574325782,\n",
    "    params={\n",
    "        \"noise\": \"noise\",\n",
    "        \"node_labels\": \"node_labels\",\n",
    "        \"threshold\": \"threshold\",\n",
    "        \"embedding_type\": \"embedding_type\"\n",
    "    },\n",
    "    metrics={\n",
    "        \"val\": \"separability_values\"\n",
    "    }\n",
    ")\n",
    "\n",
    "_df2 = my_db.show_experiment(\n",
    "    1569256169,\n",
    "    params={\n",
    "        \"noise\": \"noise\",\n",
    "        \"node_labels\": \"node_labels\",\n",
    "        \"threshold\": \"threshold\",\n",
    "        \"embedding_type\": \"embedding_type\"\n",
    "    },\n",
    "    metrics={\n",
    "        \"val\": \"separability_values\"\n",
    "    }\n",
    ")\n",
    "\n",
    "df = pd.concat([_df1, _df2])\n",
    "\n",
    "df['0.026'] = df[\"val\"].apply(lambda x: x['0.026250000000000002'])\n",
    "df['0.075'] = df[\"val\"].apply(lambda x: x['0.075'])\n",
    "\n",
    "df.drop(columns=[\"val\", \"run_id\"], inplace=True)\n",
    "\n",
    "qgrid.show_grid(df)"
   ]
  },
  {
   "cell_type": "code",
   "execution_count": 28,
   "metadata": {},
   "outputs": [
    {
     "data": {
      "text/plain": [
       "205"
      ]
     },
     "execution_count": 28,
     "metadata": {},
     "output_type": "execute_result"
    }
   ],
   "source": [
    "my_db.get_nb_experiments()"
   ]
  },
  {
   "cell_type": "code",
   "execution_count": 32,
   "metadata": {},
   "outputs": [
    {
     "data": {
      "text/plain": [
       "'{\"separability_values\": {\"0.0\": 0.5, \"0.01\": 0.5852, \"0.026250000000000002\": 0.7872, \"0.0425\": 0.7962, \"0.058750000000000004\": 0.8362, \"0.075\": 0.8886000000000001}, \"running_time\": 262.35759449005127}'"
      ]
     },
     "execution_count": 32,
     "metadata": {},
     "output_type": "execute_result"
    }
   ],
   "source": [
    "my_db.list_all_experiments().iloc[-1]['metrics']"
   ]
  },
  {
   "cell_type": "code",
   "execution_count": 33,
   "metadata": {},
   "outputs": [
    {
     "data": {
      "text/plain": [
       "'{\"separability_values\": {\"0.0\": 0.5, \"0.01\": 0.5516000000000001, \"0.026250000000000002\": 0.7174, \"0.0425\": 0.8306, \"0.058750000000000004\": 0.7894, \"0.075\": 0.8744}, \"running_time\": 250.0758318901062}'"
      ]
     },
     "execution_count": 33,
     "metadata": {},
     "output_type": "execute_result"
    }
   ],
   "source": [
    "my_db.list_all_experiments().iloc[-2]['metrics']"
   ]
  },
  {
   "cell_type": "code",
   "execution_count": 45,
   "metadata": {},
   "outputs": [
    {
     "data": {
      "application/vnd.jupyter.widget-view+json": {
       "model_id": "7b791e014d614296bd472a31c2e884a0",
       "version_major": 2,
       "version_minor": 0
      },
      "text/plain": [
       "QgridWidget(grid_options={'fullWidthRows': True, 'syncColumnCellResize': True, 'forceFitColumns': True, 'defau…"
      ]
     },
     "metadata": {},
     "output_type": "display_data"
    }
   ],
   "source": [
    "df = my_db.show_experiment(1571387191, params={\n",
    "        \"noise\": \"noise\",\n",
    "        \"node_labels\": \"node_labels\",\n",
    "        \"threshold\": \"threshold\",\n",
    "        \"embedding_type\": \"embedding_type\"\n",
    "    },\n",
    "    metrics={\n",
    "        \"val\": \"separability_values\"\n",
    "    })\n",
    "\n",
    "df['0.026'] = df[\"val\"].apply(lambda x: x['0.026250000000000002'])\n",
    "df['0.075'] = df[\"val\"].apply(lambda x: x['0.075'])\n",
    "\n",
    "qgrid.show_grid(df)"
   ]
  },
  {
   "cell_type": "code",
   "execution_count": 48,
   "metadata": {},
   "outputs": [
    {
     "data": {
      "application/vnd.jupyter.widget-view+json": {
       "model_id": "8d984d4d11b646c88ca62b051d94fc45",
       "version_major": 2,
       "version_minor": 0
      },
      "text/plain": [
       "QgridWidget(grid_options={'fullWidthRows': True, 'syncColumnCellResize': True, 'forceFitColumns': True, 'defau…"
      ]
     },
     "metadata": {},
     "output_type": "display_data"
    }
   ],
   "source": [
    "df = my_db.show_experiment(1571325699, params={\n",
    "        \"noise\": \"noise\",\n",
    "        \"node_labels\": \"node_labels\",\n",
    "        \"threshold\": \"threshold\",\n",
    "        \"embedding_type\": \"embedding_type\"\n",
    "    },\n",
    "    metrics={\n",
    "        \"val\": \"separability_values\",\n",
    "        \"time\": \"running_time\"\n",
    "    })\n",
    "\n",
    "df['0.026'] = df[\"val\"].apply(lambda x: x['0.026250000000000002'])\n",
    "df['0.075'] = df[\"val\"].apply(lambda x: x['0.075'])\n",
    "\n",
    "qgrid.show_grid(df)"
   ]
  },
  {
   "cell_type": "code",
   "execution_count": 60,
   "metadata": {},
   "outputs": [
    {
     "data": {
      "application/vnd.jupyter.widget-view+json": {
       "model_id": "804276561d5a4bae803035b4ef566b49",
       "version_major": 2,
       "version_minor": 0
      },
      "text/plain": [
       "QgridWidget(grid_options={'fullWidthRows': True, 'syncColumnCellResize': True, 'forceFitColumns': True, 'defau…"
      ]
     },
     "metadata": {},
     "output_type": "display_data"
    }
   ],
   "source": [
    "df = my_db.show_experiment(1571822166, params={\n",
    "        \"noise\": \"noise\",\n",
    "        \"node_labels\": \"node_labels\",\n",
    "        \"threshold\": \"threshold\",\n",
    "        \"embedding_type\": \"embedding_type\"\n",
    "    },\n",
    "    metrics={\n",
    "        \"val\": \"separability_values\",\n",
    "        \"time\": \"running_time\"\n",
    "    })\n",
    "\n",
    "df['0.026'] = df[\"val\"].apply(lambda x: x['0.026250000000000002'])\n",
    "df['0.075'] = df[\"val\"].apply(lambda x: x['0.075'])\n",
    "\n",
    "df.drop(columns=[\"val\"])\n",
    "\n",
    "qgrid.show_grid(df)"
   ]
  },
  {
   "cell_type": "code",
   "execution_count": 65,
   "metadata": {},
   "outputs": [
    {
     "data": {
      "application/vnd.jupyter.widget-view+json": {
       "model_id": "482a606030b946a0b61307dbe9c08859",
       "version_major": 2,
       "version_minor": 0
      },
      "text/plain": [
       "QgridWidget(grid_options={'fullWidthRows': True, 'syncColumnCellResize': True, 'forceFitColumns': True, 'defau…"
      ]
     },
     "metadata": {},
     "output_type": "display_data"
    }
   ],
   "source": [
    "df = my_db.show_experiment(1571832884, params={\n",
    "        \"noise\": \"noise\",\n",
    "        \"node_labels\": \"node_labels\",\n",
    "        \"threshold\": \"threshold\",\n",
    "        \"embedding_type\": \"embedding_type\"\n",
    "        \"dataset\"\n",
    "    },\n",
    "    metrics={\n",
    "        \"val\": \"separability_values\",\n",
    "        \"time\": \"running_time\"\n",
    "    })\n",
    "\n",
    "df['0.026'] = df[\"val\"].apply(lambda x: x['0.026250000000000002'])\n",
    "df['0.075'] = df[\"val\"].apply(lambda x: x['0.075'])\n",
    "\n",
    "df.drop(columns=[\"val\"])\n",
    "\n",
    "qgrid.show_grid(df)"
   ]
  },
  {
   "cell_type": "code",
   "execution_count": 66,
   "metadata": {},
   "outputs": [
    {
     "data": {
      "application/vnd.jupyter.widget-view+json": {
       "model_id": "748ecde078d34f519f4e83e301cf708a",
       "version_major": 2,
       "version_minor": 0
      },
      "text/plain": [
       "QgridWidget(grid_options={'fullWidthRows': True, 'syncColumnCellResize': True, 'forceFitColumns': True, 'defau…"
      ]
     },
     "metadata": {},
     "output_type": "display_data"
    }
   ],
   "source": [
    "df = my_db.show_experiment(1572258979, params={\n",
    "        \"noise\": \"noise\",\n",
    "        \"node_labels\": \"node_labels\",\n",
    "        \"threshold\": \"threshold\",\n",
    "        \"embedding_type\": \"embedding_type\"\n",
    "        \"dataset\"\n",
    "    },\n",
    "    metrics={\n",
    "        \"val\": \"separability_values\",\n",
    "        \"time\": \"running_time\"\n",
    "    })\n",
    "\n",
    "df['0.026'] = df[\"val\"].apply(lambda x: x['0.026250000000000002'])\n",
    "df['0.075'] = df[\"val\"].apply(lambda x: x['0.075'])\n",
    "\n",
    "df.drop(columns=[\"val\"])\n",
    "\n",
    "qgrid.show_grid(df)"
   ]
  },
  {
   "cell_type": "code",
   "execution_count": 77,
   "metadata": {},
   "outputs": [
    {
     "data": {
      "application/vnd.jupyter.widget-view+json": {
       "model_id": "58b0173601694ab597f91deeb963f25d",
       "version_major": 2,
       "version_minor": 0
      },
      "text/plain": [
       "QgridWidget(grid_options={'fullWidthRows': True, 'syncColumnCellResize': True, 'forceFitColumns': True, 'defau…"
      ]
     },
     "metadata": {},
     "output_type": "display_data"
    }
   ],
   "source": [
    "df = my_db.show_experiment(1572533570, params={\n",
    "        \"noise\": \"noise\",\n",
    "        \"T\": \"thresholds\",\n",
    "        \"emb\": \"embedding_type\"\n",
    "        \"dataset\",\n",
    "        \"attack\": \"attack_type\"\n",
    "    },\n",
    "    metrics={\n",
    "        \"val\": \"separability_values\",\n",
    "        \"time\": \"running_time\"\n",
    "    })\n",
    "\n",
    "df['0.0'] = df[\"val\"].apply(lambda x: x['0.0'])\n",
    "df['1'] = df[\"val\"].apply(lambda x: x['1'])\n",
    "\n",
    "df.drop(columns=[\"val\"])\n",
    "\n",
    "qgrid.show_grid(df)\n"
   ]
  },
  {
   "cell_type": "code",
   "execution_count": 8,
   "metadata": {},
   "outputs": [
    {
     "data": {
      "application/vnd.jupyter.widget-view+json": {
       "model_id": "45d00e6f32344003a6f5fa49918bacfd",
       "version_major": 2,
       "version_minor": 0
      },
      "text/plain": [
       "QgridWidget(grid_options={'fullWidthRows': True, 'syncColumnCellResize': True, 'forceFitColumns': True, 'defau…"
      ]
     },
     "metadata": {},
     "output_type": "display_data"
    }
   ],
   "source": [
    "df = my_db.show_experiment(1574326902, params={\n",
    "        #\"noise\": \"noise\",\n",
    "        \"T\": \"threshold\",\n",
    "        #\"emb\": \"embedding_type\",\n",
    "        #\"dataset_size\": \"dataset_size\",\n",
    "        \"attack\": \"attack_type\"\n",
    "    },\n",
    "    metrics={\n",
    "        \"val\": \"separability_values\",\n",
    "        \"time\": \"running_time\"\n",
    "    })\n",
    "\n",
    "\n",
    "df2 = my_db.show_experiment(1574325782, params={\n",
    "        #\"noise\": \"noise\",\n",
    "        \"T\": \"threshold\",\n",
    "        #\"emb\": \"embedding_type\",\n",
    "        #\"dataset_size\": \"dataset_size\",\n",
    "        \"attack\": \"attack_type\"\n",
    "    },\n",
    "    metrics={\n",
    "        \"val\": \"separability_values\",\n",
    "        \"time\": \"running_time\"\n",
    "    })\n",
    "\n",
    "\n",
    "df = pd.concat([df, df2])\n",
    "\n",
    "qgrid.show_grid(df)"
   ]
  },
  {
   "cell_type": "code",
   "execution_count": 22,
   "metadata": {},
   "outputs": [
    {
     "data": {
      "application/vnd.jupyter.widget-view+json": {
       "model_id": "b8ef08bff49b4aafb2d38edbbf78d7a6",
       "version_major": 2,
       "version_minor": 0
      },
      "text/plain": [
       "QgridWidget(grid_options={'fullWidthRows': True, 'syncColumnCellResize': True, 'forceFitColumns': True, 'defau…"
      ]
     },
     "metadata": {},
     "output_type": "display_data"
    }
   ],
   "source": [
    "df = my_db.show_experiment(1574326902, params={\n",
    "        \"noise\": \"noise\",\n",
    "        \"T\": \"threshold\",\n",
    "        \"emb\": \"embedding_type\",\n",
    "        \"architecture\": \"architecture\"\n",
    "    },\n",
    "    metrics={\n",
    "        \"val\": \"separability_values\",\n",
    "        \"time\": \"running_time\"\n",
    "    })\n",
    "\n",
    "df2 = my_db.show_experiment(1574342328, params={\n",
    "        \"noise\": \"noise\",\n",
    "        \"T\": \"threshold\",\n",
    "        \"emb\": \"embedding_type\",\n",
    "        \"architecture\": \"architecture\"\n",
    "    },\n",
    "    metrics={\n",
    "        \"val\": \"separability_values\",\n",
    "        \"time\": \"running_time\"\n",
    "    })\n",
    "\n",
    "df = pd.concat([df, df2])\n",
    "df['0.0'] = df[\"val\"].apply(lambda x: (x or dict()).get('0.0', None))\n",
    "df['0.01'] = df[\"val\"].apply(lambda x: (x or dict()).get('0.01', None))\n",
    "\n",
    "df.drop(columns=[\"val\"])\n",
    "qgrid.show_grid(df)"
   ]
  },
  {
   "cell_type": "code",
   "execution_count": 57,
   "metadata": {},
   "outputs": [
    {
     "data": {
      "text/html": [
       "<div>\n",
       "<style scoped>\n",
       "    .dataframe tbody tr th:only-of-type {\n",
       "        vertical-align: middle;\n",
       "    }\n",
       "\n",
       "    .dataframe tbody tr th {\n",
       "        vertical-align: top;\n",
       "    }\n",
       "\n",
       "    .dataframe thead th {\n",
       "        text-align: right;\n",
       "    }\n",
       "</style>\n",
       "<table border=\"1\" class=\"dataframe\">\n",
       "  <thead>\n",
       "    <tr style=\"text-align: right;\">\n",
       "      <th></th>\n",
       "      <th>run_id</th>\n",
       "      <th>prediction</th>\n",
       "    </tr>\n",
       "  </thead>\n",
       "  <tbody>\n",
       "  </tbody>\n",
       "</table>\n",
       "</div>"
      ],
      "text/plain": [
       "Empty DataFrame\n",
       "Columns: [run_id, prediction]\n",
       "Index: []"
      ]
     },
     "execution_count": 57,
     "metadata": {},
     "output_type": "execute_result"
    }
   ],
   "source": [
    "my_db.show_experiment(\n",
    "1574091481,\n",
    "params={},\n",
    "metrics={\n",
    "    \"prediction\": \"prediction\"\n",
    "})"
   ]
  },
  {
   "cell_type": "code",
   "execution_count": 23,
   "metadata": {},
   "outputs": [
    {
     "data": {
      "application/vnd.jupyter.widget-view+json": {
       "model_id": "08e24102eb044232aed67746aeaa7045",
       "version_major": 2,
       "version_minor": 0
      },
      "text/plain": [
       "QgridWidget(grid_options={'fullWidthRows': True, 'syncColumnCellResize': True, 'forceFitColumns': True, 'defau…"
      ]
     },
     "metadata": {},
     "output_type": "display_data"
    }
   ],
   "source": [
    "df = my_db.show_experiment(experiment_id=1574326902,\n",
    "                     params={\n",
    "                         \"noise\": \"noise\",\n",
    "                         \"identical_train_samples\": \"identical_train_samples\",\n",
    "                         \"thresholds\": \"threshold\",\n",
    "                         \"epochs\": \"epochs\"\n",
    "                     },\n",
    "                     metrics={\n",
    "                         \"sep\": \"separability_values\"\n",
    "                     })\n",
    "df2 = my_db.show_experiment(experiment_id=1574342328,\n",
    "                     params={\n",
    "                         \"noise\": \"noise\",\n",
    "                         \"identical_train_samples\": \"identical_train_samples\",\n",
    "                         \"thresholds\": \"threshold\",\n",
    "                         \"epochs\": \"epochs\"\n",
    "                     },\n",
    "                     metrics={\n",
    "                         \"sep\": \"separability_values\"\n",
    "                     })\n",
    "df3 = my_db.show_experiment(experiment_id=1574343438,\n",
    "                     params={\n",
    "                         \"noise\": \"noise\",\n",
    "                         \"identical_train_samples\": \"identical_train_samples\",\n",
    "                         \"thresholds\": \"threshold\",\n",
    "                         \"epochs\": \"epochs\"\n",
    "                     },\n",
    "                     metrics={\n",
    "                         \"sep\": \"separability_values\"\n",
    "                     })\n",
    "df2 = pd.concat([df2, df3])\n",
    "df = pd.concat([df, df2])\n",
    "df['eps=0.0'] = df[\"sep\"].apply(lambda x: (x or dict()).get('0.0'))\n",
    "df['eps=0.015'] = df[\"sep\"].apply(lambda x: (x or dict()).get('0.015'))\n",
    "df['eps=0.03'] = df[\"sep\"].apply(lambda x: (x or dict()).get('0.03'))\n",
    "\n",
    "df.drop(columns=[\"sep\"], inplace=True)\n",
    "\n",
    "qgrid.show_grid(df)"
   ]
  },
  {
   "cell_type": "code",
   "execution_count": 105,
   "metadata": {},
   "outputs": [
    {
     "data": {
      "application/vnd.jupyter.widget-view+json": {
       "model_id": "7f82fea84b2d442ea77fadc4a1b85287",
       "version_major": 2,
       "version_minor": 0
      },
      "text/plain": [
       "QgridWidget(grid_options={'fullWidthRows': True, 'syncColumnCellResize': True, 'forceFitColumns': True, 'defau…"
      ]
     },
     "metadata": {},
     "output_type": "display_data"
    }
   ],
   "source": [
    "df = my_db.show_experiment(experiment_id=1574257180,\n",
    "                     params={\n",
    "                         \"thresholds\": \"threshold\",\n",
    "                         \"dataset\": \"dataset\"\n",
    "                     },\n",
    "                     metrics={\n",
    "                         \"sep\": \"separability_values\",\n",
    "                         # \"at\": \"effective_thresholds\"\n",
    "                     })\n",
    "\n",
    "\n",
    "df['eps=0.0'] = df[\"sep\"].apply(lambda x: (x or dict()).get('0.0'))\n",
    "df['eps=0.015'] = df[\"sep\"].apply(lambda x: (x or dict()).get('0.015'))\n",
    "df['eps=0.03'] = df[\"sep\"].apply(lambda x: (x or dict()).get('0.03'))\n",
    "\n",
    "df.drop(columns=[\"sep\"], inplace=True)\n",
    "\n",
    "qgrid.show_grid(df)"
   ]
  },
  {
   "cell_type": "code",
   "execution_count": 99,
   "metadata": {},
   "outputs": [
    {
     "data": {
      "application/vnd.jupyter.widget-view+json": {
       "model_id": "60ddcac80c2c453198c642f0a2918d7b",
       "version_major": 2,
       "version_minor": 0
      },
      "text/plain": [
       "QgridWidget(grid_options={'fullWidthRows': True, 'syncColumnCellResize': True, 'forceFitColumns': True, 'defau…"
      ]
     },
     "metadata": {},
     "output_type": "display_data"
    }
   ],
   "source": [
    "df = my_db.show_experiment(experiment_id=1574264669,\n",
    "                     params={\n",
    "                         \"thresholds\": \"threshold\",\n",
    "                         \"dataset\": \"dataset\"\n",
    "                     },\n",
    "                     metrics={\n",
    "                         \"sep\": \"separability_values\"\n",
    "                     })\n",
    "\n",
    "\n",
    "df['eps=0.0'] = df[\"sep\"].apply(lambda x: (x or dict()).get('0.0'))\n",
    "df['eps=0.015'] = df[\"sep\"].apply(lambda x: (x or dict()).get('0.015'))\n",
    "df['eps=0.03'] = df[\"sep\"].apply(lambda x: (x or dict()).get('0.03'))\n",
    "\n",
    "df.drop(columns=[\"sep\"], inplace=True)\n",
    "\n",
    "qgrid.show_grid(df)"
   ]
  },
  {
   "cell_type": "code",
   "execution_count": 109,
   "metadata": {},
   "outputs": [
    {
     "data": {
      "application/vnd.jupyter.widget-view+json": {
       "model_id": "17448ddd33e94cd999614f97c99b0ac9",
       "version_major": 2,
       "version_minor": 0
      },
      "text/plain": [
       "QgridWidget(grid_options={'fullWidthRows': True, 'syncColumnCellResize': True, 'forceFitColumns': True, 'defau…"
      ]
     },
     "metadata": {},
     "output_type": "display_data"
    }
   ],
   "source": [
    "df = my_db.show_experiment(experiment_id=1574270564,\n",
    "                     params={\n",
    "                         \"thresholds\": \"threshold\",\n",
    "                         \"dataset\": \"dataset\"\n",
    "                     },\n",
    "                     metrics={\n",
    "                         \"sep\": \"separability_values\"\n",
    "                     })\n",
    "\n",
    "\n",
    "df['eps=0.0'] = df[\"sep\"].apply(lambda x: (x or dict()).get('0.0'))\n",
    "df['eps=0.015'] = df[\"sep\"].apply(lambda x: (x or dict()).get('0.015'))\n",
    "df['eps=0.03'] = df[\"sep\"].apply(lambda x: (x or dict()).get('0.03'))\n",
    "\n",
    "df.drop(columns=[\"sep\"], inplace=True)\n",
    "\n",
    "qgrid.show_grid(df)"
   ]
  },
  {
   "cell_type": "code",
   "execution_count": 112,
   "metadata": {},
   "outputs": [
    {
     "data": {
      "application/vnd.jupyter.widget-view+json": {
       "model_id": "24ad30fe21f74fc58757eb6fe18e2858",
       "version_major": 2,
       "version_minor": 0
      },
      "text/plain": [
       "QgridWidget(grid_options={'fullWidthRows': True, 'syncColumnCellResize': True, 'forceFitColumns': True, 'defau…"
      ]
     },
     "metadata": {},
     "output_type": "display_data"
    }
   ],
   "source": [
    "df = my_db.show_experiment(experiment_id=1574293480,\n",
    "                     params={\n",
    "                         \"thresholds\": \"threshold\",\n",
    "                         \"dataset\": \"dataset\"\n",
    "                     },\n",
    "                     metrics={\n",
    "                         \"sep\": \"separability_values\"\n",
    "                     })\n",
    "\n",
    "\n",
    "df['eps=0.0'] = df[\"sep\"].apply(lambda x: (x or dict()).get('0.0'))\n",
    "df['eps=0.015'] = df[\"sep\"].apply(lambda x: (x or dict()).get('0.015'))\n",
    "df['eps=0.03'] = df[\"sep\"].apply(lambda x: (x or dict()).get('0.03'))\n",
    "\n",
    "df.drop(columns=[\"sep\"], inplace=True)\n",
    "\n",
    "qgrid.show_grid(df)"
   ]
  },
  {
   "cell_type": "code",
   "execution_count": null,
   "metadata": {},
   "outputs": [],
   "source": []
  },
  {
   "cell_type": "code",
   "execution_count": null,
   "metadata": {},
   "outputs": [],
   "source": []
  }
 ],
 "metadata": {
  "kernelspec": {
   "display_name": "Python 3",
   "language": "python",
   "name": "python3"
  },
  "language_info": {
   "codemirror_mode": {
    "name": "ipython",
    "version": 3
   },
   "file_extension": ".py",
   "mimetype": "text/x-python",
   "name": "python",
   "nbconvert_exporter": "python",
   "pygments_lexer": "ipython3",
   "version": "3.7.4"
  }
 },
 "nbformat": 4,
 "nbformat_minor": 2
}
